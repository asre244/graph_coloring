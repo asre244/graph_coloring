{
 "cells": [
  {
   "cell_type": "code",
   "execution_count": 1,
   "id": "eaf778a4-bd9a-4524-8a57-225e1b41ec16",
   "metadata": {},
   "outputs": [],
   "source": [
    "from collections import Counter\n",
    "import matplotlib.pyplot as plt\n",
    "\n",
    "with open(\n",
    "        r'C:\\Users\\AjithSreenivasan\\OneDrive - Robinson Bowmaker Paul\\Coursera\\Discrete Optimization\\graph_coloring_2\\Graph coloring\\coloring\\data\\gc_20_5',\n",
    "        'r') as input_data_file:\n",
    "    input_data = input_data_file.read()\n",
    "data_list = input_data.split()\n",
    "data_list = list(map(int, data_list))\n",
    "n_nodes = data_list[0]\n",
    "n_edges = data_list[1]\n",
    "edge_data = data_list[2:]\n",
    "edge_list = [edge_data[i:i + 2] for i in range(0, int(len(edge_data)), 2)]\n",
    "node_list = [i for i in range(0, n_nodes)]\n",
    "\n",
    "# number of edges from node\n",
    "count_edges = sorted(Counter(edge_data).items())"
   ]
  },
  {
   "cell_type": "code",
   "execution_count": 2,
   "id": "a1ee5bbf-766c-49c4-8df0-5affc0fd4706",
   "metadata": {},
   "outputs": [
    {
     "data": {
      "text/html": [
       "        <script type=\"text/javascript\">\n",
       "        window.PlotlyConfig = {MathJaxConfig: 'local'};\n",
       "        if (window.MathJax && window.MathJax.Hub && window.MathJax.Hub.Config) {window.MathJax.Hub.Config({SVG: {font: \"STIX-Web\"}});}\n",
       "        if (typeof require !== 'undefined') {\n",
       "        require.undef(\"plotly\");\n",
       "        requirejs.config({\n",
       "            paths: {\n",
       "                'plotly': ['https://cdn.plot.ly/plotly-2.34.0.min']\n",
       "            }\n",
       "        });\n",
       "        require(['plotly'], function(Plotly) {\n",
       "            window._Plotly = Plotly;\n",
       "        });\n",
       "        }\n",
       "        </script>\n",
       "        "
      ]
     },
     "metadata": {},
     "output_type": "display_data"
    },
    {
     "data": {
      "application/vnd.plotly.v1+json": {
       "config": {
        "linkText": "Export to plot.ly",
        "plotlyServerURL": "https://plot.ly",
        "showLink": false
       },
       "data": [
        {
         "hoverinfo": "none",
         "line": {
          "color": "#888",
          "width": 2
         },
         "mode": "lines",
         "type": "scatter",
         "x": [
          -0.20298834050660713,
          0.03473166977228132,
          null
         ],
         "y": [
          0.5807515808826186,
          0.3810024775213778,
          null
         ]
        },
        {
         "hoverinfo": "none",
         "line": {
          "color": "#888",
          "width": 2
         },
         "mode": "lines",
         "type": "scatter",
         "x": [
          -0.20298834050660713,
          0.09119120053852571,
          null
         ],
         "y": [
          0.5807515808826186,
          0.07940902998261339,
          null
         ]
        },
        {
         "hoverinfo": "none",
         "line": {
          "color": "#888",
          "width": 2
         },
         "mode": "lines",
         "type": "scatter",
         "x": [
          -0.20298834050660713,
          -0.8537723789330497,
          null
         ],
         "y": [
          0.5807515808826186,
          -0.2184978340314988,
          null
         ]
        },
        {
         "hoverinfo": "none",
         "line": {
          "color": "#888",
          "width": 2
         },
         "mode": "lines",
         "type": "scatter",
         "x": [
          -0.20298834050660713,
          0.5404680700006834,
          null
         ],
         "y": [
          0.5807515808826186,
          0.40596617118667816,
          null
         ]
        },
        {
         "hoverinfo": "none",
         "line": {
          "color": "#888",
          "width": 2
         },
         "mode": "lines",
         "type": "scatter",
         "x": [
          -0.20298834050660713,
          0.5522393253993465,
          null
         ],
         "y": [
          0.5807515808826186,
          -0.31727681054987794,
          null
         ]
        },
        {
         "hoverinfo": "none",
         "line": {
          "color": "#888",
          "width": 2
         },
         "mode": "lines",
         "type": "scatter",
         "x": [
          -0.20298834050660713,
          -0.6468306622146937,
          null
         ],
         "y": [
          0.5807515808826186,
          0.13901382206836532,
          null
         ]
        },
        {
         "hoverinfo": "none",
         "line": {
          "color": "#888",
          "width": 2
         },
         "mode": "lines",
         "type": "scatter",
         "x": [
          -0.20298834050660713,
          -0.08238964756534217,
          null
         ],
         "y": [
          0.5807515808826186,
          -0.16484721958462958,
          null
         ]
        },
        {
         "hoverinfo": "none",
         "line": {
          "color": "#888",
          "width": 2
         },
         "mode": "lines",
         "type": "scatter",
         "x": [
          -0.20298834050660713,
          0.3479267426271025,
          null
         ],
         "y": [
          0.5807515808826186,
          0.6740435641860875,
          null
         ]
        },
        {
         "hoverinfo": "none",
         "line": {
          "color": "#888",
          "width": 2
         },
         "mode": "lines",
         "type": "scatter",
         "x": [
          -0.20298834050660713,
          -0.3899959292366521,
          null
         ],
         "y": [
          0.5807515808826186,
          0.056471975630785716,
          null
         ]
        },
        {
         "hoverinfo": "none",
         "line": {
          "color": "#888",
          "width": 2
         },
         "mode": "lines",
         "type": "scatter",
         "x": [
          0.03473166977228132,
          0.5404680700006834,
          null
         ],
         "y": [
          0.3810024775213778,
          0.40596617118667816,
          null
         ]
        },
        {
         "hoverinfo": "none",
         "line": {
          "color": "#888",
          "width": 2
         },
         "mode": "lines",
         "type": "scatter",
         "x": [
          0.03473166977228132,
          -0.04009769559493735,
          null
         ],
         "y": [
          0.3810024775213778,
          -0.5261242070941514,
          null
         ]
        },
        {
         "hoverinfo": "none",
         "line": {
          "color": "#888",
          "width": 2
         },
         "mode": "lines",
         "type": "scatter",
         "x": [
          0.03473166977228132,
          0.5522393253993465,
          null
         ],
         "y": [
          0.3810024775213778,
          -0.31727681054987794,
          null
         ]
        },
        {
         "hoverinfo": "none",
         "line": {
          "color": "#888",
          "width": 2
         },
         "mode": "lines",
         "type": "scatter",
         "x": [
          0.03473166977228132,
          -0.6468306622146937,
          null
         ],
         "y": [
          0.3810024775213778,
          0.13901382206836532,
          null
         ]
        },
        {
         "hoverinfo": "none",
         "line": {
          "color": "#888",
          "width": 2
         },
         "mode": "lines",
         "type": "scatter",
         "x": [
          0.03473166977228132,
          -0.08238964756534217,
          null
         ],
         "y": [
          0.3810024775213778,
          -0.16484721958462958,
          null
         ]
        },
        {
         "hoverinfo": "none",
         "line": {
          "color": "#888",
          "width": 2
         },
         "mode": "lines",
         "type": "scatter",
         "x": [
          0.03473166977228132,
          -0.1704738565341958,
          null
         ],
         "y": [
          0.3810024775213778,
          0.24271775940406895,
          null
         ]
        },
        {
         "hoverinfo": "none",
         "line": {
          "color": "#888",
          "width": 2
         },
         "mode": "lines",
         "type": "scatter",
         "x": [
          0.03473166977228132,
          -0.47684562401626657,
          null
         ],
         "y": [
          0.3810024775213778,
          -0.20114621594413293,
          null
         ]
        },
        {
         "hoverinfo": "none",
         "line": {
          "color": "#888",
          "width": 2
         },
         "mode": "lines",
         "type": "scatter",
         "x": [
          0.03473166977228132,
          -0.3899959292366521,
          null
         ],
         "y": [
          0.3810024775213778,
          0.056471975630785716,
          null
         ]
        },
        {
         "hoverinfo": "none",
         "line": {
          "color": "#888",
          "width": 2
         },
         "mode": "lines",
         "type": "scatter",
         "x": [
          0.09119120053852571,
          0.2603914511454496,
          null
         ],
         "y": [
          0.07940902998261339,
          -0.6606408146458393,
          null
         ]
        },
        {
         "hoverinfo": "none",
         "line": {
          "color": "#888",
          "width": 2
         },
         "mode": "lines",
         "type": "scatter",
         "x": [
          0.09119120053852571,
          0.4298659182918482,
          null
         ],
         "y": [
          0.07940902998261339,
          0.13089810445553915,
          null
         ]
        },
        {
         "hoverinfo": "none",
         "line": {
          "color": "#888",
          "width": 2
         },
         "mode": "lines",
         "type": "scatter",
         "x": [
          0.09119120053852571,
          -0.6083203849568297,
          null
         ],
         "y": [
          0.07940902998261339,
          0.3905690028534935,
          null
         ]
        },
        {
         "hoverinfo": "none",
         "line": {
          "color": "#888",
          "width": 2
         },
         "mode": "lines",
         "type": "scatter",
         "x": [
          0.09119120053852571,
          -0.34263343961120957,
          null
         ],
         "y": [
          0.07940902998261339,
          -0.49836771108549305,
          null
         ]
        },
        {
         "hoverinfo": "none",
         "line": {
          "color": "#888",
          "width": 2
         },
         "mode": "lines",
         "type": "scatter",
         "x": [
          0.09119120053852571,
          0.5404680700006834,
          null
         ],
         "y": [
          0.07940902998261339,
          0.40596617118667816,
          null
         ]
        },
        {
         "hoverinfo": "none",
         "line": {
          "color": "#888",
          "width": 2
         },
         "mode": "lines",
         "type": "scatter",
         "x": [
          0.09119120053852571,
          -0.04009769559493735,
          null
         ],
         "y": [
          0.07940902998261339,
          -0.5261242070941514,
          null
         ]
        },
        {
         "hoverinfo": "none",
         "line": {
          "color": "#888",
          "width": 2
         },
         "mode": "lines",
         "type": "scatter",
         "x": [
          0.09119120053852571,
          0.5522393253993465,
          null
         ],
         "y": [
          0.07940902998261339,
          -0.31727681054987794,
          null
         ]
        },
        {
         "hoverinfo": "none",
         "line": {
          "color": "#888",
          "width": 2
         },
         "mode": "lines",
         "type": "scatter",
         "x": [
          0.09119120053852571,
          -0.6468306622146937,
          null
         ],
         "y": [
          0.07940902998261339,
          0.13901382206836532,
          null
         ]
        },
        {
         "hoverinfo": "none",
         "line": {
          "color": "#888",
          "width": 2
         },
         "mode": "lines",
         "type": "scatter",
         "x": [
          0.09119120053852571,
          -0.08238964756534217,
          null
         ],
         "y": [
          0.07940902998261339,
          -0.16484721958462958,
          null
         ]
        },
        {
         "hoverinfo": "none",
         "line": {
          "color": "#888",
          "width": 2
         },
         "mode": "lines",
         "type": "scatter",
         "x": [
          0.09119120053852571,
          0.3479267426271025,
          null
         ],
         "y": [
          0.07940902998261339,
          0.6740435641860875,
          null
         ]
        },
        {
         "hoverinfo": "none",
         "line": {
          "color": "#888",
          "width": 2
         },
         "mode": "lines",
         "type": "scatter",
         "x": [
          0.09119120053852571,
          -0.1704738565341958,
          null
         ],
         "y": [
          0.07940902998261339,
          0.24271775940406895,
          null
         ]
        },
        {
         "hoverinfo": "none",
         "line": {
          "color": "#888",
          "width": 2
         },
         "mode": "lines",
         "type": "scatter",
         "x": [
          0.09119120053852571,
          0.44088036690331417,
          null
         ],
         "y": [
          0.07940902998261339,
          -0.0824896876686454,
          null
         ]
        },
        {
         "hoverinfo": "none",
         "line": {
          "color": "#888",
          "width": 2
         },
         "mode": "lines",
         "type": "scatter",
         "x": [
          -0.8537723789330497,
          -0.6083203849568297,
          null
         ],
         "y": [
          -0.2184978340314988,
          0.3905690028534935,
          null
         ]
        },
        {
         "hoverinfo": "none",
         "line": {
          "color": "#888",
          "width": 2
         },
         "mode": "lines",
         "type": "scatter",
         "x": [
          -0.8537723789330497,
          -0.34263343961120957,
          null
         ],
         "y": [
          -0.2184978340314988,
          -0.49836771108549305,
          null
         ]
        },
        {
         "hoverinfo": "none",
         "line": {
          "color": "#888",
          "width": 2
         },
         "mode": "lines",
         "type": "scatter",
         "x": [
          -0.8537723789330497,
          -0.04009769559493735,
          null
         ],
         "y": [
          -0.2184978340314988,
          -0.5261242070941514,
          null
         ]
        },
        {
         "hoverinfo": "none",
         "line": {
          "color": "#888",
          "width": 2
         },
         "mode": "lines",
         "type": "scatter",
         "x": [
          -0.8537723789330497,
          -0.6468306622146937,
          null
         ],
         "y": [
          -0.2184978340314988,
          0.13901382206836532,
          null
         ]
        },
        {
         "hoverinfo": "none",
         "line": {
          "color": "#888",
          "width": 2
         },
         "mode": "lines",
         "type": "scatter",
         "x": [
          -0.8537723789330497,
          0.11665321449123155,
          null
         ],
         "y": [
          -0.2184978340314988,
          -0.2659875945995117,
          null
         ]
        },
        {
         "hoverinfo": "none",
         "line": {
          "color": "#888",
          "width": 2
         },
         "mode": "lines",
         "type": "scatter",
         "x": [
          -0.8537723789330497,
          -0.47684562401626657,
          null
         ],
         "y": [
          -0.2184978340314988,
          -0.20114621594413293,
          null
         ]
        },
        {
         "hoverinfo": "none",
         "line": {
          "color": "#888",
          "width": 2
         },
         "mode": "lines",
         "type": "scatter",
         "x": [
          -0.8537723789330497,
          -0.3899959292366521,
          null
         ],
         "y": [
          -0.2184978340314988,
          0.056471975630785716,
          null
         ]
        },
        {
         "hoverinfo": "none",
         "line": {
          "color": "#888",
          "width": 2
         },
         "mode": "lines",
         "type": "scatter",
         "x": [
          0.5404680700006834,
          0.4298659182918482,
          null
         ],
         "y": [
          0.40596617118667816,
          0.13089810445553915,
          null
         ]
        },
        {
         "hoverinfo": "none",
         "line": {
          "color": "#888",
          "width": 2
         },
         "mode": "lines",
         "type": "scatter",
         "x": [
          0.5404680700006834,
          -0.04009769559493735,
          null
         ],
         "y": [
          0.40596617118667816,
          -0.5261242070941514,
          null
         ]
        },
        {
         "hoverinfo": "none",
         "line": {
          "color": "#888",
          "width": 2
         },
         "mode": "lines",
         "type": "scatter",
         "x": [
          0.5404680700006834,
          0.3479267426271025,
          null
         ],
         "y": [
          0.40596617118667816,
          0.6740435641860875,
          null
         ]
        },
        {
         "hoverinfo": "none",
         "line": {
          "color": "#888",
          "width": 2
         },
         "mode": "lines",
         "type": "scatter",
         "x": [
          0.5404680700006834,
          -0.1704738565341958,
          null
         ],
         "y": [
          0.40596617118667816,
          0.24271775940406895,
          null
         ]
        },
        {
         "hoverinfo": "none",
         "line": {
          "color": "#888",
          "width": 2
         },
         "mode": "lines",
         "type": "scatter",
         "x": [
          0.5404680700006834,
          0.11665321449123155,
          null
         ],
         "y": [
          0.40596617118667816,
          -0.2659875945995117,
          null
         ]
        },
        {
         "hoverinfo": "none",
         "line": {
          "color": "#888",
          "width": 2
         },
         "mode": "lines",
         "type": "scatter",
         "x": [
          0.5404680700006834,
          0.44088036690331417,
          null
         ],
         "y": [
          0.40596617118667816,
          -0.0824896876686454,
          null
         ]
        },
        {
         "hoverinfo": "none",
         "line": {
          "color": "#888",
          "width": 2
         },
         "mode": "lines",
         "type": "scatter",
         "x": [
          0.5522393253993465,
          -0.34263343961120957,
          null
         ],
         "y": [
          -0.31727681054987794,
          -0.49836771108549305,
          null
         ]
        },
        {
         "hoverinfo": "none",
         "line": {
          "color": "#888",
          "width": 2
         },
         "mode": "lines",
         "type": "scatter",
         "x": [
          0.5522393253993465,
          1,
          null
         ],
         "y": [
          -0.31727681054987794,
          -0.14546539296784555,
          null
         ]
        },
        {
         "hoverinfo": "none",
         "line": {
          "color": "#888",
          "width": 2
         },
         "mode": "lines",
         "type": "scatter",
         "x": [
          0.5522393253993465,
          -0.08238964756534217,
          null
         ],
         "y": [
          -0.31727681054987794,
          -0.16484721958462958,
          null
         ]
        },
        {
         "hoverinfo": "none",
         "line": {
          "color": "#888",
          "width": 2
         },
         "mode": "lines",
         "type": "scatter",
         "x": [
          0.5522393253993465,
          0.44088036690331417,
          null
         ],
         "y": [
          -0.31727681054987794,
          -0.0824896876686454,
          null
         ]
        },
        {
         "hoverinfo": "none",
         "line": {
          "color": "#888",
          "width": 2
         },
         "mode": "lines",
         "type": "scatter",
         "x": [
          -0.6468306622146937,
          -0.6083203849568297,
          null
         ],
         "y": [
          0.13901382206836532,
          0.3905690028534935,
          null
         ]
        },
        {
         "hoverinfo": "none",
         "line": {
          "color": "#888",
          "width": 2
         },
         "mode": "lines",
         "type": "scatter",
         "x": [
          -0.6468306622146937,
          -0.34263343961120957,
          null
         ],
         "y": [
          0.13901382206836532,
          -0.49836771108549305,
          null
         ]
        },
        {
         "hoverinfo": "none",
         "line": {
          "color": "#888",
          "width": 2
         },
         "mode": "lines",
         "type": "scatter",
         "x": [
          -0.6468306622146937,
          -0.08238964756534217,
          null
         ],
         "y": [
          0.13901382206836532,
          -0.16484721958462958,
          null
         ]
        },
        {
         "hoverinfo": "none",
         "line": {
          "color": "#888",
          "width": 2
         },
         "mode": "lines",
         "type": "scatter",
         "x": [
          -0.6468306622146937,
          -0.1704738565341958,
          null
         ],
         "y": [
          0.13901382206836532,
          0.24271775940406895,
          null
         ]
        },
        {
         "hoverinfo": "none",
         "line": {
          "color": "#888",
          "width": 2
         },
         "mode": "lines",
         "type": "scatter",
         "x": [
          -0.6468306622146937,
          -0.47684562401626657,
          null
         ],
         "y": [
          0.13901382206836532,
          -0.20114621594413293,
          null
         ]
        },
        {
         "hoverinfo": "none",
         "line": {
          "color": "#888",
          "width": 2
         },
         "mode": "lines",
         "type": "scatter",
         "x": [
          -0.6468306622146937,
          0.44088036690331417,
          null
         ],
         "y": [
          0.13901382206836532,
          -0.0824896876686454,
          null
         ]
        },
        {
         "hoverinfo": "none",
         "line": {
          "color": "#888",
          "width": 2
         },
         "mode": "lines",
         "type": "scatter",
         "x": [
          -0.08238964756534217,
          0.2603914511454496,
          null
         ],
         "y": [
          -0.16484721958462958,
          -0.6606408146458393,
          null
         ]
        },
        {
         "hoverinfo": "none",
         "line": {
          "color": "#888",
          "width": 2
         },
         "mode": "lines",
         "type": "scatter",
         "x": [
          -0.08238964756534217,
          0.4298659182918482,
          null
         ],
         "y": [
          -0.16484721958462958,
          0.13089810445553915,
          null
         ]
        },
        {
         "hoverinfo": "none",
         "line": {
          "color": "#888",
          "width": 2
         },
         "mode": "lines",
         "type": "scatter",
         "x": [
          -0.08238964756534217,
          -0.04009769559493735,
          null
         ],
         "y": [
          -0.16484721958462958,
          -0.5261242070941514,
          null
         ]
        },
        {
         "hoverinfo": "none",
         "line": {
          "color": "#888",
          "width": 2
         },
         "mode": "lines",
         "type": "scatter",
         "x": [
          -0.08238964756534217,
          -0.1704738565341958,
          null
         ],
         "y": [
          -0.16484721958462958,
          0.24271775940406895,
          null
         ]
        },
        {
         "hoverinfo": "none",
         "line": {
          "color": "#888",
          "width": 2
         },
         "mode": "lines",
         "type": "scatter",
         "x": [
          -0.08238964756534217,
          0.11665321449123155,
          null
         ],
         "y": [
          -0.16484721958462958,
          -0.2659875945995117,
          null
         ]
        },
        {
         "hoverinfo": "none",
         "line": {
          "color": "#888",
          "width": 2
         },
         "mode": "lines",
         "type": "scatter",
         "x": [
          -0.08238964756534217,
          -0.47684562401626657,
          null
         ],
         "y": [
          -0.16484721958462958,
          -0.20114621594413293,
          null
         ]
        },
        {
         "hoverinfo": "none",
         "line": {
          "color": "#888",
          "width": 2
         },
         "mode": "lines",
         "type": "scatter",
         "x": [
          -0.08238964756534217,
          0.44088036690331417,
          null
         ],
         "y": [
          -0.16484721958462958,
          -0.0824896876686454,
          null
         ]
        },
        {
         "hoverinfo": "none",
         "line": {
          "color": "#888",
          "width": 2
         },
         "mode": "lines",
         "type": "scatter",
         "x": [
          -0.08238964756534217,
          -0.3899959292366521,
          null
         ],
         "y": [
          -0.16484721958462958,
          0.056471975630785716,
          null
         ]
        },
        {
         "hoverinfo": "none",
         "line": {
          "color": "#888",
          "width": 2
         },
         "mode": "lines",
         "type": "scatter",
         "x": [
          0.3479267426271025,
          0.4298659182918482,
          null
         ],
         "y": [
          0.6740435641860875,
          0.13089810445553915,
          null
         ]
        },
        {
         "hoverinfo": "none",
         "line": {
          "color": "#888",
          "width": 2
         },
         "mode": "lines",
         "type": "scatter",
         "x": [
          0.3479267426271025,
          -0.6083203849568297,
          null
         ],
         "y": [
          0.6740435641860875,
          0.3905690028534935,
          null
         ]
        },
        {
         "hoverinfo": "none",
         "line": {
          "color": "#888",
          "width": 2
         },
         "mode": "lines",
         "type": "scatter",
         "x": [
          0.3479267426271025,
          1,
          null
         ],
         "y": [
          0.6740435641860875,
          -0.14546539296784555,
          null
         ]
        },
        {
         "hoverinfo": "none",
         "line": {
          "color": "#888",
          "width": 2
         },
         "mode": "lines",
         "type": "scatter",
         "x": [
          0.3479267426271025,
          0.44088036690331417,
          null
         ],
         "y": [
          0.6740435641860875,
          -0.0824896876686454,
          null
         ]
        },
        {
         "hoverinfo": "none",
         "line": {
          "color": "#888",
          "width": 2
         },
         "mode": "lines",
         "type": "scatter",
         "x": [
          0.3479267426271025,
          -0.3899959292366521,
          null
         ],
         "y": [
          0.6740435641860875,
          0.056471975630785716,
          null
         ]
        },
        {
         "hoverinfo": "none",
         "line": {
          "color": "#888",
          "width": 2
         },
         "mode": "lines",
         "type": "scatter",
         "x": [
          -0.3899959292366521,
          0.2603914511454496,
          null
         ],
         "y": [
          0.056471975630785716,
          -0.6606408146458393,
          null
         ]
        },
        {
         "hoverinfo": "none",
         "line": {
          "color": "#888",
          "width": 2
         },
         "mode": "lines",
         "type": "scatter",
         "x": [
          -0.3899959292366521,
          -0.6083203849568297,
          null
         ],
         "y": [
          0.056471975630785716,
          0.3905690028534935,
          null
         ]
        },
        {
         "hoverinfo": "none",
         "line": {
          "color": "#888",
          "width": 2
         },
         "mode": "lines",
         "type": "scatter",
         "x": [
          -0.3899959292366521,
          -0.34263343961120957,
          null
         ],
         "y": [
          0.056471975630785716,
          -0.49836771108549305,
          null
         ]
        },
        {
         "hoverinfo": "none",
         "line": {
          "color": "#888",
          "width": 2
         },
         "mode": "lines",
         "type": "scatter",
         "x": [
          -0.3899959292366521,
          0.11665321449123155,
          null
         ],
         "y": [
          0.056471975630785716,
          -0.2659875945995117,
          null
         ]
        },
        {
         "hoverinfo": "none",
         "line": {
          "color": "#888",
          "width": 2
         },
         "mode": "lines",
         "type": "scatter",
         "x": [
          -0.3899959292366521,
          -0.47684562401626657,
          null
         ],
         "y": [
          0.056471975630785716,
          -0.20114621594413293,
          null
         ]
        },
        {
         "hoverinfo": "none",
         "line": {
          "color": "#888",
          "width": 2
         },
         "mode": "lines",
         "type": "scatter",
         "x": [
          0.2603914511454496,
          -0.34263343961120957,
          null
         ],
         "y": [
          -0.6606408146458393,
          -0.49836771108549305,
          null
         ]
        },
        {
         "hoverinfo": "none",
         "line": {
          "color": "#888",
          "width": 2
         },
         "mode": "lines",
         "type": "scatter",
         "x": [
          0.2603914511454496,
          -0.04009769559493735,
          null
         ],
         "y": [
          -0.6606408146458393,
          -0.5261242070941514,
          null
         ]
        },
        {
         "hoverinfo": "none",
         "line": {
          "color": "#888",
          "width": 2
         },
         "mode": "lines",
         "type": "scatter",
         "x": [
          0.2603914511454496,
          1,
          null
         ],
         "y": [
          -0.6606408146458393,
          -0.14546539296784555,
          null
         ]
        },
        {
         "hoverinfo": "none",
         "line": {
          "color": "#888",
          "width": 2
         },
         "mode": "lines",
         "type": "scatter",
         "x": [
          0.2603914511454496,
          -0.1704738565341958,
          null
         ],
         "y": [
          -0.6606408146458393,
          0.24271775940406895,
          null
         ]
        },
        {
         "hoverinfo": "none",
         "line": {
          "color": "#888",
          "width": 2
         },
         "mode": "lines",
         "type": "scatter",
         "x": [
          0.2603914511454496,
          0.11665321449123155,
          null
         ],
         "y": [
          -0.6606408146458393,
          -0.2659875945995117,
          null
         ]
        },
        {
         "hoverinfo": "none",
         "line": {
          "color": "#888",
          "width": 2
         },
         "mode": "lines",
         "type": "scatter",
         "x": [
          -0.34263343961120957,
          0.4298659182918482,
          null
         ],
         "y": [
          -0.49836771108549305,
          0.13089810445553915,
          null
         ]
        },
        {
         "hoverinfo": "none",
         "line": {
          "color": "#888",
          "width": 2
         },
         "mode": "lines",
         "type": "scatter",
         "x": [
          -0.34263343961120957,
          -0.6083203849568297,
          null
         ],
         "y": [
          -0.49836771108549305,
          0.3905690028534935,
          null
         ]
        },
        {
         "hoverinfo": "none",
         "line": {
          "color": "#888",
          "width": 2
         },
         "mode": "lines",
         "type": "scatter",
         "x": [
          -0.34263343961120957,
          -0.04009769559493735,
          null
         ],
         "y": [
          -0.49836771108549305,
          -0.5261242070941514,
          null
         ]
        },
        {
         "hoverinfo": "none",
         "line": {
          "color": "#888",
          "width": 2
         },
         "mode": "lines",
         "type": "scatter",
         "x": [
          -0.34263343961120957,
          0.11665321449123155,
          null
         ],
         "y": [
          -0.49836771108549305,
          -0.2659875945995117,
          null
         ]
        },
        {
         "hoverinfo": "none",
         "line": {
          "color": "#888",
          "width": 2
         },
         "mode": "lines",
         "type": "scatter",
         "x": [
          -0.04009769559493735,
          0.11665321449123155,
          null
         ],
         "y": [
          -0.5261242070941514,
          -0.2659875945995117,
          null
         ]
        },
        {
         "hoverinfo": "none",
         "line": {
          "color": "#888",
          "width": 2
         },
         "mode": "lines",
         "type": "scatter",
         "x": [
          -0.04009769559493735,
          -0.47684562401626657,
          null
         ],
         "y": [
          -0.5261242070941514,
          -0.20114621594413293,
          null
         ]
        },
        {
         "hoverinfo": "none",
         "line": {
          "color": "#888",
          "width": 2
         },
         "mode": "lines",
         "type": "scatter",
         "x": [
          -0.04009769559493735,
          0.44088036690331417,
          null
         ],
         "y": [
          -0.5261242070941514,
          -0.0824896876686454,
          null
         ]
        },
        {
         "hoverinfo": "none",
         "line": {
          "color": "#888",
          "width": 2
         },
         "mode": "lines",
         "type": "scatter",
         "x": [
          1,
          0.4298659182918482,
          null
         ],
         "y": [
          -0.14546539296784555,
          0.13089810445553915,
          null
         ]
        },
        {
         "hoverinfo": "none",
         "line": {
          "color": "#888",
          "width": 2
         },
         "mode": "lines",
         "type": "scatter",
         "x": [
          1,
          0.11665321449123155,
          null
         ],
         "y": [
          -0.14546539296784555,
          -0.2659875945995117,
          null
         ]
        },
        {
         "hoverinfo": "none",
         "line": {
          "color": "#888",
          "width": 2
         },
         "mode": "lines",
         "type": "scatter",
         "x": [
          1,
          0.44088036690331417,
          null
         ],
         "y": [
          -0.14546539296784555,
          -0.0824896876686454,
          null
         ]
        },
        {
         "hoverinfo": "none",
         "line": {
          "color": "#888",
          "width": 2
         },
         "mode": "lines",
         "type": "scatter",
         "x": [
          -0.1704738565341958,
          0.4298659182918482,
          null
         ],
         "y": [
          0.24271775940406895,
          0.13089810445553915,
          null
         ]
        },
        {
         "hoverinfo": "none",
         "line": {
          "color": "#888",
          "width": 2
         },
         "mode": "lines",
         "type": "scatter",
         "x": [
          -0.1704738565341958,
          -0.6083203849568297,
          null
         ],
         "y": [
          0.24271775940406895,
          0.3905690028534935,
          null
         ]
        },
        {
         "hoverinfo": "none",
         "line": {
          "color": "#888",
          "width": 2
         },
         "mode": "lines",
         "type": "scatter",
         "x": [
          -0.1704738565341958,
          0.11665321449123155,
          null
         ],
         "y": [
          0.24271775940406895,
          -0.2659875945995117,
          null
         ]
        },
        {
         "hoverinfo": "none",
         "line": {
          "color": "#888",
          "width": 2
         },
         "mode": "lines",
         "type": "scatter",
         "x": [
          -0.1704738565341958,
          -0.47684562401626657,
          null
         ],
         "y": [
          0.24271775940406895,
          -0.20114621594413293,
          null
         ]
        },
        {
         "hoverinfo": "none",
         "line": {
          "color": "#888",
          "width": 2
         },
         "mode": "lines",
         "type": "scatter",
         "x": [
          0.11665321449123155,
          0.4298659182918482,
          null
         ],
         "y": [
          -0.2659875945995117,
          0.13089810445553915,
          null
         ]
        },
        {
         "hoverinfo": "none",
         "line": {
          "color": "#888",
          "width": 2
         },
         "mode": "lines",
         "type": "scatter",
         "x": [
          0.11665321449123155,
          -0.6083203849568297,
          null
         ],
         "y": [
          -0.2659875945995117,
          0.3905690028534935,
          null
         ]
        },
        {
         "hoverinfo": "none",
         "line": {
          "color": "#888",
          "width": 2
         },
         "mode": "lines",
         "type": "scatter",
         "x": [
          0.4298659182918482,
          -0.47684562401626657,
          null
         ],
         "y": [
          0.13089810445553915,
          -0.20114621594413293,
          null
         ]
        },
        {
         "hoverinfo": "none",
         "line": {
          "color": "#888",
          "width": 2
         },
         "mode": "lines",
         "type": "scatter",
         "x": [
          0.4298659182918482,
          0.44088036690331417,
          null
         ],
         "y": [
          0.13089810445553915,
          -0.0824896876686454,
          null
         ]
        },
        {
         "hoverinfo": "none",
         "line": {
          "color": "#888",
          "width": 2
         },
         "mode": "lines",
         "type": "scatter",
         "x": [
          -0.47684562401626657,
          -0.6083203849568297,
          null
         ],
         "y": [
          -0.20114621594413293,
          0.3905690028534935,
          null
         ]
        },
        {
         "hoverinfo": "none",
         "line": {
          "color": "#888",
          "width": 2
         },
         "mode": "lines",
         "type": "scatter",
         "x": [
          -0.47684562401626657,
          0.44088036690331417,
          null
         ],
         "y": [
          -0.20114621594413293,
          -0.0824896876686454,
          null
         ]
        },
        {
         "hoverinfo": "text",
         "marker": {
          "colorbar": {
           "thickness": 15,
           "title": {
            "side": "right",
            "text": "Node Connections"
           },
           "xanchor": "left"
          },
          "colorscale": [
           [
            0,
            "rgb(255,255,217)"
           ],
           [
            0.125,
            "rgb(237,248,177)"
           ],
           [
            0.25,
            "rgb(199,233,180)"
           ],
           [
            0.375,
            "rgb(127,205,187)"
           ],
           [
            0.5,
            "rgb(65,182,196)"
           ],
           [
            0.625,
            "rgb(29,145,192)"
           ],
           [
            0.75,
            "rgb(34,94,168)"
           ],
           [
            0.875,
            "rgb(37,52,148)"
           ],
           [
            1,
            "rgb(8,29,88)"
           ]
          ],
          "showscale": true,
          "size": 10
         },
         "mode": "markers+text",
         "text": [
          "0",
          "3",
          "6",
          "7",
          "8",
          "11",
          "12",
          "13",
          "14",
          "19",
          "1",
          "5",
          "9",
          "10",
          "15",
          "16",
          "2",
          "17",
          "18",
          "4"
         ],
         "textposition": "top center",
         "type": "scatter",
         "x": [
          -0.20298834050660713,
          0.03473166977228132,
          0.09119120053852571,
          -0.8537723789330497,
          0.5404680700006834,
          0.5522393253993465,
          -0.6468306622146937,
          -0.08238964756534217,
          0.3479267426271025,
          -0.3899959292366521,
          0.2603914511454496,
          -0.34263343961120957,
          -0.04009769559493735,
          1,
          -0.1704738565341958,
          0.11665321449123155,
          0.4298659182918482,
          -0.47684562401626657,
          0.44088036690331417,
          -0.6083203849568297
         ],
         "y": [
          0.5807515808826186,
          0.3810024775213778,
          0.07940902998261339,
          -0.2184978340314988,
          0.40596617118667816,
          -0.31727681054987794,
          0.13901382206836532,
          -0.16484721958462958,
          0.6740435641860875,
          0.056471975630785716,
          -0.6606408146458393,
          -0.49836771108549305,
          -0.5261242070941514,
          -0.14546539296784555,
          0.24271775940406895,
          -0.2659875945995117,
          0.13089810445553915,
          -0.20114621594413293,
          -0.0824896876686454,
          0.3905690028534935
         ]
        }
       ],
       "layout": {
        "autosize": true,
        "hovermode": "closest",
        "margin": {
         "b": 0,
         "l": 0,
         "r": 0,
         "t": 0
        },
        "showlegend": false,
        "template": {
         "data": {
          "bar": [
           {
            "error_x": {
             "color": "#2a3f5f"
            },
            "error_y": {
             "color": "#2a3f5f"
            },
            "marker": {
             "line": {
              "color": "#E5ECF6",
              "width": 0.5
             },
             "pattern": {
              "fillmode": "overlay",
              "size": 10,
              "solidity": 0.2
             }
            },
            "type": "bar"
           }
          ],
          "barpolar": [
           {
            "marker": {
             "line": {
              "color": "#E5ECF6",
              "width": 0.5
             },
             "pattern": {
              "fillmode": "overlay",
              "size": 10,
              "solidity": 0.2
             }
            },
            "type": "barpolar"
           }
          ],
          "carpet": [
           {
            "aaxis": {
             "endlinecolor": "#2a3f5f",
             "gridcolor": "white",
             "linecolor": "white",
             "minorgridcolor": "white",
             "startlinecolor": "#2a3f5f"
            },
            "baxis": {
             "endlinecolor": "#2a3f5f",
             "gridcolor": "white",
             "linecolor": "white",
             "minorgridcolor": "white",
             "startlinecolor": "#2a3f5f"
            },
            "type": "carpet"
           }
          ],
          "choropleth": [
           {
            "colorbar": {
             "outlinewidth": 0,
             "ticks": ""
            },
            "type": "choropleth"
           }
          ],
          "contour": [
           {
            "colorbar": {
             "outlinewidth": 0,
             "ticks": ""
            },
            "colorscale": [
             [
              0,
              "#0d0887"
             ],
             [
              0.1111111111111111,
              "#46039f"
             ],
             [
              0.2222222222222222,
              "#7201a8"
             ],
             [
              0.3333333333333333,
              "#9c179e"
             ],
             [
              0.4444444444444444,
              "#bd3786"
             ],
             [
              0.5555555555555556,
              "#d8576b"
             ],
             [
              0.6666666666666666,
              "#ed7953"
             ],
             [
              0.7777777777777778,
              "#fb9f3a"
             ],
             [
              0.8888888888888888,
              "#fdca26"
             ],
             [
              1,
              "#f0f921"
             ]
            ],
            "type": "contour"
           }
          ],
          "contourcarpet": [
           {
            "colorbar": {
             "outlinewidth": 0,
             "ticks": ""
            },
            "type": "contourcarpet"
           }
          ],
          "heatmap": [
           {
            "colorbar": {
             "outlinewidth": 0,
             "ticks": ""
            },
            "colorscale": [
             [
              0,
              "#0d0887"
             ],
             [
              0.1111111111111111,
              "#46039f"
             ],
             [
              0.2222222222222222,
              "#7201a8"
             ],
             [
              0.3333333333333333,
              "#9c179e"
             ],
             [
              0.4444444444444444,
              "#bd3786"
             ],
             [
              0.5555555555555556,
              "#d8576b"
             ],
             [
              0.6666666666666666,
              "#ed7953"
             ],
             [
              0.7777777777777778,
              "#fb9f3a"
             ],
             [
              0.8888888888888888,
              "#fdca26"
             ],
             [
              1,
              "#f0f921"
             ]
            ],
            "type": "heatmap"
           }
          ],
          "heatmapgl": [
           {
            "colorbar": {
             "outlinewidth": 0,
             "ticks": ""
            },
            "colorscale": [
             [
              0,
              "#0d0887"
             ],
             [
              0.1111111111111111,
              "#46039f"
             ],
             [
              0.2222222222222222,
              "#7201a8"
             ],
             [
              0.3333333333333333,
              "#9c179e"
             ],
             [
              0.4444444444444444,
              "#bd3786"
             ],
             [
              0.5555555555555556,
              "#d8576b"
             ],
             [
              0.6666666666666666,
              "#ed7953"
             ],
             [
              0.7777777777777778,
              "#fb9f3a"
             ],
             [
              0.8888888888888888,
              "#fdca26"
             ],
             [
              1,
              "#f0f921"
             ]
            ],
            "type": "heatmapgl"
           }
          ],
          "histogram": [
           {
            "marker": {
             "pattern": {
              "fillmode": "overlay",
              "size": 10,
              "solidity": 0.2
             }
            },
            "type": "histogram"
           }
          ],
          "histogram2d": [
           {
            "colorbar": {
             "outlinewidth": 0,
             "ticks": ""
            },
            "colorscale": [
             [
              0,
              "#0d0887"
             ],
             [
              0.1111111111111111,
              "#46039f"
             ],
             [
              0.2222222222222222,
              "#7201a8"
             ],
             [
              0.3333333333333333,
              "#9c179e"
             ],
             [
              0.4444444444444444,
              "#bd3786"
             ],
             [
              0.5555555555555556,
              "#d8576b"
             ],
             [
              0.6666666666666666,
              "#ed7953"
             ],
             [
              0.7777777777777778,
              "#fb9f3a"
             ],
             [
              0.8888888888888888,
              "#fdca26"
             ],
             [
              1,
              "#f0f921"
             ]
            ],
            "type": "histogram2d"
           }
          ],
          "histogram2dcontour": [
           {
            "colorbar": {
             "outlinewidth": 0,
             "ticks": ""
            },
            "colorscale": [
             [
              0,
              "#0d0887"
             ],
             [
              0.1111111111111111,
              "#46039f"
             ],
             [
              0.2222222222222222,
              "#7201a8"
             ],
             [
              0.3333333333333333,
              "#9c179e"
             ],
             [
              0.4444444444444444,
              "#bd3786"
             ],
             [
              0.5555555555555556,
              "#d8576b"
             ],
             [
              0.6666666666666666,
              "#ed7953"
             ],
             [
              0.7777777777777778,
              "#fb9f3a"
             ],
             [
              0.8888888888888888,
              "#fdca26"
             ],
             [
              1,
              "#f0f921"
             ]
            ],
            "type": "histogram2dcontour"
           }
          ],
          "mesh3d": [
           {
            "colorbar": {
             "outlinewidth": 0,
             "ticks": ""
            },
            "type": "mesh3d"
           }
          ],
          "parcoords": [
           {
            "line": {
             "colorbar": {
              "outlinewidth": 0,
              "ticks": ""
             }
            },
            "type": "parcoords"
           }
          ],
          "pie": [
           {
            "automargin": true,
            "type": "pie"
           }
          ],
          "scatter": [
           {
            "fillpattern": {
             "fillmode": "overlay",
             "size": 10,
             "solidity": 0.2
            },
            "type": "scatter"
           }
          ],
          "scatter3d": [
           {
            "line": {
             "colorbar": {
              "outlinewidth": 0,
              "ticks": ""
             }
            },
            "marker": {
             "colorbar": {
              "outlinewidth": 0,
              "ticks": ""
             }
            },
            "type": "scatter3d"
           }
          ],
          "scattercarpet": [
           {
            "marker": {
             "colorbar": {
              "outlinewidth": 0,
              "ticks": ""
             }
            },
            "type": "scattercarpet"
           }
          ],
          "scattergeo": [
           {
            "marker": {
             "colorbar": {
              "outlinewidth": 0,
              "ticks": ""
             }
            },
            "type": "scattergeo"
           }
          ],
          "scattergl": [
           {
            "marker": {
             "colorbar": {
              "outlinewidth": 0,
              "ticks": ""
             }
            },
            "type": "scattergl"
           }
          ],
          "scattermapbox": [
           {
            "marker": {
             "colorbar": {
              "outlinewidth": 0,
              "ticks": ""
             }
            },
            "type": "scattermapbox"
           }
          ],
          "scatterpolar": [
           {
            "marker": {
             "colorbar": {
              "outlinewidth": 0,
              "ticks": ""
             }
            },
            "type": "scatterpolar"
           }
          ],
          "scatterpolargl": [
           {
            "marker": {
             "colorbar": {
              "outlinewidth": 0,
              "ticks": ""
             }
            },
            "type": "scatterpolargl"
           }
          ],
          "scatterternary": [
           {
            "marker": {
             "colorbar": {
              "outlinewidth": 0,
              "ticks": ""
             }
            },
            "type": "scatterternary"
           }
          ],
          "surface": [
           {
            "colorbar": {
             "outlinewidth": 0,
             "ticks": ""
            },
            "colorscale": [
             [
              0,
              "#0d0887"
             ],
             [
              0.1111111111111111,
              "#46039f"
             ],
             [
              0.2222222222222222,
              "#7201a8"
             ],
             [
              0.3333333333333333,
              "#9c179e"
             ],
             [
              0.4444444444444444,
              "#bd3786"
             ],
             [
              0.5555555555555556,
              "#d8576b"
             ],
             [
              0.6666666666666666,
              "#ed7953"
             ],
             [
              0.7777777777777778,
              "#fb9f3a"
             ],
             [
              0.8888888888888888,
              "#fdca26"
             ],
             [
              1,
              "#f0f921"
             ]
            ],
            "type": "surface"
           }
          ],
          "table": [
           {
            "cells": {
             "fill": {
              "color": "#EBF0F8"
             },
             "line": {
              "color": "white"
             }
            },
            "header": {
             "fill": {
              "color": "#C8D4E3"
             },
             "line": {
              "color": "white"
             }
            },
            "type": "table"
           }
          ]
         },
         "layout": {
          "annotationdefaults": {
           "arrowcolor": "#2a3f5f",
           "arrowhead": 0,
           "arrowwidth": 1
          },
          "autotypenumbers": "strict",
          "coloraxis": {
           "colorbar": {
            "outlinewidth": 0,
            "ticks": ""
           }
          },
          "colorscale": {
           "diverging": [
            [
             0,
             "#8e0152"
            ],
            [
             0.1,
             "#c51b7d"
            ],
            [
             0.2,
             "#de77ae"
            ],
            [
             0.3,
             "#f1b6da"
            ],
            [
             0.4,
             "#fde0ef"
            ],
            [
             0.5,
             "#f7f7f7"
            ],
            [
             0.6,
             "#e6f5d0"
            ],
            [
             0.7,
             "#b8e186"
            ],
            [
             0.8,
             "#7fbc41"
            ],
            [
             0.9,
             "#4d9221"
            ],
            [
             1,
             "#276419"
            ]
           ],
           "sequential": [
            [
             0,
             "#0d0887"
            ],
            [
             0.1111111111111111,
             "#46039f"
            ],
            [
             0.2222222222222222,
             "#7201a8"
            ],
            [
             0.3333333333333333,
             "#9c179e"
            ],
            [
             0.4444444444444444,
             "#bd3786"
            ],
            [
             0.5555555555555556,
             "#d8576b"
            ],
            [
             0.6666666666666666,
             "#ed7953"
            ],
            [
             0.7777777777777778,
             "#fb9f3a"
            ],
            [
             0.8888888888888888,
             "#fdca26"
            ],
            [
             1,
             "#f0f921"
            ]
           ],
           "sequentialminus": [
            [
             0,
             "#0d0887"
            ],
            [
             0.1111111111111111,
             "#46039f"
            ],
            [
             0.2222222222222222,
             "#7201a8"
            ],
            [
             0.3333333333333333,
             "#9c179e"
            ],
            [
             0.4444444444444444,
             "#bd3786"
            ],
            [
             0.5555555555555556,
             "#d8576b"
            ],
            [
             0.6666666666666666,
             "#ed7953"
            ],
            [
             0.7777777777777778,
             "#fb9f3a"
            ],
            [
             0.8888888888888888,
             "#fdca26"
            ],
            [
             1,
             "#f0f921"
            ]
           ]
          },
          "colorway": [
           "#636efa",
           "#EF553B",
           "#00cc96",
           "#ab63fa",
           "#FFA15A",
           "#19d3f3",
           "#FF6692",
           "#B6E880",
           "#FF97FF",
           "#FECB52"
          ],
          "font": {
           "color": "#2a3f5f"
          },
          "geo": {
           "bgcolor": "white",
           "lakecolor": "white",
           "landcolor": "#E5ECF6",
           "showlakes": true,
           "showland": true,
           "subunitcolor": "white"
          },
          "hoverlabel": {
           "align": "left"
          },
          "hovermode": "closest",
          "mapbox": {
           "style": "light"
          },
          "paper_bgcolor": "white",
          "plot_bgcolor": "#E5ECF6",
          "polar": {
           "angularaxis": {
            "gridcolor": "white",
            "linecolor": "white",
            "ticks": ""
           },
           "bgcolor": "#E5ECF6",
           "radialaxis": {
            "gridcolor": "white",
            "linecolor": "white",
            "ticks": ""
           }
          },
          "scene": {
           "xaxis": {
            "backgroundcolor": "#E5ECF6",
            "gridcolor": "white",
            "gridwidth": 2,
            "linecolor": "white",
            "showbackground": true,
            "ticks": "",
            "zerolinecolor": "white"
           },
           "yaxis": {
            "backgroundcolor": "#E5ECF6",
            "gridcolor": "white",
            "gridwidth": 2,
            "linecolor": "white",
            "showbackground": true,
            "ticks": "",
            "zerolinecolor": "white"
           },
           "zaxis": {
            "backgroundcolor": "#E5ECF6",
            "gridcolor": "white",
            "gridwidth": 2,
            "linecolor": "white",
            "showbackground": true,
            "ticks": "",
            "zerolinecolor": "white"
           }
          },
          "shapedefaults": {
           "line": {
            "color": "#2a3f5f"
           }
          },
          "ternary": {
           "aaxis": {
            "gridcolor": "white",
            "linecolor": "white",
            "ticks": ""
           },
           "baxis": {
            "gridcolor": "white",
            "linecolor": "white",
            "ticks": ""
           },
           "bgcolor": "#E5ECF6",
           "caxis": {
            "gridcolor": "white",
            "linecolor": "white",
            "ticks": ""
           }
          },
          "title": {
           "x": 0.05
          },
          "xaxis": {
           "automargin": true,
           "gridcolor": "white",
           "linecolor": "white",
           "ticks": "",
           "title": {
            "standoff": 15
           },
           "zerolinecolor": "white",
           "zerolinewidth": 2
          },
          "yaxis": {
           "automargin": true,
           "gridcolor": "white",
           "linecolor": "white",
           "ticks": "",
           "title": {
            "standoff": 15
           },
           "zerolinecolor": "white",
           "zerolinewidth": 2
          }
         }
        },
        "xaxis": {
         "autorange": true,
         "range": [
          -0.9714890460163269,
          1.1177166670832772
         ],
         "showgrid": false,
         "type": "linear",
         "zeroline": false
        },
        "yaxis": {
         "autorange": true,
         "range": [
          -0.7659869899524994,
          0.7793897394927475
         ],
         "showgrid": false,
         "type": "linear",
         "zeroline": false
        }
       }
      },
      "image/png": "[encoded data removed]",
      "text/html": [
       "<div>                            <div id=\"c126a026-36e4-4ad8-ad88-c54ffae028e0\" class=\"plotly-graph-div\" style=\"height:525px; width:100%;\"></div>            <script type=\"text/javascript\">                require([\"plotly\"], function(Plotly) {                    window.PLOTLYENV=window.PLOTLYENV || {};                                    if (document.getElementById(\"c126a026-36e4-4ad8-ad88-c54ffae028e0\")) {                    Plotly.newPlot(                        \"c126a026-36e4-4ad8-ad88-c54ffae028e0\",                        [{\"hoverinfo\":\"none\",\"line\":{\"color\":\"#888\",\"width\":2},\"mode\":\"lines\",\"x\":[-0.20298834050660713,0.03473166977228132,null],\"y\":[0.5807515808826186,0.3810024775213778,null],\"type\":\"scatter\"},{\"hoverinfo\":\"none\",\"line\":{\"color\":\"#888\",\"width\":2},\"mode\":\"lines\",\"x\":[-0.20298834050660713,0.09119120053852571,null],\"y\":[0.5807515808826186,0.07940902998261339,null],\"type\":\"scatter\"},{\"hoverinfo\":\"none\",\"line\":{\"color\":\"#888\",\"width\":2},\"mode\":\"lines\",\"x\":[-0.20298834050660713,-0.8537723789330497,null],\"y\":[0.5807515808826186,-0.2184978340314988,null],\"type\":\"scatter\"},{\"hoverinfo\":\"none\",\"line\":{\"color\":\"#888\",\"width\":2},\"mode\":\"lines\",\"x\":[-0.20298834050660713,0.5404680700006834,null],\"y\":[0.5807515808826186,0.40596617118667816,null],\"type\":\"scatter\"},{\"hoverinfo\":\"none\",\"line\":{\"color\":\"#888\",\"width\":2},\"mode\":\"lines\",\"x\":[-0.20298834050660713,0.5522393253993465,null],\"y\":[0.5807515808826186,-0.31727681054987794,null],\"type\":\"scatter\"},{\"hoverinfo\":\"none\",\"line\":{\"color\":\"#888\",\"width\":2},\"mode\":\"lines\",\"x\":[-0.20298834050660713,-0.6468306622146937,null],\"y\":[0.5807515808826186,0.13901382206836532,null],\"type\":\"scatter\"},{\"hoverinfo\":\"none\",\"line\":{\"color\":\"#888\",\"width\":2},\"mode\":\"lines\",\"x\":[-0.20298834050660713,-0.08238964756534217,null],\"y\":[0.5807515808826186,-0.16484721958462958,null],\"type\":\"scatter\"},{\"hoverinfo\":\"none\",\"line\":{\"color\":\"#888\",\"width\":2},\"mode\":\"lines\",\"x\":[-0.20298834050660713,0.3479267426271025,null],\"y\":[0.5807515808826186,0.6740435641860875,null],\"type\":\"scatter\"},{\"hoverinfo\":\"none\",\"line\":{\"color\":\"#888\",\"width\":2},\"mode\":\"lines\",\"x\":[-0.20298834050660713,-0.3899959292366521,null],\"y\":[0.5807515808826186,0.056471975630785716,null],\"type\":\"scatter\"},{\"hoverinfo\":\"none\",\"line\":{\"color\":\"#888\",\"width\":2},\"mode\":\"lines\",\"x\":[0.03473166977228132,0.5404680700006834,null],\"y\":[0.3810024775213778,0.40596617118667816,null],\"type\":\"scatter\"},{\"hoverinfo\":\"none\",\"line\":{\"color\":\"#888\",\"width\":2},\"mode\":\"lines\",\"x\":[0.03473166977228132,-0.04009769559493735,null],\"y\":[0.3810024775213778,-0.5261242070941514,null],\"type\":\"scatter\"},{\"hoverinfo\":\"none\",\"line\":{\"color\":\"#888\",\"width\":2},\"mode\":\"lines\",\"x\":[0.03473166977228132,0.5522393253993465,null],\"y\":[0.3810024775213778,-0.31727681054987794,null],\"type\":\"scatter\"},{\"hoverinfo\":\"none\",\"line\":{\"color\":\"#888\",\"width\":2},\"mode\":\"lines\",\"x\":[0.03473166977228132,-0.6468306622146937,null],\"y\":[0.3810024775213778,0.13901382206836532,null],\"type\":\"scatter\"},{\"hoverinfo\":\"none\",\"line\":{\"color\":\"#888\",\"width\":2},\"mode\":\"lines\",\"x\":[0.03473166977228132,-0.08238964756534217,null],\"y\":[0.3810024775213778,-0.16484721958462958,null],\"type\":\"scatter\"},{\"hoverinfo\":\"none\",\"line\":{\"color\":\"#888\",\"width\":2},\"mode\":\"lines\",\"x\":[0.03473166977228132,-0.1704738565341958,null],\"y\":[0.3810024775213778,0.24271775940406895,null],\"type\":\"scatter\"},{\"hoverinfo\":\"none\",\"line\":{\"color\":\"#888\",\"width\":2},\"mode\":\"lines\",\"x\":[0.03473166977228132,-0.47684562401626657,null],\"y\":[0.3810024775213778,-0.20114621594413293,null],\"type\":\"scatter\"},{\"hoverinfo\":\"none\",\"line\":{\"color\":\"#888\",\"width\":2},\"mode\":\"lines\",\"x\":[0.03473166977228132,-0.3899959292366521,null],\"y\":[0.3810024775213778,0.056471975630785716,null],\"type\":\"scatter\"},{\"hoverinfo\":\"none\",\"line\":{\"color\":\"#888\",\"width\":2},\"mode\":\"lines\",\"x\":[0.09119120053852571,0.2603914511454496,null],\"y\":[0.07940902998261339,-0.6606408146458393,null],\"type\":\"scatter\"},{\"hoverinfo\":\"none\",\"line\":{\"color\":\"#888\",\"width\":2},\"mode\":\"lines\",\"x\":[0.09119120053852571,0.4298659182918482,null],\"y\":[0.07940902998261339,0.13089810445553915,null],\"type\":\"scatter\"},{\"hoverinfo\":\"none\",\"line\":{\"color\":\"#888\",\"width\":2},\"mode\":\"lines\",\"x\":[0.09119120053852571,-0.6083203849568297,null],\"y\":[0.07940902998261339,0.3905690028534935,null],\"type\":\"scatter\"},{\"hoverinfo\":\"none\",\"line\":{\"color\":\"#888\",\"width\":2},\"mode\":\"lines\",\"x\":[0.09119120053852571,-0.34263343961120957,null],\"y\":[0.07940902998261339,-0.49836771108549305,null],\"type\":\"scatter\"},{\"hoverinfo\":\"none\",\"line\":{\"color\":\"#888\",\"width\":2},\"mode\":\"lines\",\"x\":[0.09119120053852571,0.5404680700006834,null],\"y\":[0.07940902998261339,0.40596617118667816,null],\"type\":\"scatter\"},{\"hoverinfo\":\"none\",\"line\":{\"color\":\"#888\",\"width\":2},\"mode\":\"lines\",\"x\":[0.09119120053852571,-0.04009769559493735,null],\"y\":[0.07940902998261339,-0.5261242070941514,null],\"type\":\"scatter\"},{\"hoverinfo\":\"none\",\"line\":{\"color\":\"#888\",\"width\":2},\"mode\":\"lines\",\"x\":[0.09119120053852571,0.5522393253993465,null],\"y\":[0.07940902998261339,-0.31727681054987794,null],\"type\":\"scatter\"},{\"hoverinfo\":\"none\",\"line\":{\"color\":\"#888\",\"width\":2},\"mode\":\"lines\",\"x\":[0.09119120053852571,-0.6468306622146937,null],\"y\":[0.07940902998261339,0.13901382206836532,null],\"type\":\"scatter\"},{\"hoverinfo\":\"none\",\"line\":{\"color\":\"#888\",\"width\":2},\"mode\":\"lines\",\"x\":[0.09119120053852571,-0.08238964756534217,null],\"y\":[0.07940902998261339,-0.16484721958462958,null],\"type\":\"scatter\"},{\"hoverinfo\":\"none\",\"line\":{\"color\":\"#888\",\"width\":2},\"mode\":\"lines\",\"x\":[0.09119120053852571,0.3479267426271025,null],\"y\":[0.07940902998261339,0.6740435641860875,null],\"type\":\"scatter\"},{\"hoverinfo\":\"none\",\"line\":{\"color\":\"#888\",\"width\":2},\"mode\":\"lines\",\"x\":[0.09119120053852571,-0.1704738565341958,null],\"y\":[0.07940902998261339,0.24271775940406895,null],\"type\":\"scatter\"},{\"hoverinfo\":\"none\",\"line\":{\"color\":\"#888\",\"width\":2},\"mode\":\"lines\",\"x\":[0.09119120053852571,0.44088036690331417,null],\"y\":[0.07940902998261339,-0.0824896876686454,null],\"type\":\"scatter\"},{\"hoverinfo\":\"none\",\"line\":{\"color\":\"#888\",\"width\":2},\"mode\":\"lines\",\"x\":[-0.8537723789330497,-0.6083203849568297,null],\"y\":[-0.2184978340314988,0.3905690028534935,null],\"type\":\"scatter\"},{\"hoverinfo\":\"none\",\"line\":{\"color\":\"#888\",\"width\":2},\"mode\":\"lines\",\"x\":[-0.8537723789330497,-0.34263343961120957,null],\"y\":[-0.2184978340314988,-0.49836771108549305,null],\"type\":\"scatter\"},{\"hoverinfo\":\"none\",\"line\":{\"color\":\"#888\",\"width\":2},\"mode\":\"lines\",\"x\":[-0.8537723789330497,-0.04009769559493735,null],\"y\":[-0.2184978340314988,-0.5261242070941514,null],\"type\":\"scatter\"},{\"hoverinfo\":\"none\",\"line\":{\"color\":\"#888\",\"width\":2},\"mode\":\"lines\",\"x\":[-0.8537723789330497,-0.6468306622146937,null],\"y\":[-0.2184978340314988,0.13901382206836532,null],\"type\":\"scatter\"},{\"hoverinfo\":\"none\",\"line\":{\"color\":\"#888\",\"width\":2},\"mode\":\"lines\",\"x\":[-0.8537723789330497,0.11665321449123155,null],\"y\":[-0.2184978340314988,-0.2659875945995117,null],\"type\":\"scatter\"},{\"hoverinfo\":\"none\",\"line\":{\"color\":\"#888\",\"width\":2},\"mode\":\"lines\",\"x\":[-0.8537723789330497,-0.47684562401626657,null],\"y\":[-0.2184978340314988,-0.20114621594413293,null],\"type\":\"scatter\"},{\"hoverinfo\":\"none\",\"line\":{\"color\":\"#888\",\"width\":2},\"mode\":\"lines\",\"x\":[-0.8537723789330497,-0.3899959292366521,null],\"y\":[-0.2184978340314988,0.056471975630785716,null],\"type\":\"scatter\"},{\"hoverinfo\":\"none\",\"line\":{\"color\":\"#888\",\"width\":2},\"mode\":\"lines\",\"x\":[0.5404680700006834,0.4298659182918482,null],\"y\":[0.40596617118667816,0.13089810445553915,null],\"type\":\"scatter\"},{\"hoverinfo\":\"none\",\"line\":{\"color\":\"#888\",\"width\":2},\"mode\":\"lines\",\"x\":[0.5404680700006834,-0.04009769559493735,null],\"y\":[0.40596617118667816,-0.5261242070941514,null],\"type\":\"scatter\"},{\"hoverinfo\":\"none\",\"line\":{\"color\":\"#888\",\"width\":2},\"mode\":\"lines\",\"x\":[0.5404680700006834,0.3479267426271025,null],\"y\":[0.40596617118667816,0.6740435641860875,null],\"type\":\"scatter\"},{\"hoverinfo\":\"none\",\"line\":{\"color\":\"#888\",\"width\":2},\"mode\":\"lines\",\"x\":[0.5404680700006834,-0.1704738565341958,null],\"y\":[0.40596617118667816,0.24271775940406895,null],\"type\":\"scatter\"},{\"hoverinfo\":\"none\",\"line\":{\"color\":\"#888\",\"width\":2},\"mode\":\"lines\",\"x\":[0.5404680700006834,0.11665321449123155,null],\"y\":[0.40596617118667816,-0.2659875945995117,null],\"type\":\"scatter\"},{\"hoverinfo\":\"none\",\"line\":{\"color\":\"#888\",\"width\":2},\"mode\":\"lines\",\"x\":[0.5404680700006834,0.44088036690331417,null],\"y\":[0.40596617118667816,-0.0824896876686454,null],\"type\":\"scatter\"},{\"hoverinfo\":\"none\",\"line\":{\"color\":\"#888\",\"width\":2},\"mode\":\"lines\",\"x\":[0.5522393253993465,-0.34263343961120957,null],\"y\":[-0.31727681054987794,-0.49836771108549305,null],\"type\":\"scatter\"},{\"hoverinfo\":\"none\",\"line\":{\"color\":\"#888\",\"width\":2},\"mode\":\"lines\",\"x\":[0.5522393253993465,1.0,null],\"y\":[-0.31727681054987794,-0.14546539296784555,null],\"type\":\"scatter\"},{\"hoverinfo\":\"none\",\"line\":{\"color\":\"#888\",\"width\":2},\"mode\":\"lines\",\"x\":[0.5522393253993465,-0.08238964756534217,null],\"y\":[-0.31727681054987794,-0.16484721958462958,null],\"type\":\"scatter\"},{\"hoverinfo\":\"none\",\"line\":{\"color\":\"#888\",\"width\":2},\"mode\":\"lines\",\"x\":[0.5522393253993465,0.44088036690331417,null],\"y\":[-0.31727681054987794,-0.0824896876686454,null],\"type\":\"scatter\"},{\"hoverinfo\":\"none\",\"line\":{\"color\":\"#888\",\"width\":2},\"mode\":\"lines\",\"x\":[-0.6468306622146937,-0.6083203849568297,null],\"y\":[0.13901382206836532,0.3905690028534935,null],\"type\":\"scatter\"},{\"hoverinfo\":\"none\",\"line\":{\"color\":\"#888\",\"width\":2},\"mode\":\"lines\",\"x\":[-0.6468306622146937,-0.34263343961120957,null],\"y\":[0.13901382206836532,-0.49836771108549305,null],\"type\":\"scatter\"},{\"hoverinfo\":\"none\",\"line\":{\"color\":\"#888\",\"width\":2},\"mode\":\"lines\",\"x\":[-0.6468306622146937,-0.08238964756534217,null],\"y\":[0.13901382206836532,-0.16484721958462958,null],\"type\":\"scatter\"},{\"hoverinfo\":\"none\",\"line\":{\"color\":\"#888\",\"width\":2},\"mode\":\"lines\",\"x\":[-0.6468306622146937,-0.1704738565341958,null],\"y\":[0.13901382206836532,0.24271775940406895,null],\"type\":\"scatter\"},{\"hoverinfo\":\"none\",\"line\":{\"color\":\"#888\",\"width\":2},\"mode\":\"lines\",\"x\":[-0.6468306622146937,-0.47684562401626657,null],\"y\":[0.13901382206836532,-0.20114621594413293,null],\"type\":\"scatter\"},{\"hoverinfo\":\"none\",\"line\":{\"color\":\"#888\",\"width\":2},\"mode\":\"lines\",\"x\":[-0.6468306622146937,0.44088036690331417,null],\"y\":[0.13901382206836532,-0.0824896876686454,null],\"type\":\"scatter\"},{\"hoverinfo\":\"none\",\"line\":{\"color\":\"#888\",\"width\":2},\"mode\":\"lines\",\"x\":[-0.08238964756534217,0.2603914511454496,null],\"y\":[-0.16484721958462958,-0.6606408146458393,null],\"type\":\"scatter\"},{\"hoverinfo\":\"none\",\"line\":{\"color\":\"#888\",\"width\":2},\"mode\":\"lines\",\"x\":[-0.08238964756534217,0.4298659182918482,null],\"y\":[-0.16484721958462958,0.13089810445553915,null],\"type\":\"scatter\"},{\"hoverinfo\":\"none\",\"line\":{\"color\":\"#888\",\"width\":2},\"mode\":\"lines\",\"x\":[-0.08238964756534217,-0.04009769559493735,null],\"y\":[-0.16484721958462958,-0.5261242070941514,null],\"type\":\"scatter\"},{\"hoverinfo\":\"none\",\"line\":{\"color\":\"#888\",\"width\":2},\"mode\":\"lines\",\"x\":[-0.08238964756534217,-0.1704738565341958,null],\"y\":[-0.16484721958462958,0.24271775940406895,null],\"type\":\"scatter\"},{\"hoverinfo\":\"none\",\"line\":{\"color\":\"#888\",\"width\":2},\"mode\":\"lines\",\"x\":[-0.08238964756534217,0.11665321449123155,null],\"y\":[-0.16484721958462958,-0.2659875945995117,null],\"type\":\"scatter\"},{\"hoverinfo\":\"none\",\"line\":{\"color\":\"#888\",\"width\":2},\"mode\":\"lines\",\"x\":[-0.08238964756534217,-0.47684562401626657,null],\"y\":[-0.16484721958462958,-0.20114621594413293,null],\"type\":\"scatter\"},{\"hoverinfo\":\"none\",\"line\":{\"color\":\"#888\",\"width\":2},\"mode\":\"lines\",\"x\":[-0.08238964756534217,0.44088036690331417,null],\"y\":[-0.16484721958462958,-0.0824896876686454,null],\"type\":\"scatter\"},{\"hoverinfo\":\"none\",\"line\":{\"color\":\"#888\",\"width\":2},\"mode\":\"lines\",\"x\":[-0.08238964756534217,-0.3899959292366521,null],\"y\":[-0.16484721958462958,0.056471975630785716,null],\"type\":\"scatter\"},{\"hoverinfo\":\"none\",\"line\":{\"color\":\"#888\",\"width\":2},\"mode\":\"lines\",\"x\":[0.3479267426271025,0.4298659182918482,null],\"y\":[0.6740435641860875,0.13089810445553915,null],\"type\":\"scatter\"},{\"hoverinfo\":\"none\",\"line\":{\"color\":\"#888\",\"width\":2},\"mode\":\"lines\",\"x\":[0.3479267426271025,-0.6083203849568297,null],\"y\":[0.6740435641860875,0.3905690028534935,null],\"type\":\"scatter\"},{\"hoverinfo\":\"none\",\"line\":{\"color\":\"#888\",\"width\":2},\"mode\":\"lines\",\"x\":[0.3479267426271025,1.0,null],\"y\":[0.6740435641860875,-0.14546539296784555,null],\"type\":\"scatter\"},{\"hoverinfo\":\"none\",\"line\":{\"color\":\"#888\",\"width\":2},\"mode\":\"lines\",\"x\":[0.3479267426271025,0.44088036690331417,null],\"y\":[0.6740435641860875,-0.0824896876686454,null],\"type\":\"scatter\"},{\"hoverinfo\":\"none\",\"line\":{\"color\":\"#888\",\"width\":2},\"mode\":\"lines\",\"x\":[0.3479267426271025,-0.3899959292366521,null],\"y\":[0.6740435641860875,0.056471975630785716,null],\"type\":\"scatter\"},{\"hoverinfo\":\"none\",\"line\":{\"color\":\"#888\",\"width\":2},\"mode\":\"lines\",\"x\":[-0.3899959292366521,0.2603914511454496,null],\"y\":[0.056471975630785716,-0.6606408146458393,null],\"type\":\"scatter\"},{\"hoverinfo\":\"none\",\"line\":{\"color\":\"#888\",\"width\":2},\"mode\":\"lines\",\"x\":[-0.3899959292366521,-0.6083203849568297,null],\"y\":[0.056471975630785716,0.3905690028534935,null],\"type\":\"scatter\"},{\"hoverinfo\":\"none\",\"line\":{\"color\":\"#888\",\"width\":2},\"mode\":\"lines\",\"x\":[-0.3899959292366521,-0.34263343961120957,null],\"y\":[0.056471975630785716,-0.49836771108549305,null],\"type\":\"scatter\"},{\"hoverinfo\":\"none\",\"line\":{\"color\":\"#888\",\"width\":2},\"mode\":\"lines\",\"x\":[-0.3899959292366521,0.11665321449123155,null],\"y\":[0.056471975630785716,-0.2659875945995117,null],\"type\":\"scatter\"},{\"hoverinfo\":\"none\",\"line\":{\"color\":\"#888\",\"width\":2},\"mode\":\"lines\",\"x\":[-0.3899959292366521,-0.47684562401626657,null],\"y\":[0.056471975630785716,-0.20114621594413293,null],\"type\":\"scatter\"},{\"hoverinfo\":\"none\",\"line\":{\"color\":\"#888\",\"width\":2},\"mode\":\"lines\",\"x\":[0.2603914511454496,-0.34263343961120957,null],\"y\":[-0.6606408146458393,-0.49836771108549305,null],\"type\":\"scatter\"},{\"hoverinfo\":\"none\",\"line\":{\"color\":\"#888\",\"width\":2},\"mode\":\"lines\",\"x\":[0.2603914511454496,-0.04009769559493735,null],\"y\":[-0.6606408146458393,-0.5261242070941514,null],\"type\":\"scatter\"},{\"hoverinfo\":\"none\",\"line\":{\"color\":\"#888\",\"width\":2},\"mode\":\"lines\",\"x\":[0.2603914511454496,1.0,null],\"y\":[-0.6606408146458393,-0.14546539296784555,null],\"type\":\"scatter\"},{\"hoverinfo\":\"none\",\"line\":{\"color\":\"#888\",\"width\":2},\"mode\":\"lines\",\"x\":[0.2603914511454496,-0.1704738565341958,null],\"y\":[-0.6606408146458393,0.24271775940406895,null],\"type\":\"scatter\"},{\"hoverinfo\":\"none\",\"line\":{\"color\":\"#888\",\"width\":2},\"mode\":\"lines\",\"x\":[0.2603914511454496,0.11665321449123155,null],\"y\":[-0.6606408146458393,-0.2659875945995117,null],\"type\":\"scatter\"},{\"hoverinfo\":\"none\",\"line\":{\"color\":\"#888\",\"width\":2},\"mode\":\"lines\",\"x\":[-0.34263343961120957,0.4298659182918482,null],\"y\":[-0.49836771108549305,0.13089810445553915,null],\"type\":\"scatter\"},{\"hoverinfo\":\"none\",\"line\":{\"color\":\"#888\",\"width\":2},\"mode\":\"lines\",\"x\":[-0.34263343961120957,-0.6083203849568297,null],\"y\":[-0.49836771108549305,0.3905690028534935,null],\"type\":\"scatter\"},{\"hoverinfo\":\"none\",\"line\":{\"color\":\"#888\",\"width\":2},\"mode\":\"lines\",\"x\":[-0.34263343961120957,-0.04009769559493735,null],\"y\":[-0.49836771108549305,-0.5261242070941514,null],\"type\":\"scatter\"},{\"hoverinfo\":\"none\",\"line\":{\"color\":\"#888\",\"width\":2},\"mode\":\"lines\",\"x\":[-0.34263343961120957,0.11665321449123155,null],\"y\":[-0.49836771108549305,-0.2659875945995117,null],\"type\":\"scatter\"},{\"hoverinfo\":\"none\",\"line\":{\"color\":\"#888\",\"width\":2},\"mode\":\"lines\",\"x\":[-0.04009769559493735,0.11665321449123155,null],\"y\":[-0.5261242070941514,-0.2659875945995117,null],\"type\":\"scatter\"},{\"hoverinfo\":\"none\",\"line\":{\"color\":\"#888\",\"width\":2},\"mode\":\"lines\",\"x\":[-0.04009769559493735,-0.47684562401626657,null],\"y\":[-0.5261242070941514,-0.20114621594413293,null],\"type\":\"scatter\"},{\"hoverinfo\":\"none\",\"line\":{\"color\":\"#888\",\"width\":2},\"mode\":\"lines\",\"x\":[-0.04009769559493735,0.44088036690331417,null],\"y\":[-0.5261242070941514,-0.0824896876686454,null],\"type\":\"scatter\"},{\"hoverinfo\":\"none\",\"line\":{\"color\":\"#888\",\"width\":2},\"mode\":\"lines\",\"x\":[1.0,0.4298659182918482,null],\"y\":[-0.14546539296784555,0.13089810445553915,null],\"type\":\"scatter\"},{\"hoverinfo\":\"none\",\"line\":{\"color\":\"#888\",\"width\":2},\"mode\":\"lines\",\"x\":[1.0,0.11665321449123155,null],\"y\":[-0.14546539296784555,-0.2659875945995117,null],\"type\":\"scatter\"},{\"hoverinfo\":\"none\",\"line\":{\"color\":\"#888\",\"width\":2},\"mode\":\"lines\",\"x\":[1.0,0.44088036690331417,null],\"y\":[-0.14546539296784555,-0.0824896876686454,null],\"type\":\"scatter\"},{\"hoverinfo\":\"none\",\"line\":{\"color\":\"#888\",\"width\":2},\"mode\":\"lines\",\"x\":[-0.1704738565341958,0.4298659182918482,null],\"y\":[0.24271775940406895,0.13089810445553915,null],\"type\":\"scatter\"},{\"hoverinfo\":\"none\",\"line\":{\"color\":\"#888\",\"width\":2},\"mode\":\"lines\",\"x\":[-0.1704738565341958,-0.6083203849568297,null],\"y\":[0.24271775940406895,0.3905690028534935,null],\"type\":\"scatter\"},{\"hoverinfo\":\"none\",\"line\":{\"color\":\"#888\",\"width\":2},\"mode\":\"lines\",\"x\":[-0.1704738565341958,0.11665321449123155,null],\"y\":[0.24271775940406895,-0.2659875945995117,null],\"type\":\"scatter\"},{\"hoverinfo\":\"none\",\"line\":{\"color\":\"#888\",\"width\":2},\"mode\":\"lines\",\"x\":[-0.1704738565341958,-0.47684562401626657,null],\"y\":[0.24271775940406895,-0.20114621594413293,null],\"type\":\"scatter\"},{\"hoverinfo\":\"none\",\"line\":{\"color\":\"#888\",\"width\":2},\"mode\":\"lines\",\"x\":[0.11665321449123155,0.4298659182918482,null],\"y\":[-0.2659875945995117,0.13089810445553915,null],\"type\":\"scatter\"},{\"hoverinfo\":\"none\",\"line\":{\"color\":\"#888\",\"width\":2},\"mode\":\"lines\",\"x\":[0.11665321449123155,-0.6083203849568297,null],\"y\":[-0.2659875945995117,0.3905690028534935,null],\"type\":\"scatter\"},{\"hoverinfo\":\"none\",\"line\":{\"color\":\"#888\",\"width\":2},\"mode\":\"lines\",\"x\":[0.4298659182918482,-0.47684562401626657,null],\"y\":[0.13089810445553915,-0.20114621594413293,null],\"type\":\"scatter\"},{\"hoverinfo\":\"none\",\"line\":{\"color\":\"#888\",\"width\":2},\"mode\":\"lines\",\"x\":[0.4298659182918482,0.44088036690331417,null],\"y\":[0.13089810445553915,-0.0824896876686454,null],\"type\":\"scatter\"},{\"hoverinfo\":\"none\",\"line\":{\"color\":\"#888\",\"width\":2},\"mode\":\"lines\",\"x\":[-0.47684562401626657,-0.6083203849568297,null],\"y\":[-0.20114621594413293,0.3905690028534935,null],\"type\":\"scatter\"},{\"hoverinfo\":\"none\",\"line\":{\"color\":\"#888\",\"width\":2},\"mode\":\"lines\",\"x\":[-0.47684562401626657,0.44088036690331417,null],\"y\":[-0.20114621594413293,-0.0824896876686454,null],\"type\":\"scatter\"},{\"hoverinfo\":\"text\",\"marker\":{\"colorbar\":{\"thickness\":15,\"title\":{\"side\":\"right\",\"text\":\"Node Connections\"},\"xanchor\":\"left\"},\"colorscale\":[[0.0,\"rgb(255,255,217)\"],[0.125,\"rgb(237,248,177)\"],[0.25,\"rgb(199,233,180)\"],[0.375,\"rgb(127,205,187)\"],[0.5,\"rgb(65,182,196)\"],[0.625,\"rgb(29,145,192)\"],[0.75,\"rgb(34,94,168)\"],[0.875,\"rgb(37,52,148)\"],[1.0,\"rgb(8,29,88)\"]],\"showscale\":true,\"size\":10},\"mode\":\"markers+text\",\"text\":[\"0\",\"3\",\"6\",\"7\",\"8\",\"11\",\"12\",\"13\",\"14\",\"19\",\"1\",\"5\",\"9\",\"10\",\"15\",\"16\",\"2\",\"17\",\"18\",\"4\"],\"textposition\":\"top center\",\"x\":[-0.20298834050660713,0.03473166977228132,0.09119120053852571,-0.8537723789330497,0.5404680700006834,0.5522393253993465,-0.6468306622146937,-0.08238964756534217,0.3479267426271025,-0.3899959292366521,0.2603914511454496,-0.34263343961120957,-0.04009769559493735,1.0,-0.1704738565341958,0.11665321449123155,0.4298659182918482,-0.47684562401626657,0.44088036690331417,-0.6083203849568297],\"y\":[0.5807515808826186,0.3810024775213778,0.07940902998261339,-0.2184978340314988,0.40596617118667816,-0.31727681054987794,0.13901382206836532,-0.16484721958462958,0.6740435641860875,0.056471975630785716,-0.6606408146458393,-0.49836771108549305,-0.5261242070941514,-0.14546539296784555,0.24271775940406895,-0.2659875945995117,0.13089810445553915,-0.20114621594413293,-0.0824896876686454,0.3905690028534935],\"type\":\"scatter\"}],                        {\"hovermode\":\"closest\",\"margin\":{\"b\":0,\"l\":0,\"r\":0,\"t\":0},\"showlegend\":false,\"template\":{\"data\":{\"barpolar\":[{\"marker\":{\"line\":{\"color\":\"#E5ECF6\",\"width\":0.5},\"pattern\":{\"fillmode\":\"overlay\",\"size\":10,\"solidity\":0.2}},\"type\":\"barpolar\"}],\"bar\":[{\"error_x\":{\"color\":\"#2a3f5f\"},\"error_y\":{\"color\":\"#2a3f5f\"},\"marker\":{\"line\":{\"color\":\"#E5ECF6\",\"width\":0.5},\"pattern\":{\"fillmode\":\"overlay\",\"size\":10,\"solidity\":0.2}},\"type\":\"bar\"}],\"carpet\":[{\"aaxis\":{\"endlinecolor\":\"#2a3f5f\",\"gridcolor\":\"white\",\"linecolor\":\"white\",\"minorgridcolor\":\"white\",\"startlinecolor\":\"#2a3f5f\"},\"baxis\":{\"endlinecolor\":\"#2a3f5f\",\"gridcolor\":\"white\",\"linecolor\":\"white\",\"minorgridcolor\":\"white\",\"startlinecolor\":\"#2a3f5f\"},\"type\":\"carpet\"}],\"choropleth\":[{\"colorbar\":{\"outlinewidth\":0,\"ticks\":\"\"},\"type\":\"choropleth\"}],\"contourcarpet\":[{\"colorbar\":{\"outlinewidth\":0,\"ticks\":\"\"},\"type\":\"contourcarpet\"}],\"contour\":[{\"colorbar\":{\"outlinewidth\":0,\"ticks\":\"\"},\"colorscale\":[[0.0,\"#0d0887\"],[0.1111111111111111,\"#46039f\"],[0.2222222222222222,\"#7201a8\"],[0.3333333333333333,\"#9c179e\"],[0.4444444444444444,\"#bd3786\"],[0.5555555555555556,\"#d8576b\"],[0.6666666666666666,\"#ed7953\"],[0.7777777777777778,\"#fb9f3a\"],[0.8888888888888888,\"#fdca26\"],[1.0,\"#f0f921\"]],\"type\":\"contour\"}],\"heatmapgl\":[{\"colorbar\":{\"outlinewidth\":0,\"ticks\":\"\"},\"colorscale\":[[0.0,\"#0d0887\"],[0.1111111111111111,\"#46039f\"],[0.2222222222222222,\"#7201a8\"],[0.3333333333333333,\"#9c179e\"],[0.4444444444444444,\"#bd3786\"],[0.5555555555555556,\"#d8576b\"],[0.6666666666666666,\"#ed7953\"],[0.7777777777777778,\"#fb9f3a\"],[0.8888888888888888,\"#fdca26\"],[1.0,\"#f0f921\"]],\"type\":\"heatmapgl\"}],\"heatmap\":[{\"colorbar\":{\"outlinewidth\":0,\"ticks\":\"\"},\"colorscale\":[[0.0,\"#0d0887\"],[0.1111111111111111,\"#46039f\"],[0.2222222222222222,\"#7201a8\"],[0.3333333333333333,\"#9c179e\"],[0.4444444444444444,\"#bd3786\"],[0.5555555555555556,\"#d8576b\"],[0.6666666666666666,\"#ed7953\"],[0.7777777777777778,\"#fb9f3a\"],[0.8888888888888888,\"#fdca26\"],[1.0,\"#f0f921\"]],\"type\":\"heatmap\"}],\"histogram2dcontour\":[{\"colorbar\":{\"outlinewidth\":0,\"ticks\":\"\"},\"colorscale\":[[0.0,\"#0d0887\"],[0.1111111111111111,\"#46039f\"],[0.2222222222222222,\"#7201a8\"],[0.3333333333333333,\"#9c179e\"],[0.4444444444444444,\"#bd3786\"],[0.5555555555555556,\"#d8576b\"],[0.6666666666666666,\"#ed7953\"],[0.7777777777777778,\"#fb9f3a\"],[0.8888888888888888,\"#fdca26\"],[1.0,\"#f0f921\"]],\"type\":\"histogram2dcontour\"}],\"histogram2d\":[{\"colorbar\":{\"outlinewidth\":0,\"ticks\":\"\"},\"colorscale\":[[0.0,\"#0d0887\"],[0.1111111111111111,\"#46039f\"],[0.2222222222222222,\"#7201a8\"],[0.3333333333333333,\"#9c179e\"],[0.4444444444444444,\"#bd3786\"],[0.5555555555555556,\"#d8576b\"],[0.6666666666666666,\"#ed7953\"],[0.7777777777777778,\"#fb9f3a\"],[0.8888888888888888,\"#fdca26\"],[1.0,\"#f0f921\"]],\"type\":\"histogram2d\"}],\"histogram\":[{\"marker\":{\"pattern\":{\"fillmode\":\"overlay\",\"size\":10,\"solidity\":0.2}},\"type\":\"histogram\"}],\"mesh3d\":[{\"colorbar\":{\"outlinewidth\":0,\"ticks\":\"\"},\"type\":\"mesh3d\"}],\"parcoords\":[{\"line\":{\"colorbar\":{\"outlinewidth\":0,\"ticks\":\"\"}},\"type\":\"parcoords\"}],\"pie\":[{\"automargin\":true,\"type\":\"pie\"}],\"scatter3d\":[{\"line\":{\"colorbar\":{\"outlinewidth\":0,\"ticks\":\"\"}},\"marker\":{\"colorbar\":{\"outlinewidth\":0,\"ticks\":\"\"}},\"type\":\"scatter3d\"}],\"scattercarpet\":[{\"marker\":{\"colorbar\":{\"outlinewidth\":0,\"ticks\":\"\"}},\"type\":\"scattercarpet\"}],\"scattergeo\":[{\"marker\":{\"colorbar\":{\"outlinewidth\":0,\"ticks\":\"\"}},\"type\":\"scattergeo\"}],\"scattergl\":[{\"marker\":{\"colorbar\":{\"outlinewidth\":0,\"ticks\":\"\"}},\"type\":\"scattergl\"}],\"scattermapbox\":[{\"marker\":{\"colorbar\":{\"outlinewidth\":0,\"ticks\":\"\"}},\"type\":\"scattermapbox\"}],\"scatterpolargl\":[{\"marker\":{\"colorbar\":{\"outlinewidth\":0,\"ticks\":\"\"}},\"type\":\"scatterpolargl\"}],\"scatterpolar\":[{\"marker\":{\"colorbar\":{\"outlinewidth\":0,\"ticks\":\"\"}},\"type\":\"scatterpolar\"}],\"scatter\":[{\"fillpattern\":{\"fillmode\":\"overlay\",\"size\":10,\"solidity\":0.2},\"type\":\"scatter\"}],\"scatterternary\":[{\"marker\":{\"colorbar\":{\"outlinewidth\":0,\"ticks\":\"\"}},\"type\":\"scatterternary\"}],\"surface\":[{\"colorbar\":{\"outlinewidth\":0,\"ticks\":\"\"},\"colorscale\":[[0.0,\"#0d0887\"],[0.1111111111111111,\"#46039f\"],[0.2222222222222222,\"#7201a8\"],[0.3333333333333333,\"#9c179e\"],[0.4444444444444444,\"#bd3786\"],[0.5555555555555556,\"#d8576b\"],[0.6666666666666666,\"#ed7953\"],[0.7777777777777778,\"#fb9f3a\"],[0.8888888888888888,\"#fdca26\"],[1.0,\"#f0f921\"]],\"type\":\"surface\"}],\"table\":[{\"cells\":{\"fill\":{\"color\":\"#EBF0F8\"},\"line\":{\"color\":\"white\"}},\"header\":{\"fill\":{\"color\":\"#C8D4E3\"},\"line\":{\"color\":\"white\"}},\"type\":\"table\"}]},\"layout\":{\"annotationdefaults\":{\"arrowcolor\":\"#2a3f5f\",\"arrowhead\":0,\"arrowwidth\":1},\"autotypenumbers\":\"strict\",\"coloraxis\":{\"colorbar\":{\"outlinewidth\":0,\"ticks\":\"\"}},\"colorscale\":{\"diverging\":[[0,\"#8e0152\"],[0.1,\"#c51b7d\"],[0.2,\"#de77ae\"],[0.3,\"#f1b6da\"],[0.4,\"#fde0ef\"],[0.5,\"#f7f7f7\"],[0.6,\"#e6f5d0\"],[0.7,\"#b8e186\"],[0.8,\"#7fbc41\"],[0.9,\"#4d9221\"],[1,\"#276419\"]],\"sequential\":[[0.0,\"#0d0887\"],[0.1111111111111111,\"#46039f\"],[0.2222222222222222,\"#7201a8\"],[0.3333333333333333,\"#9c179e\"],[0.4444444444444444,\"#bd3786\"],[0.5555555555555556,\"#d8576b\"],[0.6666666666666666,\"#ed7953\"],[0.7777777777777778,\"#fb9f3a\"],[0.8888888888888888,\"#fdca26\"],[1.0,\"#f0f921\"]],\"sequentialminus\":[[0.0,\"#0d0887\"],[0.1111111111111111,\"#46039f\"],[0.2222222222222222,\"#7201a8\"],[0.3333333333333333,\"#9c179e\"],[0.4444444444444444,\"#bd3786\"],[0.5555555555555556,\"#d8576b\"],[0.6666666666666666,\"#ed7953\"],[0.7777777777777778,\"#fb9f3a\"],[0.8888888888888888,\"#fdca26\"],[1.0,\"#f0f921\"]]},\"colorway\":[\"#636efa\",\"#EF553B\",\"#00cc96\",\"#ab63fa\",\"#FFA15A\",\"#19d3f3\",\"#FF6692\",\"#B6E880\",\"#FF97FF\",\"#FECB52\"],\"font\":{\"color\":\"#2a3f5f\"},\"geo\":{\"bgcolor\":\"white\",\"lakecolor\":\"white\",\"landcolor\":\"#E5ECF6\",\"showlakes\":true,\"showland\":true,\"subunitcolor\":\"white\"},\"hoverlabel\":{\"align\":\"left\"},\"hovermode\":\"closest\",\"mapbox\":{\"style\":\"light\"},\"paper_bgcolor\":\"white\",\"plot_bgcolor\":\"#E5ECF6\",\"polar\":{\"angularaxis\":{\"gridcolor\":\"white\",\"linecolor\":\"white\",\"ticks\":\"\"},\"bgcolor\":\"#E5ECF6\",\"radialaxis\":{\"gridcolor\":\"white\",\"linecolor\":\"white\",\"ticks\":\"\"}},\"scene\":{\"xaxis\":{\"backgroundcolor\":\"#E5ECF6\",\"gridcolor\":\"white\",\"gridwidth\":2,\"linecolor\":\"white\",\"showbackground\":true,\"ticks\":\"\",\"zerolinecolor\":\"white\"},\"yaxis\":{\"backgroundcolor\":\"#E5ECF6\",\"gridcolor\":\"white\",\"gridwidth\":2,\"linecolor\":\"white\",\"showbackground\":true,\"ticks\":\"\",\"zerolinecolor\":\"white\"},\"zaxis\":{\"backgroundcolor\":\"#E5ECF6\",\"gridcolor\":\"white\",\"gridwidth\":2,\"linecolor\":\"white\",\"showbackground\":true,\"ticks\":\"\",\"zerolinecolor\":\"white\"}},\"shapedefaults\":{\"line\":{\"color\":\"#2a3f5f\"}},\"ternary\":{\"aaxis\":{\"gridcolor\":\"white\",\"linecolor\":\"white\",\"ticks\":\"\"},\"baxis\":{\"gridcolor\":\"white\",\"linecolor\":\"white\",\"ticks\":\"\"},\"bgcolor\":\"#E5ECF6\",\"caxis\":{\"gridcolor\":\"white\",\"linecolor\":\"white\",\"ticks\":\"\"}},\"title\":{\"x\":0.05},\"xaxis\":{\"automargin\":true,\"gridcolor\":\"white\",\"linecolor\":\"white\",\"ticks\":\"\",\"title\":{\"standoff\":15},\"zerolinecolor\":\"white\",\"zerolinewidth\":2},\"yaxis\":{\"automargin\":true,\"gridcolor\":\"white\",\"linecolor\":\"white\",\"ticks\":\"\",\"title\":{\"standoff\":15},\"zerolinecolor\":\"white\",\"zerolinewidth\":2}}},\"xaxis\":{\"showgrid\":false,\"zeroline\":false},\"yaxis\":{\"showgrid\":false,\"zeroline\":false}},                        {\"responsive\": true}                    ).then(function(){\n",
       "                            \n",
       "var gd = document.getElementById('c126a026-36e4-4ad8-ad88-c54ffae028e0');\n",
       "var x = new MutationObserver(function (mutations, observer) {{\n",
       "        var display = window.getComputedStyle(gd).display;\n",
       "        if (!display || display === 'none') {{\n",
       "            console.log([gd, 'removed!']);\n",
       "            Plotly.purge(gd);\n",
       "            observer.disconnect();\n",
       "        }}\n",
       "}});\n",
       "\n",
       "// Listen for the removal of the full notebook cells\n",
       "var notebookContainer = gd.closest('#notebook-container');\n",
       "if (notebookContainer) {{\n",
       "    x.observe(notebookContainer, {childList: true});\n",
       "}}\n",
       "\n",
       "// Listen for the clearing of the current output cell\n",
       "var outputEl = gd.closest('.output');\n",
       "if (outputEl) {{\n",
       "    x.observe(outputEl, {childList: true});\n",
       "}}\n",
       "\n",
       "                        })                };                });            </script>        </div>"
      ]
     },
     "metadata": {},
     "output_type": "display_data"
    }
   ],
   "source": [
    "import plotly.graph_objs as go\n",
    "import networkx as nx\n",
    "from plotly.offline import init_notebook_mode, iplot\n",
    "\n",
    "init_notebook_mode(connected=True)\n",
    "\n",
    "# List of edges (this can change)\n",
    "edges = edge_list\n",
    "\n",
    "# Create a graph using NetworkX\n",
    "G = nx.Graph()\n",
    "G.add_edges_from(edges)\n",
    "\n",
    "# Use NetworkX to automatically determine positions of nodes\n",
    "pos = nx.spring_layout(G)\n",
    "\n",
    "# Extract the nodes and edges for Plotly\n",
    "edge_trace = []\n",
    "for edge in G.edges():\n",
    "    x0, y0 = pos[edge[0]]\n",
    "    x1, y1 = pos[edge[1]]\n",
    "    edge_trace.append(go.Scatter(\n",
    "        x=[x0, x1, None],\n",
    "        y=[y0, y1, None],\n",
    "        line=dict(width=2, color='#888'),\n",
    "        hoverinfo='none',\n",
    "        mode='lines'\n",
    "    ))\n",
    "\n",
    "node_trace = go.Scatter(\n",
    "    x=[pos[node][0] for node in G.nodes()],\n",
    "    y=[pos[node][1] for node in G.nodes()],\n",
    "    text=[str(node) for node in G.nodes()],\n",
    "    mode='markers+text',\n",
    "    textposition='top center',\n",
    "    hoverinfo='text',\n",
    "    marker=dict(\n",
    "        showscale=True,\n",
    "        colorscale='YlGnBu',\n",
    "        size=10,\n",
    "        colorbar=dict(\n",
    "            thickness=15,\n",
    "            title='Node Connections',\n",
    "            xanchor='left',\n",
    "            titleside='right'\n",
    "        ),\n",
    "    )\n",
    ")\n",
    "\n",
    "layout = go.Layout(\n",
    "    showlegend=False,\n",
    "    hovermode='closest',\n",
    "    margin=dict(b=0, l=0, r=0, t=0),\n",
    "    xaxis=dict(showgrid=False, zeroline=False),\n",
    "    yaxis=dict(showgrid=False, zeroline=False),\n",
    ")\n",
    "\n",
    "fig = go.Figure(data=edge_trace + [node_trace], layout=layout)\n",
    "iplot(fig)\n"
   ]
  },
  {
   "cell_type": "code",
   "execution_count": null,
   "id": "0fe9b2f4-d863-423c-bef4-69dee1f7320b",
   "metadata": {},
   "outputs": [],
   "source": []
  }
 ],
 "metadata": {
  "kernelspec": {
   "display_name": "Python 3 (ipykernel)",
   "language": "python",
   "name": "python3"
  },
  "language_info": {
   "codemirror_mode": {
    "name": "ipython",
    "version": 3
   },
   "file_extension": ".py",
   "mimetype": "text/x-python",
   "name": "python",
   "nbconvert_exporter": "python",
   "pygments_lexer": "ipython3",
   "version": "3.12.4"
  }
 },
 "nbformat": 4,
 "nbformat_minor": 5
}
