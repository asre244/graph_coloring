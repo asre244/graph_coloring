{
 "cells": [
  {
   "cell_type": "code",
   "execution_count": 11,
   "id": "eaf778a4-bd9a-4524-8a57-225e1b41ec16",
   "metadata": {},
   "outputs": [],
   "source": [
    "from collections import Counter\n",
    "import matplotlib.pyplot as plt\n",
    "\n",
    "with open(\n",
    "        r'C:\\Users\\AjithSreenivasan\\OneDrive - Robinson Bowmaker Paul\\Coursera\\Discrete Optimization\\graph_coloring_2\\Graph coloring\\coloring\\data\\gc_70_7',\n",
    "        'r') as input_data_file:\n",
    "    input_data = input_data_file.read()\n",
    "data_list = input_data.split()\n",
    "data_list = list(map(int, data_list))\n",
    "n_nodes = data_list[0]\n",
    "n_edges = data_list[1]\n",
    "edge_data = data_list[2:]\n",
    "edge_list = [edge_data[i:i + 2] for i in range(0, int(len(edge_data)), 2)]\n",
    "node_list = [i for i in range(0, n_nodes)]\n",
    "\n",
    "# number of edges from node\n",
    "count_edges = sorted(Counter(edge_data).items())"
   ]
  },
  {
   "cell_type": "code",
   "execution_count": 1,
   "id": "292c7830-7f06-458b-b7d4-ca5a8b690886",
   "metadata": {},
   "outputs": [],
   "source": [
    "from collections import Counter\n",
    "import matplotlib.pyplot as plt\n",
    "\n",
    "n_nodes = 10\n",
    "edge_list = [[5,1],[5,2],[5,3],[5,4],[0,6],[0,7],[0,8],[1,6],[2,7],[3,8],[4,9]]\n",
    "node_list = [i for i in range(0, n_nodes)]\n",
    "# count_edges = sorted(Counter(edge_data).items())\n",
    "edge_data = [item for sublist in edge_list for item in sublist]\n",
    "n_edges = 11\n",
    "node_counter = Counter(edge_data)\n",
    "node_sorted_tuple = node_counter.most_common()\n",
    "node_sorted = [item[0] for item in node_sorted_tuple]"
   ]
  },
  {
   "cell_type": "code",
   "execution_count": 2,
   "id": "a1ee5bbf-766c-49c4-8df0-5affc0fd4706",
   "metadata": {},
   "outputs": [
    {
     "data": {
      "text/html": [
       "        <script type=\"text/javascript\">\n",
       "        window.PlotlyConfig = {MathJaxConfig: 'local'};\n",
       "        if (window.MathJax && window.MathJax.Hub && window.MathJax.Hub.Config) {window.MathJax.Hub.Config({SVG: {font: \"STIX-Web\"}});}\n",
       "        if (typeof require !== 'undefined') {\n",
       "        require.undef(\"plotly\");\n",
       "        requirejs.config({\n",
       "            paths: {\n",
       "                'plotly': ['https://cdn.plot.ly/plotly-2.34.0.min']\n",
       "            }\n",
       "        });\n",
       "        require(['plotly'], function(Plotly) {\n",
       "            window._Plotly = Plotly;\n",
       "        });\n",
       "        }\n",
       "        </script>\n",
       "        "
      ]
     },
     "metadata": {},
     "output_type": "display_data"
    },
    {
     "data": {
      "application/vnd.plotly.v1+json": {
       "config": {
        "linkText": "Export to plot.ly",
        "plotlyServerURL": "https://plot.ly",
        "showLink": false
       },
       "data": [
        {
         "hoverinfo": "none",
         "line": {
          "color": "#888",
          "width": 2
         },
         "mode": "lines",
         "type": "scatter",
         "x": [
          0.10812772509264658,
          0.35346688164320417,
          null
         ],
         "y": [
          -0.2041711277259885,
          0.16548294292373614,
          null
         ]
        },
        {
         "hoverinfo": "none",
         "line": {
          "color": "#888",
          "width": 2
         },
         "mode": "lines",
         "type": "scatter",
         "x": [
          0.10812772509264658,
          -0.15687140529329577,
          null
         ],
         "y": [
          -0.2041711277259885,
          0.14937886023924626,
          null
         ]
        },
        {
         "hoverinfo": "none",
         "line": {
          "color": "#888",
          "width": 2
         },
         "mode": "lines",
         "type": "scatter",
         "x": [
          0.10812772509264658,
          -0.308936821685463,
          null
         ],
         "y": [
          -0.2041711277259885,
          -0.19521685032741895,
          null
         ]
        },
        {
         "hoverinfo": "none",
         "line": {
          "color": "#888",
          "width": 2
         },
         "mode": "lines",
         "type": "scatter",
         "x": [
          0.10812772509264658,
          0.34598668183068565,
          null
         ],
         "y": [
          -0.2041711277259885,
          -0.6512926439471923,
          null
         ]
        },
        {
         "hoverinfo": "none",
         "line": {
          "color": "#888",
          "width": 2
         },
         "mode": "lines",
         "type": "scatter",
         "x": [
          0.35346688164320417,
          0.2199562521735863,
          null
         ],
         "y": [
          0.16548294292373614,
          0.534866029188844,
          null
         ]
        },
        {
         "hoverinfo": "none",
         "line": {
          "color": "#888",
          "width": 2
         },
         "mode": "lines",
         "type": "scatter",
         "x": [
          -0.15687140529329577,
          -0.4244329523178852,
          null
         ],
         "y": [
          0.14937886023924626,
          0.5000703294024568,
          null
         ]
        },
        {
         "hoverinfo": "none",
         "line": {
          "color": "#888",
          "width": 2
         },
         "mode": "lines",
         "type": "scatter",
         "x": [
          -0.308936821685463,
          -0.474923807997694,
          null
         ],
         "y": [
          -0.19521685032741895,
          0.16968063815370762,
          null
         ]
        },
        {
         "hoverinfo": "none",
         "line": {
          "color": "#888",
          "width": 2
         },
         "mode": "lines",
         "type": "scatter",
         "x": [
          0.34598668183068565,
          0.5308490777460678,
          null
         ],
         "y": [
          -0.6512926439471923,
          -1,
          null
         ]
        },
        {
         "hoverinfo": "none",
         "line": {
          "color": "#888",
          "width": 2
         },
         "mode": "lines",
         "type": "scatter",
         "x": [
          -0.1932216311918528,
          0.2199562521735863,
          null
         ],
         "y": [
          0.5312018220926087,
          0.534866029188844,
          null
         ]
        },
        {
         "hoverinfo": "none",
         "line": {
          "color": "#888",
          "width": 2
         },
         "mode": "lines",
         "type": "scatter",
         "x": [
          -0.1932216311918528,
          -0.4244329523178852,
          null
         ],
         "y": [
          0.5312018220926087,
          0.5000703294024568,
          null
         ]
        },
        {
         "hoverinfo": "none",
         "line": {
          "color": "#888",
          "width": 2
         },
         "mode": "lines",
         "type": "scatter",
         "x": [
          -0.1932216311918528,
          -0.474923807997694,
          null
         ],
         "y": [
          0.5312018220926087,
          0.16968063815370762,
          null
         ]
        },
        {
         "hoverinfo": "text",
         "marker": {
          "color": [
           1,
           0,
           0,
           0,
           0,
           0,
           1,
           1,
           1,
           1
          ],
          "colorbar": {
           "thickness": 15,
           "title": {
            "side": "right",
            "text": "Node Connections"
           },
           "xanchor": "left"
          },
          "colorscale": [
           [
            0,
            "rgb(255,255,217)"
           ],
           [
            0.125,
            "rgb(237,248,177)"
           ],
           [
            0.25,
            "rgb(199,233,180)"
           ],
           [
            0.375,
            "rgb(127,205,187)"
           ],
           [
            0.5,
            "rgb(65,182,196)"
           ],
           [
            0.625,
            "rgb(29,145,192)"
           ],
           [
            0.75,
            "rgb(34,94,168)"
           ],
           [
            0.875,
            "rgb(37,52,148)"
           ],
           [
            1,
            "rgb(8,29,88)"
           ]
          ],
          "showscale": true,
          "size": 10
         },
         "mode": "markers+text",
         "text": [
          "5",
          "1",
          "2",
          "3",
          "4",
          "0",
          "6",
          "7",
          "8",
          "9"
         ],
         "textposition": "top center",
         "type": "scatter",
         "x": [
          0.10812772509264658,
          0.35346688164320417,
          -0.15687140529329577,
          -0.308936821685463,
          0.34598668183068565,
          -0.1932216311918528,
          0.2199562521735863,
          -0.4244329523178852,
          -0.474923807997694,
          0.5308490777460678
         ],
         "y": [
          -0.2041711277259885,
          0.16548294292373614,
          0.14937886023924626,
          -0.19521685032741895,
          -0.6512926439471923,
          0.5312018220926087,
          0.534866029188844,
          0.5000703294024568,
          0.16968063815370762,
          -1
         ]
        }
       ],
       "layout": {
        "autosize": true,
        "hovermode": "closest",
        "margin": {
         "b": 0,
         "l": 0,
         "r": 0,
         "t": 0
        },
        "showlegend": false,
        "template": {
         "data": {
          "bar": [
           {
            "error_x": {
             "color": "#2a3f5f"
            },
            "error_y": {
             "color": "#2a3f5f"
            },
            "marker": {
             "line": {
              "color": "#E5ECF6",
              "width": 0.5
             },
             "pattern": {
              "fillmode": "overlay",
              "size": 10,
              "solidity": 0.2
             }
            },
            "type": "bar"
           }
          ],
          "barpolar": [
           {
            "marker": {
             "line": {
              "color": "#E5ECF6",
              "width": 0.5
             },
             "pattern": {
              "fillmode": "overlay",
              "size": 10,
              "solidity": 0.2
             }
            },
            "type": "barpolar"
           }
          ],
          "carpet": [
           {
            "aaxis": {
             "endlinecolor": "#2a3f5f",
             "gridcolor": "white",
             "linecolor": "white",
             "minorgridcolor": "white",
             "startlinecolor": "#2a3f5f"
            },
            "baxis": {
             "endlinecolor": "#2a3f5f",
             "gridcolor": "white",
             "linecolor": "white",
             "minorgridcolor": "white",
             "startlinecolor": "#2a3f5f"
            },
            "type": "carpet"
           }
          ],
          "choropleth": [
           {
            "colorbar": {
             "outlinewidth": 0,
             "ticks": ""
            },
            "type": "choropleth"
           }
          ],
          "contour": [
           {
            "colorbar": {
             "outlinewidth": 0,
             "ticks": ""
            },
            "colorscale": [
             [
              0,
              "#0d0887"
             ],
             [
              0.1111111111111111,
              "#46039f"
             ],
             [
              0.2222222222222222,
              "#7201a8"
             ],
             [
              0.3333333333333333,
              "#9c179e"
             ],
             [
              0.4444444444444444,
              "#bd3786"
             ],
             [
              0.5555555555555556,
              "#d8576b"
             ],
             [
              0.6666666666666666,
              "#ed7953"
             ],
             [
              0.7777777777777778,
              "#fb9f3a"
             ],
             [
              0.8888888888888888,
              "#fdca26"
             ],
             [
              1,
              "#f0f921"
             ]
            ],
            "type": "contour"
           }
          ],
          "contourcarpet": [
           {
            "colorbar": {
             "outlinewidth": 0,
             "ticks": ""
            },
            "type": "contourcarpet"
           }
          ],
          "heatmap": [
           {
            "colorbar": {
             "outlinewidth": 0,
             "ticks": ""
            },
            "colorscale": [
             [
              0,
              "#0d0887"
             ],
             [
              0.1111111111111111,
              "#46039f"
             ],
             [
              0.2222222222222222,
              "#7201a8"
             ],
             [
              0.3333333333333333,
              "#9c179e"
             ],
             [
              0.4444444444444444,
              "#bd3786"
             ],
             [
              0.5555555555555556,
              "#d8576b"
             ],
             [
              0.6666666666666666,
              "#ed7953"
             ],
             [
              0.7777777777777778,
              "#fb9f3a"
             ],
             [
              0.8888888888888888,
              "#fdca26"
             ],
             [
              1,
              "#f0f921"
             ]
            ],
            "type": "heatmap"
           }
          ],
          "heatmapgl": [
           {
            "colorbar": {
             "outlinewidth": 0,
             "ticks": ""
            },
            "colorscale": [
             [
              0,
              "#0d0887"
             ],
             [
              0.1111111111111111,
              "#46039f"
             ],
             [
              0.2222222222222222,
              "#7201a8"
             ],
             [
              0.3333333333333333,
              "#9c179e"
             ],
             [
              0.4444444444444444,
              "#bd3786"
             ],
             [
              0.5555555555555556,
              "#d8576b"
             ],
             [
              0.6666666666666666,
              "#ed7953"
             ],
             [
              0.7777777777777778,
              "#fb9f3a"
             ],
             [
              0.8888888888888888,
              "#fdca26"
             ],
             [
              1,
              "#f0f921"
             ]
            ],
            "type": "heatmapgl"
           }
          ],
          "histogram": [
           {
            "marker": {
             "pattern": {
              "fillmode": "overlay",
              "size": 10,
              "solidity": 0.2
             }
            },
            "type": "histogram"
           }
          ],
          "histogram2d": [
           {
            "colorbar": {
             "outlinewidth": 0,
             "ticks": ""
            },
            "colorscale": [
             [
              0,
              "#0d0887"
             ],
             [
              0.1111111111111111,
              "#46039f"
             ],
             [
              0.2222222222222222,
              "#7201a8"
             ],
             [
              0.3333333333333333,
              "#9c179e"
             ],
             [
              0.4444444444444444,
              "#bd3786"
             ],
             [
              0.5555555555555556,
              "#d8576b"
             ],
             [
              0.6666666666666666,
              "#ed7953"
             ],
             [
              0.7777777777777778,
              "#fb9f3a"
             ],
             [
              0.8888888888888888,
              "#fdca26"
             ],
             [
              1,
              "#f0f921"
             ]
            ],
            "type": "histogram2d"
           }
          ],
          "histogram2dcontour": [
           {
            "colorbar": {
             "outlinewidth": 0,
             "ticks": ""
            },
            "colorscale": [
             [
              0,
              "#0d0887"
             ],
             [
              0.1111111111111111,
              "#46039f"
             ],
             [
              0.2222222222222222,
              "#7201a8"
             ],
             [
              0.3333333333333333,
              "#9c179e"
             ],
             [
              0.4444444444444444,
              "#bd3786"
             ],
             [
              0.5555555555555556,
              "#d8576b"
             ],
             [
              0.6666666666666666,
              "#ed7953"
             ],
             [
              0.7777777777777778,
              "#fb9f3a"
             ],
             [
              0.8888888888888888,
              "#fdca26"
             ],
             [
              1,
              "#f0f921"
             ]
            ],
            "type": "histogram2dcontour"
           }
          ],
          "mesh3d": [
           {
            "colorbar": {
             "outlinewidth": 0,
             "ticks": ""
            },
            "type": "mesh3d"
           }
          ],
          "parcoords": [
           {
            "line": {
             "colorbar": {
              "outlinewidth": 0,
              "ticks": ""
             }
            },
            "type": "parcoords"
           }
          ],
          "pie": [
           {
            "automargin": true,
            "type": "pie"
           }
          ],
          "scatter": [
           {
            "fillpattern": {
             "fillmode": "overlay",
             "size": 10,
             "solidity": 0.2
            },
            "type": "scatter"
           }
          ],
          "scatter3d": [
           {
            "line": {
             "colorbar": {
              "outlinewidth": 0,
              "ticks": ""
             }
            },
            "marker": {
             "colorbar": {
              "outlinewidth": 0,
              "ticks": ""
             }
            },
            "type": "scatter3d"
           }
          ],
          "scattercarpet": [
           {
            "marker": {
             "colorbar": {
              "outlinewidth": 0,
              "ticks": ""
             }
            },
            "type": "scattercarpet"
           }
          ],
          "scattergeo": [
           {
            "marker": {
             "colorbar": {
              "outlinewidth": 0,
              "ticks": ""
             }
            },
            "type": "scattergeo"
           }
          ],
          "scattergl": [
           {
            "marker": {
             "colorbar": {
              "outlinewidth": 0,
              "ticks": ""
             }
            },
            "type": "scattergl"
           }
          ],
          "scattermapbox": [
           {
            "marker": {
             "colorbar": {
              "outlinewidth": 0,
              "ticks": ""
             }
            },
            "type": "scattermapbox"
           }
          ],
          "scatterpolar": [
           {
            "marker": {
             "colorbar": {
              "outlinewidth": 0,
              "ticks": ""
             }
            },
            "type": "scatterpolar"
           }
          ],
          "scatterpolargl": [
           {
            "marker": {
             "colorbar": {
              "outlinewidth": 0,
              "ticks": ""
             }
            },
            "type": "scatterpolargl"
           }
          ],
          "scatterternary": [
           {
            "marker": {
             "colorbar": {
              "outlinewidth": 0,
              "ticks": ""
             }
            },
            "type": "scatterternary"
           }
          ],
          "surface": [
           {
            "colorbar": {
             "outlinewidth": 0,
             "ticks": ""
            },
            "colorscale": [
             [
              0,
              "#0d0887"
             ],
             [
              0.1111111111111111,
              "#46039f"
             ],
             [
              0.2222222222222222,
              "#7201a8"
             ],
             [
              0.3333333333333333,
              "#9c179e"
             ],
             [
              0.4444444444444444,
              "#bd3786"
             ],
             [
              0.5555555555555556,
              "#d8576b"
             ],
             [
              0.6666666666666666,
              "#ed7953"
             ],
             [
              0.7777777777777778,
              "#fb9f3a"
             ],
             [
              0.8888888888888888,
              "#fdca26"
             ],
             [
              1,
              "#f0f921"
             ]
            ],
            "type": "surface"
           }
          ],
          "table": [
           {
            "cells": {
             "fill": {
              "color": "#EBF0F8"
             },
             "line": {
              "color": "white"
             }
            },
            "header": {
             "fill": {
              "color": "#C8D4E3"
             },
             "line": {
              "color": "white"
             }
            },
            "type": "table"
           }
          ]
         },
         "layout": {
          "annotationdefaults": {
           "arrowcolor": "#2a3f5f",
           "arrowhead": 0,
           "arrowwidth": 1
          },
          "autotypenumbers": "strict",
          "coloraxis": {
           "colorbar": {
            "outlinewidth": 0,
            "ticks": ""
           }
          },
          "colorscale": {
           "diverging": [
            [
             0,
             "#8e0152"
            ],
            [
             0.1,
             "#c51b7d"
            ],
            [
             0.2,
             "#de77ae"
            ],
            [
             0.3,
             "#f1b6da"
            ],
            [
             0.4,
             "#fde0ef"
            ],
            [
             0.5,
             "#f7f7f7"
            ],
            [
             0.6,
             "#e6f5d0"
            ],
            [
             0.7,
             "#b8e186"
            ],
            [
             0.8,
             "#7fbc41"
            ],
            [
             0.9,
             "#4d9221"
            ],
            [
             1,
             "#276419"
            ]
           ],
           "sequential": [
            [
             0,
             "#0d0887"
            ],
            [
             0.1111111111111111,
             "#46039f"
            ],
            [
             0.2222222222222222,
             "#7201a8"
            ],
            [
             0.3333333333333333,
             "#9c179e"
            ],
            [
             0.4444444444444444,
             "#bd3786"
            ],
            [
             0.5555555555555556,
             "#d8576b"
            ],
            [
             0.6666666666666666,
             "#ed7953"
            ],
            [
             0.7777777777777778,
             "#fb9f3a"
            ],
            [
             0.8888888888888888,
             "#fdca26"
            ],
            [
             1,
             "#f0f921"
            ]
           ],
           "sequentialminus": [
            [
             0,
             "#0d0887"
            ],
            [
             0.1111111111111111,
             "#46039f"
            ],
            [
             0.2222222222222222,
             "#7201a8"
            ],
            [
             0.3333333333333333,
             "#9c179e"
            ],
            [
             0.4444444444444444,
             "#bd3786"
            ],
            [
             0.5555555555555556,
             "#d8576b"
            ],
            [
             0.6666666666666666,
             "#ed7953"
            ],
            [
             0.7777777777777778,
             "#fb9f3a"
            ],
            [
             0.8888888888888888,
             "#fdca26"
            ],
            [
             1,
             "#f0f921"
            ]
           ]
          },
          "colorway": [
           "#636efa",
           "#EF553B",
           "#00cc96",
           "#ab63fa",
           "#FFA15A",
           "#19d3f3",
           "#FF6692",
           "#B6E880",
           "#FF97FF",
           "#FECB52"
          ],
          "font": {
           "color": "#2a3f5f"
          },
          "geo": {
           "bgcolor": "white",
           "lakecolor": "white",
           "landcolor": "#E5ECF6",
           "showlakes": true,
           "showland": true,
           "subunitcolor": "white"
          },
          "hoverlabel": {
           "align": "left"
          },
          "hovermode": "closest",
          "mapbox": {
           "style": "light"
          },
          "paper_bgcolor": "white",
          "plot_bgcolor": "#E5ECF6",
          "polar": {
           "angularaxis": {
            "gridcolor": "white",
            "linecolor": "white",
            "ticks": ""
           },
           "bgcolor": "#E5ECF6",
           "radialaxis": {
            "gridcolor": "white",
            "linecolor": "white",
            "ticks": ""
           }
          },
          "scene": {
           "xaxis": {
            "backgroundcolor": "#E5ECF6",
            "gridcolor": "white",
            "gridwidth": 2,
            "linecolor": "white",
            "showbackground": true,
            "ticks": "",
            "zerolinecolor": "white"
           },
           "yaxis": {
            "backgroundcolor": "#E5ECF6",
            "gridcolor": "white",
            "gridwidth": 2,
            "linecolor": "white",
            "showbackground": true,
            "ticks": "",
            "zerolinecolor": "white"
           },
           "zaxis": {
            "backgroundcolor": "#E5ECF6",
            "gridcolor": "white",
            "gridwidth": 2,
            "linecolor": "white",
            "showbackground": true,
            "ticks": "",
            "zerolinecolor": "white"
           }
          },
          "shapedefaults": {
           "line": {
            "color": "#2a3f5f"
           }
          },
          "ternary": {
           "aaxis": {
            "gridcolor": "white",
            "linecolor": "white",
            "ticks": ""
           },
           "baxis": {
            "gridcolor": "white",
            "linecolor": "white",
            "ticks": ""
           },
           "bgcolor": "#E5ECF6",
           "caxis": {
            "gridcolor": "white",
            "linecolor": "white",
            "ticks": ""
           }
          },
          "title": {
           "x": 0.05
          },
          "xaxis": {
           "automargin": true,
           "gridcolor": "white",
           "linecolor": "white",
           "ticks": "",
           "title": {
            "standoff": 15
           },
           "zerolinecolor": "white",
           "zerolinewidth": 2
          },
          "yaxis": {
           "automargin": true,
           "gridcolor": "white",
           "linecolor": "white",
           "ticks": "",
           "title": {
            "standoff": 15
           },
           "zerolinecolor": "white",
           "zerolinewidth": 2
          }
         }
        },
        "xaxis": {
         "autorange": true,
         "range": [
          -0.538883095200124,
          0.5948083649484978
         ],
         "showgrid": false,
         "type": "linear",
         "zeroline": false
        },
        "yaxis": {
         "autorange": true,
         "range": [
          -1.1211464435694325,
          0.6560124727582765
         ],
         "showgrid": false,
         "type": "linear",
         "zeroline": false
        }
       }
      },
      "image/png": "[encoded data removed]",
      "text/html": [
       "<div>                            <div id=\"4fe53e10-5ff5-4116-8128-0b9028520e2f\" class=\"plotly-graph-div\" style=\"height:525px; width:100%;\"></div>            <script type=\"text/javascript\">                require([\"plotly\"], function(Plotly) {                    window.PLOTLYENV=window.PLOTLYENV || {};                                    if (document.getElementById(\"4fe53e10-5ff5-4116-8128-0b9028520e2f\")) {                    Plotly.newPlot(                        \"4fe53e10-5ff5-4116-8128-0b9028520e2f\",                        [{\"hoverinfo\":\"none\",\"line\":{\"color\":\"#888\",\"width\":2},\"mode\":\"lines\",\"x\":[0.10812772509264658,0.35346688164320417,null],\"y\":[-0.2041711277259885,0.16548294292373614,null],\"type\":\"scatter\"},{\"hoverinfo\":\"none\",\"line\":{\"color\":\"#888\",\"width\":2},\"mode\":\"lines\",\"x\":[0.10812772509264658,-0.15687140529329577,null],\"y\":[-0.2041711277259885,0.14937886023924626,null],\"type\":\"scatter\"},{\"hoverinfo\":\"none\",\"line\":{\"color\":\"#888\",\"width\":2},\"mode\":\"lines\",\"x\":[0.10812772509264658,-0.308936821685463,null],\"y\":[-0.2041711277259885,-0.19521685032741895,null],\"type\":\"scatter\"},{\"hoverinfo\":\"none\",\"line\":{\"color\":\"#888\",\"width\":2},\"mode\":\"lines\",\"x\":[0.10812772509264658,0.34598668183068565,null],\"y\":[-0.2041711277259885,-0.6512926439471923,null],\"type\":\"scatter\"},{\"hoverinfo\":\"none\",\"line\":{\"color\":\"#888\",\"width\":2},\"mode\":\"lines\",\"x\":[0.35346688164320417,0.2199562521735863,null],\"y\":[0.16548294292373614,0.534866029188844,null],\"type\":\"scatter\"},{\"hoverinfo\":\"none\",\"line\":{\"color\":\"#888\",\"width\":2},\"mode\":\"lines\",\"x\":[-0.15687140529329577,-0.4244329523178852,null],\"y\":[0.14937886023924626,0.5000703294024568,null],\"type\":\"scatter\"},{\"hoverinfo\":\"none\",\"line\":{\"color\":\"#888\",\"width\":2},\"mode\":\"lines\",\"x\":[-0.308936821685463,-0.474923807997694,null],\"y\":[-0.19521685032741895,0.16968063815370762,null],\"type\":\"scatter\"},{\"hoverinfo\":\"none\",\"line\":{\"color\":\"#888\",\"width\":2},\"mode\":\"lines\",\"x\":[0.34598668183068565,0.5308490777460678,null],\"y\":[-0.6512926439471923,-1.0,null],\"type\":\"scatter\"},{\"hoverinfo\":\"none\",\"line\":{\"color\":\"#888\",\"width\":2},\"mode\":\"lines\",\"x\":[-0.1932216311918528,0.2199562521735863,null],\"y\":[0.5312018220926087,0.534866029188844,null],\"type\":\"scatter\"},{\"hoverinfo\":\"none\",\"line\":{\"color\":\"#888\",\"width\":2},\"mode\":\"lines\",\"x\":[-0.1932216311918528,-0.4244329523178852,null],\"y\":[0.5312018220926087,0.5000703294024568,null],\"type\":\"scatter\"},{\"hoverinfo\":\"none\",\"line\":{\"color\":\"#888\",\"width\":2},\"mode\":\"lines\",\"x\":[-0.1932216311918528,-0.474923807997694,null],\"y\":[0.5312018220926087,0.16968063815370762,null],\"type\":\"scatter\"},{\"hoverinfo\":\"text\",\"marker\":{\"color\":[1,0,0,0,0,0,1,1,1,1],\"colorbar\":{\"thickness\":15,\"title\":{\"side\":\"right\",\"text\":\"Node Connections\"},\"xanchor\":\"left\"},\"colorscale\":[[0.0,\"rgb(255,255,217)\"],[0.125,\"rgb(237,248,177)\"],[0.25,\"rgb(199,233,180)\"],[0.375,\"rgb(127,205,187)\"],[0.5,\"rgb(65,182,196)\"],[0.625,\"rgb(29,145,192)\"],[0.75,\"rgb(34,94,168)\"],[0.875,\"rgb(37,52,148)\"],[1.0,\"rgb(8,29,88)\"]],\"showscale\":true,\"size\":10},\"mode\":\"markers+text\",\"text\":[\"5\",\"1\",\"2\",\"3\",\"4\",\"0\",\"6\",\"7\",\"8\",\"9\"],\"textposition\":\"top center\",\"x\":[0.10812772509264658,0.35346688164320417,-0.15687140529329577,-0.308936821685463,0.34598668183068565,-0.1932216311918528,0.2199562521735863,-0.4244329523178852,-0.474923807997694,0.5308490777460678],\"y\":[-0.2041711277259885,0.16548294292373614,0.14937886023924626,-0.19521685032741895,-0.6512926439471923,0.5312018220926087,0.534866029188844,0.5000703294024568,0.16968063815370762,-1.0],\"type\":\"scatter\"}],                        {\"hovermode\":\"closest\",\"margin\":{\"b\":0,\"l\":0,\"r\":0,\"t\":0},\"showlegend\":false,\"template\":{\"data\":{\"barpolar\":[{\"marker\":{\"line\":{\"color\":\"#E5ECF6\",\"width\":0.5},\"pattern\":{\"fillmode\":\"overlay\",\"size\":10,\"solidity\":0.2}},\"type\":\"barpolar\"}],\"bar\":[{\"error_x\":{\"color\":\"#2a3f5f\"},\"error_y\":{\"color\":\"#2a3f5f\"},\"marker\":{\"line\":{\"color\":\"#E5ECF6\",\"width\":0.5},\"pattern\":{\"fillmode\":\"overlay\",\"size\":10,\"solidity\":0.2}},\"type\":\"bar\"}],\"carpet\":[{\"aaxis\":{\"endlinecolor\":\"#2a3f5f\",\"gridcolor\":\"white\",\"linecolor\":\"white\",\"minorgridcolor\":\"white\",\"startlinecolor\":\"#2a3f5f\"},\"baxis\":{\"endlinecolor\":\"#2a3f5f\",\"gridcolor\":\"white\",\"linecolor\":\"white\",\"minorgridcolor\":\"white\",\"startlinecolor\":\"#2a3f5f\"},\"type\":\"carpet\"}],\"choropleth\":[{\"colorbar\":{\"outlinewidth\":0,\"ticks\":\"\"},\"type\":\"choropleth\"}],\"contourcarpet\":[{\"colorbar\":{\"outlinewidth\":0,\"ticks\":\"\"},\"type\":\"contourcarpet\"}],\"contour\":[{\"colorbar\":{\"outlinewidth\":0,\"ticks\":\"\"},\"colorscale\":[[0.0,\"#0d0887\"],[0.1111111111111111,\"#46039f\"],[0.2222222222222222,\"#7201a8\"],[0.3333333333333333,\"#9c179e\"],[0.4444444444444444,\"#bd3786\"],[0.5555555555555556,\"#d8576b\"],[0.6666666666666666,\"#ed7953\"],[0.7777777777777778,\"#fb9f3a\"],[0.8888888888888888,\"#fdca26\"],[1.0,\"#f0f921\"]],\"type\":\"contour\"}],\"heatmapgl\":[{\"colorbar\":{\"outlinewidth\":0,\"ticks\":\"\"},\"colorscale\":[[0.0,\"#0d0887\"],[0.1111111111111111,\"#46039f\"],[0.2222222222222222,\"#7201a8\"],[0.3333333333333333,\"#9c179e\"],[0.4444444444444444,\"#bd3786\"],[0.5555555555555556,\"#d8576b\"],[0.6666666666666666,\"#ed7953\"],[0.7777777777777778,\"#fb9f3a\"],[0.8888888888888888,\"#fdca26\"],[1.0,\"#f0f921\"]],\"type\":\"heatmapgl\"}],\"heatmap\":[{\"colorbar\":{\"outlinewidth\":0,\"ticks\":\"\"},\"colorscale\":[[0.0,\"#0d0887\"],[0.1111111111111111,\"#46039f\"],[0.2222222222222222,\"#7201a8\"],[0.3333333333333333,\"#9c179e\"],[0.4444444444444444,\"#bd3786\"],[0.5555555555555556,\"#d8576b\"],[0.6666666666666666,\"#ed7953\"],[0.7777777777777778,\"#fb9f3a\"],[0.8888888888888888,\"#fdca26\"],[1.0,\"#f0f921\"]],\"type\":\"heatmap\"}],\"histogram2dcontour\":[{\"colorbar\":{\"outlinewidth\":0,\"ticks\":\"\"},\"colorscale\":[[0.0,\"#0d0887\"],[0.1111111111111111,\"#46039f\"],[0.2222222222222222,\"#7201a8\"],[0.3333333333333333,\"#9c179e\"],[0.4444444444444444,\"#bd3786\"],[0.5555555555555556,\"#d8576b\"],[0.6666666666666666,\"#ed7953\"],[0.7777777777777778,\"#fb9f3a\"],[0.8888888888888888,\"#fdca26\"],[1.0,\"#f0f921\"]],\"type\":\"histogram2dcontour\"}],\"histogram2d\":[{\"colorbar\":{\"outlinewidth\":0,\"ticks\":\"\"},\"colorscale\":[[0.0,\"#0d0887\"],[0.1111111111111111,\"#46039f\"],[0.2222222222222222,\"#7201a8\"],[0.3333333333333333,\"#9c179e\"],[0.4444444444444444,\"#bd3786\"],[0.5555555555555556,\"#d8576b\"],[0.6666666666666666,\"#ed7953\"],[0.7777777777777778,\"#fb9f3a\"],[0.8888888888888888,\"#fdca26\"],[1.0,\"#f0f921\"]],\"type\":\"histogram2d\"}],\"histogram\":[{\"marker\":{\"pattern\":{\"fillmode\":\"overlay\",\"size\":10,\"solidity\":0.2}},\"type\":\"histogram\"}],\"mesh3d\":[{\"colorbar\":{\"outlinewidth\":0,\"ticks\":\"\"},\"type\":\"mesh3d\"}],\"parcoords\":[{\"line\":{\"colorbar\":{\"outlinewidth\":0,\"ticks\":\"\"}},\"type\":\"parcoords\"}],\"pie\":[{\"automargin\":true,\"type\":\"pie\"}],\"scatter3d\":[{\"line\":{\"colorbar\":{\"outlinewidth\":0,\"ticks\":\"\"}},\"marker\":{\"colorbar\":{\"outlinewidth\":0,\"ticks\":\"\"}},\"type\":\"scatter3d\"}],\"scattercarpet\":[{\"marker\":{\"colorbar\":{\"outlinewidth\":0,\"ticks\":\"\"}},\"type\":\"scattercarpet\"}],\"scattergeo\":[{\"marker\":{\"colorbar\":{\"outlinewidth\":0,\"ticks\":\"\"}},\"type\":\"scattergeo\"}],\"scattergl\":[{\"marker\":{\"colorbar\":{\"outlinewidth\":0,\"ticks\":\"\"}},\"type\":\"scattergl\"}],\"scattermapbox\":[{\"marker\":{\"colorbar\":{\"outlinewidth\":0,\"ticks\":\"\"}},\"type\":\"scattermapbox\"}],\"scatterpolargl\":[{\"marker\":{\"colorbar\":{\"outlinewidth\":0,\"ticks\":\"\"}},\"type\":\"scatterpolargl\"}],\"scatterpolar\":[{\"marker\":{\"colorbar\":{\"outlinewidth\":0,\"ticks\":\"\"}},\"type\":\"scatterpolar\"}],\"scatter\":[{\"fillpattern\":{\"fillmode\":\"overlay\",\"size\":10,\"solidity\":0.2},\"type\":\"scatter\"}],\"scatterternary\":[{\"marker\":{\"colorbar\":{\"outlinewidth\":0,\"ticks\":\"\"}},\"type\":\"scatterternary\"}],\"surface\":[{\"colorbar\":{\"outlinewidth\":0,\"ticks\":\"\"},\"colorscale\":[[0.0,\"#0d0887\"],[0.1111111111111111,\"#46039f\"],[0.2222222222222222,\"#7201a8\"],[0.3333333333333333,\"#9c179e\"],[0.4444444444444444,\"#bd3786\"],[0.5555555555555556,\"#d8576b\"],[0.6666666666666666,\"#ed7953\"],[0.7777777777777778,\"#fb9f3a\"],[0.8888888888888888,\"#fdca26\"],[1.0,\"#f0f921\"]],\"type\":\"surface\"}],\"table\":[{\"cells\":{\"fill\":{\"color\":\"#EBF0F8\"},\"line\":{\"color\":\"white\"}},\"header\":{\"fill\":{\"color\":\"#C8D4E3\"},\"line\":{\"color\":\"white\"}},\"type\":\"table\"}]},\"layout\":{\"annotationdefaults\":{\"arrowcolor\":\"#2a3f5f\",\"arrowhead\":0,\"arrowwidth\":1},\"autotypenumbers\":\"strict\",\"coloraxis\":{\"colorbar\":{\"outlinewidth\":0,\"ticks\":\"\"}},\"colorscale\":{\"diverging\":[[0,\"#8e0152\"],[0.1,\"#c51b7d\"],[0.2,\"#de77ae\"],[0.3,\"#f1b6da\"],[0.4,\"#fde0ef\"],[0.5,\"#f7f7f7\"],[0.6,\"#e6f5d0\"],[0.7,\"#b8e186\"],[0.8,\"#7fbc41\"],[0.9,\"#4d9221\"],[1,\"#276419\"]],\"sequential\":[[0.0,\"#0d0887\"],[0.1111111111111111,\"#46039f\"],[0.2222222222222222,\"#7201a8\"],[0.3333333333333333,\"#9c179e\"],[0.4444444444444444,\"#bd3786\"],[0.5555555555555556,\"#d8576b\"],[0.6666666666666666,\"#ed7953\"],[0.7777777777777778,\"#fb9f3a\"],[0.8888888888888888,\"#fdca26\"],[1.0,\"#f0f921\"]],\"sequentialminus\":[[0.0,\"#0d0887\"],[0.1111111111111111,\"#46039f\"],[0.2222222222222222,\"#7201a8\"],[0.3333333333333333,\"#9c179e\"],[0.4444444444444444,\"#bd3786\"],[0.5555555555555556,\"#d8576b\"],[0.6666666666666666,\"#ed7953\"],[0.7777777777777778,\"#fb9f3a\"],[0.8888888888888888,\"#fdca26\"],[1.0,\"#f0f921\"]]},\"colorway\":[\"#636efa\",\"#EF553B\",\"#00cc96\",\"#ab63fa\",\"#FFA15A\",\"#19d3f3\",\"#FF6692\",\"#B6E880\",\"#FF97FF\",\"#FECB52\"],\"font\":{\"color\":\"#2a3f5f\"},\"geo\":{\"bgcolor\":\"white\",\"lakecolor\":\"white\",\"landcolor\":\"#E5ECF6\",\"showlakes\":true,\"showland\":true,\"subunitcolor\":\"white\"},\"hoverlabel\":{\"align\":\"left\"},\"hovermode\":\"closest\",\"mapbox\":{\"style\":\"light\"},\"paper_bgcolor\":\"white\",\"plot_bgcolor\":\"#E5ECF6\",\"polar\":{\"angularaxis\":{\"gridcolor\":\"white\",\"linecolor\":\"white\",\"ticks\":\"\"},\"bgcolor\":\"#E5ECF6\",\"radialaxis\":{\"gridcolor\":\"white\",\"linecolor\":\"white\",\"ticks\":\"\"}},\"scene\":{\"xaxis\":{\"backgroundcolor\":\"#E5ECF6\",\"gridcolor\":\"white\",\"gridwidth\":2,\"linecolor\":\"white\",\"showbackground\":true,\"ticks\":\"\",\"zerolinecolor\":\"white\"},\"yaxis\":{\"backgroundcolor\":\"#E5ECF6\",\"gridcolor\":\"white\",\"gridwidth\":2,\"linecolor\":\"white\",\"showbackground\":true,\"ticks\":\"\",\"zerolinecolor\":\"white\"},\"zaxis\":{\"backgroundcolor\":\"#E5ECF6\",\"gridcolor\":\"white\",\"gridwidth\":2,\"linecolor\":\"white\",\"showbackground\":true,\"ticks\":\"\",\"zerolinecolor\":\"white\"}},\"shapedefaults\":{\"line\":{\"color\":\"#2a3f5f\"}},\"ternary\":{\"aaxis\":{\"gridcolor\":\"white\",\"linecolor\":\"white\",\"ticks\":\"\"},\"baxis\":{\"gridcolor\":\"white\",\"linecolor\":\"white\",\"ticks\":\"\"},\"bgcolor\":\"#E5ECF6\",\"caxis\":{\"gridcolor\":\"white\",\"linecolor\":\"white\",\"ticks\":\"\"}},\"title\":{\"x\":0.05},\"xaxis\":{\"automargin\":true,\"gridcolor\":\"white\",\"linecolor\":\"white\",\"ticks\":\"\",\"title\":{\"standoff\":15},\"zerolinecolor\":\"white\",\"zerolinewidth\":2},\"yaxis\":{\"automargin\":true,\"gridcolor\":\"white\",\"linecolor\":\"white\",\"ticks\":\"\",\"title\":{\"standoff\":15},\"zerolinecolor\":\"white\",\"zerolinewidth\":2}}},\"xaxis\":{\"showgrid\":false,\"zeroline\":false},\"yaxis\":{\"showgrid\":false,\"zeroline\":false}},                        {\"responsive\": true}                    ).then(function(){\n",
       "                            \n",
       "var gd = document.getElementById('4fe53e10-5ff5-4116-8128-0b9028520e2f');\n",
       "var x = new MutationObserver(function (mutations, observer) {{\n",
       "        var display = window.getComputedStyle(gd).display;\n",
       "        if (!display || display === 'none') {{\n",
       "            console.log([gd, 'removed!']);\n",
       "            Plotly.purge(gd);\n",
       "            observer.disconnect();\n",
       "        }}\n",
       "}});\n",
       "\n",
       "// Listen for the removal of the full notebook cells\n",
       "var notebookContainer = gd.closest('#notebook-container');\n",
       "if (notebookContainer) {{\n",
       "    x.observe(notebookContainer, {childList: true});\n",
       "}}\n",
       "\n",
       "// Listen for the clearing of the current output cell\n",
       "var outputEl = gd.closest('.output');\n",
       "if (outputEl) {{\n",
       "    x.observe(outputEl, {childList: true});\n",
       "}}\n",
       "\n",
       "                        })                };                });            </script>        </div>"
      ]
     },
     "metadata": {},
     "output_type": "display_data"
    }
   ],
   "source": [
    "import plotly.graph_objs as go\n",
    "import networkx as nx\n",
    "from plotly.offline import init_notebook_mode, iplot\n",
    "\n",
    "init_notebook_mode(connected=True)\n",
    "\n",
    "# List of edges (this can change)\n",
    "edges = edge_list\n",
    "colours = [0,0,0,0,0,1,1,1,1,1]\n",
    "\n",
    "# Create a graph using NetworkX\n",
    "G = nx.Graph()\n",
    "G.add_edges_from(edges)\n",
    "\n",
    "# Use NetworkX to automatically determine positions of nodes\n",
    "pos = nx.spring_layout(G)\n",
    "\n",
    "# Extract the nodes and edges for Plotly\n",
    "edge_trace = []\n",
    "for edge in G.edges():\n",
    "    x0, y0 = pos[edge[0]]\n",
    "    x1, y1 = pos[edge[1]]\n",
    "    edge_trace.append(go.Scatter(\n",
    "        x=[x0, x1, None],\n",
    "        y=[y0, y1, None],\n",
    "        line=dict(width=2, color='#888'),\n",
    "        hoverinfo='none',\n",
    "        mode='lines'\n",
    "    ))\n",
    "\n",
    "# Extract the node positions and colors based on B\n",
    "node_x = [pos[node][0] for node in G.nodes()]\n",
    "node_y = [pos[node][1] for node in G.nodes()]\n",
    "node_text = [str(node) for node in G.nodes()]\n",
    "\n",
    "# Ensure B values match the order of nodes\n",
    "node_color = [colours[node] for node in G.nodes()]\n",
    "\n",
    "node_trace = go.Scatter(\n",
    "    x=[pos[node][0] for node in G.nodes()],\n",
    "    y=[pos[node][1] for node in G.nodes()],\n",
    "    text=[str(node) for node in G.nodes()],\n",
    "    mode='markers+text',\n",
    "    textposition='top center',\n",
    "    hoverinfo='text',\n",
    "    marker=dict(\n",
    "        showscale=True,\n",
    "        colorscale='YlGnBu',\n",
    "        size=10,\n",
    "        color=node_color,\n",
    "        colorbar=dict(\n",
    "            thickness=15,\n",
    "            title='Node Connections',\n",
    "            xanchor='left',\n",
    "            titleside='right'\n",
    "        ),\n",
    "    )\n",
    ")\n",
    "\n",
    "layout = go.Layout(\n",
    "    showlegend=False,\n",
    "    hovermode='closest',\n",
    "    margin=dict(b=0, l=0, r=0, t=0),\n",
    "    xaxis=dict(showgrid=False, zeroline=False),\n",
    "    yaxis=dict(showgrid=False, zeroline=False),\n",
    ")\n",
    "\n",
    "fig = go.Figure(data=edge_trace + [node_trace], layout=layout)\n",
    "iplot(fig)\n"
   ]
  },
  {
   "cell_type": "code",
   "execution_count": 16,
   "id": "0a0c222d-0367-4767-adaa-ebd16f653b0f",
   "metadata": {},
   "outputs": [
    {
     "data": {
      "text/html": [
       "        <script type=\"text/javascript\">\n",
       "        window.PlotlyConfig = {MathJaxConfig: 'local'};\n",
       "        if (window.MathJax && window.MathJax.Hub && window.MathJax.Hub.Config) {window.MathJax.Hub.Config({SVG: {font: \"STIX-Web\"}});}\n",
       "        if (typeof require !== 'undefined') {\n",
       "        require.undef(\"plotly\");\n",
       "        requirejs.config({\n",
       "            paths: {\n",
       "                'plotly': ['https://cdn.plot.ly/plotly-2.34.0.min']\n",
       "            }\n",
       "        });\n",
       "        require(['plotly'], function(Plotly) {\n",
       "            window._Plotly = Plotly;\n",
       "        });\n",
       "        }\n",
       "        </script>\n",
       "        "
      ]
     },
     "metadata": {},
     "output_type": "display_data"
    },
    {
     "data": {
      "application/vnd.plotly.v1+json": {
       "config": {
        "linkText": "Export to plot.ly",
        "plotlyServerURL": "https://plot.ly",
        "showLink": false
       },
       "data": [
        {
         "hoverinfo": "none",
         "line": {
          "color": "#888",
          "width": 2
         },
         "mode": "lines",
         "type": "scatter",
         "x": [
          -0.6322815429706384,
          0.22803540913505493,
          null
         ],
         "y": [
          0.8963698265993094,
          0.7428195373598349,
          null
         ]
        },
        {
         "hoverinfo": "none",
         "line": {
          "color": "#888",
          "width": 2
         },
         "mode": "lines",
         "type": "scatter",
         "x": [
          -0.6322815429706384,
          -0.04820350684316548,
          null
         ],
         "y": [
          0.8963698265993094,
          0.7098694932146151,
          null
         ]
        },
        {
         "hoverinfo": "none",
         "line": {
          "color": "#888",
          "width": 2
         },
         "mode": "lines",
         "type": "scatter",
         "x": [
          -0.6322815429706384,
          -0.16924612301918487,
          null
         ],
         "y": [
          0.8963698265993094,
          0.4290146825550163,
          null
         ]
        },
        {
         "hoverinfo": "none",
         "line": {
          "color": "#888",
          "width": 2
         },
         "mode": "lines",
         "type": "scatter",
         "x": [
          -0.6322815429706384,
          -0.5356705281652924,
          null
         ],
         "y": [
          0.8963698265993094,
          0.4654912652098567,
          null
         ]
        },
        {
         "hoverinfo": "none",
         "line": {
          "color": "#888",
          "width": 2
         },
         "mode": "lines",
         "type": "scatter",
         "x": [
          -0.6322815429706384,
          -0.47993569670143393,
          null
         ],
         "y": [
          0.8963698265993094,
          0.2741254479581376,
          null
         ]
        },
        {
         "hoverinfo": "none",
         "line": {
          "color": "#888",
          "width": 2
         },
         "mode": "lines",
         "type": "scatter",
         "x": [
          -0.6322815429706384,
          -0.4491929074852744,
          null
         ],
         "y": [
          0.8963698265993094,
          0.016777651467562243,
          null
         ]
        },
        {
         "hoverinfo": "none",
         "line": {
          "color": "#888",
          "width": 2
         },
         "mode": "lines",
         "type": "scatter",
         "x": [
          -0.6322815429706384,
          0.13559764861571055,
          null
         ],
         "y": [
          0.8963698265993094,
          0.1487690260573683,
          null
         ]
        },
        {
         "hoverinfo": "none",
         "line": {
          "color": "#888",
          "width": 2
         },
         "mode": "lines",
         "type": "scatter",
         "x": [
          -0.6322815429706384,
          -0.6175825019745628,
          null
         ],
         "y": [
          0.8963698265993094,
          0.02082924849558535,
          null
         ]
        },
        {
         "hoverinfo": "none",
         "line": {
          "color": "#888",
          "width": 2
         },
         "mode": "lines",
         "type": "scatter",
         "x": [
          0.22803540913505493,
          0.4328493801987771,
          null
         ],
         "y": [
          0.7428195373598349,
          0.5538946361907251,
          null
         ]
        },
        {
         "hoverinfo": "none",
         "line": {
          "color": "#888",
          "width": 2
         },
         "mode": "lines",
         "type": "scatter",
         "x": [
          0.22803540913505493,
          -0.04820350684316548,
          null
         ],
         "y": [
          0.7428195373598349,
          0.7098694932146151,
          null
         ]
        },
        {
         "hoverinfo": "none",
         "line": {
          "color": "#888",
          "width": 2
         },
         "mode": "lines",
         "type": "scatter",
         "x": [
          0.22803540913505493,
          0.1546617066266627,
          null
         ],
         "y": [
          0.7428195373598349,
          -0.02762495726359837,
          null
         ]
        },
        {
         "hoverinfo": "none",
         "line": {
          "color": "#888",
          "width": 2
         },
         "mode": "lines",
         "type": "scatter",
         "x": [
          0.22803540913505493,
          -0.16924612301918487,
          null
         ],
         "y": [
          0.7428195373598349,
          0.4290146825550163,
          null
         ]
        },
        {
         "hoverinfo": "none",
         "line": {
          "color": "#888",
          "width": 2
         },
         "mode": "lines",
         "type": "scatter",
         "x": [
          0.22803540913505493,
          -0.012023071840863094,
          null
         ],
         "y": [
          0.7428195373598349,
          0.04776551965145535,
          null
         ]
        },
        {
         "hoverinfo": "none",
         "line": {
          "color": "#888",
          "width": 2
         },
         "mode": "lines",
         "type": "scatter",
         "x": [
          0.22803540913505493,
          0.051086209880543645,
          null
         ],
         "y": [
          0.7428195373598349,
          0.429616119670276,
          null
         ]
        },
        {
         "hoverinfo": "none",
         "line": {
          "color": "#888",
          "width": 2
         },
         "mode": "lines",
         "type": "scatter",
         "x": [
          0.22803540913505493,
          0.8826853304385002,
          null
         ],
         "y": [
          0.7428195373598349,
          0.3629184598043928,
          null
         ]
        },
        {
         "hoverinfo": "none",
         "line": {
          "color": "#888",
          "width": 2
         },
         "mode": "lines",
         "type": "scatter",
         "x": [
          0.22803540913505493,
          -0.3410151930485177,
          null
         ],
         "y": [
          0.7428195373598349,
          -0.38147315044409735,
          null
         ]
        },
        {
         "hoverinfo": "none",
         "line": {
          "color": "#888",
          "width": 2
         },
         "mode": "lines",
         "type": "scatter",
         "x": [
          0.22803540913505493,
          -0.19331327332060397,
          null
         ],
         "y": [
          0.7428195373598349,
          0.22614374347289604,
          null
         ]
        },
        {
         "hoverinfo": "none",
         "line": {
          "color": "#888",
          "width": 2
         },
         "mode": "lines",
         "type": "scatter",
         "x": [
          0.22803540913505493,
          -0.05170838622786239,
          null
         ],
         "y": [
          0.7428195373598349,
          0.19591957026207413,
          null
         ]
        },
        {
         "hoverinfo": "none",
         "line": {
          "color": "#888",
          "width": 2
         },
         "mode": "lines",
         "type": "scatter",
         "x": [
          0.22803540913505493,
          -0.26022196376434464,
          null
         ],
         "y": [
          0.7428195373598349,
          0.7337976474168793,
          null
         ]
        },
        {
         "hoverinfo": "none",
         "line": {
          "color": "#888",
          "width": 2
         },
         "mode": "lines",
         "type": "scatter",
         "x": [
          0.22803540913505493,
          0.8345557310971147,
          null
         ],
         "y": [
          0.7428195373598349,
          0.1634537308095975,
          null
         ]
        },
        {
         "hoverinfo": "none",
         "line": {
          "color": "#888",
          "width": 2
         },
         "mode": "lines",
         "type": "scatter",
         "x": [
          0.22803540913505493,
          0.13559764861571055,
          null
         ],
         "y": [
          0.7428195373598349,
          0.1487690260573683,
          null
         ]
        },
        {
         "hoverinfo": "none",
         "line": {
          "color": "#888",
          "width": 2
         },
         "mode": "lines",
         "type": "scatter",
         "x": [
          -0.04820350684316548,
          0.5358652409370825,
          null
         ],
         "y": [
          0.7098694932146151,
          -0.15887005322720396,
          null
         ]
        },
        {
         "hoverinfo": "none",
         "line": {
          "color": "#888",
          "width": 2
         },
         "mode": "lines",
         "type": "scatter",
         "x": [
          -0.04820350684316548,
          0.1546617066266627,
          null
         ],
         "y": [
          0.7098694932146151,
          -0.02762495726359837,
          null
         ]
        },
        {
         "hoverinfo": "none",
         "line": {
          "color": "#888",
          "width": 2
         },
         "mode": "lines",
         "type": "scatter",
         "x": [
          -0.04820350684316548,
          -0.6875502047544992,
          null
         ],
         "y": [
          0.7098694932146151,
          0.4155163495959592,
          null
         ]
        },
        {
         "hoverinfo": "none",
         "line": {
          "color": "#888",
          "width": 2
         },
         "mode": "lines",
         "type": "scatter",
         "x": [
          -0.04820350684316548,
          0.8826853304385002,
          null
         ],
         "y": [
          0.7098694932146151,
          0.3629184598043928,
          null
         ]
        },
        {
         "hoverinfo": "none",
         "line": {
          "color": "#888",
          "width": 2
         },
         "mode": "lines",
         "type": "scatter",
         "x": [
          -0.04820350684316548,
          -0.24813582040557597,
          null
         ],
         "y": [
          0.7098694932146151,
          -0.027684807213380992,
          null
         ]
        },
        {
         "hoverinfo": "none",
         "line": {
          "color": "#888",
          "width": 2
         },
         "mode": "lines",
         "type": "scatter",
         "x": [
          -0.04820350684316548,
          -0.3750546815683805,
          null
         ],
         "y": [
          0.7098694932146151,
          0.16233917125408356,
          null
         ]
        },
        {
         "hoverinfo": "none",
         "line": {
          "color": "#888",
          "width": 2
         },
         "mode": "lines",
         "type": "scatter",
         "x": [
          -0.04820350684316548,
          -0.47993569670143393,
          null
         ],
         "y": [
          0.7098694932146151,
          0.2741254479581376,
          null
         ]
        },
        {
         "hoverinfo": "none",
         "line": {
          "color": "#888",
          "width": 2
         },
         "mode": "lines",
         "type": "scatter",
         "x": [
          -0.04820350684316548,
          -0.4491929074852744,
          null
         ],
         "y": [
          0.7098694932146151,
          0.016777651467562243,
          null
         ]
        },
        {
         "hoverinfo": "none",
         "line": {
          "color": "#888",
          "width": 2
         },
         "mode": "lines",
         "type": "scatter",
         "x": [
          -0.04820350684316548,
          0.13559764861571055,
          null
         ],
         "y": [
          0.7098694932146151,
          0.1487690260573683,
          null
         ]
        },
        {
         "hoverinfo": "none",
         "line": {
          "color": "#888",
          "width": 2
         },
         "mode": "lines",
         "type": "scatter",
         "x": [
          -0.04820350684316548,
          0.5884819783781304,
          null
         ],
         "y": [
          0.7098694932146151,
          0.4067043576839656,
          null
         ]
        },
        {
         "hoverinfo": "none",
         "line": {
          "color": "#888",
          "width": 2
         },
         "mode": "lines",
         "type": "scatter",
         "x": [
          -0.04820350684316548,
          -0.6175825019745628,
          null
         ],
         "y": [
          0.7098694932146151,
          0.02082924849558535,
          null
         ]
        },
        {
         "hoverinfo": "none",
         "line": {
          "color": "#888",
          "width": 2
         },
         "mode": "lines",
         "type": "scatter",
         "x": [
          -0.16924612301918487,
          0.051086209880543645,
          null
         ],
         "y": [
          0.4290146825550163,
          0.429616119670276,
          null
         ]
        },
        {
         "hoverinfo": "none",
         "line": {
          "color": "#888",
          "width": 2
         },
         "mode": "lines",
         "type": "scatter",
         "x": [
          -0.16924612301918487,
          0.3821023896995385,
          null
         ],
         "y": [
          0.4290146825550163,
          -0.11641047261347395,
          null
         ]
        },
        {
         "hoverinfo": "none",
         "line": {
          "color": "#888",
          "width": 2
         },
         "mode": "lines",
         "type": "scatter",
         "x": [
          -0.16924612301918487,
          -0.36305421254688675,
          null
         ],
         "y": [
          0.4290146825550163,
          -0.20177855741627992,
          null
         ]
        },
        {
         "hoverinfo": "none",
         "line": {
          "color": "#888",
          "width": 2
         },
         "mode": "lines",
         "type": "scatter",
         "x": [
          -0.16924612301918487,
          0.26445791221340403,
          null
         ],
         "y": [
          0.4290146825550163,
          -0.11924353859101533,
          null
         ]
        },
        {
         "hoverinfo": "none",
         "line": {
          "color": "#888",
          "width": 2
         },
         "mode": "lines",
         "type": "scatter",
         "x": [
          -0.16924612301918487,
          0.18572118500273385,
          null
         ],
         "y": [
          0.4290146825550163,
          -0.6380760364383304,
          null
         ]
        },
        {
         "hoverinfo": "none",
         "line": {
          "color": "#888",
          "width": 2
         },
         "mode": "lines",
         "type": "scatter",
         "x": [
          -0.16924612301918487,
          -0.3003383113451329,
          null
         ],
         "y": [
          0.4290146825550163,
          0.5975243321559691,
          null
         ]
        },
        {
         "hoverinfo": "none",
         "line": {
          "color": "#888",
          "width": 2
         },
         "mode": "lines",
         "type": "scatter",
         "x": [
          -0.16924612301918487,
          0.2477290325527497,
          null
         ],
         "y": [
          0.4290146825550163,
          0.26681275750771183,
          null
         ]
        },
        {
         "hoverinfo": "none",
         "line": {
          "color": "#888",
          "width": 2
         },
         "mode": "lines",
         "type": "scatter",
         "x": [
          -0.16924612301918487,
          -0.24813582040557597,
          null
         ],
         "y": [
          0.4290146825550163,
          -0.027684807213380992,
          null
         ]
        },
        {
         "hoverinfo": "none",
         "line": {
          "color": "#888",
          "width": 2
         },
         "mode": "lines",
         "type": "scatter",
         "x": [
          -0.16924612301918487,
          0.25981367419235923,
          null
         ],
         "y": [
          0.4290146825550163,
          0.44179898537270834,
          null
         ]
        },
        {
         "hoverinfo": "none",
         "line": {
          "color": "#888",
          "width": 2
         },
         "mode": "lines",
         "type": "scatter",
         "x": [
          -0.16924612301918487,
          -0.16200467070209576,
          null
         ],
         "y": [
          0.4290146825550163,
          -0.334067522266607,
          null
         ]
        },
        {
         "hoverinfo": "none",
         "line": {
          "color": "#888",
          "width": 2
         },
         "mode": "lines",
         "type": "scatter",
         "x": [
          -0.16924612301918487,
          -0.4491929074852744,
          null
         ],
         "y": [
          0.4290146825550163,
          0.016777651467562243,
          null
         ]
        },
        {
         "hoverinfo": "none",
         "line": {
          "color": "#888",
          "width": 2
         },
         "mode": "lines",
         "type": "scatter",
         "x": [
          -0.16924612301918487,
          0.33140291339451944,
          null
         ],
         "y": [
          0.4290146825550163,
          0.11951282082881991,
          null
         ]
        },
        {
         "hoverinfo": "none",
         "line": {
          "color": "#888",
          "width": 2
         },
         "mode": "lines",
         "type": "scatter",
         "x": [
          -0.5356705281652924,
          0.4328493801987771,
          null
         ],
         "y": [
          0.4654912652098567,
          0.5538946361907251,
          null
         ]
        },
        {
         "hoverinfo": "none",
         "line": {
          "color": "#888",
          "width": 2
         },
         "mode": "lines",
         "type": "scatter",
         "x": [
          -0.5356705281652924,
          -0.012023071840863094,
          null
         ],
         "y": [
          0.4654912652098567,
          0.04776551965145535,
          null
         ]
        },
        {
         "hoverinfo": "none",
         "line": {
          "color": "#888",
          "width": 2
         },
         "mode": "lines",
         "type": "scatter",
         "x": [
          -0.5356705281652924,
          -0.36305421254688675,
          null
         ],
         "y": [
          0.4654912652098567,
          -0.20177855741627992,
          null
         ]
        },
        {
         "hoverinfo": "none",
         "line": {
          "color": "#888",
          "width": 2
         },
         "mode": "lines",
         "type": "scatter",
         "x": [
          -0.5356705281652924,
          -0.5124719055916189,
          null
         ],
         "y": [
          0.4654912652098567,
          -0.29831800531790625,
          null
         ]
        },
        {
         "hoverinfo": "none",
         "line": {
          "color": "#888",
          "width": 2
         },
         "mode": "lines",
         "type": "scatter",
         "x": [
          -0.5356705281652924,
          0.26445791221340403,
          null
         ],
         "y": [
          0.4654912652098567,
          -0.11924353859101533,
          null
         ]
        },
        {
         "hoverinfo": "none",
         "line": {
          "color": "#888",
          "width": 2
         },
         "mode": "lines",
         "type": "scatter",
         "x": [
          -0.5356705281652924,
          -0.3410151930485177,
          null
         ],
         "y": [
          0.4654912652098567,
          -0.38147315044409735,
          null
         ]
        },
        {
         "hoverinfo": "none",
         "line": {
          "color": "#888",
          "width": 2
         },
         "mode": "lines",
         "type": "scatter",
         "x": [
          -0.5356705281652924,
          0.2477290325527497,
          null
         ],
         "y": [
          0.4654912652098567,
          0.26681275750771183,
          null
         ]
        },
        {
         "hoverinfo": "none",
         "line": {
          "color": "#888",
          "width": 2
         },
         "mode": "lines",
         "type": "scatter",
         "x": [
          -0.5356705281652924,
          -0.3750546815683805,
          null
         ],
         "y": [
          0.4654912652098567,
          0.16233917125408356,
          null
         ]
        },
        {
         "hoverinfo": "none",
         "line": {
          "color": "#888",
          "width": 2
         },
         "mode": "lines",
         "type": "scatter",
         "x": [
          -0.5356705281652924,
          0.057315897081171144,
          null
         ],
         "y": [
          0.4654912652098567,
          0.5771478257025457,
          null
         ]
        },
        {
         "hoverinfo": "none",
         "line": {
          "color": "#888",
          "width": 2
         },
         "mode": "lines",
         "type": "scatter",
         "x": [
          -0.5356705281652924,
          -0.8451529582190194,
          null
         ],
         "y": [
          0.4654912652098567,
          -0.19462670090631123,
          null
         ]
        },
        {
         "hoverinfo": "none",
         "line": {
          "color": "#888",
          "width": 2
         },
         "mode": "lines",
         "type": "scatter",
         "x": [
          -0.5356705281652924,
          -0.47993569670143393,
          null
         ],
         "y": [
          0.4654912652098567,
          0.2741254479581376,
          null
         ]
        },
        {
         "hoverinfo": "none",
         "line": {
          "color": "#888",
          "width": 2
         },
         "mode": "lines",
         "type": "scatter",
         "x": [
          -0.47993569670143393,
          0.4328493801987771,
          null
         ],
         "y": [
          0.2741254479581376,
          0.5538946361907251,
          null
         ]
        },
        {
         "hoverinfo": "none",
         "line": {
          "color": "#888",
          "width": 2
         },
         "mode": "lines",
         "type": "scatter",
         "x": [
          -0.47993569670143393,
          -0.6875502047544992,
          null
         ],
         "y": [
          0.2741254479581376,
          0.4155163495959592,
          null
         ]
        },
        {
         "hoverinfo": "none",
         "line": {
          "color": "#888",
          "width": 2
         },
         "mode": "lines",
         "type": "scatter",
         "x": [
          -0.47993569670143393,
          -0.5124719055916189,
          null
         ],
         "y": [
          0.2741254479581376,
          -0.29831800531790625,
          null
         ]
        },
        {
         "hoverinfo": "none",
         "line": {
          "color": "#888",
          "width": 2
         },
         "mode": "lines",
         "type": "scatter",
         "x": [
          -0.47993569670143393,
          0.26445791221340403,
          null
         ],
         "y": [
          0.2741254479581376,
          -0.11924353859101533,
          null
         ]
        },
        {
         "hoverinfo": "none",
         "line": {
          "color": "#888",
          "width": 2
         },
         "mode": "lines",
         "type": "scatter",
         "x": [
          -0.47993569670143393,
          -0.6263266874906048,
          null
         ],
         "y": [
          0.2741254479581376,
          -0.5877336887740254,
          null
         ]
        },
        {
         "hoverinfo": "none",
         "line": {
          "color": "#888",
          "width": 2
         },
         "mode": "lines",
         "type": "scatter",
         "x": [
          -0.47993569670143393,
          -0.2590082503788941,
          null
         ],
         "y": [
          0.2741254479581376,
          -0.554361776460813,
          null
         ]
        },
        {
         "hoverinfo": "none",
         "line": {
          "color": "#888",
          "width": 2
         },
         "mode": "lines",
         "type": "scatter",
         "x": [
          -0.47993569670143393,
          -0.24813582040557597,
          null
         ],
         "y": [
          0.2741254479581376,
          -0.027684807213380992,
          null
         ]
        },
        {
         "hoverinfo": "none",
         "line": {
          "color": "#888",
          "width": 2
         },
         "mode": "lines",
         "type": "scatter",
         "x": [
          -0.47993569670143393,
          -0.05170838622786239,
          null
         ],
         "y": [
          0.2741254479581376,
          0.19591957026207413,
          null
         ]
        },
        {
         "hoverinfo": "none",
         "line": {
          "color": "#888",
          "width": 2
         },
         "mode": "lines",
         "type": "scatter",
         "x": [
          -0.47993569670143393,
          -0.26022196376434464,
          null
         ],
         "y": [
          0.2741254479581376,
          0.7337976474168793,
          null
         ]
        },
        {
         "hoverinfo": "none",
         "line": {
          "color": "#888",
          "width": 2
         },
         "mode": "lines",
         "type": "scatter",
         "x": [
          -0.47993569670143393,
          0.057315897081171144,
          null
         ],
         "y": [
          0.2741254479581376,
          0.5771478257025457,
          null
         ]
        },
        {
         "hoverinfo": "none",
         "line": {
          "color": "#888",
          "width": 2
         },
         "mode": "lines",
         "type": "scatter",
         "x": [
          -0.47993569670143393,
          -0.16200467070209576,
          null
         ],
         "y": [
          0.2741254479581376,
          -0.334067522266607,
          null
         ]
        },
        {
         "hoverinfo": "none",
         "line": {
          "color": "#888",
          "width": 2
         },
         "mode": "lines",
         "type": "scatter",
         "x": [
          -0.47993569670143393,
          0.13535534904928712,
          null
         ],
         "y": [
          0.2741254479581376,
          -0.40464069833633287,
          null
         ]
        },
        {
         "hoverinfo": "none",
         "line": {
          "color": "#888",
          "width": 2
         },
         "mode": "lines",
         "type": "scatter",
         "x": [
          -0.47993569670143393,
          0.33140291339451944,
          null
         ],
         "y": [
          0.2741254479581376,
          0.11951282082881991,
          null
         ]
        },
        {
         "hoverinfo": "none",
         "line": {
          "color": "#888",
          "width": 2
         },
         "mode": "lines",
         "type": "scatter",
         "x": [
          -0.47993569670143393,
          -0.6175825019745628,
          null
         ],
         "y": [
          0.2741254479581376,
          0.02082924849558535,
          null
         ]
        },
        {
         "hoverinfo": "none",
         "line": {
          "color": "#888",
          "width": 2
         },
         "mode": "lines",
         "type": "scatter",
         "x": [
          -0.4491929074852744,
          0.4523977326688961,
          null
         ],
         "y": [
          0.016777651467562243,
          -0.6253299123351034,
          null
         ]
        },
        {
         "hoverinfo": "none",
         "line": {
          "color": "#888",
          "width": 2
         },
         "mode": "lines",
         "type": "scatter",
         "x": [
          -0.4491929074852744,
          -0.11567764464898388,
          null
         ],
         "y": [
          0.016777651467562243,
          -0.16095911653946665,
          null
         ]
        },
        {
         "hoverinfo": "none",
         "line": {
          "color": "#888",
          "width": 2
         },
         "mode": "lines",
         "type": "scatter",
         "x": [
          -0.4491929074852744,
          -0.012023071840863094,
          null
         ],
         "y": [
          0.016777651467562243,
          0.04776551965145535,
          null
         ]
        },
        {
         "hoverinfo": "none",
         "line": {
          "color": "#888",
          "width": 2
         },
         "mode": "lines",
         "type": "scatter",
         "x": [
          -0.4491929074852744,
          0.0551996226154287,
          null
         ],
         "y": [
          0.016777651467562243,
          -0.26678928704315813,
          null
         ]
        },
        {
         "hoverinfo": "none",
         "line": {
          "color": "#888",
          "width": 2
         },
         "mode": "lines",
         "type": "scatter",
         "x": [
          -0.4491929074852744,
          -0.5124719055916189,
          null
         ],
         "y": [
          0.016777651467562243,
          -0.29831800531790625,
          null
         ]
        },
        {
         "hoverinfo": "none",
         "line": {
          "color": "#888",
          "width": 2
         },
         "mode": "lines",
         "type": "scatter",
         "x": [
          -0.4491929074852744,
          -0.6263266874906048,
          null
         ],
         "y": [
          0.016777651467562243,
          -0.5877336887740254,
          null
         ]
        },
        {
         "hoverinfo": "none",
         "line": {
          "color": "#888",
          "width": 2
         },
         "mode": "lines",
         "type": "scatter",
         "x": [
          -0.4491929074852744,
          -0.3003383113451329,
          null
         ],
         "y": [
          0.016777651467562243,
          0.5975243321559691,
          null
         ]
        },
        {
         "hoverinfo": "none",
         "line": {
          "color": "#888",
          "width": 2
         },
         "mode": "lines",
         "type": "scatter",
         "x": [
          -0.4491929074852744,
          -0.14858186469163698,
          null
         ],
         "y": [
          0.016777651467562243,
          -0.7037913023776443,
          null
         ]
        },
        {
         "hoverinfo": "none",
         "line": {
          "color": "#888",
          "width": 2
         },
         "mode": "lines",
         "type": "scatter",
         "x": [
          -0.4491929074852744,
          -0.19331327332060397,
          null
         ],
         "y": [
          0.016777651467562243,
          0.22614374347289604,
          null
         ]
        },
        {
         "hoverinfo": "none",
         "line": {
          "color": "#888",
          "width": 2
         },
         "mode": "lines",
         "type": "scatter",
         "x": [
          -0.4491929074852744,
          0.25981367419235923,
          null
         ],
         "y": [
          0.016777651467562243,
          0.44179898537270834,
          null
         ]
        },
        {
         "hoverinfo": "none",
         "line": {
          "color": "#888",
          "width": 2
         },
         "mode": "lines",
         "type": "scatter",
         "x": [
          -0.4491929074852744,
          -0.3750546815683805,
          null
         ],
         "y": [
          0.016777651467562243,
          0.16233917125408356,
          null
         ]
        },
        {
         "hoverinfo": "none",
         "line": {
          "color": "#888",
          "width": 2
         },
         "mode": "lines",
         "type": "scatter",
         "x": [
          -0.4491929074852744,
          0.13535534904928712,
          null
         ],
         "y": [
          0.016777651467562243,
          -0.40464069833633287,
          null
         ]
        },
        {
         "hoverinfo": "none",
         "line": {
          "color": "#888",
          "width": 2
         },
         "mode": "lines",
         "type": "scatter",
         "x": [
          -0.4491929074852744,
          0.33140291339451944,
          null
         ],
         "y": [
          0.016777651467562243,
          0.11951282082881991,
          null
         ]
        },
        {
         "hoverinfo": "none",
         "line": {
          "color": "#888",
          "width": 2
         },
         "mode": "lines",
         "type": "scatter",
         "x": [
          0.13559764861571055,
          0.5358652409370825,
          null
         ],
         "y": [
          0.1487690260573683,
          -0.15887005322720396,
          null
         ]
        },
        {
         "hoverinfo": "none",
         "line": {
          "color": "#888",
          "width": 2
         },
         "mode": "lines",
         "type": "scatter",
         "x": [
          0.13559764861571055,
          0.4523977326688961,
          null
         ],
         "y": [
          0.1487690260573683,
          -0.6253299123351034,
          null
         ]
        },
        {
         "hoverinfo": "none",
         "line": {
          "color": "#888",
          "width": 2
         },
         "mode": "lines",
         "type": "scatter",
         "x": [
          0.13559764861571055,
          -0.11567764464898388,
          null
         ],
         "y": [
          0.1487690260573683,
          -0.16095911653946665,
          null
         ]
        },
        {
         "hoverinfo": "none",
         "line": {
          "color": "#888",
          "width": 2
         },
         "mode": "lines",
         "type": "scatter",
         "x": [
          0.13559764861571055,
          0.0551996226154287,
          null
         ],
         "y": [
          0.1487690260573683,
          -0.26678928704315813,
          null
         ]
        },
        {
         "hoverinfo": "none",
         "line": {
          "color": "#888",
          "width": 2
         },
         "mode": "lines",
         "type": "scatter",
         "x": [
          0.13559764861571055,
          -0.36305421254688675,
          null
         ],
         "y": [
          0.1487690260573683,
          -0.20177855741627992,
          null
         ]
        },
        {
         "hoverinfo": "none",
         "line": {
          "color": "#888",
          "width": 2
         },
         "mode": "lines",
         "type": "scatter",
         "x": [
          0.13559764861571055,
          -0.5124719055916189,
          null
         ],
         "y": [
          0.1487690260573683,
          -0.29831800531790625,
          null
         ]
        },
        {
         "hoverinfo": "none",
         "line": {
          "color": "#888",
          "width": 2
         },
         "mode": "lines",
         "type": "scatter",
         "x": [
          0.13559764861571055,
          0.868650949264276,
          null
         ],
         "y": [
          0.1487690260573683,
          -0.10444132998223317,
          null
         ]
        },
        {
         "hoverinfo": "none",
         "line": {
          "color": "#888",
          "width": 2
         },
         "mode": "lines",
         "type": "scatter",
         "x": [
          0.13559764861571055,
          0.8826853304385002,
          null
         ],
         "y": [
          0.1487690260573683,
          0.3629184598043928,
          null
         ]
        },
        {
         "hoverinfo": "none",
         "line": {
          "color": "#888",
          "width": 2
         },
         "mode": "lines",
         "type": "scatter",
         "x": [
          0.13559764861571055,
          0.18572118500273385,
          null
         ],
         "y": [
          0.1487690260573683,
          -0.6380760364383304,
          null
         ]
        },
        {
         "hoverinfo": "none",
         "line": {
          "color": "#888",
          "width": 2
         },
         "mode": "lines",
         "type": "scatter",
         "x": [
          0.13559764861571055,
          -0.3003383113451329,
          null
         ],
         "y": [
          0.1487690260573683,
          0.5975243321559691,
          null
         ]
        },
        {
         "hoverinfo": "none",
         "line": {
          "color": "#888",
          "width": 2
         },
         "mode": "lines",
         "type": "scatter",
         "x": [
          0.13559764861571055,
          -0.14858186469163698,
          null
         ],
         "y": [
          0.1487690260573683,
          -0.7037913023776443,
          null
         ]
        },
        {
         "hoverinfo": "none",
         "line": {
          "color": "#888",
          "width": 2
         },
         "mode": "lines",
         "type": "scatter",
         "x": [
          0.13559764861571055,
          -0.24813582040557597,
          null
         ],
         "y": [
          0.1487690260573683,
          -0.027684807213380992,
          null
         ]
        },
        {
         "hoverinfo": "none",
         "line": {
          "color": "#888",
          "width": 2
         },
         "mode": "lines",
         "type": "scatter",
         "x": [
          0.13559764861571055,
          -0.19331327332060397,
          null
         ],
         "y": [
          0.1487690260573683,
          0.22614374347289604,
          null
         ]
        },
        {
         "hoverinfo": "none",
         "line": {
          "color": "#888",
          "width": 2
         },
         "mode": "lines",
         "type": "scatter",
         "x": [
          0.13559764861571055,
          0.25981367419235923,
          null
         ],
         "y": [
          0.1487690260573683,
          0.44179898537270834,
          null
         ]
        },
        {
         "hoverinfo": "none",
         "line": {
          "color": "#888",
          "width": 2
         },
         "mode": "lines",
         "type": "scatter",
         "x": [
          0.13559764861571055,
          -0.05170838622786239,
          null
         ],
         "y": [
          0.1487690260573683,
          0.19591957026207413,
          null
         ]
        },
        {
         "hoverinfo": "none",
         "line": {
          "color": "#888",
          "width": 2
         },
         "mode": "lines",
         "type": "scatter",
         "x": [
          0.13559764861571055,
          -0.26022196376434464,
          null
         ],
         "y": [
          0.1487690260573683,
          0.7337976474168793,
          null
         ]
        },
        {
         "hoverinfo": "none",
         "line": {
          "color": "#888",
          "width": 2
         },
         "mode": "lines",
         "type": "scatter",
         "x": [
          0.13559764861571055,
          0.8345557310971147,
          null
         ],
         "y": [
          0.1487690260573683,
          0.1634537308095975,
          null
         ]
        },
        {
         "hoverinfo": "none",
         "line": {
          "color": "#888",
          "width": 2
         },
         "mode": "lines",
         "type": "scatter",
         "x": [
          0.13559764861571055,
          0.13535534904928712,
          null
         ],
         "y": [
          0.1487690260573683,
          -0.40464069833633287,
          null
         ]
        },
        {
         "hoverinfo": "none",
         "line": {
          "color": "#888",
          "width": 2
         },
         "mode": "lines",
         "type": "scatter",
         "x": [
          0.13559764861571055,
          0.33140291339451944,
          null
         ],
         "y": [
          0.1487690260573683,
          0.11951282082881991,
          null
         ]
        },
        {
         "hoverinfo": "none",
         "line": {
          "color": "#888",
          "width": 2
         },
         "mode": "lines",
         "type": "scatter",
         "x": [
          0.13559764861571055,
          -0.6175825019745628,
          null
         ],
         "y": [
          0.1487690260573683,
          0.02082924849558535,
          null
         ]
        },
        {
         "hoverinfo": "none",
         "line": {
          "color": "#888",
          "width": 2
         },
         "mode": "lines",
         "type": "scatter",
         "x": [
          -0.6175825019745628,
          0.1546617066266627,
          null
         ],
         "y": [
          0.02082924849558535,
          -0.02762495726359837,
          null
         ]
        },
        {
         "hoverinfo": "none",
         "line": {
          "color": "#888",
          "width": 2
         },
         "mode": "lines",
         "type": "scatter",
         "x": [
          -0.6175825019745628,
          0.0551996226154287,
          null
         ],
         "y": [
          0.02082924849558535,
          -0.26678928704315813,
          null
         ]
        },
        {
         "hoverinfo": "none",
         "line": {
          "color": "#888",
          "width": 2
         },
         "mode": "lines",
         "type": "scatter",
         "x": [
          -0.6175825019745628,
          -0.42261697927544667,
          null
         ],
         "y": [
          0.02082924849558535,
          -0.7531129790898593,
          null
         ]
        },
        {
         "hoverinfo": "none",
         "line": {
          "color": "#888",
          "width": 2
         },
         "mode": "lines",
         "type": "scatter",
         "x": [
          -0.6175825019745628,
          0.2999514981426229,
          null
         ],
         "y": [
          0.02082924849558535,
          -0.3796568383765987,
          null
         ]
        },
        {
         "hoverinfo": "none",
         "line": {
          "color": "#888",
          "width": 2
         },
         "mode": "lines",
         "type": "scatter",
         "x": [
          -0.6175825019745628,
          -0.5124719055916189,
          null
         ],
         "y": [
          0.02082924849558535,
          -0.29831800531790625,
          null
         ]
        },
        {
         "hoverinfo": "none",
         "line": {
          "color": "#888",
          "width": 2
         },
         "mode": "lines",
         "type": "scatter",
         "x": [
          -0.6175825019745628,
          0.017094203480625594,
          null
         ],
         "y": [
          0.02082924849558535,
          -0.48695407013698794,
          null
         ]
        },
        {
         "hoverinfo": "none",
         "line": {
          "color": "#888",
          "width": 2
         },
         "mode": "lines",
         "type": "scatter",
         "x": [
          -0.6175825019745628,
          -0.24813582040557597,
          null
         ],
         "y": [
          0.02082924849558535,
          -0.027684807213380992,
          null
         ]
        },
        {
         "hoverinfo": "none",
         "line": {
          "color": "#888",
          "width": 2
         },
         "mode": "lines",
         "type": "scatter",
         "x": [
          -0.6175825019745628,
          -0.26022196376434464,
          null
         ],
         "y": [
          0.02082924849558535,
          0.7337976474168793,
          null
         ]
        },
        {
         "hoverinfo": "none",
         "line": {
          "color": "#888",
          "width": 2
         },
         "mode": "lines",
         "type": "scatter",
         "x": [
          -0.6175825019745628,
          0.13535534904928712,
          null
         ],
         "y": [
          0.02082924849558535,
          -0.40464069833633287,
          null
         ]
        },
        {
         "hoverinfo": "none",
         "line": {
          "color": "#888",
          "width": 2
         },
         "mode": "lines",
         "type": "scatter",
         "x": [
          0.5358652409370825,
          0.05677327529841889,
          null
         ],
         "y": [
          -0.15887005322720396,
          -1,
          null
         ]
        },
        {
         "hoverinfo": "none",
         "line": {
          "color": "#888",
          "width": 2
         },
         "mode": "lines",
         "type": "scatter",
         "x": [
          0.5358652409370825,
          0.2999514981426229,
          null
         ],
         "y": [
          -0.15887005322720396,
          -0.3796568383765987,
          null
         ]
        },
        {
         "hoverinfo": "none",
         "line": {
          "color": "#888",
          "width": 2
         },
         "mode": "lines",
         "type": "scatter",
         "x": [
          0.5358652409370825,
          0.3821023896995385,
          null
         ],
         "y": [
          -0.15887005322720396,
          -0.11641047261347395,
          null
         ]
        },
        {
         "hoverinfo": "none",
         "line": {
          "color": "#888",
          "width": 2
         },
         "mode": "lines",
         "type": "scatter",
         "x": [
          0.5358652409370825,
          0.26445791221340403,
          null
         ],
         "y": [
          -0.15887005322720396,
          -0.11924353859101533,
          null
         ]
        },
        {
         "hoverinfo": "none",
         "line": {
          "color": "#888",
          "width": 2
         },
         "mode": "lines",
         "type": "scatter",
         "x": [
          0.5358652409370825,
          0.017094203480625594,
          null
         ],
         "y": [
          -0.15887005322720396,
          -0.48695407013698794,
          null
         ]
        },
        {
         "hoverinfo": "none",
         "line": {
          "color": "#888",
          "width": 2
         },
         "mode": "lines",
         "type": "scatter",
         "x": [
          0.5358652409370825,
          0.764873553425225,
          null
         ],
         "y": [
          -0.15887005322720396,
          -0.5254510463358661,
          null
         ]
        },
        {
         "hoverinfo": "none",
         "line": {
          "color": "#888",
          "width": 2
         },
         "mode": "lines",
         "type": "scatter",
         "x": [
          0.5358652409370825,
          0.8826853304385002,
          null
         ],
         "y": [
          -0.15887005322720396,
          0.3629184598043928,
          null
         ]
        },
        {
         "hoverinfo": "none",
         "line": {
          "color": "#888",
          "width": 2
         },
         "mode": "lines",
         "type": "scatter",
         "x": [
          0.5358652409370825,
          0.18572118500273385,
          null
         ],
         "y": [
          -0.15887005322720396,
          -0.6380760364383304,
          null
         ]
        },
        {
         "hoverinfo": "none",
         "line": {
          "color": "#888",
          "width": 2
         },
         "mode": "lines",
         "type": "scatter",
         "x": [
          0.5358652409370825,
          0.2477290325527497,
          null
         ],
         "y": [
          -0.15887005322720396,
          0.26681275750771183,
          null
         ]
        },
        {
         "hoverinfo": "none",
         "line": {
          "color": "#888",
          "width": 2
         },
         "mode": "lines",
         "type": "scatter",
         "x": [
          0.5358652409370825,
          -0.05170838622786239,
          null
         ],
         "y": [
          -0.15887005322720396,
          0.19591957026207413,
          null
         ]
        },
        {
         "hoverinfo": "none",
         "line": {
          "color": "#888",
          "width": 2
         },
         "mode": "lines",
         "type": "scatter",
         "x": [
          0.5358652409370825,
          -0.8451529582190194,
          null
         ],
         "y": [
          -0.15887005322720396,
          -0.19462670090631123,
          null
         ]
        },
        {
         "hoverinfo": "none",
         "line": {
          "color": "#888",
          "width": 2
         },
         "mode": "lines",
         "type": "scatter",
         "x": [
          0.5358652409370825,
          0.5884819783781304,
          null
         ],
         "y": [
          -0.15887005322720396,
          0.4067043576839656,
          null
         ]
        },
        {
         "hoverinfo": "none",
         "line": {
          "color": "#888",
          "width": 2
         },
         "mode": "lines",
         "type": "scatter",
         "x": [
          0.5358652409370825,
          0.33140291339451944,
          null
         ],
         "y": [
          -0.15887005322720396,
          0.11951282082881991,
          null
         ]
        },
        {
         "hoverinfo": "none",
         "line": {
          "color": "#888",
          "width": 2
         },
         "mode": "lines",
         "type": "scatter",
         "x": [
          0.05677327529841889,
          -0.42261697927544667,
          null
         ],
         "y": [
          -1,
          -0.7531129790898593,
          null
         ]
        },
        {
         "hoverinfo": "none",
         "line": {
          "color": "#888",
          "width": 2
         },
         "mode": "lines",
         "type": "scatter",
         "x": [
          0.05677327529841889,
          0.2999514981426229,
          null
         ],
         "y": [
          -1,
          -0.3796568383765987,
          null
         ]
        },
        {
         "hoverinfo": "none",
         "line": {
          "color": "#888",
          "width": 2
         },
         "mode": "lines",
         "type": "scatter",
         "x": [
          0.05677327529841889,
          -0.5124719055916189,
          null
         ],
         "y": [
          -1,
          -0.29831800531790625,
          null
         ]
        },
        {
         "hoverinfo": "none",
         "line": {
          "color": "#888",
          "width": 2
         },
         "mode": "lines",
         "type": "scatter",
         "x": [
          0.05677327529841889,
          0.26445791221340403,
          null
         ],
         "y": [
          -1,
          -0.11924353859101533,
          null
         ]
        },
        {
         "hoverinfo": "none",
         "line": {
          "color": "#888",
          "width": 2
         },
         "mode": "lines",
         "type": "scatter",
         "x": [
          0.05677327529841889,
          -0.6263266874906048,
          null
         ],
         "y": [
          -1,
          -0.5877336887740254,
          null
         ]
        },
        {
         "hoverinfo": "none",
         "line": {
          "color": "#888",
          "width": 2
         },
         "mode": "lines",
         "type": "scatter",
         "x": [
          0.05677327529841889,
          0.764873553425225,
          null
         ],
         "y": [
          -1,
          -0.5254510463358661,
          null
         ]
        },
        {
         "hoverinfo": "none",
         "line": {
          "color": "#888",
          "width": 2
         },
         "mode": "lines",
         "type": "scatter",
         "x": [
          0.05677327529841889,
          -0.2590082503788941,
          null
         ],
         "y": [
          -1,
          -0.554361776460813,
          null
         ]
        },
        {
         "hoverinfo": "none",
         "line": {
          "color": "#888",
          "width": 2
         },
         "mode": "lines",
         "type": "scatter",
         "x": [
          0.05677327529841889,
          -0.14858186469163698,
          null
         ],
         "y": [
          -1,
          -0.7037913023776443,
          null
         ]
        },
        {
         "hoverinfo": "none",
         "line": {
          "color": "#888",
          "width": 2
         },
         "mode": "lines",
         "type": "scatter",
         "x": [
          0.05677327529841889,
          -0.16200467070209576,
          null
         ],
         "y": [
          -1,
          -0.334067522266607,
          null
         ]
        },
        {
         "hoverinfo": "none",
         "line": {
          "color": "#888",
          "width": 2
         },
         "mode": "lines",
         "type": "scatter",
         "x": [
          0.2999514981426229,
          0.4328493801987771,
          null
         ],
         "y": [
          -0.3796568383765987,
          0.5538946361907251,
          null
         ]
        },
        {
         "hoverinfo": "none",
         "line": {
          "color": "#888",
          "width": 2
         },
         "mode": "lines",
         "type": "scatter",
         "x": [
          0.2999514981426229,
          0.4523977326688961,
          null
         ],
         "y": [
          -0.3796568383765987,
          -0.6253299123351034,
          null
         ]
        },
        {
         "hoverinfo": "none",
         "line": {
          "color": "#888",
          "width": 2
         },
         "mode": "lines",
         "type": "scatter",
         "x": [
          0.2999514981426229,
          -0.11567764464898388,
          null
         ],
         "y": [
          -0.3796568383765987,
          -0.16095911653946665,
          null
         ]
        },
        {
         "hoverinfo": "none",
         "line": {
          "color": "#888",
          "width": 2
         },
         "mode": "lines",
         "type": "scatter",
         "x": [
          0.2999514981426229,
          -0.012023071840863094,
          null
         ],
         "y": [
          -0.3796568383765987,
          0.04776551965145535,
          null
         ]
        },
        {
         "hoverinfo": "none",
         "line": {
          "color": "#888",
          "width": 2
         },
         "mode": "lines",
         "type": "scatter",
         "x": [
          0.2999514981426229,
          0.051086209880543645,
          null
         ],
         "y": [
          -0.3796568383765987,
          0.429616119670276,
          null
         ]
        },
        {
         "hoverinfo": "none",
         "line": {
          "color": "#888",
          "width": 2
         },
         "mode": "lines",
         "type": "scatter",
         "x": [
          0.2999514981426229,
          0.3821023896995385,
          null
         ],
         "y": [
          -0.3796568383765987,
          -0.11641047261347395,
          null
         ]
        },
        {
         "hoverinfo": "none",
         "line": {
          "color": "#888",
          "width": 2
         },
         "mode": "lines",
         "type": "scatter",
         "x": [
          0.2999514981426229,
          -0.5124719055916189,
          null
         ],
         "y": [
          -0.3796568383765987,
          -0.29831800531790625,
          null
         ]
        },
        {
         "hoverinfo": "none",
         "line": {
          "color": "#888",
          "width": 2
         },
         "mode": "lines",
         "type": "scatter",
         "x": [
          0.2999514981426229,
          0.18572118500273385,
          null
         ],
         "y": [
          -0.3796568383765987,
          -0.6380760364383304,
          null
         ]
        },
        {
         "hoverinfo": "none",
         "line": {
          "color": "#888",
          "width": 2
         },
         "mode": "lines",
         "type": "scatter",
         "x": [
          0.2999514981426229,
          -0.3410151930485177,
          null
         ],
         "y": [
          -0.3796568383765987,
          -0.38147315044409735,
          null
         ]
        },
        {
         "hoverinfo": "none",
         "line": {
          "color": "#888",
          "width": 2
         },
         "mode": "lines",
         "type": "scatter",
         "x": [
          0.2999514981426229,
          0.2477290325527497,
          null
         ],
         "y": [
          -0.3796568383765987,
          0.26681275750771183,
          null
         ]
        },
        {
         "hoverinfo": "none",
         "line": {
          "color": "#888",
          "width": 2
         },
         "mode": "lines",
         "type": "scatter",
         "x": [
          0.2999514981426229,
          -0.19331327332060397,
          null
         ],
         "y": [
          -0.3796568383765987,
          0.22614374347289604,
          null
         ]
        },
        {
         "hoverinfo": "none",
         "line": {
          "color": "#888",
          "width": 2
         },
         "mode": "lines",
         "type": "scatter",
         "x": [
          0.2999514981426229,
          0.13535534904928712,
          null
         ],
         "y": [
          -0.3796568383765987,
          -0.40464069833633287,
          null
         ]
        },
        {
         "hoverinfo": "none",
         "line": {
          "color": "#888",
          "width": 2
         },
         "mode": "lines",
         "type": "scatter",
         "x": [
          0.2999514981426229,
          0.6337110635916902,
          null
         ],
         "y": [
          -0.3796568383765987,
          -0.3535363588110571,
          null
         ]
        },
        {
         "hoverinfo": "none",
         "line": {
          "color": "#888",
          "width": 2
         },
         "mode": "lines",
         "type": "scatter",
         "x": [
          0.3821023896995385,
          0.4523977326688961,
          null
         ],
         "y": [
          -0.11641047261347395,
          -0.6253299123351034,
          null
         ]
        },
        {
         "hoverinfo": "none",
         "line": {
          "color": "#888",
          "width": 2
         },
         "mode": "lines",
         "type": "scatter",
         "x": [
          0.3821023896995385,
          -0.11567764464898388,
          null
         ],
         "y": [
          -0.11641047261347395,
          -0.16095911653946665,
          null
         ]
        },
        {
         "hoverinfo": "none",
         "line": {
          "color": "#888",
          "width": 2
         },
         "mode": "lines",
         "type": "scatter",
         "x": [
          0.3821023896995385,
          0.0551996226154287,
          null
         ],
         "y": [
          -0.11641047261347395,
          -0.26678928704315813,
          null
         ]
        },
        {
         "hoverinfo": "none",
         "line": {
          "color": "#888",
          "width": 2
         },
         "mode": "lines",
         "type": "scatter",
         "x": [
          0.3821023896995385,
          -0.36305421254688675,
          null
         ],
         "y": [
          -0.11641047261347395,
          -0.20177855741627992,
          null
         ]
        },
        {
         "hoverinfo": "none",
         "line": {
          "color": "#888",
          "width": 2
         },
         "mode": "lines",
         "type": "scatter",
         "x": [
          0.3821023896995385,
          -0.5124719055916189,
          null
         ],
         "y": [
          -0.11641047261347395,
          -0.29831800531790625,
          null
         ]
        },
        {
         "hoverinfo": "none",
         "line": {
          "color": "#888",
          "width": 2
         },
         "mode": "lines",
         "type": "scatter",
         "x": [
          0.3821023896995385,
          0.8826853304385002,
          null
         ],
         "y": [
          -0.11641047261347395,
          0.3629184598043928,
          null
         ]
        },
        {
         "hoverinfo": "none",
         "line": {
          "color": "#888",
          "width": 2
         },
         "mode": "lines",
         "type": "scatter",
         "x": [
          0.3821023896995385,
          -0.14858186469163698,
          null
         ],
         "y": [
          -0.11641047261347395,
          -0.7037913023776443,
          null
         ]
        },
        {
         "hoverinfo": "none",
         "line": {
          "color": "#888",
          "width": 2
         },
         "mode": "lines",
         "type": "scatter",
         "x": [
          0.3821023896995385,
          -0.3410151930485177,
          null
         ],
         "y": [
          -0.11641047261347395,
          -0.38147315044409735,
          null
         ]
        },
        {
         "hoverinfo": "none",
         "line": {
          "color": "#888",
          "width": 2
         },
         "mode": "lines",
         "type": "scatter",
         "x": [
          0.3821023896995385,
          -0.19331327332060397,
          null
         ],
         "y": [
          -0.11641047261347395,
          0.22614374347289604,
          null
         ]
        },
        {
         "hoverinfo": "none",
         "line": {
          "color": "#888",
          "width": 2
         },
         "mode": "lines",
         "type": "scatter",
         "x": [
          0.3821023896995385,
          -0.05170838622786239,
          null
         ],
         "y": [
          -0.11641047261347395,
          0.19591957026207413,
          null
         ]
        },
        {
         "hoverinfo": "none",
         "line": {
          "color": "#888",
          "width": 2
         },
         "mode": "lines",
         "type": "scatter",
         "x": [
          0.3821023896995385,
          0.057315897081171144,
          null
         ],
         "y": [
          -0.11641047261347395,
          0.5771478257025457,
          null
         ]
        },
        {
         "hoverinfo": "none",
         "line": {
          "color": "#888",
          "width": 2
         },
         "mode": "lines",
         "type": "scatter",
         "x": [
          0.3821023896995385,
          -0.16200467070209576,
          null
         ],
         "y": [
          -0.11641047261347395,
          -0.334067522266607,
          null
         ]
        },
        {
         "hoverinfo": "none",
         "line": {
          "color": "#888",
          "width": 2
         },
         "mode": "lines",
         "type": "scatter",
         "x": [
          0.3821023896995385,
          0.5884819783781304,
          null
         ],
         "y": [
          -0.11641047261347395,
          0.4067043576839656,
          null
         ]
        },
        {
         "hoverinfo": "none",
         "line": {
          "color": "#888",
          "width": 2
         },
         "mode": "lines",
         "type": "scatter",
         "x": [
          0.3821023896995385,
          0.6337110635916902,
          null
         ],
         "y": [
          -0.11641047261347395,
          -0.3535363588110571,
          null
         ]
        },
        {
         "hoverinfo": "none",
         "line": {
          "color": "#888",
          "width": 2
         },
         "mode": "lines",
         "type": "scatter",
         "x": [
          0.26445791221340403,
          0.4523977326688961,
          null
         ],
         "y": [
          -0.11924353859101533,
          -0.6253299123351034,
          null
         ]
        },
        {
         "hoverinfo": "none",
         "line": {
          "color": "#888",
          "width": 2
         },
         "mode": "lines",
         "type": "scatter",
         "x": [
          0.26445791221340403,
          -0.11567764464898388,
          null
         ],
         "y": [
          -0.11924353859101533,
          -0.16095911653946665,
          null
         ]
        },
        {
         "hoverinfo": "none",
         "line": {
          "color": "#888",
          "width": 2
         },
         "mode": "lines",
         "type": "scatter",
         "x": [
          0.26445791221340403,
          0.1546617066266627,
          null
         ],
         "y": [
          -0.11924353859101533,
          -0.02762495726359837,
          null
         ]
        },
        {
         "hoverinfo": "none",
         "line": {
          "color": "#888",
          "width": 2
         },
         "mode": "lines",
         "type": "scatter",
         "x": [
          0.26445791221340403,
          0.051086209880543645,
          null
         ],
         "y": [
          -0.11924353859101533,
          0.429616119670276,
          null
         ]
        },
        {
         "hoverinfo": "none",
         "line": {
          "color": "#888",
          "width": 2
         },
         "mode": "lines",
         "type": "scatter",
         "x": [
          0.26445791221340403,
          0.0551996226154287,
          null
         ],
         "y": [
          -0.11924353859101533,
          -0.26678928704315813,
          null
         ]
        },
        {
         "hoverinfo": "none",
         "line": {
          "color": "#888",
          "width": 2
         },
         "mode": "lines",
         "type": "scatter",
         "x": [
          0.26445791221340403,
          0.764873553425225,
          null
         ],
         "y": [
          -0.11924353859101533,
          -0.5254510463358661,
          null
         ]
        },
        {
         "hoverinfo": "none",
         "line": {
          "color": "#888",
          "width": 2
         },
         "mode": "lines",
         "type": "scatter",
         "x": [
          0.26445791221340403,
          -0.3003383113451329,
          null
         ],
         "y": [
          -0.11924353859101533,
          0.5975243321559691,
          null
         ]
        },
        {
         "hoverinfo": "none",
         "line": {
          "color": "#888",
          "width": 2
         },
         "mode": "lines",
         "type": "scatter",
         "x": [
          0.26445791221340403,
          -0.3750546815683805,
          null
         ],
         "y": [
          -0.11924353859101533,
          0.16233917125408356,
          null
         ]
        },
        {
         "hoverinfo": "none",
         "line": {
          "color": "#888",
          "width": 2
         },
         "mode": "lines",
         "type": "scatter",
         "x": [
          0.26445791221340403,
          0.8345557310971147,
          null
         ],
         "y": [
          -0.11924353859101533,
          0.1634537308095975,
          null
         ]
        },
        {
         "hoverinfo": "none",
         "line": {
          "color": "#888",
          "width": 2
         },
         "mode": "lines",
         "type": "scatter",
         "x": [
          0.26445791221340403,
          0.13535534904928712,
          null
         ],
         "y": [
          -0.11924353859101533,
          -0.40464069833633287,
          null
         ]
        },
        {
         "hoverinfo": "none",
         "line": {
          "color": "#888",
          "width": 2
         },
         "mode": "lines",
         "type": "scatter",
         "x": [
          0.26445791221340403,
          0.33140291339451944,
          null
         ],
         "y": [
          -0.11924353859101533,
          0.11951282082881991,
          null
         ]
        },
        {
         "hoverinfo": "none",
         "line": {
          "color": "#888",
          "width": 2
         },
         "mode": "lines",
         "type": "scatter",
         "x": [
          0.017094203480625594,
          0.1546617066266627,
          null
         ],
         "y": [
          -0.48695407013698794,
          -0.02762495726359837,
          null
         ]
        },
        {
         "hoverinfo": "none",
         "line": {
          "color": "#888",
          "width": 2
         },
         "mode": "lines",
         "type": "scatter",
         "x": [
          0.017094203480625594,
          0.051086209880543645,
          null
         ],
         "y": [
          -0.48695407013698794,
          0.429616119670276,
          null
         ]
        },
        {
         "hoverinfo": "none",
         "line": {
          "color": "#888",
          "width": 2
         },
         "mode": "lines",
         "type": "scatter",
         "x": [
          0.017094203480625594,
          -0.36305421254688675,
          null
         ],
         "y": [
          -0.48695407013698794,
          -0.20177855741627992,
          null
         ]
        },
        {
         "hoverinfo": "none",
         "line": {
          "color": "#888",
          "width": 2
         },
         "mode": "lines",
         "type": "scatter",
         "x": [
          0.017094203480625594,
          -0.6875502047544992,
          null
         ],
         "y": [
          -0.48695407013698794,
          0.4155163495959592,
          null
         ]
        },
        {
         "hoverinfo": "none",
         "line": {
          "color": "#888",
          "width": 2
         },
         "mode": "lines",
         "type": "scatter",
         "x": [
          0.017094203480625594,
          0.868650949264276,
          null
         ],
         "y": [
          -0.48695407013698794,
          -0.10444132998223317,
          null
         ]
        },
        {
         "hoverinfo": "none",
         "line": {
          "color": "#888",
          "width": 2
         },
         "mode": "lines",
         "type": "scatter",
         "x": [
          0.017094203480625594,
          0.18572118500273385,
          null
         ],
         "y": [
          -0.48695407013698794,
          -0.6380760364383304,
          null
         ]
        },
        {
         "hoverinfo": "none",
         "line": {
          "color": "#888",
          "width": 2
         },
         "mode": "lines",
         "type": "scatter",
         "x": [
          0.017094203480625594,
          -0.14858186469163698,
          null
         ],
         "y": [
          -0.48695407013698794,
          -0.7037913023776443,
          null
         ]
        },
        {
         "hoverinfo": "none",
         "line": {
          "color": "#888",
          "width": 2
         },
         "mode": "lines",
         "type": "scatter",
         "x": [
          0.017094203480625594,
          -0.3410151930485177,
          null
         ],
         "y": [
          -0.48695407013698794,
          -0.38147315044409735,
          null
         ]
        },
        {
         "hoverinfo": "none",
         "line": {
          "color": "#888",
          "width": 2
         },
         "mode": "lines",
         "type": "scatter",
         "x": [
          0.017094203480625594,
          -0.24813582040557597,
          null
         ],
         "y": [
          -0.48695407013698794,
          -0.027684807213380992,
          null
         ]
        },
        {
         "hoverinfo": "none",
         "line": {
          "color": "#888",
          "width": 2
         },
         "mode": "lines",
         "type": "scatter",
         "x": [
          0.017094203480625594,
          -0.16200467070209576,
          null
         ],
         "y": [
          -0.48695407013698794,
          -0.334067522266607,
          null
         ]
        },
        {
         "hoverinfo": "none",
         "line": {
          "color": "#888",
          "width": 2
         },
         "mode": "lines",
         "type": "scatter",
         "x": [
          0.017094203480625594,
          0.13535534904928712,
          null
         ],
         "y": [
          -0.48695407013698794,
          -0.40464069833633287,
          null
         ]
        },
        {
         "hoverinfo": "none",
         "line": {
          "color": "#888",
          "width": 2
         },
         "mode": "lines",
         "type": "scatter",
         "x": [
          0.017094203480625594,
          0.33140291339451944,
          null
         ],
         "y": [
          -0.48695407013698794,
          0.11951282082881991,
          null
         ]
        },
        {
         "hoverinfo": "none",
         "line": {
          "color": "#888",
          "width": 2
         },
         "mode": "lines",
         "type": "scatter",
         "x": [
          0.017094203480625594,
          0.6337110635916902,
          null
         ],
         "y": [
          -0.48695407013698794,
          -0.3535363588110571,
          null
         ]
        },
        {
         "hoverinfo": "none",
         "line": {
          "color": "#888",
          "width": 2
         },
         "mode": "lines",
         "type": "scatter",
         "x": [
          0.764873553425225,
          0.4523977326688961,
          null
         ],
         "y": [
          -0.5254510463358661,
          -0.6253299123351034,
          null
         ]
        },
        {
         "hoverinfo": "none",
         "line": {
          "color": "#888",
          "width": 2
         },
         "mode": "lines",
         "type": "scatter",
         "x": [
          0.764873553425225,
          -0.11567764464898388,
          null
         ],
         "y": [
          -0.5254510463358661,
          -0.16095911653946665,
          null
         ]
        },
        {
         "hoverinfo": "none",
         "line": {
          "color": "#888",
          "width": 2
         },
         "mode": "lines",
         "type": "scatter",
         "x": [
          0.764873553425225,
          0.1546617066266627,
          null
         ],
         "y": [
          -0.5254510463358661,
          -0.02762495726359837,
          null
         ]
        },
        {
         "hoverinfo": "none",
         "line": {
          "color": "#888",
          "width": 2
         },
         "mode": "lines",
         "type": "scatter",
         "x": [
          0.764873553425225,
          0.868650949264276,
          null
         ],
         "y": [
          -0.5254510463358661,
          -0.10444132998223317,
          null
         ]
        },
        {
         "hoverinfo": "none",
         "line": {
          "color": "#888",
          "width": 2
         },
         "mode": "lines",
         "type": "scatter",
         "x": [
          0.764873553425225,
          0.8826853304385002,
          null
         ],
         "y": [
          -0.5254510463358661,
          0.3629184598043928,
          null
         ]
        },
        {
         "hoverinfo": "none",
         "line": {
          "color": "#888",
          "width": 2
         },
         "mode": "lines",
         "type": "scatter",
         "x": [
          0.764873553425225,
          0.18572118500273385,
          null
         ],
         "y": [
          -0.5254510463358661,
          -0.6380760364383304,
          null
         ]
        },
        {
         "hoverinfo": "none",
         "line": {
          "color": "#888",
          "width": 2
         },
         "mode": "lines",
         "type": "scatter",
         "x": [
          0.764873553425225,
          -0.24813582040557597,
          null
         ],
         "y": [
          -0.5254510463358661,
          -0.027684807213380992,
          null
         ]
        },
        {
         "hoverinfo": "none",
         "line": {
          "color": "#888",
          "width": 2
         },
         "mode": "lines",
         "type": "scatter",
         "x": [
          0.764873553425225,
          0.8345557310971147,
          null
         ],
         "y": [
          -0.5254510463358661,
          0.1634537308095975,
          null
         ]
        },
        {
         "hoverinfo": "none",
         "line": {
          "color": "#888",
          "width": 2
         },
         "mode": "lines",
         "type": "scatter",
         "x": [
          0.764873553425225,
          0.6337110635916902,
          null
         ],
         "y": [
          -0.5254510463358661,
          -0.3535363588110571,
          null
         ]
        },
        {
         "hoverinfo": "none",
         "line": {
          "color": "#888",
          "width": 2
         },
         "mode": "lines",
         "type": "scatter",
         "x": [
          0.8826853304385002,
          -0.012023071840863094,
          null
         ],
         "y": [
          0.3629184598043928,
          0.04776551965145535,
          null
         ]
        },
        {
         "hoverinfo": "none",
         "line": {
          "color": "#888",
          "width": 2
         },
         "mode": "lines",
         "type": "scatter",
         "x": [
          0.8826853304385002,
          0.868650949264276,
          null
         ],
         "y": [
          0.3629184598043928,
          -0.10444132998223317,
          null
         ]
        },
        {
         "hoverinfo": "none",
         "line": {
          "color": "#888",
          "width": 2
         },
         "mode": "lines",
         "type": "scatter",
         "x": [
          0.8826853304385002,
          0.25981367419235923,
          null
         ],
         "y": [
          0.3629184598043928,
          0.44179898537270834,
          null
         ]
        },
        {
         "hoverinfo": "none",
         "line": {
          "color": "#888",
          "width": 2
         },
         "mode": "lines",
         "type": "scatter",
         "x": [
          0.8826853304385002,
          0.5884819783781304,
          null
         ],
         "y": [
          0.3629184598043928,
          0.4067043576839656,
          null
         ]
        },
        {
         "hoverinfo": "none",
         "line": {
          "color": "#888",
          "width": 2
         },
         "mode": "lines",
         "type": "scatter",
         "x": [
          0.8826853304385002,
          0.6337110635916902,
          null
         ],
         "y": [
          0.3629184598043928,
          -0.3535363588110571,
          null
         ]
        },
        {
         "hoverinfo": "none",
         "line": {
          "color": "#888",
          "width": 2
         },
         "mode": "lines",
         "type": "scatter",
         "x": [
          0.18572118500273385,
          0.4523977326688961,
          null
         ],
         "y": [
          -0.6380760364383304,
          -0.6253299123351034,
          null
         ]
        },
        {
         "hoverinfo": "none",
         "line": {
          "color": "#888",
          "width": 2
         },
         "mode": "lines",
         "type": "scatter",
         "x": [
          0.18572118500273385,
          -0.6263266874906048,
          null
         ],
         "y": [
          -0.6380760364383304,
          -0.5877336887740254,
          null
         ]
        },
        {
         "hoverinfo": "none",
         "line": {
          "color": "#888",
          "width": 2
         },
         "mode": "lines",
         "type": "scatter",
         "x": [
          0.18572118500273385,
          -0.2590082503788941,
          null
         ],
         "y": [
          -0.6380760364383304,
          -0.554361776460813,
          null
         ]
        },
        {
         "hoverinfo": "none",
         "line": {
          "color": "#888",
          "width": 2
         },
         "mode": "lines",
         "type": "scatter",
         "x": [
          0.18572118500273385,
          -0.14858186469163698,
          null
         ],
         "y": [
          -0.6380760364383304,
          -0.7037913023776443,
          null
         ]
        },
        {
         "hoverinfo": "none",
         "line": {
          "color": "#888",
          "width": 2
         },
         "mode": "lines",
         "type": "scatter",
         "x": [
          0.18572118500273385,
          -0.3410151930485177,
          null
         ],
         "y": [
          -0.6380760364383304,
          -0.38147315044409735,
          null
         ]
        },
        {
         "hoverinfo": "none",
         "line": {
          "color": "#888",
          "width": 2
         },
         "mode": "lines",
         "type": "scatter",
         "x": [
          0.18572118500273385,
          -0.24813582040557597,
          null
         ],
         "y": [
          -0.6380760364383304,
          -0.027684807213380992,
          null
         ]
        },
        {
         "hoverinfo": "none",
         "line": {
          "color": "#888",
          "width": 2
         },
         "mode": "lines",
         "type": "scatter",
         "x": [
          0.18572118500273385,
          -0.05170838622786239,
          null
         ],
         "y": [
          -0.6380760364383304,
          0.19591957026207413,
          null
         ]
        },
        {
         "hoverinfo": "none",
         "line": {
          "color": "#888",
          "width": 2
         },
         "mode": "lines",
         "type": "scatter",
         "x": [
          0.18572118500273385,
          -0.16200467070209576,
          null
         ],
         "y": [
          -0.6380760364383304,
          -0.334067522266607,
          null
         ]
        },
        {
         "hoverinfo": "none",
         "line": {
          "color": "#888",
          "width": 2
         },
         "mode": "lines",
         "type": "scatter",
         "x": [
          0.18572118500273385,
          0.13535534904928712,
          null
         ],
         "y": [
          -0.6380760364383304,
          -0.40464069833633287,
          null
         ]
        },
        {
         "hoverinfo": "none",
         "line": {
          "color": "#888",
          "width": 2
         },
         "mode": "lines",
         "type": "scatter",
         "x": [
          0.18572118500273385,
          0.33140291339451944,
          null
         ],
         "y": [
          -0.6380760364383304,
          0.11951282082881991,
          null
         ]
        },
        {
         "hoverinfo": "none",
         "line": {
          "color": "#888",
          "width": 2
         },
         "mode": "lines",
         "type": "scatter",
         "x": [
          0.18572118500273385,
          0.6337110635916902,
          null
         ],
         "y": [
          -0.6380760364383304,
          -0.3535363588110571,
          null
         ]
        },
        {
         "hoverinfo": "none",
         "line": {
          "color": "#888",
          "width": 2
         },
         "mode": "lines",
         "type": "scatter",
         "x": [
          0.2477290325527497,
          0.1546617066266627,
          null
         ],
         "y": [
          0.26681275750771183,
          -0.02762495726359837,
          null
         ]
        },
        {
         "hoverinfo": "none",
         "line": {
          "color": "#888",
          "width": 2
         },
         "mode": "lines",
         "type": "scatter",
         "x": [
          0.2477290325527497,
          0.051086209880543645,
          null
         ],
         "y": [
          0.26681275750771183,
          0.429616119670276,
          null
         ]
        },
        {
         "hoverinfo": "none",
         "line": {
          "color": "#888",
          "width": 2
         },
         "mode": "lines",
         "type": "scatter",
         "x": [
          0.2477290325527497,
          0.0551996226154287,
          null
         ],
         "y": [
          0.26681275750771183,
          -0.26678928704315813,
          null
         ]
        },
        {
         "hoverinfo": "none",
         "line": {
          "color": "#888",
          "width": 2
         },
         "mode": "lines",
         "type": "scatter",
         "x": [
          0.2477290325527497,
          -0.6875502047544992,
          null
         ],
         "y": [
          0.26681275750771183,
          0.4155163495959592,
          null
         ]
        },
        {
         "hoverinfo": "none",
         "line": {
          "color": "#888",
          "width": 2
         },
         "mode": "lines",
         "type": "scatter",
         "x": [
          0.2477290325527497,
          -0.14858186469163698,
          null
         ],
         "y": [
          0.26681275750771183,
          -0.7037913023776443,
          null
         ]
        },
        {
         "hoverinfo": "none",
         "line": {
          "color": "#888",
          "width": 2
         },
         "mode": "lines",
         "type": "scatter",
         "x": [
          0.2477290325527497,
          -0.3410151930485177,
          null
         ],
         "y": [
          0.26681275750771183,
          -0.38147315044409735,
          null
         ]
        },
        {
         "hoverinfo": "none",
         "line": {
          "color": "#888",
          "width": 2
         },
         "mode": "lines",
         "type": "scatter",
         "x": [
          0.2477290325527497,
          -0.19331327332060397,
          null
         ],
         "y": [
          0.26681275750771183,
          0.22614374347289604,
          null
         ]
        },
        {
         "hoverinfo": "none",
         "line": {
          "color": "#888",
          "width": 2
         },
         "mode": "lines",
         "type": "scatter",
         "x": [
          0.2477290325527497,
          -0.26022196376434464,
          null
         ],
         "y": [
          0.26681275750771183,
          0.7337976474168793,
          null
         ]
        },
        {
         "hoverinfo": "none",
         "line": {
          "color": "#888",
          "width": 2
         },
         "mode": "lines",
         "type": "scatter",
         "x": [
          0.2477290325527497,
          0.057315897081171144,
          null
         ],
         "y": [
          0.26681275750771183,
          0.5771478257025457,
          null
         ]
        },
        {
         "hoverinfo": "none",
         "line": {
          "color": "#888",
          "width": 2
         },
         "mode": "lines",
         "type": "scatter",
         "x": [
          0.2477290325527497,
          0.8345557310971147,
          null
         ],
         "y": [
          0.26681275750771183,
          0.1634537308095975,
          null
         ]
        },
        {
         "hoverinfo": "none",
         "line": {
          "color": "#888",
          "width": 2
         },
         "mode": "lines",
         "type": "scatter",
         "x": [
          0.2477290325527497,
          0.5884819783781304,
          null
         ],
         "y": [
          0.26681275750771183,
          0.4067043576839656,
          null
         ]
        },
        {
         "hoverinfo": "none",
         "line": {
          "color": "#888",
          "width": 2
         },
         "mode": "lines",
         "type": "scatter",
         "x": [
          0.2477290325527497,
          0.6337110635916902,
          null
         ],
         "y": [
          0.26681275750771183,
          -0.3535363588110571,
          null
         ]
        },
        {
         "hoverinfo": "none",
         "line": {
          "color": "#888",
          "width": 2
         },
         "mode": "lines",
         "type": "scatter",
         "x": [
          -0.05170838622786239,
          -0.11567764464898388,
          null
         ],
         "y": [
          0.19591957026207413,
          -0.16095911653946665,
          null
         ]
        },
        {
         "hoverinfo": "none",
         "line": {
          "color": "#888",
          "width": 2
         },
         "mode": "lines",
         "type": "scatter",
         "x": [
          -0.05170838622786239,
          0.1546617066266627,
          null
         ],
         "y": [
          0.19591957026207413,
          -0.02762495726359837,
          null
         ]
        },
        {
         "hoverinfo": "none",
         "line": {
          "color": "#888",
          "width": 2
         },
         "mode": "lines",
         "type": "scatter",
         "x": [
          -0.05170838622786239,
          -0.012023071840863094,
          null
         ],
         "y": [
          0.19591957026207413,
          0.04776551965145535,
          null
         ]
        },
        {
         "hoverinfo": "none",
         "line": {
          "color": "#888",
          "width": 2
         },
         "mode": "lines",
         "type": "scatter",
         "x": [
          -0.05170838622786239,
          0.051086209880543645,
          null
         ],
         "y": [
          0.19591957026207413,
          0.429616119670276,
          null
         ]
        },
        {
         "hoverinfo": "none",
         "line": {
          "color": "#888",
          "width": 2
         },
         "mode": "lines",
         "type": "scatter",
         "x": [
          -0.05170838622786239,
          -0.6875502047544992,
          null
         ],
         "y": [
          0.19591957026207413,
          0.4155163495959592,
          null
         ]
        },
        {
         "hoverinfo": "none",
         "line": {
          "color": "#888",
          "width": 2
         },
         "mode": "lines",
         "type": "scatter",
         "x": [
          -0.05170838622786239,
          -0.3003383113451329,
          null
         ],
         "y": [
          0.19591957026207413,
          0.5975243321559691,
          null
         ]
        },
        {
         "hoverinfo": "none",
         "line": {
          "color": "#888",
          "width": 2
         },
         "mode": "lines",
         "type": "scatter",
         "x": [
          -0.05170838622786239,
          -0.14858186469163698,
          null
         ],
         "y": [
          0.19591957026207413,
          -0.7037913023776443,
          null
         ]
        },
        {
         "hoverinfo": "none",
         "line": {
          "color": "#888",
          "width": 2
         },
         "mode": "lines",
         "type": "scatter",
         "x": [
          -0.05170838622786239,
          -0.24813582040557597,
          null
         ],
         "y": [
          0.19591957026207413,
          -0.027684807213380992,
          null
         ]
        },
        {
         "hoverinfo": "none",
         "line": {
          "color": "#888",
          "width": 2
         },
         "mode": "lines",
         "type": "scatter",
         "x": [
          -0.05170838622786239,
          0.25981367419235923,
          null
         ],
         "y": [
          0.19591957026207413,
          0.44179898537270834,
          null
         ]
        },
        {
         "hoverinfo": "none",
         "line": {
          "color": "#888",
          "width": 2
         },
         "mode": "lines",
         "type": "scatter",
         "x": [
          -0.05170838622786239,
          -0.26022196376434464,
          null
         ],
         "y": [
          0.19591957026207413,
          0.7337976474168793,
          null
         ]
        },
        {
         "hoverinfo": "none",
         "line": {
          "color": "#888",
          "width": 2
         },
         "mode": "lines",
         "type": "scatter",
         "x": [
          -0.05170838622786239,
          -0.8451529582190194,
          null
         ],
         "y": [
          0.19591957026207413,
          -0.19462670090631123,
          null
         ]
        },
        {
         "hoverinfo": "none",
         "line": {
          "color": "#888",
          "width": 2
         },
         "mode": "lines",
         "type": "scatter",
         "x": [
          -0.05170838622786239,
          0.8345557310971147,
          null
         ],
         "y": [
          0.19591957026207413,
          0.1634537308095975,
          null
         ]
        },
        {
         "hoverinfo": "none",
         "line": {
          "color": "#888",
          "width": 2
         },
         "mode": "lines",
         "type": "scatter",
         "x": [
          -0.05170838622786239,
          -0.16200467070209576,
          null
         ],
         "y": [
          0.19591957026207413,
          -0.334067522266607,
          null
         ]
        },
        {
         "hoverinfo": "none",
         "line": {
          "color": "#888",
          "width": 2
         },
         "mode": "lines",
         "type": "scatter",
         "x": [
          -0.8451529582190194,
          -0.42261697927544667,
          null
         ],
         "y": [
          -0.19462670090631123,
          -0.7531129790898593,
          null
         ]
        },
        {
         "hoverinfo": "none",
         "line": {
          "color": "#888",
          "width": 2
         },
         "mode": "lines",
         "type": "scatter",
         "x": [
          -0.8451529582190194,
          -0.5124719055916189,
          null
         ],
         "y": [
          -0.19462670090631123,
          -0.29831800531790625,
          null
         ]
        },
        {
         "hoverinfo": "none",
         "line": {
          "color": "#888",
          "width": 2
         },
         "mode": "lines",
         "type": "scatter",
         "x": [
          -0.8451529582190194,
          -0.3410151930485177,
          null
         ],
         "y": [
          -0.19462670090631123,
          -0.38147315044409735,
          null
         ]
        },
        {
         "hoverinfo": "none",
         "line": {
          "color": "#888",
          "width": 2
         },
         "mode": "lines",
         "type": "scatter",
         "x": [
          -0.8451529582190194,
          -0.24813582040557597,
          null
         ],
         "y": [
          -0.19462670090631123,
          -0.027684807213380992,
          null
         ]
        },
        {
         "hoverinfo": "none",
         "line": {
          "color": "#888",
          "width": 2
         },
         "mode": "lines",
         "type": "scatter",
         "x": [
          -0.8451529582190194,
          -0.19331327332060397,
          null
         ],
         "y": [
          -0.19462670090631123,
          0.22614374347289604,
          null
         ]
        },
        {
         "hoverinfo": "none",
         "line": {
          "color": "#888",
          "width": 2
         },
         "mode": "lines",
         "type": "scatter",
         "x": [
          -0.8451529582190194,
          -0.3750546815683805,
          null
         ],
         "y": [
          -0.19462670090631123,
          0.16233917125408356,
          null
         ]
        },
        {
         "hoverinfo": "none",
         "line": {
          "color": "#888",
          "width": 2
         },
         "mode": "lines",
         "type": "scatter",
         "x": [
          0.5884819783781304,
          0.4328493801987771,
          null
         ],
         "y": [
          0.4067043576839656,
          0.5538946361907251,
          null
         ]
        },
        {
         "hoverinfo": "none",
         "line": {
          "color": "#888",
          "width": 2
         },
         "mode": "lines",
         "type": "scatter",
         "x": [
          0.5884819783781304,
          -0.11567764464898388,
          null
         ],
         "y": [
          0.4067043576839656,
          -0.16095911653946665,
          null
         ]
        },
        {
         "hoverinfo": "none",
         "line": {
          "color": "#888",
          "width": 2
         },
         "mode": "lines",
         "type": "scatter",
         "x": [
          0.5884819783781304,
          0.1546617066266627,
          null
         ],
         "y": [
          0.4067043576839656,
          -0.02762495726359837,
          null
         ]
        },
        {
         "hoverinfo": "none",
         "line": {
          "color": "#888",
          "width": 2
         },
         "mode": "lines",
         "type": "scatter",
         "x": [
          0.5884819783781304,
          0.051086209880543645,
          null
         ],
         "y": [
          0.4067043576839656,
          0.429616119670276,
          null
         ]
        },
        {
         "hoverinfo": "none",
         "line": {
          "color": "#888",
          "width": 2
         },
         "mode": "lines",
         "type": "scatter",
         "x": [
          0.5884819783781304,
          -0.36305421254688675,
          null
         ],
         "y": [
          0.4067043576839656,
          -0.20177855741627992,
          null
         ]
        },
        {
         "hoverinfo": "none",
         "line": {
          "color": "#888",
          "width": 2
         },
         "mode": "lines",
         "type": "scatter",
         "x": [
          0.5884819783781304,
          -0.19331327332060397,
          null
         ],
         "y": [
          0.4067043576839656,
          0.22614374347289604,
          null
         ]
        },
        {
         "hoverinfo": "none",
         "line": {
          "color": "#888",
          "width": 2
         },
         "mode": "lines",
         "type": "scatter",
         "x": [
          0.5884819783781304,
          0.8345557310971147,
          null
         ],
         "y": [
          0.4067043576839656,
          0.1634537308095975,
          null
         ]
        },
        {
         "hoverinfo": "none",
         "line": {
          "color": "#888",
          "width": 2
         },
         "mode": "lines",
         "type": "scatter",
         "x": [
          0.5884819783781304,
          0.33140291339451944,
          null
         ],
         "y": [
          0.4067043576839656,
          0.11951282082881991,
          null
         ]
        },
        {
         "hoverinfo": "none",
         "line": {
          "color": "#888",
          "width": 2
         },
         "mode": "lines",
         "type": "scatter",
         "x": [
          0.33140291339451944,
          0.4328493801987771,
          null
         ],
         "y": [
          0.11951282082881991,
          0.5538946361907251,
          null
         ]
        },
        {
         "hoverinfo": "none",
         "line": {
          "color": "#888",
          "width": 2
         },
         "mode": "lines",
         "type": "scatter",
         "x": [
          0.33140291339451944,
          0.4523977326688961,
          null
         ],
         "y": [
          0.11951282082881991,
          -0.6253299123351034,
          null
         ]
        },
        {
         "hoverinfo": "none",
         "line": {
          "color": "#888",
          "width": 2
         },
         "mode": "lines",
         "type": "scatter",
         "x": [
          0.33140291339451944,
          0.1546617066266627,
          null
         ],
         "y": [
          0.11951282082881991,
          -0.02762495726359837,
          null
         ]
        },
        {
         "hoverinfo": "none",
         "line": {
          "color": "#888",
          "width": 2
         },
         "mode": "lines",
         "type": "scatter",
         "x": [
          0.33140291339451944,
          0.051086209880543645,
          null
         ],
         "y": [
          0.11951282082881991,
          0.429616119670276,
          null
         ]
        },
        {
         "hoverinfo": "none",
         "line": {
          "color": "#888",
          "width": 2
         },
         "mode": "lines",
         "type": "scatter",
         "x": [
          0.33140291339451944,
          -0.5124719055916189,
          null
         ],
         "y": [
          0.11951282082881991,
          -0.29831800531790625,
          null
         ]
        },
        {
         "hoverinfo": "none",
         "line": {
          "color": "#888",
          "width": 2
         },
         "mode": "lines",
         "type": "scatter",
         "x": [
          0.33140291339451944,
          -0.24813582040557597,
          null
         ],
         "y": [
          0.11951282082881991,
          -0.027684807213380992,
          null
         ]
        },
        {
         "hoverinfo": "none",
         "line": {
          "color": "#888",
          "width": 2
         },
         "mode": "lines",
         "type": "scatter",
         "x": [
          0.33140291339451944,
          -0.19331327332060397,
          null
         ],
         "y": [
          0.11951282082881991,
          0.22614374347289604,
          null
         ]
        },
        {
         "hoverinfo": "none",
         "line": {
          "color": "#888",
          "width": 2
         },
         "mode": "lines",
         "type": "scatter",
         "x": [
          0.33140291339451944,
          -0.26022196376434464,
          null
         ],
         "y": [
          0.11951282082881991,
          0.7337976474168793,
          null
         ]
        },
        {
         "hoverinfo": "none",
         "line": {
          "color": "#888",
          "width": 2
         },
         "mode": "lines",
         "type": "scatter",
         "x": [
          0.33140291339451944,
          0.8345557310971147,
          null
         ],
         "y": [
          0.11951282082881991,
          0.1634537308095975,
          null
         ]
        },
        {
         "hoverinfo": "none",
         "line": {
          "color": "#888",
          "width": 2
         },
         "mode": "lines",
         "type": "scatter",
         "x": [
          0.4328493801987771,
          -0.012023071840863094,
          null
         ],
         "y": [
          0.5538946361907251,
          0.04776551965145535,
          null
         ]
        },
        {
         "hoverinfo": "none",
         "line": {
          "color": "#888",
          "width": 2
         },
         "mode": "lines",
         "type": "scatter",
         "x": [
          0.4328493801987771,
          0.0551996226154287,
          null
         ],
         "y": [
          0.5538946361907251,
          -0.26678928704315813,
          null
         ]
        },
        {
         "hoverinfo": "none",
         "line": {
          "color": "#888",
          "width": 2
         },
         "mode": "lines",
         "type": "scatter",
         "x": [
          0.4328493801987771,
          0.868650949264276,
          null
         ],
         "y": [
          0.5538946361907251,
          -0.10444132998223317,
          null
         ]
        },
        {
         "hoverinfo": "none",
         "line": {
          "color": "#888",
          "width": 2
         },
         "mode": "lines",
         "type": "scatter",
         "x": [
          0.4328493801987771,
          -0.3003383113451329,
          null
         ],
         "y": [
          0.5538946361907251,
          0.5975243321559691,
          null
         ]
        },
        {
         "hoverinfo": "none",
         "line": {
          "color": "#888",
          "width": 2
         },
         "mode": "lines",
         "type": "scatter",
         "x": [
          0.4328493801987771,
          -0.26022196376434464,
          null
         ],
         "y": [
          0.5538946361907251,
          0.7337976474168793,
          null
         ]
        },
        {
         "hoverinfo": "none",
         "line": {
          "color": "#888",
          "width": 2
         },
         "mode": "lines",
         "type": "scatter",
         "x": [
          0.4328493801987771,
          0.6337110635916902,
          null
         ],
         "y": [
          0.5538946361907251,
          -0.3535363588110571,
          null
         ]
        },
        {
         "hoverinfo": "none",
         "line": {
          "color": "#888",
          "width": 2
         },
         "mode": "lines",
         "type": "scatter",
         "x": [
          -0.012023071840863094,
          0.1546617066266627,
          null
         ],
         "y": [
          0.04776551965145535,
          -0.02762495726359837,
          null
         ]
        },
        {
         "hoverinfo": "none",
         "line": {
          "color": "#888",
          "width": 2
         },
         "mode": "lines",
         "type": "scatter",
         "x": [
          -0.012023071840863094,
          0.0551996226154287,
          null
         ],
         "y": [
          0.04776551965145535,
          -0.26678928704315813,
          null
         ]
        },
        {
         "hoverinfo": "none",
         "line": {
          "color": "#888",
          "width": 2
         },
         "mode": "lines",
         "type": "scatter",
         "x": [
          -0.012023071840863094,
          -0.42261697927544667,
          null
         ],
         "y": [
          0.04776551965145535,
          -0.7531129790898593,
          null
         ]
        },
        {
         "hoverinfo": "none",
         "line": {
          "color": "#888",
          "width": 2
         },
         "mode": "lines",
         "type": "scatter",
         "x": [
          -0.012023071840863094,
          -0.5124719055916189,
          null
         ],
         "y": [
          0.04776551965145535,
          -0.29831800531790625,
          null
         ]
        },
        {
         "hoverinfo": "none",
         "line": {
          "color": "#888",
          "width": 2
         },
         "mode": "lines",
         "type": "scatter",
         "x": [
          -0.012023071840863094,
          -0.2590082503788941,
          null
         ],
         "y": [
          0.04776551965145535,
          -0.554361776460813,
          null
         ]
        },
        {
         "hoverinfo": "none",
         "line": {
          "color": "#888",
          "width": 2
         },
         "mode": "lines",
         "type": "scatter",
         "x": [
          -0.012023071840863094,
          -0.19331327332060397,
          null
         ],
         "y": [
          0.04776551965145535,
          0.22614374347289604,
          null
         ]
        },
        {
         "hoverinfo": "none",
         "line": {
          "color": "#888",
          "width": 2
         },
         "mode": "lines",
         "type": "scatter",
         "x": [
          -0.012023071840863094,
          0.057315897081171144,
          null
         ],
         "y": [
          0.04776551965145535,
          0.5771478257025457,
          null
         ]
        },
        {
         "hoverinfo": "none",
         "line": {
          "color": "#888",
          "width": 2
         },
         "mode": "lines",
         "type": "scatter",
         "x": [
          -0.012023071840863094,
          0.13535534904928712,
          null
         ],
         "y": [
          0.04776551965145535,
          -0.40464069833633287,
          null
         ]
        },
        {
         "hoverinfo": "none",
         "line": {
          "color": "#888",
          "width": 2
         },
         "mode": "lines",
         "type": "scatter",
         "x": [
          0.0551996226154287,
          0.4523977326688961,
          null
         ],
         "y": [
          -0.26678928704315813,
          -0.6253299123351034,
          null
         ]
        },
        {
         "hoverinfo": "none",
         "line": {
          "color": "#888",
          "width": 2
         },
         "mode": "lines",
         "type": "scatter",
         "x": [
          0.0551996226154287,
          -0.42261697927544667,
          null
         ],
         "y": [
          -0.26678928704315813,
          -0.7531129790898593,
          null
         ]
        },
        {
         "hoverinfo": "none",
         "line": {
          "color": "#888",
          "width": 2
         },
         "mode": "lines",
         "type": "scatter",
         "x": [
          0.0551996226154287,
          -0.36305421254688675,
          null
         ],
         "y": [
          -0.26678928704315813,
          -0.20177855741627992,
          null
         ]
        },
        {
         "hoverinfo": "none",
         "line": {
          "color": "#888",
          "width": 2
         },
         "mode": "lines",
         "type": "scatter",
         "x": [
          0.0551996226154287,
          -0.3003383113451329,
          null
         ],
         "y": [
          -0.26678928704315813,
          0.5975243321559691,
          null
         ]
        },
        {
         "hoverinfo": "none",
         "line": {
          "color": "#888",
          "width": 2
         },
         "mode": "lines",
         "type": "scatter",
         "x": [
          0.0551996226154287,
          -0.14858186469163698,
          null
         ],
         "y": [
          -0.26678928704315813,
          -0.7037913023776443,
          null
         ]
        },
        {
         "hoverinfo": "none",
         "line": {
          "color": "#888",
          "width": 2
         },
         "mode": "lines",
         "type": "scatter",
         "x": [
          0.0551996226154287,
          0.6337110635916902,
          null
         ],
         "y": [
          -0.26678928704315813,
          -0.3535363588110571,
          null
         ]
        },
        {
         "hoverinfo": "none",
         "line": {
          "color": "#888",
          "width": 2
         },
         "mode": "lines",
         "type": "scatter",
         "x": [
          0.868650949264276,
          0.1546617066266627,
          null
         ],
         "y": [
          -0.10444132998223317,
          -0.02762495726359837,
          null
         ]
        },
        {
         "hoverinfo": "none",
         "line": {
          "color": "#888",
          "width": 2
         },
         "mode": "lines",
         "type": "scatter",
         "x": [
          0.868650949264276,
          -0.3750546815683805,
          null
         ],
         "y": [
          -0.10444132998223317,
          0.16233917125408356,
          null
         ]
        },
        {
         "hoverinfo": "none",
         "line": {
          "color": "#888",
          "width": 2
         },
         "mode": "lines",
         "type": "scatter",
         "x": [
          0.868650949264276,
          0.13535534904928712,
          null
         ],
         "y": [
          -0.10444132998223317,
          -0.40464069833633287,
          null
         ]
        },
        {
         "hoverinfo": "none",
         "line": {
          "color": "#888",
          "width": 2
         },
         "mode": "lines",
         "type": "scatter",
         "x": [
          -0.3003383113451329,
          -0.11567764464898388,
          null
         ],
         "y": [
          0.5975243321559691,
          -0.16095911653946665,
          null
         ]
        },
        {
         "hoverinfo": "none",
         "line": {
          "color": "#888",
          "width": 2
         },
         "mode": "lines",
         "type": "scatter",
         "x": [
          -0.3003383113451329,
          0.051086209880543645,
          null
         ],
         "y": [
          0.5975243321559691,
          0.429616119670276,
          null
         ]
        },
        {
         "hoverinfo": "none",
         "line": {
          "color": "#888",
          "width": 2
         },
         "mode": "lines",
         "type": "scatter",
         "x": [
          -0.3003383113451329,
          -0.6875502047544992,
          null
         ],
         "y": [
          0.5975243321559691,
          0.4155163495959592,
          null
         ]
        },
        {
         "hoverinfo": "none",
         "line": {
          "color": "#888",
          "width": 2
         },
         "mode": "lines",
         "type": "scatter",
         "x": [
          -0.3003383113451329,
          -0.19331327332060397,
          null
         ],
         "y": [
          0.5975243321559691,
          0.22614374347289604,
          null
         ]
        },
        {
         "hoverinfo": "none",
         "line": {
          "color": "#888",
          "width": 2
         },
         "mode": "lines",
         "type": "scatter",
         "x": [
          -0.3003383113451329,
          0.25981367419235923,
          null
         ],
         "y": [
          0.5975243321559691,
          0.44179898537270834,
          null
         ]
        },
        {
         "hoverinfo": "none",
         "line": {
          "color": "#888",
          "width": 2
         },
         "mode": "lines",
         "type": "scatter",
         "x": [
          -0.3003383113451329,
          -0.26022196376434464,
          null
         ],
         "y": [
          0.5975243321559691,
          0.7337976474168793,
          null
         ]
        },
        {
         "hoverinfo": "none",
         "line": {
          "color": "#888",
          "width": 2
         },
         "mode": "lines",
         "type": "scatter",
         "x": [
          -0.3003383113451329,
          -0.3750546815683805,
          null
         ],
         "y": [
          0.5975243321559691,
          0.16233917125408356,
          null
         ]
        },
        {
         "hoverinfo": "none",
         "line": {
          "color": "#888",
          "width": 2
         },
         "mode": "lines",
         "type": "scatter",
         "x": [
          -0.26022196376434464,
          -0.2590082503788941,
          null
         ],
         "y": [
          0.7337976474168793,
          -0.554361776460813,
          null
         ]
        },
        {
         "hoverinfo": "none",
         "line": {
          "color": "#888",
          "width": 2
         },
         "mode": "lines",
         "type": "scatter",
         "x": [
          -0.26022196376434464,
          -0.24813582040557597,
          null
         ],
         "y": [
          0.7337976474168793,
          -0.027684807213380992,
          null
         ]
        },
        {
         "hoverinfo": "none",
         "line": {
          "color": "#888",
          "width": 2
         },
         "mode": "lines",
         "type": "scatter",
         "x": [
          0.6337110635916902,
          -0.42261697927544667,
          null
         ],
         "y": [
          -0.3535363588110571,
          -0.7531129790898593,
          null
         ]
        },
        {
         "hoverinfo": "none",
         "line": {
          "color": "#888",
          "width": 2
         },
         "mode": "lines",
         "type": "scatter",
         "x": [
          0.6337110635916902,
          -0.2590082503788941,
          null
         ],
         "y": [
          -0.3535363588110571,
          -0.554361776460813,
          null
         ]
        },
        {
         "hoverinfo": "none",
         "line": {
          "color": "#888",
          "width": 2
         },
         "mode": "lines",
         "type": "scatter",
         "x": [
          0.6337110635916902,
          0.057315897081171144,
          null
         ],
         "y": [
          -0.3535363588110571,
          0.5771478257025457,
          null
         ]
        },
        {
         "hoverinfo": "none",
         "line": {
          "color": "#888",
          "width": 2
         },
         "mode": "lines",
         "type": "scatter",
         "x": [
          0.1546617066266627,
          -0.42261697927544667,
          null
         ],
         "y": [
          -0.02762495726359837,
          -0.7531129790898593,
          null
         ]
        },
        {
         "hoverinfo": "none",
         "line": {
          "color": "#888",
          "width": 2
         },
         "mode": "lines",
         "type": "scatter",
         "x": [
          0.1546617066266627,
          -0.6875502047544992,
          null
         ],
         "y": [
          -0.02762495726359837,
          0.4155163495959592,
          null
         ]
        },
        {
         "hoverinfo": "none",
         "line": {
          "color": "#888",
          "width": 2
         },
         "mode": "lines",
         "type": "scatter",
         "x": [
          0.1546617066266627,
          -0.2590082503788941,
          null
         ],
         "y": [
          -0.02762495726359837,
          -0.554361776460813,
          null
         ]
        },
        {
         "hoverinfo": "none",
         "line": {
          "color": "#888",
          "width": 2
         },
         "mode": "lines",
         "type": "scatter",
         "x": [
          0.1546617066266627,
          -0.24813582040557597,
          null
         ],
         "y": [
          -0.02762495726359837,
          -0.027684807213380992,
          null
         ]
        },
        {
         "hoverinfo": "none",
         "line": {
          "color": "#888",
          "width": 2
         },
         "mode": "lines",
         "type": "scatter",
         "x": [
          0.1546617066266627,
          -0.3750546815683805,
          null
         ],
         "y": [
          -0.02762495726359837,
          0.16233917125408356,
          null
         ]
        },
        {
         "hoverinfo": "none",
         "line": {
          "color": "#888",
          "width": 2
         },
         "mode": "lines",
         "type": "scatter",
         "x": [
          0.1546617066266627,
          0.8345557310971147,
          null
         ],
         "y": [
          -0.02762495726359837,
          0.1634537308095975,
          null
         ]
        },
        {
         "hoverinfo": "none",
         "line": {
          "color": "#888",
          "width": 2
         },
         "mode": "lines",
         "type": "scatter",
         "x": [
          0.1546617066266627,
          -0.16200467070209576,
          null
         ],
         "y": [
          -0.02762495726359837,
          -0.334067522266607,
          null
         ]
        },
        {
         "hoverinfo": "none",
         "line": {
          "color": "#888",
          "width": 2
         },
         "mode": "lines",
         "type": "scatter",
         "x": [
          0.1546617066266627,
          0.13535534904928712,
          null
         ],
         "y": [
          -0.02762495726359837,
          -0.40464069833633287,
          null
         ]
        },
        {
         "hoverinfo": "none",
         "line": {
          "color": "#888",
          "width": 2
         },
         "mode": "lines",
         "type": "scatter",
         "x": [
          0.051086209880543645,
          -0.6875502047544992,
          null
         ],
         "y": [
          0.429616119670276,
          0.4155163495959592,
          null
         ]
        },
        {
         "hoverinfo": "none",
         "line": {
          "color": "#888",
          "width": 2
         },
         "mode": "lines",
         "type": "scatter",
         "x": [
          0.051086209880543645,
          -0.24813582040557597,
          null
         ],
         "y": [
          0.429616119670276,
          -0.027684807213380992,
          null
         ]
        },
        {
         "hoverinfo": "none",
         "line": {
          "color": "#888",
          "width": 2
         },
         "mode": "lines",
         "type": "scatter",
         "x": [
          0.051086209880543645,
          -0.19331327332060397,
          null
         ],
         "y": [
          0.429616119670276,
          0.22614374347289604,
          null
         ]
        },
        {
         "hoverinfo": "none",
         "line": {
          "color": "#888",
          "width": 2
         },
         "mode": "lines",
         "type": "scatter",
         "x": [
          0.051086209880543645,
          0.25981367419235923,
          null
         ],
         "y": [
          0.429616119670276,
          0.44179898537270834,
          null
         ]
        },
        {
         "hoverinfo": "none",
         "line": {
          "color": "#888",
          "width": 2
         },
         "mode": "lines",
         "type": "scatter",
         "x": [
          0.051086209880543645,
          -0.3750546815683805,
          null
         ],
         "y": [
          0.429616119670276,
          0.16233917125408356,
          null
         ]
        },
        {
         "hoverinfo": "none",
         "line": {
          "color": "#888",
          "width": 2
         },
         "mode": "lines",
         "type": "scatter",
         "x": [
          0.051086209880543645,
          -0.16200467070209576,
          null
         ],
         "y": [
          0.429616119670276,
          -0.334067522266607,
          null
         ]
        },
        {
         "hoverinfo": "none",
         "line": {
          "color": "#888",
          "width": 2
         },
         "mode": "lines",
         "type": "scatter",
         "x": [
          -0.3410151930485177,
          0.4523977326688961,
          null
         ],
         "y": [
          -0.38147315044409735,
          -0.6253299123351034,
          null
         ]
        },
        {
         "hoverinfo": "none",
         "line": {
          "color": "#888",
          "width": 2
         },
         "mode": "lines",
         "type": "scatter",
         "x": [
          -0.3410151930485177,
          -0.2590082503788941,
          null
         ],
         "y": [
          -0.38147315044409735,
          -0.554361776460813,
          null
         ]
        },
        {
         "hoverinfo": "none",
         "line": {
          "color": "#888",
          "width": 2
         },
         "mode": "lines",
         "type": "scatter",
         "x": [
          -0.3410151930485177,
          -0.3750546815683805,
          null
         ],
         "y": [
          -0.38147315044409735,
          0.16233917125408356,
          null
         ]
        },
        {
         "hoverinfo": "none",
         "line": {
          "color": "#888",
          "width": 2
         },
         "mode": "lines",
         "type": "scatter",
         "x": [
          -0.19331327332060397,
          -0.11567764464898388,
          null
         ],
         "y": [
          0.22614374347289604,
          -0.16095911653946665,
          null
         ]
        },
        {
         "hoverinfo": "none",
         "line": {
          "color": "#888",
          "width": 2
         },
         "mode": "lines",
         "type": "scatter",
         "x": [
          -0.19331327332060397,
          -0.36305421254688675,
          null
         ],
         "y": [
          0.22614374347289604,
          -0.20177855741627992,
          null
         ]
        },
        {
         "hoverinfo": "none",
         "line": {
          "color": "#888",
          "width": 2
         },
         "mode": "lines",
         "type": "scatter",
         "x": [
          -0.19331327332060397,
          -0.6875502047544992,
          null
         ],
         "y": [
          0.22614374347289604,
          0.4155163495959592,
          null
         ]
        },
        {
         "hoverinfo": "none",
         "line": {
          "color": "#888",
          "width": 2
         },
         "mode": "lines",
         "type": "scatter",
         "x": [
          -0.19331327332060397,
          -0.2590082503788941,
          null
         ],
         "y": [
          0.22614374347289604,
          -0.554361776460813,
          null
         ]
        },
        {
         "hoverinfo": "none",
         "line": {
          "color": "#888",
          "width": 2
         },
         "mode": "lines",
         "type": "scatter",
         "x": [
          -0.19331327332060397,
          0.25981367419235923,
          null
         ],
         "y": [
          0.22614374347289604,
          0.44179898537270834,
          null
         ]
        },
        {
         "hoverinfo": "none",
         "line": {
          "color": "#888",
          "width": 2
         },
         "mode": "lines",
         "type": "scatter",
         "x": [
          -0.19331327332060397,
          -0.16200467070209576,
          null
         ],
         "y": [
          0.22614374347289604,
          -0.334067522266607,
          null
         ]
        },
        {
         "hoverinfo": "none",
         "line": {
          "color": "#888",
          "width": 2
         },
         "mode": "lines",
         "type": "scatter",
         "x": [
          -0.19331327332060397,
          0.13535534904928712,
          null
         ],
         "y": [
          0.22614374347289604,
          -0.40464069833633287,
          null
         ]
        },
        {
         "hoverinfo": "none",
         "line": {
          "color": "#888",
          "width": 2
         },
         "mode": "lines",
         "type": "scatter",
         "x": [
          0.8345557310971147,
          0.4523977326688961,
          null
         ],
         "y": [
          0.1634537308095975,
          -0.6253299123351034,
          null
         ]
        },
        {
         "hoverinfo": "none",
         "line": {
          "color": "#888",
          "width": 2
         },
         "mode": "lines",
         "type": "scatter",
         "x": [
          0.8345557310971147,
          0.25981367419235923,
          null
         ],
         "y": [
          0.1634537308095975,
          0.44179898537270834,
          null
         ]
        },
        {
         "hoverinfo": "none",
         "line": {
          "color": "#888",
          "width": 2
         },
         "mode": "lines",
         "type": "scatter",
         "x": [
          0.4523977326688961,
          -0.2590082503788941,
          null
         ],
         "y": [
          -0.6253299123351034,
          -0.554361776460813,
          null
         ]
        },
        {
         "hoverinfo": "none",
         "line": {
          "color": "#888",
          "width": 2
         },
         "mode": "lines",
         "type": "scatter",
         "x": [
          0.4523977326688961,
          0.13535534904928712,
          null
         ],
         "y": [
          -0.6253299123351034,
          -0.40464069833633287,
          null
         ]
        },
        {
         "hoverinfo": "none",
         "line": {
          "color": "#888",
          "width": 2
         },
         "mode": "lines",
         "type": "scatter",
         "x": [
          -0.2590082503788941,
          -0.42261697927544667,
          null
         ],
         "y": [
          -0.554361776460813,
          -0.7531129790898593,
          null
         ]
        },
        {
         "hoverinfo": "none",
         "line": {
          "color": "#888",
          "width": 2
         },
         "mode": "lines",
         "type": "scatter",
         "x": [
          -0.2590082503788941,
          -0.5124719055916189,
          null
         ],
         "y": [
          -0.554361776460813,
          -0.29831800531790625,
          null
         ]
        },
        {
         "hoverinfo": "none",
         "line": {
          "color": "#888",
          "width": 2
         },
         "mode": "lines",
         "type": "scatter",
         "x": [
          -0.2590082503788941,
          -0.14858186469163698,
          null
         ],
         "y": [
          -0.554361776460813,
          -0.7037913023776443,
          null
         ]
        },
        {
         "hoverinfo": "none",
         "line": {
          "color": "#888",
          "width": 2
         },
         "mode": "lines",
         "type": "scatter",
         "x": [
          -0.2590082503788941,
          -0.24813582040557597,
          null
         ],
         "y": [
          -0.554361776460813,
          -0.027684807213380992,
          null
         ]
        },
        {
         "hoverinfo": "none",
         "line": {
          "color": "#888",
          "width": 2
         },
         "mode": "lines",
         "type": "scatter",
         "x": [
          0.13535534904928712,
          -0.36305421254688675,
          null
         ],
         "y": [
          -0.40464069833633287,
          -0.20177855741627992,
          null
         ]
        },
        {
         "hoverinfo": "none",
         "line": {
          "color": "#888",
          "width": 2
         },
         "mode": "lines",
         "type": "scatter",
         "x": [
          0.13535534904928712,
          -0.14858186469163698,
          null
         ],
         "y": [
          -0.40464069833633287,
          -0.7037913023776443,
          null
         ]
        },
        {
         "hoverinfo": "none",
         "line": {
          "color": "#888",
          "width": 2
         },
         "mode": "lines",
         "type": "scatter",
         "x": [
          0.13535534904928712,
          0.25981367419235923,
          null
         ],
         "y": [
          -0.40464069833633287,
          0.44179898537270834,
          null
         ]
        },
        {
         "hoverinfo": "none",
         "line": {
          "color": "#888",
          "width": 2
         },
         "mode": "lines",
         "type": "scatter",
         "x": [
          0.13535534904928712,
          -0.16200467070209576,
          null
         ],
         "y": [
          -0.40464069833633287,
          -0.334067522266607,
          null
         ]
        },
        {
         "hoverinfo": "none",
         "line": {
          "color": "#888",
          "width": 2
         },
         "mode": "lines",
         "type": "scatter",
         "x": [
          -0.6875502047544992,
          -0.11567764464898388,
          null
         ],
         "y": [
          0.4155163495959592,
          -0.16095911653946665,
          null
         ]
        },
        {
         "hoverinfo": "none",
         "line": {
          "color": "#888",
          "width": 2
         },
         "mode": "lines",
         "type": "scatter",
         "x": [
          -0.24813582040557597,
          -0.36305421254688675,
          null
         ],
         "y": [
          -0.027684807213380992,
          -0.20177855741627992,
          null
         ]
        },
        {
         "hoverinfo": "none",
         "line": {
          "color": "#888",
          "width": 2
         },
         "mode": "lines",
         "type": "scatter",
         "x": [
          -0.24813582040557597,
          -0.6263266874906048,
          null
         ],
         "y": [
          -0.027684807213380992,
          -0.5877336887740254,
          null
         ]
        },
        {
         "hoverinfo": "none",
         "line": {
          "color": "#888",
          "width": 2
         },
         "mode": "lines",
         "type": "scatter",
         "x": [
          -0.24813582040557597,
          0.25981367419235923,
          null
         ],
         "y": [
          -0.027684807213380992,
          0.44179898537270834,
          null
         ]
        },
        {
         "hoverinfo": "none",
         "line": {
          "color": "#888",
          "width": 2
         },
         "mode": "lines",
         "type": "scatter",
         "x": [
          -0.3750546815683805,
          -0.11567764464898388,
          null
         ],
         "y": [
          0.16233917125408356,
          -0.16095911653946665,
          null
         ]
        },
        {
         "hoverinfo": "none",
         "line": {
          "color": "#888",
          "width": 2
         },
         "mode": "lines",
         "type": "scatter",
         "x": [
          -0.3750546815683805,
          -0.42261697927544667,
          null
         ],
         "y": [
          0.16233917125408356,
          -0.7531129790898593,
          null
         ]
        },
        {
         "hoverinfo": "none",
         "line": {
          "color": "#888",
          "width": 2
         },
         "mode": "lines",
         "type": "scatter",
         "x": [
          -0.3750546815683805,
          0.057315897081171144,
          null
         ],
         "y": [
          0.16233917125408356,
          0.5771478257025457,
          null
         ]
        },
        {
         "hoverinfo": "none",
         "line": {
          "color": "#888",
          "width": 2
         },
         "mode": "lines",
         "type": "scatter",
         "x": [
          -0.11567764464898388,
          -0.36305421254688675,
          null
         ],
         "y": [
          -0.16095911653946665,
          -0.20177855741627992,
          null
         ]
        },
        {
         "hoverinfo": "none",
         "line": {
          "color": "#888",
          "width": 2
         },
         "mode": "lines",
         "type": "scatter",
         "x": [
          -0.11567764464898388,
          -0.6263266874906048,
          null
         ],
         "y": [
          -0.16095911653946665,
          -0.5877336887740254,
          null
         ]
        },
        {
         "hoverinfo": "none",
         "line": {
          "color": "#888",
          "width": 2
         },
         "mode": "lines",
         "type": "scatter",
         "x": [
          -0.11567764464898388,
          -0.14858186469163698,
          null
         ],
         "y": [
          -0.16095911653946665,
          -0.7037913023776443,
          null
         ]
        },
        {
         "hoverinfo": "none",
         "line": {
          "color": "#888",
          "width": 2
         },
         "mode": "lines",
         "type": "scatter",
         "x": [
          -0.11567764464898388,
          -0.16200467070209576,
          null
         ],
         "y": [
          -0.16095911653946665,
          -0.334067522266607,
          null
         ]
        },
        {
         "hoverinfo": "none",
         "line": {
          "color": "#888",
          "width": 2
         },
         "mode": "lines",
         "type": "scatter",
         "x": [
          -0.36305421254688675,
          -0.6263266874906048,
          null
         ],
         "y": [
          -0.20177855741627992,
          -0.5877336887740254,
          null
         ]
        },
        {
         "hoverinfo": "none",
         "line": {
          "color": "#888",
          "width": 2
         },
         "mode": "lines",
         "type": "scatter",
         "x": [
          -0.36305421254688675,
          -0.14858186469163698,
          null
         ],
         "y": [
          -0.20177855741627992,
          -0.7037913023776443,
          null
         ]
        },
        {
         "hoverinfo": "none",
         "line": {
          "color": "#888",
          "width": 2
         },
         "mode": "lines",
         "type": "scatter",
         "x": [
          -0.6263266874906048,
          -0.42261697927544667,
          null
         ],
         "y": [
          -0.5877336887740254,
          -0.7531129790898593,
          null
         ]
        },
        {
         "hoverinfo": "none",
         "line": {
          "color": "#888",
          "width": 2
         },
         "mode": "lines",
         "type": "scatter",
         "x": [
          -0.6263266874906048,
          -0.5124719055916189,
          null
         ],
         "y": [
          -0.5877336887740254,
          -0.29831800531790625,
          null
         ]
        },
        {
         "hoverinfo": "none",
         "line": {
          "color": "#888",
          "width": 2
         },
         "mode": "lines",
         "type": "scatter",
         "x": [
          -0.6263266874906048,
          -0.14858186469163698,
          null
         ],
         "y": [
          -0.5877336887740254,
          -0.7037913023776443,
          null
         ]
        },
        {
         "hoverinfo": "none",
         "line": {
          "color": "#888",
          "width": 2
         },
         "mode": "lines",
         "type": "scatter",
         "x": [
          -0.6263266874906048,
          0.25981367419235923,
          null
         ],
         "y": [
          -0.5877336887740254,
          0.44179898537270834,
          null
         ]
        },
        {
         "hoverinfo": "none",
         "line": {
          "color": "#888",
          "width": 2
         },
         "mode": "lines",
         "type": "scatter",
         "x": [
          -0.14858186469163698,
          -0.42261697927544667,
          null
         ],
         "y": [
          -0.7037913023776443,
          -0.7531129790898593,
          null
         ]
        },
        {
         "hoverinfo": "none",
         "line": {
          "color": "#888",
          "width": 2
         },
         "mode": "lines",
         "type": "scatter",
         "x": [
          -0.14858186469163698,
          -0.5124719055916189,
          null
         ],
         "y": [
          -0.7037913023776443,
          -0.29831800531790625,
          null
         ]
        },
        {
         "hoverinfo": "none",
         "line": {
          "color": "#888",
          "width": 2
         },
         "mode": "lines",
         "type": "scatter",
         "x": [
          -0.16200467070209576,
          0.057315897081171144,
          null
         ],
         "y": [
          -0.334067522266607,
          0.5771478257025457,
          null
         ]
        },
        {
         "hoverinfo": "none",
         "line": {
          "color": "#888",
          "width": 2
         },
         "mode": "lines",
         "type": "scatter",
         "x": [
          -0.42261697927544667,
          -0.5124719055916189,
          null
         ],
         "y": [
          -0.7531129790898593,
          -0.29831800531790625,
          null
         ]
        },
        {
         "hoverinfo": "none",
         "line": {
          "color": "#888",
          "width": 2
         },
         "mode": "lines",
         "type": "scatter",
         "x": [
          -0.5124719055916189,
          0.057315897081171144,
          null
         ],
         "y": [
          -0.29831800531790625,
          0.5771478257025457,
          null
         ]
        },
        {
         "hoverinfo": "text",
         "marker": {
          "colorbar": {
           "thickness": 15,
           "title": {
            "side": "right",
            "text": "Node Connections"
           },
           "xanchor": "left"
          },
          "colorscale": [
           [
            0,
            "rgb(255,255,217)"
           ],
           [
            0.125,
            "rgb(237,248,177)"
           ],
           [
            0.25,
            "rgb(199,233,180)"
           ],
           [
            0.375,
            "rgb(127,205,187)"
           ],
           [
            0.5,
            "rgb(65,182,196)"
           ],
           [
            0.625,
            "rgb(29,145,192)"
           ],
           [
            0.75,
            "rgb(34,94,168)"
           ],
           [
            0.875,
            "rgb(37,52,148)"
           ],
           [
            1,
            "rgb(8,29,88)"
           ]
          ],
          "showscale": true,
          "size": 10
         },
         "mode": "markers+text",
         "text": [
          "0",
          "3",
          "5",
          "8",
          "10",
          "42",
          "43",
          "45",
          "49",
          "1",
          "13",
          "15",
          "16",
          "20",
          "22",
          "24",
          "25",
          "27",
          "31",
          "35",
          "39",
          "46",
          "47",
          "2",
          "9",
          "12",
          "21",
          "28",
          "36",
          "48",
          "7",
          "11",
          "30",
          "33",
          "40",
          "4",
          "26",
          "44",
          "18",
          "32",
          "37",
          "6",
          "17",
          "23",
          "29",
          "41",
          "14",
          "34",
          "19",
          "38"
         ],
         "textposition": "top center",
         "type": "scatter",
         "x": [
          -0.6322815429706384,
          0.22803540913505493,
          -0.04820350684316548,
          -0.16924612301918487,
          -0.5356705281652924,
          -0.47993569670143393,
          -0.4491929074852744,
          0.13559764861571055,
          -0.6175825019745628,
          0.5358652409370825,
          0.05677327529841889,
          0.2999514981426229,
          0.3821023896995385,
          0.26445791221340403,
          0.017094203480625594,
          0.764873553425225,
          0.8826853304385002,
          0.18572118500273385,
          0.2477290325527497,
          -0.05170838622786239,
          -0.8451529582190194,
          0.5884819783781304,
          0.33140291339451944,
          0.4328493801987771,
          -0.012023071840863094,
          0.0551996226154287,
          0.868650949264276,
          -0.3003383113451329,
          -0.26022196376434464,
          0.6337110635916902,
          0.1546617066266627,
          0.051086209880543645,
          -0.3410151930485177,
          -0.19331327332060397,
          0.8345557310971147,
          0.4523977326688961,
          -0.2590082503788941,
          0.13535534904928712,
          -0.6875502047544992,
          -0.24813582040557597,
          -0.3750546815683805,
          -0.11567764464898388,
          -0.36305421254688675,
          -0.6263266874906048,
          -0.14858186469163698,
          -0.16200467070209576,
          -0.42261697927544667,
          0.25981367419235923,
          -0.5124719055916189,
          0.057315897081171144
         ],
         "y": [
          0.8963698265993094,
          0.7428195373598349,
          0.7098694932146151,
          0.4290146825550163,
          0.4654912652098567,
          0.2741254479581376,
          0.016777651467562243,
          0.1487690260573683,
          0.02082924849558535,
          -0.15887005322720396,
          -1,
          -0.3796568383765987,
          -0.11641047261347395,
          -0.11924353859101533,
          -0.48695407013698794,
          -0.5254510463358661,
          0.3629184598043928,
          -0.6380760364383304,
          0.26681275750771183,
          0.19591957026207413,
          -0.19462670090631123,
          0.4067043576839656,
          0.11951282082881991,
          0.5538946361907251,
          0.04776551965145535,
          -0.26678928704315813,
          -0.10444132998223317,
          0.5975243321559691,
          0.7337976474168793,
          -0.3535363588110571,
          -0.02762495726359837,
          0.429616119670276,
          -0.38147315044409735,
          0.22614374347289604,
          0.1634537308095975,
          -0.6253299123351034,
          -0.554361776460813,
          -0.40464069833633287,
          0.4155163495959592,
          -0.027684807213380992,
          0.16233917125408356,
          -0.16095911653946665,
          -0.20177855741627992,
          -0.5877336887740254,
          -0.7037913023776443,
          -0.334067522266607,
          -0.7531129790898593,
          0.44179898537270834,
          -0.29831800531790625,
          0.5771478257025457
         ]
        }
       ],
       "layout": {
        "autosize": true,
        "hovermode": "closest",
        "margin": {
         "b": 0,
         "l": 0,
         "r": 0,
         "t": 0
        },
        "showlegend": false,
        "template": {
         "data": {
          "bar": [
           {
            "error_x": {
             "color": "#2a3f5f"
            },
            "error_y": {
             "color": "#2a3f5f"
            },
            "marker": {
             "line": {
              "color": "#E5ECF6",
              "width": 0.5
             },
             "pattern": {
              "fillmode": "overlay",
              "size": 10,
              "solidity": 0.2
             }
            },
            "type": "bar"
           }
          ],
          "barpolar": [
           {
            "marker": {
             "line": {
              "color": "#E5ECF6",
              "width": 0.5
             },
             "pattern": {
              "fillmode": "overlay",
              "size": 10,
              "solidity": 0.2
             }
            },
            "type": "barpolar"
           }
          ],
          "carpet": [
           {
            "aaxis": {
             "endlinecolor": "#2a3f5f",
             "gridcolor": "white",
             "linecolor": "white",
             "minorgridcolor": "white",
             "startlinecolor": "#2a3f5f"
            },
            "baxis": {
             "endlinecolor": "#2a3f5f",
             "gridcolor": "white",
             "linecolor": "white",
             "minorgridcolor": "white",
             "startlinecolor": "#2a3f5f"
            },
            "type": "carpet"
           }
          ],
          "choropleth": [
           {
            "colorbar": {
             "outlinewidth": 0,
             "ticks": ""
            },
            "type": "choropleth"
           }
          ],
          "contour": [
           {
            "colorbar": {
             "outlinewidth": 0,
             "ticks": ""
            },
            "colorscale": [
             [
              0,
              "#0d0887"
             ],
             [
              0.1111111111111111,
              "#46039f"
             ],
             [
              0.2222222222222222,
              "#7201a8"
             ],
             [
              0.3333333333333333,
              "#9c179e"
             ],
             [
              0.4444444444444444,
              "#bd3786"
             ],
             [
              0.5555555555555556,
              "#d8576b"
             ],
             [
              0.6666666666666666,
              "#ed7953"
             ],
             [
              0.7777777777777778,
              "#fb9f3a"
             ],
             [
              0.8888888888888888,
              "#fdca26"
             ],
             [
              1,
              "#f0f921"
             ]
            ],
            "type": "contour"
           }
          ],
          "contourcarpet": [
           {
            "colorbar": {
             "outlinewidth": 0,
             "ticks": ""
            },
            "type": "contourcarpet"
           }
          ],
          "heatmap": [
           {
            "colorbar": {
             "outlinewidth": 0,
             "ticks": ""
            },
            "colorscale": [
             [
              0,
              "#0d0887"
             ],
             [
              0.1111111111111111,
              "#46039f"
             ],
             [
              0.2222222222222222,
              "#7201a8"
             ],
             [
              0.3333333333333333,
              "#9c179e"
             ],
             [
              0.4444444444444444,
              "#bd3786"
             ],
             [
              0.5555555555555556,
              "#d8576b"
             ],
             [
              0.6666666666666666,
              "#ed7953"
             ],
             [
              0.7777777777777778,
              "#fb9f3a"
             ],
             [
              0.8888888888888888,
              "#fdca26"
             ],
             [
              1,
              "#f0f921"
             ]
            ],
            "type": "heatmap"
           }
          ],
          "heatmapgl": [
           {
            "colorbar": {
             "outlinewidth": 0,
             "ticks": ""
            },
            "colorscale": [
             [
              0,
              "#0d0887"
             ],
             [
              0.1111111111111111,
              "#46039f"
             ],
             [
              0.2222222222222222,
              "#7201a8"
             ],
             [
              0.3333333333333333,
              "#9c179e"
             ],
             [
              0.4444444444444444,
              "#bd3786"
             ],
             [
              0.5555555555555556,
              "#d8576b"
             ],
             [
              0.6666666666666666,
              "#ed7953"
             ],
             [
              0.7777777777777778,
              "#fb9f3a"
             ],
             [
              0.8888888888888888,
              "#fdca26"
             ],
             [
              1,
              "#f0f921"
             ]
            ],
            "type": "heatmapgl"
           }
          ],
          "histogram": [
           {
            "marker": {
             "pattern": {
              "fillmode": "overlay",
              "size": 10,
              "solidity": 0.2
             }
            },
            "type": "histogram"
           }
          ],
          "histogram2d": [
           {
            "colorbar": {
             "outlinewidth": 0,
             "ticks": ""
            },
            "colorscale": [
             [
              0,
              "#0d0887"
             ],
             [
              0.1111111111111111,
              "#46039f"
             ],
             [
              0.2222222222222222,
              "#7201a8"
             ],
             [
              0.3333333333333333,
              "#9c179e"
             ],
             [
              0.4444444444444444,
              "#bd3786"
             ],
             [
              0.5555555555555556,
              "#d8576b"
             ],
             [
              0.6666666666666666,
              "#ed7953"
             ],
             [
              0.7777777777777778,
              "#fb9f3a"
             ],
             [
              0.8888888888888888,
              "#fdca26"
             ],
             [
              1,
              "#f0f921"
             ]
            ],
            "type": "histogram2d"
           }
          ],
          "histogram2dcontour": [
           {
            "colorbar": {
             "outlinewidth": 0,
             "ticks": ""
            },
            "colorscale": [
             [
              0,
              "#0d0887"
             ],
             [
              0.1111111111111111,
              "#46039f"
             ],
             [
              0.2222222222222222,
              "#7201a8"
             ],
             [
              0.3333333333333333,
              "#9c179e"
             ],
             [
              0.4444444444444444,
              "#bd3786"
             ],
             [
              0.5555555555555556,
              "#d8576b"
             ],
             [
              0.6666666666666666,
              "#ed7953"
             ],
             [
              0.7777777777777778,
              "#fb9f3a"
             ],
             [
              0.8888888888888888,
              "#fdca26"
             ],
             [
              1,
              "#f0f921"
             ]
            ],
            "type": "histogram2dcontour"
           }
          ],
          "mesh3d": [
           {
            "colorbar": {
             "outlinewidth": 0,
             "ticks": ""
            },
            "type": "mesh3d"
           }
          ],
          "parcoords": [
           {
            "line": {
             "colorbar": {
              "outlinewidth": 0,
              "ticks": ""
             }
            },
            "type": "parcoords"
           }
          ],
          "pie": [
           {
            "automargin": true,
            "type": "pie"
           }
          ],
          "scatter": [
           {
            "fillpattern": {
             "fillmode": "overlay",
             "size": 10,
             "solidity": 0.2
            },
            "type": "scatter"
           }
          ],
          "scatter3d": [
           {
            "line": {
             "colorbar": {
              "outlinewidth": 0,
              "ticks": ""
             }
            },
            "marker": {
             "colorbar": {
              "outlinewidth": 0,
              "ticks": ""
             }
            },
            "type": "scatter3d"
           }
          ],
          "scattercarpet": [
           {
            "marker": {
             "colorbar": {
              "outlinewidth": 0,
              "ticks": ""
             }
            },
            "type": "scattercarpet"
           }
          ],
          "scattergeo": [
           {
            "marker": {
             "colorbar": {
              "outlinewidth": 0,
              "ticks": ""
             }
            },
            "type": "scattergeo"
           }
          ],
          "scattergl": [
           {
            "marker": {
             "colorbar": {
              "outlinewidth": 0,
              "ticks": ""
             }
            },
            "type": "scattergl"
           }
          ],
          "scattermapbox": [
           {
            "marker": {
             "colorbar": {
              "outlinewidth": 0,
              "ticks": ""
             }
            },
            "type": "scattermapbox"
           }
          ],
          "scatterpolar": [
           {
            "marker": {
             "colorbar": {
              "outlinewidth": 0,
              "ticks": ""
             }
            },
            "type": "scatterpolar"
           }
          ],
          "scatterpolargl": [
           {
            "marker": {
             "colorbar": {
              "outlinewidth": 0,
              "ticks": ""
             }
            },
            "type": "scatterpolargl"
           }
          ],
          "scatterternary": [
           {
            "marker": {
             "colorbar": {
              "outlinewidth": 0,
              "ticks": ""
             }
            },
            "type": "scatterternary"
           }
          ],
          "surface": [
           {
            "colorbar": {
             "outlinewidth": 0,
             "ticks": ""
            },
            "colorscale": [
             [
              0,
              "#0d0887"
             ],
             [
              0.1111111111111111,
              "#46039f"
             ],
             [
              0.2222222222222222,
              "#7201a8"
             ],
             [
              0.3333333333333333,
              "#9c179e"
             ],
             [
              0.4444444444444444,
              "#bd3786"
             ],
             [
              0.5555555555555556,
              "#d8576b"
             ],
             [
              0.6666666666666666,
              "#ed7953"
             ],
             [
              0.7777777777777778,
              "#fb9f3a"
             ],
             [
              0.8888888888888888,
              "#fdca26"
             ],
             [
              1,
              "#f0f921"
             ]
            ],
            "type": "surface"
           }
          ],
          "table": [
           {
            "cells": {
             "fill": {
              "color": "#EBF0F8"
             },
             "line": {
              "color": "white"
             }
            },
            "header": {
             "fill": {
              "color": "#C8D4E3"
             },
             "line": {
              "color": "white"
             }
            },
            "type": "table"
           }
          ]
         },
         "layout": {
          "annotationdefaults": {
           "arrowcolor": "#2a3f5f",
           "arrowhead": 0,
           "arrowwidth": 1
          },
          "autotypenumbers": "strict",
          "coloraxis": {
           "colorbar": {
            "outlinewidth": 0,
            "ticks": ""
           }
          },
          "colorscale": {
           "diverging": [
            [
             0,
             "#8e0152"
            ],
            [
             0.1,
             "#c51b7d"
            ],
            [
             0.2,
             "#de77ae"
            ],
            [
             0.3,
             "#f1b6da"
            ],
            [
             0.4,
             "#fde0ef"
            ],
            [
             0.5,
             "#f7f7f7"
            ],
            [
             0.6,
             "#e6f5d0"
            ],
            [
             0.7,
             "#b8e186"
            ],
            [
             0.8,
             "#7fbc41"
            ],
            [
             0.9,
             "#4d9221"
            ],
            [
             1,
             "#276419"
            ]
           ],
           "sequential": [
            [
             0,
             "#0d0887"
            ],
            [
             0.1111111111111111,
             "#46039f"
            ],
            [
             0.2222222222222222,
             "#7201a8"
            ],
            [
             0.3333333333333333,
             "#9c179e"
            ],
            [
             0.4444444444444444,
             "#bd3786"
            ],
            [
             0.5555555555555556,
             "#d8576b"
            ],
            [
             0.6666666666666666,
             "#ed7953"
            ],
            [
             0.7777777777777778,
             "#fb9f3a"
            ],
            [
             0.8888888888888888,
             "#fdca26"
            ],
            [
             1,
             "#f0f921"
            ]
           ],
           "sequentialminus": [
            [
             0,
             "#0d0887"
            ],
            [
             0.1111111111111111,
             "#46039f"
            ],
            [
             0.2222222222222222,
             "#7201a8"
            ],
            [
             0.3333333333333333,
             "#9c179e"
            ],
            [
             0.4444444444444444,
             "#bd3786"
            ],
            [
             0.5555555555555556,
             "#d8576b"
            ],
            [
             0.6666666666666666,
             "#ed7953"
            ],
            [
             0.7777777777777778,
             "#fb9f3a"
            ],
            [
             0.8888888888888888,
             "#fdca26"
            ],
            [
             1,
             "#f0f921"
            ]
           ]
          },
          "colorway": [
           "#636efa",
           "#EF553B",
           "#00cc96",
           "#ab63fa",
           "#FFA15A",
           "#19d3f3",
           "#FF6692",
           "#B6E880",
           "#FF97FF",
           "#FECB52"
          ],
          "font": {
           "color": "#2a3f5f"
          },
          "geo": {
           "bgcolor": "white",
           "lakecolor": "white",
           "landcolor": "#E5ECF6",
           "showlakes": true,
           "showland": true,
           "subunitcolor": "white"
          },
          "hoverlabel": {
           "align": "left"
          },
          "hovermode": "closest",
          "mapbox": {
           "style": "light"
          },
          "paper_bgcolor": "white",
          "plot_bgcolor": "#E5ECF6",
          "polar": {
           "angularaxis": {
            "gridcolor": "white",
            "linecolor": "white",
            "ticks": ""
           },
           "bgcolor": "#E5ECF6",
           "radialaxis": {
            "gridcolor": "white",
            "linecolor": "white",
            "ticks": ""
           }
          },
          "scene": {
           "xaxis": {
            "backgroundcolor": "#E5ECF6",
            "gridcolor": "white",
            "gridwidth": 2,
            "linecolor": "white",
            "showbackground": true,
            "ticks": "",
            "zerolinecolor": "white"
           },
           "yaxis": {
            "backgroundcolor": "#E5ECF6",
            "gridcolor": "white",
            "gridwidth": 2,
            "linecolor": "white",
            "showbackground": true,
            "ticks": "",
            "zerolinecolor": "white"
           },
           "zaxis": {
            "backgroundcolor": "#E5ECF6",
            "gridcolor": "white",
            "gridwidth": 2,
            "linecolor": "white",
            "showbackground": true,
            "ticks": "",
            "zerolinecolor": "white"
           }
          },
          "shapedefaults": {
           "line": {
            "color": "#2a3f5f"
           }
          },
          "ternary": {
           "aaxis": {
            "gridcolor": "white",
            "linecolor": "white",
            "ticks": ""
           },
           "baxis": {
            "gridcolor": "white",
            "linecolor": "white",
            "ticks": ""
           },
           "bgcolor": "#E5ECF6",
           "caxis": {
            "gridcolor": "white",
            "linecolor": "white",
            "ticks": ""
           }
          },
          "title": {
           "x": 0.05
          },
          "xaxis": {
           "automargin": true,
           "gridcolor": "white",
           "linecolor": "white",
           "ticks": "",
           "title": {
            "standoff": 15
           },
           "zerolinecolor": "white",
           "zerolinewidth": 2
          },
          "yaxis": {
           "automargin": true,
           "gridcolor": "white",
           "linecolor": "white",
           "ticks": "",
           "title": {
            "standoff": 15
           },
           "zerolinecolor": "white",
           "zerolinewidth": 2
          }
         }
        },
        "xaxis": {
         "autorange": true,
         "range": [
          -0.9550299562073664,
          0.9925623284268472
         ],
         "showgrid": false,
         "type": "linear",
         "zeroline": false
        },
        "yaxis": {
         "autorange": true,
         "range": [
          -1.1498144967671298,
          1.0461843233664392
         ],
         "showgrid": false,
         "type": "linear",
         "zeroline": false
        }
       }
      },
      "image/png": "[encoded data removed]",
      "text/html": [
       "<div>                            <div id=\"a3ab9340-f1ad-44a9-9b73-8dc8e9aef409\" class=\"plotly-graph-div\" style=\"height:525px; width:100%;\"></div>            <script type=\"text/javascript\">                require([\"plotly\"], function(Plotly) {                    window.PLOTLYENV=window.PLOTLYENV || {};                                    if (document.getElementById(\"a3ab9340-f1ad-44a9-9b73-8dc8e9aef409\")) {                    Plotly.newPlot(                        \"a3ab9340-f1ad-44a9-9b73-8dc8e9aef409\",                        [{\"hoverinfo\":\"none\",\"line\":{\"color\":\"#888\",\"width\":2},\"mode\":\"lines\",\"x\":[-0.6322815429706384,0.22803540913505493,null],\"y\":[0.8963698265993094,0.7428195373598349,null],\"type\":\"scatter\"},{\"hoverinfo\":\"none\",\"line\":{\"color\":\"#888\",\"width\":2},\"mode\":\"lines\",\"x\":[-0.6322815429706384,-0.04820350684316548,null],\"y\":[0.8963698265993094,0.7098694932146151,null],\"type\":\"scatter\"},{\"hoverinfo\":\"none\",\"line\":{\"color\":\"#888\",\"width\":2},\"mode\":\"lines\",\"x\":[-0.6322815429706384,-0.16924612301918487,null],\"y\":[0.8963698265993094,0.4290146825550163,null],\"type\":\"scatter\"},{\"hoverinfo\":\"none\",\"line\":{\"color\":\"#888\",\"width\":2},\"mode\":\"lines\",\"x\":[-0.6322815429706384,-0.5356705281652924,null],\"y\":[0.8963698265993094,0.4654912652098567,null],\"type\":\"scatter\"},{\"hoverinfo\":\"none\",\"line\":{\"color\":\"#888\",\"width\":2},\"mode\":\"lines\",\"x\":[-0.6322815429706384,-0.47993569670143393,null],\"y\":[0.8963698265993094,0.2741254479581376,null],\"type\":\"scatter\"},{\"hoverinfo\":\"none\",\"line\":{\"color\":\"#888\",\"width\":2},\"mode\":\"lines\",\"x\":[-0.6322815429706384,-0.4491929074852744,null],\"y\":[0.8963698265993094,0.016777651467562243,null],\"type\":\"scatter\"},{\"hoverinfo\":\"none\",\"line\":{\"color\":\"#888\",\"width\":2},\"mode\":\"lines\",\"x\":[-0.6322815429706384,0.13559764861571055,null],\"y\":[0.8963698265993094,0.1487690260573683,null],\"type\":\"scatter\"},{\"hoverinfo\":\"none\",\"line\":{\"color\":\"#888\",\"width\":2},\"mode\":\"lines\",\"x\":[-0.6322815429706384,-0.6175825019745628,null],\"y\":[0.8963698265993094,0.02082924849558535,null],\"type\":\"scatter\"},{\"hoverinfo\":\"none\",\"line\":{\"color\":\"#888\",\"width\":2},\"mode\":\"lines\",\"x\":[0.22803540913505493,0.4328493801987771,null],\"y\":[0.7428195373598349,0.5538946361907251,null],\"type\":\"scatter\"},{\"hoverinfo\":\"none\",\"line\":{\"color\":\"#888\",\"width\":2},\"mode\":\"lines\",\"x\":[0.22803540913505493,-0.04820350684316548,null],\"y\":[0.7428195373598349,0.7098694932146151,null],\"type\":\"scatter\"},{\"hoverinfo\":\"none\",\"line\":{\"color\":\"#888\",\"width\":2},\"mode\":\"lines\",\"x\":[0.22803540913505493,0.1546617066266627,null],\"y\":[0.7428195373598349,-0.02762495726359837,null],\"type\":\"scatter\"},{\"hoverinfo\":\"none\",\"line\":{\"color\":\"#888\",\"width\":2},\"mode\":\"lines\",\"x\":[0.22803540913505493,-0.16924612301918487,null],\"y\":[0.7428195373598349,0.4290146825550163,null],\"type\":\"scatter\"},{\"hoverinfo\":\"none\",\"line\":{\"color\":\"#888\",\"width\":2},\"mode\":\"lines\",\"x\":[0.22803540913505493,-0.012023071840863094,null],\"y\":[0.7428195373598349,0.04776551965145535,null],\"type\":\"scatter\"},{\"hoverinfo\":\"none\",\"line\":{\"color\":\"#888\",\"width\":2},\"mode\":\"lines\",\"x\":[0.22803540913505493,0.051086209880543645,null],\"y\":[0.7428195373598349,0.429616119670276,null],\"type\":\"scatter\"},{\"hoverinfo\":\"none\",\"line\":{\"color\":\"#888\",\"width\":2},\"mode\":\"lines\",\"x\":[0.22803540913505493,0.8826853304385002,null],\"y\":[0.7428195373598349,0.3629184598043928,null],\"type\":\"scatter\"},{\"hoverinfo\":\"none\",\"line\":{\"color\":\"#888\",\"width\":2},\"mode\":\"lines\",\"x\":[0.22803540913505493,-0.3410151930485177,null],\"y\":[0.7428195373598349,-0.38147315044409735,null],\"type\":\"scatter\"},{\"hoverinfo\":\"none\",\"line\":{\"color\":\"#888\",\"width\":2},\"mode\":\"lines\",\"x\":[0.22803540913505493,-0.19331327332060397,null],\"y\":[0.7428195373598349,0.22614374347289604,null],\"type\":\"scatter\"},{\"hoverinfo\":\"none\",\"line\":{\"color\":\"#888\",\"width\":2},\"mode\":\"lines\",\"x\":[0.22803540913505493,-0.05170838622786239,null],\"y\":[0.7428195373598349,0.19591957026207413,null],\"type\":\"scatter\"},{\"hoverinfo\":\"none\",\"line\":{\"color\":\"#888\",\"width\":2},\"mode\":\"lines\",\"x\":[0.22803540913505493,-0.26022196376434464,null],\"y\":[0.7428195373598349,0.7337976474168793,null],\"type\":\"scatter\"},{\"hoverinfo\":\"none\",\"line\":{\"color\":\"#888\",\"width\":2},\"mode\":\"lines\",\"x\":[0.22803540913505493,0.8345557310971147,null],\"y\":[0.7428195373598349,0.1634537308095975,null],\"type\":\"scatter\"},{\"hoverinfo\":\"none\",\"line\":{\"color\":\"#888\",\"width\":2},\"mode\":\"lines\",\"x\":[0.22803540913505493,0.13559764861571055,null],\"y\":[0.7428195373598349,0.1487690260573683,null],\"type\":\"scatter\"},{\"hoverinfo\":\"none\",\"line\":{\"color\":\"#888\",\"width\":2},\"mode\":\"lines\",\"x\":[-0.04820350684316548,0.5358652409370825,null],\"y\":[0.7098694932146151,-0.15887005322720396,null],\"type\":\"scatter\"},{\"hoverinfo\":\"none\",\"line\":{\"color\":\"#888\",\"width\":2},\"mode\":\"lines\",\"x\":[-0.04820350684316548,0.1546617066266627,null],\"y\":[0.7098694932146151,-0.02762495726359837,null],\"type\":\"scatter\"},{\"hoverinfo\":\"none\",\"line\":{\"color\":\"#888\",\"width\":2},\"mode\":\"lines\",\"x\":[-0.04820350684316548,-0.6875502047544992,null],\"y\":[0.7098694932146151,0.4155163495959592,null],\"type\":\"scatter\"},{\"hoverinfo\":\"none\",\"line\":{\"color\":\"#888\",\"width\":2},\"mode\":\"lines\",\"x\":[-0.04820350684316548,0.8826853304385002,null],\"y\":[0.7098694932146151,0.3629184598043928,null],\"type\":\"scatter\"},{\"hoverinfo\":\"none\",\"line\":{\"color\":\"#888\",\"width\":2},\"mode\":\"lines\",\"x\":[-0.04820350684316548,-0.24813582040557597,null],\"y\":[0.7098694932146151,-0.027684807213380992,null],\"type\":\"scatter\"},{\"hoverinfo\":\"none\",\"line\":{\"color\":\"#888\",\"width\":2},\"mode\":\"lines\",\"x\":[-0.04820350684316548,-0.3750546815683805,null],\"y\":[0.7098694932146151,0.16233917125408356,null],\"type\":\"scatter\"},{\"hoverinfo\":\"none\",\"line\":{\"color\":\"#888\",\"width\":2},\"mode\":\"lines\",\"x\":[-0.04820350684316548,-0.47993569670143393,null],\"y\":[0.7098694932146151,0.2741254479581376,null],\"type\":\"scatter\"},{\"hoverinfo\":\"none\",\"line\":{\"color\":\"#888\",\"width\":2},\"mode\":\"lines\",\"x\":[-0.04820350684316548,-0.4491929074852744,null],\"y\":[0.7098694932146151,0.016777651467562243,null],\"type\":\"scatter\"},{\"hoverinfo\":\"none\",\"line\":{\"color\":\"#888\",\"width\":2},\"mode\":\"lines\",\"x\":[-0.04820350684316548,0.13559764861571055,null],\"y\":[0.7098694932146151,0.1487690260573683,null],\"type\":\"scatter\"},{\"hoverinfo\":\"none\",\"line\":{\"color\":\"#888\",\"width\":2},\"mode\":\"lines\",\"x\":[-0.04820350684316548,0.5884819783781304,null],\"y\":[0.7098694932146151,0.4067043576839656,null],\"type\":\"scatter\"},{\"hoverinfo\":\"none\",\"line\":{\"color\":\"#888\",\"width\":2},\"mode\":\"lines\",\"x\":[-0.04820350684316548,-0.6175825019745628,null],\"y\":[0.7098694932146151,0.02082924849558535,null],\"type\":\"scatter\"},{\"hoverinfo\":\"none\",\"line\":{\"color\":\"#888\",\"width\":2},\"mode\":\"lines\",\"x\":[-0.16924612301918487,0.051086209880543645,null],\"y\":[0.4290146825550163,0.429616119670276,null],\"type\":\"scatter\"},{\"hoverinfo\":\"none\",\"line\":{\"color\":\"#888\",\"width\":2},\"mode\":\"lines\",\"x\":[-0.16924612301918487,0.3821023896995385,null],\"y\":[0.4290146825550163,-0.11641047261347395,null],\"type\":\"scatter\"},{\"hoverinfo\":\"none\",\"line\":{\"color\":\"#888\",\"width\":2},\"mode\":\"lines\",\"x\":[-0.16924612301918487,-0.36305421254688675,null],\"y\":[0.4290146825550163,-0.20177855741627992,null],\"type\":\"scatter\"},{\"hoverinfo\":\"none\",\"line\":{\"color\":\"#888\",\"width\":2},\"mode\":\"lines\",\"x\":[-0.16924612301918487,0.26445791221340403,null],\"y\":[0.4290146825550163,-0.11924353859101533,null],\"type\":\"scatter\"},{\"hoverinfo\":\"none\",\"line\":{\"color\":\"#888\",\"width\":2},\"mode\":\"lines\",\"x\":[-0.16924612301918487,0.18572118500273385,null],\"y\":[0.4290146825550163,-0.6380760364383304,null],\"type\":\"scatter\"},{\"hoverinfo\":\"none\",\"line\":{\"color\":\"#888\",\"width\":2},\"mode\":\"lines\",\"x\":[-0.16924612301918487,-0.3003383113451329,null],\"y\":[0.4290146825550163,0.5975243321559691,null],\"type\":\"scatter\"},{\"hoverinfo\":\"none\",\"line\":{\"color\":\"#888\",\"width\":2},\"mode\":\"lines\",\"x\":[-0.16924612301918487,0.2477290325527497,null],\"y\":[0.4290146825550163,0.26681275750771183,null],\"type\":\"scatter\"},{\"hoverinfo\":\"none\",\"line\":{\"color\":\"#888\",\"width\":2},\"mode\":\"lines\",\"x\":[-0.16924612301918487,-0.24813582040557597,null],\"y\":[0.4290146825550163,-0.027684807213380992,null],\"type\":\"scatter\"},{\"hoverinfo\":\"none\",\"line\":{\"color\":\"#888\",\"width\":2},\"mode\":\"lines\",\"x\":[-0.16924612301918487,0.25981367419235923,null],\"y\":[0.4290146825550163,0.44179898537270834,null],\"type\":\"scatter\"},{\"hoverinfo\":\"none\",\"line\":{\"color\":\"#888\",\"width\":2},\"mode\":\"lines\",\"x\":[-0.16924612301918487,-0.16200467070209576,null],\"y\":[0.4290146825550163,-0.334067522266607,null],\"type\":\"scatter\"},{\"hoverinfo\":\"none\",\"line\":{\"color\":\"#888\",\"width\":2},\"mode\":\"lines\",\"x\":[-0.16924612301918487,-0.4491929074852744,null],\"y\":[0.4290146825550163,0.016777651467562243,null],\"type\":\"scatter\"},{\"hoverinfo\":\"none\",\"line\":{\"color\":\"#888\",\"width\":2},\"mode\":\"lines\",\"x\":[-0.16924612301918487,0.33140291339451944,null],\"y\":[0.4290146825550163,0.11951282082881991,null],\"type\":\"scatter\"},{\"hoverinfo\":\"none\",\"line\":{\"color\":\"#888\",\"width\":2},\"mode\":\"lines\",\"x\":[-0.5356705281652924,0.4328493801987771,null],\"y\":[0.4654912652098567,0.5538946361907251,null],\"type\":\"scatter\"},{\"hoverinfo\":\"none\",\"line\":{\"color\":\"#888\",\"width\":2},\"mode\":\"lines\",\"x\":[-0.5356705281652924,-0.012023071840863094,null],\"y\":[0.4654912652098567,0.04776551965145535,null],\"type\":\"scatter\"},{\"hoverinfo\":\"none\",\"line\":{\"color\":\"#888\",\"width\":2},\"mode\":\"lines\",\"x\":[-0.5356705281652924,-0.36305421254688675,null],\"y\":[0.4654912652098567,-0.20177855741627992,null],\"type\":\"scatter\"},{\"hoverinfo\":\"none\",\"line\":{\"color\":\"#888\",\"width\":2},\"mode\":\"lines\",\"x\":[-0.5356705281652924,-0.5124719055916189,null],\"y\":[0.4654912652098567,-0.29831800531790625,null],\"type\":\"scatter\"},{\"hoverinfo\":\"none\",\"line\":{\"color\":\"#888\",\"width\":2},\"mode\":\"lines\",\"x\":[-0.5356705281652924,0.26445791221340403,null],\"y\":[0.4654912652098567,-0.11924353859101533,null],\"type\":\"scatter\"},{\"hoverinfo\":\"none\",\"line\":{\"color\":\"#888\",\"width\":2},\"mode\":\"lines\",\"x\":[-0.5356705281652924,-0.3410151930485177,null],\"y\":[0.4654912652098567,-0.38147315044409735,null],\"type\":\"scatter\"},{\"hoverinfo\":\"none\",\"line\":{\"color\":\"#888\",\"width\":2},\"mode\":\"lines\",\"x\":[-0.5356705281652924,0.2477290325527497,null],\"y\":[0.4654912652098567,0.26681275750771183,null],\"type\":\"scatter\"},{\"hoverinfo\":\"none\",\"line\":{\"color\":\"#888\",\"width\":2},\"mode\":\"lines\",\"x\":[-0.5356705281652924,-0.3750546815683805,null],\"y\":[0.4654912652098567,0.16233917125408356,null],\"type\":\"scatter\"},{\"hoverinfo\":\"none\",\"line\":{\"color\":\"#888\",\"width\":2},\"mode\":\"lines\",\"x\":[-0.5356705281652924,0.057315897081171144,null],\"y\":[0.4654912652098567,0.5771478257025457,null],\"type\":\"scatter\"},{\"hoverinfo\":\"none\",\"line\":{\"color\":\"#888\",\"width\":2},\"mode\":\"lines\",\"x\":[-0.5356705281652924,-0.8451529582190194,null],\"y\":[0.4654912652098567,-0.19462670090631123,null],\"type\":\"scatter\"},{\"hoverinfo\":\"none\",\"line\":{\"color\":\"#888\",\"width\":2},\"mode\":\"lines\",\"x\":[-0.5356705281652924,-0.47993569670143393,null],\"y\":[0.4654912652098567,0.2741254479581376,null],\"type\":\"scatter\"},{\"hoverinfo\":\"none\",\"line\":{\"color\":\"#888\",\"width\":2},\"mode\":\"lines\",\"x\":[-0.47993569670143393,0.4328493801987771,null],\"y\":[0.2741254479581376,0.5538946361907251,null],\"type\":\"scatter\"},{\"hoverinfo\":\"none\",\"line\":{\"color\":\"#888\",\"width\":2},\"mode\":\"lines\",\"x\":[-0.47993569670143393,-0.6875502047544992,null],\"y\":[0.2741254479581376,0.4155163495959592,null],\"type\":\"scatter\"},{\"hoverinfo\":\"none\",\"line\":{\"color\":\"#888\",\"width\":2},\"mode\":\"lines\",\"x\":[-0.47993569670143393,-0.5124719055916189,null],\"y\":[0.2741254479581376,-0.29831800531790625,null],\"type\":\"scatter\"},{\"hoverinfo\":\"none\",\"line\":{\"color\":\"#888\",\"width\":2},\"mode\":\"lines\",\"x\":[-0.47993569670143393,0.26445791221340403,null],\"y\":[0.2741254479581376,-0.11924353859101533,null],\"type\":\"scatter\"},{\"hoverinfo\":\"none\",\"line\":{\"color\":\"#888\",\"width\":2},\"mode\":\"lines\",\"x\":[-0.47993569670143393,-0.6263266874906048,null],\"y\":[0.2741254479581376,-0.5877336887740254,null],\"type\":\"scatter\"},{\"hoverinfo\":\"none\",\"line\":{\"color\":\"#888\",\"width\":2},\"mode\":\"lines\",\"x\":[-0.47993569670143393,-0.2590082503788941,null],\"y\":[0.2741254479581376,-0.554361776460813,null],\"type\":\"scatter\"},{\"hoverinfo\":\"none\",\"line\":{\"color\":\"#888\",\"width\":2},\"mode\":\"lines\",\"x\":[-0.47993569670143393,-0.24813582040557597,null],\"y\":[0.2741254479581376,-0.027684807213380992,null],\"type\":\"scatter\"},{\"hoverinfo\":\"none\",\"line\":{\"color\":\"#888\",\"width\":2},\"mode\":\"lines\",\"x\":[-0.47993569670143393,-0.05170838622786239,null],\"y\":[0.2741254479581376,0.19591957026207413,null],\"type\":\"scatter\"},{\"hoverinfo\":\"none\",\"line\":{\"color\":\"#888\",\"width\":2},\"mode\":\"lines\",\"x\":[-0.47993569670143393,-0.26022196376434464,null],\"y\":[0.2741254479581376,0.7337976474168793,null],\"type\":\"scatter\"},{\"hoverinfo\":\"none\",\"line\":{\"color\":\"#888\",\"width\":2},\"mode\":\"lines\",\"x\":[-0.47993569670143393,0.057315897081171144,null],\"y\":[0.2741254479581376,0.5771478257025457,null],\"type\":\"scatter\"},{\"hoverinfo\":\"none\",\"line\":{\"color\":\"#888\",\"width\":2},\"mode\":\"lines\",\"x\":[-0.47993569670143393,-0.16200467070209576,null],\"y\":[0.2741254479581376,-0.334067522266607,null],\"type\":\"scatter\"},{\"hoverinfo\":\"none\",\"line\":{\"color\":\"#888\",\"width\":2},\"mode\":\"lines\",\"x\":[-0.47993569670143393,0.13535534904928712,null],\"y\":[0.2741254479581376,-0.40464069833633287,null],\"type\":\"scatter\"},{\"hoverinfo\":\"none\",\"line\":{\"color\":\"#888\",\"width\":2},\"mode\":\"lines\",\"x\":[-0.47993569670143393,0.33140291339451944,null],\"y\":[0.2741254479581376,0.11951282082881991,null],\"type\":\"scatter\"},{\"hoverinfo\":\"none\",\"line\":{\"color\":\"#888\",\"width\":2},\"mode\":\"lines\",\"x\":[-0.47993569670143393,-0.6175825019745628,null],\"y\":[0.2741254479581376,0.02082924849558535,null],\"type\":\"scatter\"},{\"hoverinfo\":\"none\",\"line\":{\"color\":\"#888\",\"width\":2},\"mode\":\"lines\",\"x\":[-0.4491929074852744,0.4523977326688961,null],\"y\":[0.016777651467562243,-0.6253299123351034,null],\"type\":\"scatter\"},{\"hoverinfo\":\"none\",\"line\":{\"color\":\"#888\",\"width\":2},\"mode\":\"lines\",\"x\":[-0.4491929074852744,-0.11567764464898388,null],\"y\":[0.016777651467562243,-0.16095911653946665,null],\"type\":\"scatter\"},{\"hoverinfo\":\"none\",\"line\":{\"color\":\"#888\",\"width\":2},\"mode\":\"lines\",\"x\":[-0.4491929074852744,-0.012023071840863094,null],\"y\":[0.016777651467562243,0.04776551965145535,null],\"type\":\"scatter\"},{\"hoverinfo\":\"none\",\"line\":{\"color\":\"#888\",\"width\":2},\"mode\":\"lines\",\"x\":[-0.4491929074852744,0.0551996226154287,null],\"y\":[0.016777651467562243,-0.26678928704315813,null],\"type\":\"scatter\"},{\"hoverinfo\":\"none\",\"line\":{\"color\":\"#888\",\"width\":2},\"mode\":\"lines\",\"x\":[-0.4491929074852744,-0.5124719055916189,null],\"y\":[0.016777651467562243,-0.29831800531790625,null],\"type\":\"scatter\"},{\"hoverinfo\":\"none\",\"line\":{\"color\":\"#888\",\"width\":2},\"mode\":\"lines\",\"x\":[-0.4491929074852744,-0.6263266874906048,null],\"y\":[0.016777651467562243,-0.5877336887740254,null],\"type\":\"scatter\"},{\"hoverinfo\":\"none\",\"line\":{\"color\":\"#888\",\"width\":2},\"mode\":\"lines\",\"x\":[-0.4491929074852744,-0.3003383113451329,null],\"y\":[0.016777651467562243,0.5975243321559691,null],\"type\":\"scatter\"},{\"hoverinfo\":\"none\",\"line\":{\"color\":\"#888\",\"width\":2},\"mode\":\"lines\",\"x\":[-0.4491929074852744,-0.14858186469163698,null],\"y\":[0.016777651467562243,-0.7037913023776443,null],\"type\":\"scatter\"},{\"hoverinfo\":\"none\",\"line\":{\"color\":\"#888\",\"width\":2},\"mode\":\"lines\",\"x\":[-0.4491929074852744,-0.19331327332060397,null],\"y\":[0.016777651467562243,0.22614374347289604,null],\"type\":\"scatter\"},{\"hoverinfo\":\"none\",\"line\":{\"color\":\"#888\",\"width\":2},\"mode\":\"lines\",\"x\":[-0.4491929074852744,0.25981367419235923,null],\"y\":[0.016777651467562243,0.44179898537270834,null],\"type\":\"scatter\"},{\"hoverinfo\":\"none\",\"line\":{\"color\":\"#888\",\"width\":2},\"mode\":\"lines\",\"x\":[-0.4491929074852744,-0.3750546815683805,null],\"y\":[0.016777651467562243,0.16233917125408356,null],\"type\":\"scatter\"},{\"hoverinfo\":\"none\",\"line\":{\"color\":\"#888\",\"width\":2},\"mode\":\"lines\",\"x\":[-0.4491929074852744,0.13535534904928712,null],\"y\":[0.016777651467562243,-0.40464069833633287,null],\"type\":\"scatter\"},{\"hoverinfo\":\"none\",\"line\":{\"color\":\"#888\",\"width\":2},\"mode\":\"lines\",\"x\":[-0.4491929074852744,0.33140291339451944,null],\"y\":[0.016777651467562243,0.11951282082881991,null],\"type\":\"scatter\"},{\"hoverinfo\":\"none\",\"line\":{\"color\":\"#888\",\"width\":2},\"mode\":\"lines\",\"x\":[0.13559764861571055,0.5358652409370825,null],\"y\":[0.1487690260573683,-0.15887005322720396,null],\"type\":\"scatter\"},{\"hoverinfo\":\"none\",\"line\":{\"color\":\"#888\",\"width\":2},\"mode\":\"lines\",\"x\":[0.13559764861571055,0.4523977326688961,null],\"y\":[0.1487690260573683,-0.6253299123351034,null],\"type\":\"scatter\"},{\"hoverinfo\":\"none\",\"line\":{\"color\":\"#888\",\"width\":2},\"mode\":\"lines\",\"x\":[0.13559764861571055,-0.11567764464898388,null],\"y\":[0.1487690260573683,-0.16095911653946665,null],\"type\":\"scatter\"},{\"hoverinfo\":\"none\",\"line\":{\"color\":\"#888\",\"width\":2},\"mode\":\"lines\",\"x\":[0.13559764861571055,0.0551996226154287,null],\"y\":[0.1487690260573683,-0.26678928704315813,null],\"type\":\"scatter\"},{\"hoverinfo\":\"none\",\"line\":{\"color\":\"#888\",\"width\":2},\"mode\":\"lines\",\"x\":[0.13559764861571055,-0.36305421254688675,null],\"y\":[0.1487690260573683,-0.20177855741627992,null],\"type\":\"scatter\"},{\"hoverinfo\":\"none\",\"line\":{\"color\":\"#888\",\"width\":2},\"mode\":\"lines\",\"x\":[0.13559764861571055,-0.5124719055916189,null],\"y\":[0.1487690260573683,-0.29831800531790625,null],\"type\":\"scatter\"},{\"hoverinfo\":\"none\",\"line\":{\"color\":\"#888\",\"width\":2},\"mode\":\"lines\",\"x\":[0.13559764861571055,0.868650949264276,null],\"y\":[0.1487690260573683,-0.10444132998223317,null],\"type\":\"scatter\"},{\"hoverinfo\":\"none\",\"line\":{\"color\":\"#888\",\"width\":2},\"mode\":\"lines\",\"x\":[0.13559764861571055,0.8826853304385002,null],\"y\":[0.1487690260573683,0.3629184598043928,null],\"type\":\"scatter\"},{\"hoverinfo\":\"none\",\"line\":{\"color\":\"#888\",\"width\":2},\"mode\":\"lines\",\"x\":[0.13559764861571055,0.18572118500273385,null],\"y\":[0.1487690260573683,-0.6380760364383304,null],\"type\":\"scatter\"},{\"hoverinfo\":\"none\",\"line\":{\"color\":\"#888\",\"width\":2},\"mode\":\"lines\",\"x\":[0.13559764861571055,-0.3003383113451329,null],\"y\":[0.1487690260573683,0.5975243321559691,null],\"type\":\"scatter\"},{\"hoverinfo\":\"none\",\"line\":{\"color\":\"#888\",\"width\":2},\"mode\":\"lines\",\"x\":[0.13559764861571055,-0.14858186469163698,null],\"y\":[0.1487690260573683,-0.7037913023776443,null],\"type\":\"scatter\"},{\"hoverinfo\":\"none\",\"line\":{\"color\":\"#888\",\"width\":2},\"mode\":\"lines\",\"x\":[0.13559764861571055,-0.24813582040557597,null],\"y\":[0.1487690260573683,-0.027684807213380992,null],\"type\":\"scatter\"},{\"hoverinfo\":\"none\",\"line\":{\"color\":\"#888\",\"width\":2},\"mode\":\"lines\",\"x\":[0.13559764861571055,-0.19331327332060397,null],\"y\":[0.1487690260573683,0.22614374347289604,null],\"type\":\"scatter\"},{\"hoverinfo\":\"none\",\"line\":{\"color\":\"#888\",\"width\":2},\"mode\":\"lines\",\"x\":[0.13559764861571055,0.25981367419235923,null],\"y\":[0.1487690260573683,0.44179898537270834,null],\"type\":\"scatter\"},{\"hoverinfo\":\"none\",\"line\":{\"color\":\"#888\",\"width\":2},\"mode\":\"lines\",\"x\":[0.13559764861571055,-0.05170838622786239,null],\"y\":[0.1487690260573683,0.19591957026207413,null],\"type\":\"scatter\"},{\"hoverinfo\":\"none\",\"line\":{\"color\":\"#888\",\"width\":2},\"mode\":\"lines\",\"x\":[0.13559764861571055,-0.26022196376434464,null],\"y\":[0.1487690260573683,0.7337976474168793,null],\"type\":\"scatter\"},{\"hoverinfo\":\"none\",\"line\":{\"color\":\"#888\",\"width\":2},\"mode\":\"lines\",\"x\":[0.13559764861571055,0.8345557310971147,null],\"y\":[0.1487690260573683,0.1634537308095975,null],\"type\":\"scatter\"},{\"hoverinfo\":\"none\",\"line\":{\"color\":\"#888\",\"width\":2},\"mode\":\"lines\",\"x\":[0.13559764861571055,0.13535534904928712,null],\"y\":[0.1487690260573683,-0.40464069833633287,null],\"type\":\"scatter\"},{\"hoverinfo\":\"none\",\"line\":{\"color\":\"#888\",\"width\":2},\"mode\":\"lines\",\"x\":[0.13559764861571055,0.33140291339451944,null],\"y\":[0.1487690260573683,0.11951282082881991,null],\"type\":\"scatter\"},{\"hoverinfo\":\"none\",\"line\":{\"color\":\"#888\",\"width\":2},\"mode\":\"lines\",\"x\":[0.13559764861571055,-0.6175825019745628,null],\"y\":[0.1487690260573683,0.02082924849558535,null],\"type\":\"scatter\"},{\"hoverinfo\":\"none\",\"line\":{\"color\":\"#888\",\"width\":2},\"mode\":\"lines\",\"x\":[-0.6175825019745628,0.1546617066266627,null],\"y\":[0.02082924849558535,-0.02762495726359837,null],\"type\":\"scatter\"},{\"hoverinfo\":\"none\",\"line\":{\"color\":\"#888\",\"width\":2},\"mode\":\"lines\",\"x\":[-0.6175825019745628,0.0551996226154287,null],\"y\":[0.02082924849558535,-0.26678928704315813,null],\"type\":\"scatter\"},{\"hoverinfo\":\"none\",\"line\":{\"color\":\"#888\",\"width\":2},\"mode\":\"lines\",\"x\":[-0.6175825019745628,-0.42261697927544667,null],\"y\":[0.02082924849558535,-0.7531129790898593,null],\"type\":\"scatter\"},{\"hoverinfo\":\"none\",\"line\":{\"color\":\"#888\",\"width\":2},\"mode\":\"lines\",\"x\":[-0.6175825019745628,0.2999514981426229,null],\"y\":[0.02082924849558535,-0.3796568383765987,null],\"type\":\"scatter\"},{\"hoverinfo\":\"none\",\"line\":{\"color\":\"#888\",\"width\":2},\"mode\":\"lines\",\"x\":[-0.6175825019745628,-0.5124719055916189,null],\"y\":[0.02082924849558535,-0.29831800531790625,null],\"type\":\"scatter\"},{\"hoverinfo\":\"none\",\"line\":{\"color\":\"#888\",\"width\":2},\"mode\":\"lines\",\"x\":[-0.6175825019745628,0.017094203480625594,null],\"y\":[0.02082924849558535,-0.48695407013698794,null],\"type\":\"scatter\"},{\"hoverinfo\":\"none\",\"line\":{\"color\":\"#888\",\"width\":2},\"mode\":\"lines\",\"x\":[-0.6175825019745628,-0.24813582040557597,null],\"y\":[0.02082924849558535,-0.027684807213380992,null],\"type\":\"scatter\"},{\"hoverinfo\":\"none\",\"line\":{\"color\":\"#888\",\"width\":2},\"mode\":\"lines\",\"x\":[-0.6175825019745628,-0.26022196376434464,null],\"y\":[0.02082924849558535,0.7337976474168793,null],\"type\":\"scatter\"},{\"hoverinfo\":\"none\",\"line\":{\"color\":\"#888\",\"width\":2},\"mode\":\"lines\",\"x\":[-0.6175825019745628,0.13535534904928712,null],\"y\":[0.02082924849558535,-0.40464069833633287,null],\"type\":\"scatter\"},{\"hoverinfo\":\"none\",\"line\":{\"color\":\"#888\",\"width\":2},\"mode\":\"lines\",\"x\":[0.5358652409370825,0.05677327529841889,null],\"y\":[-0.15887005322720396,-1.0,null],\"type\":\"scatter\"},{\"hoverinfo\":\"none\",\"line\":{\"color\":\"#888\",\"width\":2},\"mode\":\"lines\",\"x\":[0.5358652409370825,0.2999514981426229,null],\"y\":[-0.15887005322720396,-0.3796568383765987,null],\"type\":\"scatter\"},{\"hoverinfo\":\"none\",\"line\":{\"color\":\"#888\",\"width\":2},\"mode\":\"lines\",\"x\":[0.5358652409370825,0.3821023896995385,null],\"y\":[-0.15887005322720396,-0.11641047261347395,null],\"type\":\"scatter\"},{\"hoverinfo\":\"none\",\"line\":{\"color\":\"#888\",\"width\":2},\"mode\":\"lines\",\"x\":[0.5358652409370825,0.26445791221340403,null],\"y\":[-0.15887005322720396,-0.11924353859101533,null],\"type\":\"scatter\"},{\"hoverinfo\":\"none\",\"line\":{\"color\":\"#888\",\"width\":2},\"mode\":\"lines\",\"x\":[0.5358652409370825,0.017094203480625594,null],\"y\":[-0.15887005322720396,-0.48695407013698794,null],\"type\":\"scatter\"},{\"hoverinfo\":\"none\",\"line\":{\"color\":\"#888\",\"width\":2},\"mode\":\"lines\",\"x\":[0.5358652409370825,0.764873553425225,null],\"y\":[-0.15887005322720396,-0.5254510463358661,null],\"type\":\"scatter\"},{\"hoverinfo\":\"none\",\"line\":{\"color\":\"#888\",\"width\":2},\"mode\":\"lines\",\"x\":[0.5358652409370825,0.8826853304385002,null],\"y\":[-0.15887005322720396,0.3629184598043928,null],\"type\":\"scatter\"},{\"hoverinfo\":\"none\",\"line\":{\"color\":\"#888\",\"width\":2},\"mode\":\"lines\",\"x\":[0.5358652409370825,0.18572118500273385,null],\"y\":[-0.15887005322720396,-0.6380760364383304,null],\"type\":\"scatter\"},{\"hoverinfo\":\"none\",\"line\":{\"color\":\"#888\",\"width\":2},\"mode\":\"lines\",\"x\":[0.5358652409370825,0.2477290325527497,null],\"y\":[-0.15887005322720396,0.26681275750771183,null],\"type\":\"scatter\"},{\"hoverinfo\":\"none\",\"line\":{\"color\":\"#888\",\"width\":2},\"mode\":\"lines\",\"x\":[0.5358652409370825,-0.05170838622786239,null],\"y\":[-0.15887005322720396,0.19591957026207413,null],\"type\":\"scatter\"},{\"hoverinfo\":\"none\",\"line\":{\"color\":\"#888\",\"width\":2},\"mode\":\"lines\",\"x\":[0.5358652409370825,-0.8451529582190194,null],\"y\":[-0.15887005322720396,-0.19462670090631123,null],\"type\":\"scatter\"},{\"hoverinfo\":\"none\",\"line\":{\"color\":\"#888\",\"width\":2},\"mode\":\"lines\",\"x\":[0.5358652409370825,0.5884819783781304,null],\"y\":[-0.15887005322720396,0.4067043576839656,null],\"type\":\"scatter\"},{\"hoverinfo\":\"none\",\"line\":{\"color\":\"#888\",\"width\":2},\"mode\":\"lines\",\"x\":[0.5358652409370825,0.33140291339451944,null],\"y\":[-0.15887005322720396,0.11951282082881991,null],\"type\":\"scatter\"},{\"hoverinfo\":\"none\",\"line\":{\"color\":\"#888\",\"width\":2},\"mode\":\"lines\",\"x\":[0.05677327529841889,-0.42261697927544667,null],\"y\":[-1.0,-0.7531129790898593,null],\"type\":\"scatter\"},{\"hoverinfo\":\"none\",\"line\":{\"color\":\"#888\",\"width\":2},\"mode\":\"lines\",\"x\":[0.05677327529841889,0.2999514981426229,null],\"y\":[-1.0,-0.3796568383765987,null],\"type\":\"scatter\"},{\"hoverinfo\":\"none\",\"line\":{\"color\":\"#888\",\"width\":2},\"mode\":\"lines\",\"x\":[0.05677327529841889,-0.5124719055916189,null],\"y\":[-1.0,-0.29831800531790625,null],\"type\":\"scatter\"},{\"hoverinfo\":\"none\",\"line\":{\"color\":\"#888\",\"width\":2},\"mode\":\"lines\",\"x\":[0.05677327529841889,0.26445791221340403,null],\"y\":[-1.0,-0.11924353859101533,null],\"type\":\"scatter\"},{\"hoverinfo\":\"none\",\"line\":{\"color\":\"#888\",\"width\":2},\"mode\":\"lines\",\"x\":[0.05677327529841889,-0.6263266874906048,null],\"y\":[-1.0,-0.5877336887740254,null],\"type\":\"scatter\"},{\"hoverinfo\":\"none\",\"line\":{\"color\":\"#888\",\"width\":2},\"mode\":\"lines\",\"x\":[0.05677327529841889,0.764873553425225,null],\"y\":[-1.0,-0.5254510463358661,null],\"type\":\"scatter\"},{\"hoverinfo\":\"none\",\"line\":{\"color\":\"#888\",\"width\":2},\"mode\":\"lines\",\"x\":[0.05677327529841889,-0.2590082503788941,null],\"y\":[-1.0,-0.554361776460813,null],\"type\":\"scatter\"},{\"hoverinfo\":\"none\",\"line\":{\"color\":\"#888\",\"width\":2},\"mode\":\"lines\",\"x\":[0.05677327529841889,-0.14858186469163698,null],\"y\":[-1.0,-0.7037913023776443,null],\"type\":\"scatter\"},{\"hoverinfo\":\"none\",\"line\":{\"color\":\"#888\",\"width\":2},\"mode\":\"lines\",\"x\":[0.05677327529841889,-0.16200467070209576,null],\"y\":[-1.0,-0.334067522266607,null],\"type\":\"scatter\"},{\"hoverinfo\":\"none\",\"line\":{\"color\":\"#888\",\"width\":2},\"mode\":\"lines\",\"x\":[0.2999514981426229,0.4328493801987771,null],\"y\":[-0.3796568383765987,0.5538946361907251,null],\"type\":\"scatter\"},{\"hoverinfo\":\"none\",\"line\":{\"color\":\"#888\",\"width\":2},\"mode\":\"lines\",\"x\":[0.2999514981426229,0.4523977326688961,null],\"y\":[-0.3796568383765987,-0.6253299123351034,null],\"type\":\"scatter\"},{\"hoverinfo\":\"none\",\"line\":{\"color\":\"#888\",\"width\":2},\"mode\":\"lines\",\"x\":[0.2999514981426229,-0.11567764464898388,null],\"y\":[-0.3796568383765987,-0.16095911653946665,null],\"type\":\"scatter\"},{\"hoverinfo\":\"none\",\"line\":{\"color\":\"#888\",\"width\":2},\"mode\":\"lines\",\"x\":[0.2999514981426229,-0.012023071840863094,null],\"y\":[-0.3796568383765987,0.04776551965145535,null],\"type\":\"scatter\"},{\"hoverinfo\":\"none\",\"line\":{\"color\":\"#888\",\"width\":2},\"mode\":\"lines\",\"x\":[0.2999514981426229,0.051086209880543645,null],\"y\":[-0.3796568383765987,0.429616119670276,null],\"type\":\"scatter\"},{\"hoverinfo\":\"none\",\"line\":{\"color\":\"#888\",\"width\":2},\"mode\":\"lines\",\"x\":[0.2999514981426229,0.3821023896995385,null],\"y\":[-0.3796568383765987,-0.11641047261347395,null],\"type\":\"scatter\"},{\"hoverinfo\":\"none\",\"line\":{\"color\":\"#888\",\"width\":2},\"mode\":\"lines\",\"x\":[0.2999514981426229,-0.5124719055916189,null],\"y\":[-0.3796568383765987,-0.29831800531790625,null],\"type\":\"scatter\"},{\"hoverinfo\":\"none\",\"line\":{\"color\":\"#888\",\"width\":2},\"mode\":\"lines\",\"x\":[0.2999514981426229,0.18572118500273385,null],\"y\":[-0.3796568383765987,-0.6380760364383304,null],\"type\":\"scatter\"},{\"hoverinfo\":\"none\",\"line\":{\"color\":\"#888\",\"width\":2},\"mode\":\"lines\",\"x\":[0.2999514981426229,-0.3410151930485177,null],\"y\":[-0.3796568383765987,-0.38147315044409735,null],\"type\":\"scatter\"},{\"hoverinfo\":\"none\",\"line\":{\"color\":\"#888\",\"width\":2},\"mode\":\"lines\",\"x\":[0.2999514981426229,0.2477290325527497,null],\"y\":[-0.3796568383765987,0.26681275750771183,null],\"type\":\"scatter\"},{\"hoverinfo\":\"none\",\"line\":{\"color\":\"#888\",\"width\":2},\"mode\":\"lines\",\"x\":[0.2999514981426229,-0.19331327332060397,null],\"y\":[-0.3796568383765987,0.22614374347289604,null],\"type\":\"scatter\"},{\"hoverinfo\":\"none\",\"line\":{\"color\":\"#888\",\"width\":2},\"mode\":\"lines\",\"x\":[0.2999514981426229,0.13535534904928712,null],\"y\":[-0.3796568383765987,-0.40464069833633287,null],\"type\":\"scatter\"},{\"hoverinfo\":\"none\",\"line\":{\"color\":\"#888\",\"width\":2},\"mode\":\"lines\",\"x\":[0.2999514981426229,0.6337110635916902,null],\"y\":[-0.3796568383765987,-0.3535363588110571,null],\"type\":\"scatter\"},{\"hoverinfo\":\"none\",\"line\":{\"color\":\"#888\",\"width\":2},\"mode\":\"lines\",\"x\":[0.3821023896995385,0.4523977326688961,null],\"y\":[-0.11641047261347395,-0.6253299123351034,null],\"type\":\"scatter\"},{\"hoverinfo\":\"none\",\"line\":{\"color\":\"#888\",\"width\":2},\"mode\":\"lines\",\"x\":[0.3821023896995385,-0.11567764464898388,null],\"y\":[-0.11641047261347395,-0.16095911653946665,null],\"type\":\"scatter\"},{\"hoverinfo\":\"none\",\"line\":{\"color\":\"#888\",\"width\":2},\"mode\":\"lines\",\"x\":[0.3821023896995385,0.0551996226154287,null],\"y\":[-0.11641047261347395,-0.26678928704315813,null],\"type\":\"scatter\"},{\"hoverinfo\":\"none\",\"line\":{\"color\":\"#888\",\"width\":2},\"mode\":\"lines\",\"x\":[0.3821023896995385,-0.36305421254688675,null],\"y\":[-0.11641047261347395,-0.20177855741627992,null],\"type\":\"scatter\"},{\"hoverinfo\":\"none\",\"line\":{\"color\":\"#888\",\"width\":2},\"mode\":\"lines\",\"x\":[0.3821023896995385,-0.5124719055916189,null],\"y\":[-0.11641047261347395,-0.29831800531790625,null],\"type\":\"scatter\"},{\"hoverinfo\":\"none\",\"line\":{\"color\":\"#888\",\"width\":2},\"mode\":\"lines\",\"x\":[0.3821023896995385,0.8826853304385002,null],\"y\":[-0.11641047261347395,0.3629184598043928,null],\"type\":\"scatter\"},{\"hoverinfo\":\"none\",\"line\":{\"color\":\"#888\",\"width\":2},\"mode\":\"lines\",\"x\":[0.3821023896995385,-0.14858186469163698,null],\"y\":[-0.11641047261347395,-0.7037913023776443,null],\"type\":\"scatter\"},{\"hoverinfo\":\"none\",\"line\":{\"color\":\"#888\",\"width\":2},\"mode\":\"lines\",\"x\":[0.3821023896995385,-0.3410151930485177,null],\"y\":[-0.11641047261347395,-0.38147315044409735,null],\"type\":\"scatter\"},{\"hoverinfo\":\"none\",\"line\":{\"color\":\"#888\",\"width\":2},\"mode\":\"lines\",\"x\":[0.3821023896995385,-0.19331327332060397,null],\"y\":[-0.11641047261347395,0.22614374347289604,null],\"type\":\"scatter\"},{\"hoverinfo\":\"none\",\"line\":{\"color\":\"#888\",\"width\":2},\"mode\":\"lines\",\"x\":[0.3821023896995385,-0.05170838622786239,null],\"y\":[-0.11641047261347395,0.19591957026207413,null],\"type\":\"scatter\"},{\"hoverinfo\":\"none\",\"line\":{\"color\":\"#888\",\"width\":2},\"mode\":\"lines\",\"x\":[0.3821023896995385,0.057315897081171144,null],\"y\":[-0.11641047261347395,0.5771478257025457,null],\"type\":\"scatter\"},{\"hoverinfo\":\"none\",\"line\":{\"color\":\"#888\",\"width\":2},\"mode\":\"lines\",\"x\":[0.3821023896995385,-0.16200467070209576,null],\"y\":[-0.11641047261347395,-0.334067522266607,null],\"type\":\"scatter\"},{\"hoverinfo\":\"none\",\"line\":{\"color\":\"#888\",\"width\":2},\"mode\":\"lines\",\"x\":[0.3821023896995385,0.5884819783781304,null],\"y\":[-0.11641047261347395,0.4067043576839656,null],\"type\":\"scatter\"},{\"hoverinfo\":\"none\",\"line\":{\"color\":\"#888\",\"width\":2},\"mode\":\"lines\",\"x\":[0.3821023896995385,0.6337110635916902,null],\"y\":[-0.11641047261347395,-0.3535363588110571,null],\"type\":\"scatter\"},{\"hoverinfo\":\"none\",\"line\":{\"color\":\"#888\",\"width\":2},\"mode\":\"lines\",\"x\":[0.26445791221340403,0.4523977326688961,null],\"y\":[-0.11924353859101533,-0.6253299123351034,null],\"type\":\"scatter\"},{\"hoverinfo\":\"none\",\"line\":{\"color\":\"#888\",\"width\":2},\"mode\":\"lines\",\"x\":[0.26445791221340403,-0.11567764464898388,null],\"y\":[-0.11924353859101533,-0.16095911653946665,null],\"type\":\"scatter\"},{\"hoverinfo\":\"none\",\"line\":{\"color\":\"#888\",\"width\":2},\"mode\":\"lines\",\"x\":[0.26445791221340403,0.1546617066266627,null],\"y\":[-0.11924353859101533,-0.02762495726359837,null],\"type\":\"scatter\"},{\"hoverinfo\":\"none\",\"line\":{\"color\":\"#888\",\"width\":2},\"mode\":\"lines\",\"x\":[0.26445791221340403,0.051086209880543645,null],\"y\":[-0.11924353859101533,0.429616119670276,null],\"type\":\"scatter\"},{\"hoverinfo\":\"none\",\"line\":{\"color\":\"#888\",\"width\":2},\"mode\":\"lines\",\"x\":[0.26445791221340403,0.0551996226154287,null],\"y\":[-0.11924353859101533,-0.26678928704315813,null],\"type\":\"scatter\"},{\"hoverinfo\":\"none\",\"line\":{\"color\":\"#888\",\"width\":2},\"mode\":\"lines\",\"x\":[0.26445791221340403,0.764873553425225,null],\"y\":[-0.11924353859101533,-0.5254510463358661,null],\"type\":\"scatter\"},{\"hoverinfo\":\"none\",\"line\":{\"color\":\"#888\",\"width\":2},\"mode\":\"lines\",\"x\":[0.26445791221340403,-0.3003383113451329,null],\"y\":[-0.11924353859101533,0.5975243321559691,null],\"type\":\"scatter\"},{\"hoverinfo\":\"none\",\"line\":{\"color\":\"#888\",\"width\":2},\"mode\":\"lines\",\"x\":[0.26445791221340403,-0.3750546815683805,null],\"y\":[-0.11924353859101533,0.16233917125408356,null],\"type\":\"scatter\"},{\"hoverinfo\":\"none\",\"line\":{\"color\":\"#888\",\"width\":2},\"mode\":\"lines\",\"x\":[0.26445791221340403,0.8345557310971147,null],\"y\":[-0.11924353859101533,0.1634537308095975,null],\"type\":\"scatter\"},{\"hoverinfo\":\"none\",\"line\":{\"color\":\"#888\",\"width\":2},\"mode\":\"lines\",\"x\":[0.26445791221340403,0.13535534904928712,null],\"y\":[-0.11924353859101533,-0.40464069833633287,null],\"type\":\"scatter\"},{\"hoverinfo\":\"none\",\"line\":{\"color\":\"#888\",\"width\":2},\"mode\":\"lines\",\"x\":[0.26445791221340403,0.33140291339451944,null],\"y\":[-0.11924353859101533,0.11951282082881991,null],\"type\":\"scatter\"},{\"hoverinfo\":\"none\",\"line\":{\"color\":\"#888\",\"width\":2},\"mode\":\"lines\",\"x\":[0.017094203480625594,0.1546617066266627,null],\"y\":[-0.48695407013698794,-0.02762495726359837,null],\"type\":\"scatter\"},{\"hoverinfo\":\"none\",\"line\":{\"color\":\"#888\",\"width\":2},\"mode\":\"lines\",\"x\":[0.017094203480625594,0.051086209880543645,null],\"y\":[-0.48695407013698794,0.429616119670276,null],\"type\":\"scatter\"},{\"hoverinfo\":\"none\",\"line\":{\"color\":\"#888\",\"width\":2},\"mode\":\"lines\",\"x\":[0.017094203480625594,-0.36305421254688675,null],\"y\":[-0.48695407013698794,-0.20177855741627992,null],\"type\":\"scatter\"},{\"hoverinfo\":\"none\",\"line\":{\"color\":\"#888\",\"width\":2},\"mode\":\"lines\",\"x\":[0.017094203480625594,-0.6875502047544992,null],\"y\":[-0.48695407013698794,0.4155163495959592,null],\"type\":\"scatter\"},{\"hoverinfo\":\"none\",\"line\":{\"color\":\"#888\",\"width\":2},\"mode\":\"lines\",\"x\":[0.017094203480625594,0.868650949264276,null],\"y\":[-0.48695407013698794,-0.10444132998223317,null],\"type\":\"scatter\"},{\"hoverinfo\":\"none\",\"line\":{\"color\":\"#888\",\"width\":2},\"mode\":\"lines\",\"x\":[0.017094203480625594,0.18572118500273385,null],\"y\":[-0.48695407013698794,-0.6380760364383304,null],\"type\":\"scatter\"},{\"hoverinfo\":\"none\",\"line\":{\"color\":\"#888\",\"width\":2},\"mode\":\"lines\",\"x\":[0.017094203480625594,-0.14858186469163698,null],\"y\":[-0.48695407013698794,-0.7037913023776443,null],\"type\":\"scatter\"},{\"hoverinfo\":\"none\",\"line\":{\"color\":\"#888\",\"width\":2},\"mode\":\"lines\",\"x\":[0.017094203480625594,-0.3410151930485177,null],\"y\":[-0.48695407013698794,-0.38147315044409735,null],\"type\":\"scatter\"},{\"hoverinfo\":\"none\",\"line\":{\"color\":\"#888\",\"width\":2},\"mode\":\"lines\",\"x\":[0.017094203480625594,-0.24813582040557597,null],\"y\":[-0.48695407013698794,-0.027684807213380992,null],\"type\":\"scatter\"},{\"hoverinfo\":\"none\",\"line\":{\"color\":\"#888\",\"width\":2},\"mode\":\"lines\",\"x\":[0.017094203480625594,-0.16200467070209576,null],\"y\":[-0.48695407013698794,-0.334067522266607,null],\"type\":\"scatter\"},{\"hoverinfo\":\"none\",\"line\":{\"color\":\"#888\",\"width\":2},\"mode\":\"lines\",\"x\":[0.017094203480625594,0.13535534904928712,null],\"y\":[-0.48695407013698794,-0.40464069833633287,null],\"type\":\"scatter\"},{\"hoverinfo\":\"none\",\"line\":{\"color\":\"#888\",\"width\":2},\"mode\":\"lines\",\"x\":[0.017094203480625594,0.33140291339451944,null],\"y\":[-0.48695407013698794,0.11951282082881991,null],\"type\":\"scatter\"},{\"hoverinfo\":\"none\",\"line\":{\"color\":\"#888\",\"width\":2},\"mode\":\"lines\",\"x\":[0.017094203480625594,0.6337110635916902,null],\"y\":[-0.48695407013698794,-0.3535363588110571,null],\"type\":\"scatter\"},{\"hoverinfo\":\"none\",\"line\":{\"color\":\"#888\",\"width\":2},\"mode\":\"lines\",\"x\":[0.764873553425225,0.4523977326688961,null],\"y\":[-0.5254510463358661,-0.6253299123351034,null],\"type\":\"scatter\"},{\"hoverinfo\":\"none\",\"line\":{\"color\":\"#888\",\"width\":2},\"mode\":\"lines\",\"x\":[0.764873553425225,-0.11567764464898388,null],\"y\":[-0.5254510463358661,-0.16095911653946665,null],\"type\":\"scatter\"},{\"hoverinfo\":\"none\",\"line\":{\"color\":\"#888\",\"width\":2},\"mode\":\"lines\",\"x\":[0.764873553425225,0.1546617066266627,null],\"y\":[-0.5254510463358661,-0.02762495726359837,null],\"type\":\"scatter\"},{\"hoverinfo\":\"none\",\"line\":{\"color\":\"#888\",\"width\":2},\"mode\":\"lines\",\"x\":[0.764873553425225,0.868650949264276,null],\"y\":[-0.5254510463358661,-0.10444132998223317,null],\"type\":\"scatter\"},{\"hoverinfo\":\"none\",\"line\":{\"color\":\"#888\",\"width\":2},\"mode\":\"lines\",\"x\":[0.764873553425225,0.8826853304385002,null],\"y\":[-0.5254510463358661,0.3629184598043928,null],\"type\":\"scatter\"},{\"hoverinfo\":\"none\",\"line\":{\"color\":\"#888\",\"width\":2},\"mode\":\"lines\",\"x\":[0.764873553425225,0.18572118500273385,null],\"y\":[-0.5254510463358661,-0.6380760364383304,null],\"type\":\"scatter\"},{\"hoverinfo\":\"none\",\"line\":{\"color\":\"#888\",\"width\":2},\"mode\":\"lines\",\"x\":[0.764873553425225,-0.24813582040557597,null],\"y\":[-0.5254510463358661,-0.027684807213380992,null],\"type\":\"scatter\"},{\"hoverinfo\":\"none\",\"line\":{\"color\":\"#888\",\"width\":2},\"mode\":\"lines\",\"x\":[0.764873553425225,0.8345557310971147,null],\"y\":[-0.5254510463358661,0.1634537308095975,null],\"type\":\"scatter\"},{\"hoverinfo\":\"none\",\"line\":{\"color\":\"#888\",\"width\":2},\"mode\":\"lines\",\"x\":[0.764873553425225,0.6337110635916902,null],\"y\":[-0.5254510463358661,-0.3535363588110571,null],\"type\":\"scatter\"},{\"hoverinfo\":\"none\",\"line\":{\"color\":\"#888\",\"width\":2},\"mode\":\"lines\",\"x\":[0.8826853304385002,-0.012023071840863094,null],\"y\":[0.3629184598043928,0.04776551965145535,null],\"type\":\"scatter\"},{\"hoverinfo\":\"none\",\"line\":{\"color\":\"#888\",\"width\":2},\"mode\":\"lines\",\"x\":[0.8826853304385002,0.868650949264276,null],\"y\":[0.3629184598043928,-0.10444132998223317,null],\"type\":\"scatter\"},{\"hoverinfo\":\"none\",\"line\":{\"color\":\"#888\",\"width\":2},\"mode\":\"lines\",\"x\":[0.8826853304385002,0.25981367419235923,null],\"y\":[0.3629184598043928,0.44179898537270834,null],\"type\":\"scatter\"},{\"hoverinfo\":\"none\",\"line\":{\"color\":\"#888\",\"width\":2},\"mode\":\"lines\",\"x\":[0.8826853304385002,0.5884819783781304,null],\"y\":[0.3629184598043928,0.4067043576839656,null],\"type\":\"scatter\"},{\"hoverinfo\":\"none\",\"line\":{\"color\":\"#888\",\"width\":2},\"mode\":\"lines\",\"x\":[0.8826853304385002,0.6337110635916902,null],\"y\":[0.3629184598043928,-0.3535363588110571,null],\"type\":\"scatter\"},{\"hoverinfo\":\"none\",\"line\":{\"color\":\"#888\",\"width\":2},\"mode\":\"lines\",\"x\":[0.18572118500273385,0.4523977326688961,null],\"y\":[-0.6380760364383304,-0.6253299123351034,null],\"type\":\"scatter\"},{\"hoverinfo\":\"none\",\"line\":{\"color\":\"#888\",\"width\":2},\"mode\":\"lines\",\"x\":[0.18572118500273385,-0.6263266874906048,null],\"y\":[-0.6380760364383304,-0.5877336887740254,null],\"type\":\"scatter\"},{\"hoverinfo\":\"none\",\"line\":{\"color\":\"#888\",\"width\":2},\"mode\":\"lines\",\"x\":[0.18572118500273385,-0.2590082503788941,null],\"y\":[-0.6380760364383304,-0.554361776460813,null],\"type\":\"scatter\"},{\"hoverinfo\":\"none\",\"line\":{\"color\":\"#888\",\"width\":2},\"mode\":\"lines\",\"x\":[0.18572118500273385,-0.14858186469163698,null],\"y\":[-0.6380760364383304,-0.7037913023776443,null],\"type\":\"scatter\"},{\"hoverinfo\":\"none\",\"line\":{\"color\":\"#888\",\"width\":2},\"mode\":\"lines\",\"x\":[0.18572118500273385,-0.3410151930485177,null],\"y\":[-0.6380760364383304,-0.38147315044409735,null],\"type\":\"scatter\"},{\"hoverinfo\":\"none\",\"line\":{\"color\":\"#888\",\"width\":2},\"mode\":\"lines\",\"x\":[0.18572118500273385,-0.24813582040557597,null],\"y\":[-0.6380760364383304,-0.027684807213380992,null],\"type\":\"scatter\"},{\"hoverinfo\":\"none\",\"line\":{\"color\":\"#888\",\"width\":2},\"mode\":\"lines\",\"x\":[0.18572118500273385,-0.05170838622786239,null],\"y\":[-0.6380760364383304,0.19591957026207413,null],\"type\":\"scatter\"},{\"hoverinfo\":\"none\",\"line\":{\"color\":\"#888\",\"width\":2},\"mode\":\"lines\",\"x\":[0.18572118500273385,-0.16200467070209576,null],\"y\":[-0.6380760364383304,-0.334067522266607,null],\"type\":\"scatter\"},{\"hoverinfo\":\"none\",\"line\":{\"color\":\"#888\",\"width\":2},\"mode\":\"lines\",\"x\":[0.18572118500273385,0.13535534904928712,null],\"y\":[-0.6380760364383304,-0.40464069833633287,null],\"type\":\"scatter\"},{\"hoverinfo\":\"none\",\"line\":{\"color\":\"#888\",\"width\":2},\"mode\":\"lines\",\"x\":[0.18572118500273385,0.33140291339451944,null],\"y\":[-0.6380760364383304,0.11951282082881991,null],\"type\":\"scatter\"},{\"hoverinfo\":\"none\",\"line\":{\"color\":\"#888\",\"width\":2},\"mode\":\"lines\",\"x\":[0.18572118500273385,0.6337110635916902,null],\"y\":[-0.6380760364383304,-0.3535363588110571,null],\"type\":\"scatter\"},{\"hoverinfo\":\"none\",\"line\":{\"color\":\"#888\",\"width\":2},\"mode\":\"lines\",\"x\":[0.2477290325527497,0.1546617066266627,null],\"y\":[0.26681275750771183,-0.02762495726359837,null],\"type\":\"scatter\"},{\"hoverinfo\":\"none\",\"line\":{\"color\":\"#888\",\"width\":2},\"mode\":\"lines\",\"x\":[0.2477290325527497,0.051086209880543645,null],\"y\":[0.26681275750771183,0.429616119670276,null],\"type\":\"scatter\"},{\"hoverinfo\":\"none\",\"line\":{\"color\":\"#888\",\"width\":2},\"mode\":\"lines\",\"x\":[0.2477290325527497,0.0551996226154287,null],\"y\":[0.26681275750771183,-0.26678928704315813,null],\"type\":\"scatter\"},{\"hoverinfo\":\"none\",\"line\":{\"color\":\"#888\",\"width\":2},\"mode\":\"lines\",\"x\":[0.2477290325527497,-0.6875502047544992,null],\"y\":[0.26681275750771183,0.4155163495959592,null],\"type\":\"scatter\"},{\"hoverinfo\":\"none\",\"line\":{\"color\":\"#888\",\"width\":2},\"mode\":\"lines\",\"x\":[0.2477290325527497,-0.14858186469163698,null],\"y\":[0.26681275750771183,-0.7037913023776443,null],\"type\":\"scatter\"},{\"hoverinfo\":\"none\",\"line\":{\"color\":\"#888\",\"width\":2},\"mode\":\"lines\",\"x\":[0.2477290325527497,-0.3410151930485177,null],\"y\":[0.26681275750771183,-0.38147315044409735,null],\"type\":\"scatter\"},{\"hoverinfo\":\"none\",\"line\":{\"color\":\"#888\",\"width\":2},\"mode\":\"lines\",\"x\":[0.2477290325527497,-0.19331327332060397,null],\"y\":[0.26681275750771183,0.22614374347289604,null],\"type\":\"scatter\"},{\"hoverinfo\":\"none\",\"line\":{\"color\":\"#888\",\"width\":2},\"mode\":\"lines\",\"x\":[0.2477290325527497,-0.26022196376434464,null],\"y\":[0.26681275750771183,0.7337976474168793,null],\"type\":\"scatter\"},{\"hoverinfo\":\"none\",\"line\":{\"color\":\"#888\",\"width\":2},\"mode\":\"lines\",\"x\":[0.2477290325527497,0.057315897081171144,null],\"y\":[0.26681275750771183,0.5771478257025457,null],\"type\":\"scatter\"},{\"hoverinfo\":\"none\",\"line\":{\"color\":\"#888\",\"width\":2},\"mode\":\"lines\",\"x\":[0.2477290325527497,0.8345557310971147,null],\"y\":[0.26681275750771183,0.1634537308095975,null],\"type\":\"scatter\"},{\"hoverinfo\":\"none\",\"line\":{\"color\":\"#888\",\"width\":2},\"mode\":\"lines\",\"x\":[0.2477290325527497,0.5884819783781304,null],\"y\":[0.26681275750771183,0.4067043576839656,null],\"type\":\"scatter\"},{\"hoverinfo\":\"none\",\"line\":{\"color\":\"#888\",\"width\":2},\"mode\":\"lines\",\"x\":[0.2477290325527497,0.6337110635916902,null],\"y\":[0.26681275750771183,-0.3535363588110571,null],\"type\":\"scatter\"},{\"hoverinfo\":\"none\",\"line\":{\"color\":\"#888\",\"width\":2},\"mode\":\"lines\",\"x\":[-0.05170838622786239,-0.11567764464898388,null],\"y\":[0.19591957026207413,-0.16095911653946665,null],\"type\":\"scatter\"},{\"hoverinfo\":\"none\",\"line\":{\"color\":\"#888\",\"width\":2},\"mode\":\"lines\",\"x\":[-0.05170838622786239,0.1546617066266627,null],\"y\":[0.19591957026207413,-0.02762495726359837,null],\"type\":\"scatter\"},{\"hoverinfo\":\"none\",\"line\":{\"color\":\"#888\",\"width\":2},\"mode\":\"lines\",\"x\":[-0.05170838622786239,-0.012023071840863094,null],\"y\":[0.19591957026207413,0.04776551965145535,null],\"type\":\"scatter\"},{\"hoverinfo\":\"none\",\"line\":{\"color\":\"#888\",\"width\":2},\"mode\":\"lines\",\"x\":[-0.05170838622786239,0.051086209880543645,null],\"y\":[0.19591957026207413,0.429616119670276,null],\"type\":\"scatter\"},{\"hoverinfo\":\"none\",\"line\":{\"color\":\"#888\",\"width\":2},\"mode\":\"lines\",\"x\":[-0.05170838622786239,-0.6875502047544992,null],\"y\":[0.19591957026207413,0.4155163495959592,null],\"type\":\"scatter\"},{\"hoverinfo\":\"none\",\"line\":{\"color\":\"#888\",\"width\":2},\"mode\":\"lines\",\"x\":[-0.05170838622786239,-0.3003383113451329,null],\"y\":[0.19591957026207413,0.5975243321559691,null],\"type\":\"scatter\"},{\"hoverinfo\":\"none\",\"line\":{\"color\":\"#888\",\"width\":2},\"mode\":\"lines\",\"x\":[-0.05170838622786239,-0.14858186469163698,null],\"y\":[0.19591957026207413,-0.7037913023776443,null],\"type\":\"scatter\"},{\"hoverinfo\":\"none\",\"line\":{\"color\":\"#888\",\"width\":2},\"mode\":\"lines\",\"x\":[-0.05170838622786239,-0.24813582040557597,null],\"y\":[0.19591957026207413,-0.027684807213380992,null],\"type\":\"scatter\"},{\"hoverinfo\":\"none\",\"line\":{\"color\":\"#888\",\"width\":2},\"mode\":\"lines\",\"x\":[-0.05170838622786239,0.25981367419235923,null],\"y\":[0.19591957026207413,0.44179898537270834,null],\"type\":\"scatter\"},{\"hoverinfo\":\"none\",\"line\":{\"color\":\"#888\",\"width\":2},\"mode\":\"lines\",\"x\":[-0.05170838622786239,-0.26022196376434464,null],\"y\":[0.19591957026207413,0.7337976474168793,null],\"type\":\"scatter\"},{\"hoverinfo\":\"none\",\"line\":{\"color\":\"#888\",\"width\":2},\"mode\":\"lines\",\"x\":[-0.05170838622786239,-0.8451529582190194,null],\"y\":[0.19591957026207413,-0.19462670090631123,null],\"type\":\"scatter\"},{\"hoverinfo\":\"none\",\"line\":{\"color\":\"#888\",\"width\":2},\"mode\":\"lines\",\"x\":[-0.05170838622786239,0.8345557310971147,null],\"y\":[0.19591957026207413,0.1634537308095975,null],\"type\":\"scatter\"},{\"hoverinfo\":\"none\",\"line\":{\"color\":\"#888\",\"width\":2},\"mode\":\"lines\",\"x\":[-0.05170838622786239,-0.16200467070209576,null],\"y\":[0.19591957026207413,-0.334067522266607,null],\"type\":\"scatter\"},{\"hoverinfo\":\"none\",\"line\":{\"color\":\"#888\",\"width\":2},\"mode\":\"lines\",\"x\":[-0.8451529582190194,-0.42261697927544667,null],\"y\":[-0.19462670090631123,-0.7531129790898593,null],\"type\":\"scatter\"},{\"hoverinfo\":\"none\",\"line\":{\"color\":\"#888\",\"width\":2},\"mode\":\"lines\",\"x\":[-0.8451529582190194,-0.5124719055916189,null],\"y\":[-0.19462670090631123,-0.29831800531790625,null],\"type\":\"scatter\"},{\"hoverinfo\":\"none\",\"line\":{\"color\":\"#888\",\"width\":2},\"mode\":\"lines\",\"x\":[-0.8451529582190194,-0.3410151930485177,null],\"y\":[-0.19462670090631123,-0.38147315044409735,null],\"type\":\"scatter\"},{\"hoverinfo\":\"none\",\"line\":{\"color\":\"#888\",\"width\":2},\"mode\":\"lines\",\"x\":[-0.8451529582190194,-0.24813582040557597,null],\"y\":[-0.19462670090631123,-0.027684807213380992,null],\"type\":\"scatter\"},{\"hoverinfo\":\"none\",\"line\":{\"color\":\"#888\",\"width\":2},\"mode\":\"lines\",\"x\":[-0.8451529582190194,-0.19331327332060397,null],\"y\":[-0.19462670090631123,0.22614374347289604,null],\"type\":\"scatter\"},{\"hoverinfo\":\"none\",\"line\":{\"color\":\"#888\",\"width\":2},\"mode\":\"lines\",\"x\":[-0.8451529582190194,-0.3750546815683805,null],\"y\":[-0.19462670090631123,0.16233917125408356,null],\"type\":\"scatter\"},{\"hoverinfo\":\"none\",\"line\":{\"color\":\"#888\",\"width\":2},\"mode\":\"lines\",\"x\":[0.5884819783781304,0.4328493801987771,null],\"y\":[0.4067043576839656,0.5538946361907251,null],\"type\":\"scatter\"},{\"hoverinfo\":\"none\",\"line\":{\"color\":\"#888\",\"width\":2},\"mode\":\"lines\",\"x\":[0.5884819783781304,-0.11567764464898388,null],\"y\":[0.4067043576839656,-0.16095911653946665,null],\"type\":\"scatter\"},{\"hoverinfo\":\"none\",\"line\":{\"color\":\"#888\",\"width\":2},\"mode\":\"lines\",\"x\":[0.5884819783781304,0.1546617066266627,null],\"y\":[0.4067043576839656,-0.02762495726359837,null],\"type\":\"scatter\"},{\"hoverinfo\":\"none\",\"line\":{\"color\":\"#888\",\"width\":2},\"mode\":\"lines\",\"x\":[0.5884819783781304,0.051086209880543645,null],\"y\":[0.4067043576839656,0.429616119670276,null],\"type\":\"scatter\"},{\"hoverinfo\":\"none\",\"line\":{\"color\":\"#888\",\"width\":2},\"mode\":\"lines\",\"x\":[0.5884819783781304,-0.36305421254688675,null],\"y\":[0.4067043576839656,-0.20177855741627992,null],\"type\":\"scatter\"},{\"hoverinfo\":\"none\",\"line\":{\"color\":\"#888\",\"width\":2},\"mode\":\"lines\",\"x\":[0.5884819783781304,-0.19331327332060397,null],\"y\":[0.4067043576839656,0.22614374347289604,null],\"type\":\"scatter\"},{\"hoverinfo\":\"none\",\"line\":{\"color\":\"#888\",\"width\":2},\"mode\":\"lines\",\"x\":[0.5884819783781304,0.8345557310971147,null],\"y\":[0.4067043576839656,0.1634537308095975,null],\"type\":\"scatter\"},{\"hoverinfo\":\"none\",\"line\":{\"color\":\"#888\",\"width\":2},\"mode\":\"lines\",\"x\":[0.5884819783781304,0.33140291339451944,null],\"y\":[0.4067043576839656,0.11951282082881991,null],\"type\":\"scatter\"},{\"hoverinfo\":\"none\",\"line\":{\"color\":\"#888\",\"width\":2},\"mode\":\"lines\",\"x\":[0.33140291339451944,0.4328493801987771,null],\"y\":[0.11951282082881991,0.5538946361907251,null],\"type\":\"scatter\"},{\"hoverinfo\":\"none\",\"line\":{\"color\":\"#888\",\"width\":2},\"mode\":\"lines\",\"x\":[0.33140291339451944,0.4523977326688961,null],\"y\":[0.11951282082881991,-0.6253299123351034,null],\"type\":\"scatter\"},{\"hoverinfo\":\"none\",\"line\":{\"color\":\"#888\",\"width\":2},\"mode\":\"lines\",\"x\":[0.33140291339451944,0.1546617066266627,null],\"y\":[0.11951282082881991,-0.02762495726359837,null],\"type\":\"scatter\"},{\"hoverinfo\":\"none\",\"line\":{\"color\":\"#888\",\"width\":2},\"mode\":\"lines\",\"x\":[0.33140291339451944,0.051086209880543645,null],\"y\":[0.11951282082881991,0.429616119670276,null],\"type\":\"scatter\"},{\"hoverinfo\":\"none\",\"line\":{\"color\":\"#888\",\"width\":2},\"mode\":\"lines\",\"x\":[0.33140291339451944,-0.5124719055916189,null],\"y\":[0.11951282082881991,-0.29831800531790625,null],\"type\":\"scatter\"},{\"hoverinfo\":\"none\",\"line\":{\"color\":\"#888\",\"width\":2},\"mode\":\"lines\",\"x\":[0.33140291339451944,-0.24813582040557597,null],\"y\":[0.11951282082881991,-0.027684807213380992,null],\"type\":\"scatter\"},{\"hoverinfo\":\"none\",\"line\":{\"color\":\"#888\",\"width\":2},\"mode\":\"lines\",\"x\":[0.33140291339451944,-0.19331327332060397,null],\"y\":[0.11951282082881991,0.22614374347289604,null],\"type\":\"scatter\"},{\"hoverinfo\":\"none\",\"line\":{\"color\":\"#888\",\"width\":2},\"mode\":\"lines\",\"x\":[0.33140291339451944,-0.26022196376434464,null],\"y\":[0.11951282082881991,0.7337976474168793,null],\"type\":\"scatter\"},{\"hoverinfo\":\"none\",\"line\":{\"color\":\"#888\",\"width\":2},\"mode\":\"lines\",\"x\":[0.33140291339451944,0.8345557310971147,null],\"y\":[0.11951282082881991,0.1634537308095975,null],\"type\":\"scatter\"},{\"hoverinfo\":\"none\",\"line\":{\"color\":\"#888\",\"width\":2},\"mode\":\"lines\",\"x\":[0.4328493801987771,-0.012023071840863094,null],\"y\":[0.5538946361907251,0.04776551965145535,null],\"type\":\"scatter\"},{\"hoverinfo\":\"none\",\"line\":{\"color\":\"#888\",\"width\":2},\"mode\":\"lines\",\"x\":[0.4328493801987771,0.0551996226154287,null],\"y\":[0.5538946361907251,-0.26678928704315813,null],\"type\":\"scatter\"},{\"hoverinfo\":\"none\",\"line\":{\"color\":\"#888\",\"width\":2},\"mode\":\"lines\",\"x\":[0.4328493801987771,0.868650949264276,null],\"y\":[0.5538946361907251,-0.10444132998223317,null],\"type\":\"scatter\"},{\"hoverinfo\":\"none\",\"line\":{\"color\":\"#888\",\"width\":2},\"mode\":\"lines\",\"x\":[0.4328493801987771,-0.3003383113451329,null],\"y\":[0.5538946361907251,0.5975243321559691,null],\"type\":\"scatter\"},{\"hoverinfo\":\"none\",\"line\":{\"color\":\"#888\",\"width\":2},\"mode\":\"lines\",\"x\":[0.4328493801987771,-0.26022196376434464,null],\"y\":[0.5538946361907251,0.7337976474168793,null],\"type\":\"scatter\"},{\"hoverinfo\":\"none\",\"line\":{\"color\":\"#888\",\"width\":2},\"mode\":\"lines\",\"x\":[0.4328493801987771,0.6337110635916902,null],\"y\":[0.5538946361907251,-0.3535363588110571,null],\"type\":\"scatter\"},{\"hoverinfo\":\"none\",\"line\":{\"color\":\"#888\",\"width\":2},\"mode\":\"lines\",\"x\":[-0.012023071840863094,0.1546617066266627,null],\"y\":[0.04776551965145535,-0.02762495726359837,null],\"type\":\"scatter\"},{\"hoverinfo\":\"none\",\"line\":{\"color\":\"#888\",\"width\":2},\"mode\":\"lines\",\"x\":[-0.012023071840863094,0.0551996226154287,null],\"y\":[0.04776551965145535,-0.26678928704315813,null],\"type\":\"scatter\"},{\"hoverinfo\":\"none\",\"line\":{\"color\":\"#888\",\"width\":2},\"mode\":\"lines\",\"x\":[-0.012023071840863094,-0.42261697927544667,null],\"y\":[0.04776551965145535,-0.7531129790898593,null],\"type\":\"scatter\"},{\"hoverinfo\":\"none\",\"line\":{\"color\":\"#888\",\"width\":2},\"mode\":\"lines\",\"x\":[-0.012023071840863094,-0.5124719055916189,null],\"y\":[0.04776551965145535,-0.29831800531790625,null],\"type\":\"scatter\"},{\"hoverinfo\":\"none\",\"line\":{\"color\":\"#888\",\"width\":2},\"mode\":\"lines\",\"x\":[-0.012023071840863094,-0.2590082503788941,null],\"y\":[0.04776551965145535,-0.554361776460813,null],\"type\":\"scatter\"},{\"hoverinfo\":\"none\",\"line\":{\"color\":\"#888\",\"width\":2},\"mode\":\"lines\",\"x\":[-0.012023071840863094,-0.19331327332060397,null],\"y\":[0.04776551965145535,0.22614374347289604,null],\"type\":\"scatter\"},{\"hoverinfo\":\"none\",\"line\":{\"color\":\"#888\",\"width\":2},\"mode\":\"lines\",\"x\":[-0.012023071840863094,0.057315897081171144,null],\"y\":[0.04776551965145535,0.5771478257025457,null],\"type\":\"scatter\"},{\"hoverinfo\":\"none\",\"line\":{\"color\":\"#888\",\"width\":2},\"mode\":\"lines\",\"x\":[-0.012023071840863094,0.13535534904928712,null],\"y\":[0.04776551965145535,-0.40464069833633287,null],\"type\":\"scatter\"},{\"hoverinfo\":\"none\",\"line\":{\"color\":\"#888\",\"width\":2},\"mode\":\"lines\",\"x\":[0.0551996226154287,0.4523977326688961,null],\"y\":[-0.26678928704315813,-0.6253299123351034,null],\"type\":\"scatter\"},{\"hoverinfo\":\"none\",\"line\":{\"color\":\"#888\",\"width\":2},\"mode\":\"lines\",\"x\":[0.0551996226154287,-0.42261697927544667,null],\"y\":[-0.26678928704315813,-0.7531129790898593,null],\"type\":\"scatter\"},{\"hoverinfo\":\"none\",\"line\":{\"color\":\"#888\",\"width\":2},\"mode\":\"lines\",\"x\":[0.0551996226154287,-0.36305421254688675,null],\"y\":[-0.26678928704315813,-0.20177855741627992,null],\"type\":\"scatter\"},{\"hoverinfo\":\"none\",\"line\":{\"color\":\"#888\",\"width\":2},\"mode\":\"lines\",\"x\":[0.0551996226154287,-0.3003383113451329,null],\"y\":[-0.26678928704315813,0.5975243321559691,null],\"type\":\"scatter\"},{\"hoverinfo\":\"none\",\"line\":{\"color\":\"#888\",\"width\":2},\"mode\":\"lines\",\"x\":[0.0551996226154287,-0.14858186469163698,null],\"y\":[-0.26678928704315813,-0.7037913023776443,null],\"type\":\"scatter\"},{\"hoverinfo\":\"none\",\"line\":{\"color\":\"#888\",\"width\":2},\"mode\":\"lines\",\"x\":[0.0551996226154287,0.6337110635916902,null],\"y\":[-0.26678928704315813,-0.3535363588110571,null],\"type\":\"scatter\"},{\"hoverinfo\":\"none\",\"line\":{\"color\":\"#888\",\"width\":2},\"mode\":\"lines\",\"x\":[0.868650949264276,0.1546617066266627,null],\"y\":[-0.10444132998223317,-0.02762495726359837,null],\"type\":\"scatter\"},{\"hoverinfo\":\"none\",\"line\":{\"color\":\"#888\",\"width\":2},\"mode\":\"lines\",\"x\":[0.868650949264276,-0.3750546815683805,null],\"y\":[-0.10444132998223317,0.16233917125408356,null],\"type\":\"scatter\"},{\"hoverinfo\":\"none\",\"line\":{\"color\":\"#888\",\"width\":2},\"mode\":\"lines\",\"x\":[0.868650949264276,0.13535534904928712,null],\"y\":[-0.10444132998223317,-0.40464069833633287,null],\"type\":\"scatter\"},{\"hoverinfo\":\"none\",\"line\":{\"color\":\"#888\",\"width\":2},\"mode\":\"lines\",\"x\":[-0.3003383113451329,-0.11567764464898388,null],\"y\":[0.5975243321559691,-0.16095911653946665,null],\"type\":\"scatter\"},{\"hoverinfo\":\"none\",\"line\":{\"color\":\"#888\",\"width\":2},\"mode\":\"lines\",\"x\":[-0.3003383113451329,0.051086209880543645,null],\"y\":[0.5975243321559691,0.429616119670276,null],\"type\":\"scatter\"},{\"hoverinfo\":\"none\",\"line\":{\"color\":\"#888\",\"width\":2},\"mode\":\"lines\",\"x\":[-0.3003383113451329,-0.6875502047544992,null],\"y\":[0.5975243321559691,0.4155163495959592,null],\"type\":\"scatter\"},{\"hoverinfo\":\"none\",\"line\":{\"color\":\"#888\",\"width\":2},\"mode\":\"lines\",\"x\":[-0.3003383113451329,-0.19331327332060397,null],\"y\":[0.5975243321559691,0.22614374347289604,null],\"type\":\"scatter\"},{\"hoverinfo\":\"none\",\"line\":{\"color\":\"#888\",\"width\":2},\"mode\":\"lines\",\"x\":[-0.3003383113451329,0.25981367419235923,null],\"y\":[0.5975243321559691,0.44179898537270834,null],\"type\":\"scatter\"},{\"hoverinfo\":\"none\",\"line\":{\"color\":\"#888\",\"width\":2},\"mode\":\"lines\",\"x\":[-0.3003383113451329,-0.26022196376434464,null],\"y\":[0.5975243321559691,0.7337976474168793,null],\"type\":\"scatter\"},{\"hoverinfo\":\"none\",\"line\":{\"color\":\"#888\",\"width\":2},\"mode\":\"lines\",\"x\":[-0.3003383113451329,-0.3750546815683805,null],\"y\":[0.5975243321559691,0.16233917125408356,null],\"type\":\"scatter\"},{\"hoverinfo\":\"none\",\"line\":{\"color\":\"#888\",\"width\":2},\"mode\":\"lines\",\"x\":[-0.26022196376434464,-0.2590082503788941,null],\"y\":[0.7337976474168793,-0.554361776460813,null],\"type\":\"scatter\"},{\"hoverinfo\":\"none\",\"line\":{\"color\":\"#888\",\"width\":2},\"mode\":\"lines\",\"x\":[-0.26022196376434464,-0.24813582040557597,null],\"y\":[0.7337976474168793,-0.027684807213380992,null],\"type\":\"scatter\"},{\"hoverinfo\":\"none\",\"line\":{\"color\":\"#888\",\"width\":2},\"mode\":\"lines\",\"x\":[0.6337110635916902,-0.42261697927544667,null],\"y\":[-0.3535363588110571,-0.7531129790898593,null],\"type\":\"scatter\"},{\"hoverinfo\":\"none\",\"line\":{\"color\":\"#888\",\"width\":2},\"mode\":\"lines\",\"x\":[0.6337110635916902,-0.2590082503788941,null],\"y\":[-0.3535363588110571,-0.554361776460813,null],\"type\":\"scatter\"},{\"hoverinfo\":\"none\",\"line\":{\"color\":\"#888\",\"width\":2},\"mode\":\"lines\",\"x\":[0.6337110635916902,0.057315897081171144,null],\"y\":[-0.3535363588110571,0.5771478257025457,null],\"type\":\"scatter\"},{\"hoverinfo\":\"none\",\"line\":{\"color\":\"#888\",\"width\":2},\"mode\":\"lines\",\"x\":[0.1546617066266627,-0.42261697927544667,null],\"y\":[-0.02762495726359837,-0.7531129790898593,null],\"type\":\"scatter\"},{\"hoverinfo\":\"none\",\"line\":{\"color\":\"#888\",\"width\":2},\"mode\":\"lines\",\"x\":[0.1546617066266627,-0.6875502047544992,null],\"y\":[-0.02762495726359837,0.4155163495959592,null],\"type\":\"scatter\"},{\"hoverinfo\":\"none\",\"line\":{\"color\":\"#888\",\"width\":2},\"mode\":\"lines\",\"x\":[0.1546617066266627,-0.2590082503788941,null],\"y\":[-0.02762495726359837,-0.554361776460813,null],\"type\":\"scatter\"},{\"hoverinfo\":\"none\",\"line\":{\"color\":\"#888\",\"width\":2},\"mode\":\"lines\",\"x\":[0.1546617066266627,-0.24813582040557597,null],\"y\":[-0.02762495726359837,-0.027684807213380992,null],\"type\":\"scatter\"},{\"hoverinfo\":\"none\",\"line\":{\"color\":\"#888\",\"width\":2},\"mode\":\"lines\",\"x\":[0.1546617066266627,-0.3750546815683805,null],\"y\":[-0.02762495726359837,0.16233917125408356,null],\"type\":\"scatter\"},{\"hoverinfo\":\"none\",\"line\":{\"color\":\"#888\",\"width\":2},\"mode\":\"lines\",\"x\":[0.1546617066266627,0.8345557310971147,null],\"y\":[-0.02762495726359837,0.1634537308095975,null],\"type\":\"scatter\"},{\"hoverinfo\":\"none\",\"line\":{\"color\":\"#888\",\"width\":2},\"mode\":\"lines\",\"x\":[0.1546617066266627,-0.16200467070209576,null],\"y\":[-0.02762495726359837,-0.334067522266607,null],\"type\":\"scatter\"},{\"hoverinfo\":\"none\",\"line\":{\"color\":\"#888\",\"width\":2},\"mode\":\"lines\",\"x\":[0.1546617066266627,0.13535534904928712,null],\"y\":[-0.02762495726359837,-0.40464069833633287,null],\"type\":\"scatter\"},{\"hoverinfo\":\"none\",\"line\":{\"color\":\"#888\",\"width\":2},\"mode\":\"lines\",\"x\":[0.051086209880543645,-0.6875502047544992,null],\"y\":[0.429616119670276,0.4155163495959592,null],\"type\":\"scatter\"},{\"hoverinfo\":\"none\",\"line\":{\"color\":\"#888\",\"width\":2},\"mode\":\"lines\",\"x\":[0.051086209880543645,-0.24813582040557597,null],\"y\":[0.429616119670276,-0.027684807213380992,null],\"type\":\"scatter\"},{\"hoverinfo\":\"none\",\"line\":{\"color\":\"#888\",\"width\":2},\"mode\":\"lines\",\"x\":[0.051086209880543645,-0.19331327332060397,null],\"y\":[0.429616119670276,0.22614374347289604,null],\"type\":\"scatter\"},{\"hoverinfo\":\"none\",\"line\":{\"color\":\"#888\",\"width\":2},\"mode\":\"lines\",\"x\":[0.051086209880543645,0.25981367419235923,null],\"y\":[0.429616119670276,0.44179898537270834,null],\"type\":\"scatter\"},{\"hoverinfo\":\"none\",\"line\":{\"color\":\"#888\",\"width\":2},\"mode\":\"lines\",\"x\":[0.051086209880543645,-0.3750546815683805,null],\"y\":[0.429616119670276,0.16233917125408356,null],\"type\":\"scatter\"},{\"hoverinfo\":\"none\",\"line\":{\"color\":\"#888\",\"width\":2},\"mode\":\"lines\",\"x\":[0.051086209880543645,-0.16200467070209576,null],\"y\":[0.429616119670276,-0.334067522266607,null],\"type\":\"scatter\"},{\"hoverinfo\":\"none\",\"line\":{\"color\":\"#888\",\"width\":2},\"mode\":\"lines\",\"x\":[-0.3410151930485177,0.4523977326688961,null],\"y\":[-0.38147315044409735,-0.6253299123351034,null],\"type\":\"scatter\"},{\"hoverinfo\":\"none\",\"line\":{\"color\":\"#888\",\"width\":2},\"mode\":\"lines\",\"x\":[-0.3410151930485177,-0.2590082503788941,null],\"y\":[-0.38147315044409735,-0.554361776460813,null],\"type\":\"scatter\"},{\"hoverinfo\":\"none\",\"line\":{\"color\":\"#888\",\"width\":2},\"mode\":\"lines\",\"x\":[-0.3410151930485177,-0.3750546815683805,null],\"y\":[-0.38147315044409735,0.16233917125408356,null],\"type\":\"scatter\"},{\"hoverinfo\":\"none\",\"line\":{\"color\":\"#888\",\"width\":2},\"mode\":\"lines\",\"x\":[-0.19331327332060397,-0.11567764464898388,null],\"y\":[0.22614374347289604,-0.16095911653946665,null],\"type\":\"scatter\"},{\"hoverinfo\":\"none\",\"line\":{\"color\":\"#888\",\"width\":2},\"mode\":\"lines\",\"x\":[-0.19331327332060397,-0.36305421254688675,null],\"y\":[0.22614374347289604,-0.20177855741627992,null],\"type\":\"scatter\"},{\"hoverinfo\":\"none\",\"line\":{\"color\":\"#888\",\"width\":2},\"mode\":\"lines\",\"x\":[-0.19331327332060397,-0.6875502047544992,null],\"y\":[0.22614374347289604,0.4155163495959592,null],\"type\":\"scatter\"},{\"hoverinfo\":\"none\",\"line\":{\"color\":\"#888\",\"width\":2},\"mode\":\"lines\",\"x\":[-0.19331327332060397,-0.2590082503788941,null],\"y\":[0.22614374347289604,-0.554361776460813,null],\"type\":\"scatter\"},{\"hoverinfo\":\"none\",\"line\":{\"color\":\"#888\",\"width\":2},\"mode\":\"lines\",\"x\":[-0.19331327332060397,0.25981367419235923,null],\"y\":[0.22614374347289604,0.44179898537270834,null],\"type\":\"scatter\"},{\"hoverinfo\":\"none\",\"line\":{\"color\":\"#888\",\"width\":2},\"mode\":\"lines\",\"x\":[-0.19331327332060397,-0.16200467070209576,null],\"y\":[0.22614374347289604,-0.334067522266607,null],\"type\":\"scatter\"},{\"hoverinfo\":\"none\",\"line\":{\"color\":\"#888\",\"width\":2},\"mode\":\"lines\",\"x\":[-0.19331327332060397,0.13535534904928712,null],\"y\":[0.22614374347289604,-0.40464069833633287,null],\"type\":\"scatter\"},{\"hoverinfo\":\"none\",\"line\":{\"color\":\"#888\",\"width\":2},\"mode\":\"lines\",\"x\":[0.8345557310971147,0.4523977326688961,null],\"y\":[0.1634537308095975,-0.6253299123351034,null],\"type\":\"scatter\"},{\"hoverinfo\":\"none\",\"line\":{\"color\":\"#888\",\"width\":2},\"mode\":\"lines\",\"x\":[0.8345557310971147,0.25981367419235923,null],\"y\":[0.1634537308095975,0.44179898537270834,null],\"type\":\"scatter\"},{\"hoverinfo\":\"none\",\"line\":{\"color\":\"#888\",\"width\":2},\"mode\":\"lines\",\"x\":[0.4523977326688961,-0.2590082503788941,null],\"y\":[-0.6253299123351034,-0.554361776460813,null],\"type\":\"scatter\"},{\"hoverinfo\":\"none\",\"line\":{\"color\":\"#888\",\"width\":2},\"mode\":\"lines\",\"x\":[0.4523977326688961,0.13535534904928712,null],\"y\":[-0.6253299123351034,-0.40464069833633287,null],\"type\":\"scatter\"},{\"hoverinfo\":\"none\",\"line\":{\"color\":\"#888\",\"width\":2},\"mode\":\"lines\",\"x\":[-0.2590082503788941,-0.42261697927544667,null],\"y\":[-0.554361776460813,-0.7531129790898593,null],\"type\":\"scatter\"},{\"hoverinfo\":\"none\",\"line\":{\"color\":\"#888\",\"width\":2},\"mode\":\"lines\",\"x\":[-0.2590082503788941,-0.5124719055916189,null],\"y\":[-0.554361776460813,-0.29831800531790625,null],\"type\":\"scatter\"},{\"hoverinfo\":\"none\",\"line\":{\"color\":\"#888\",\"width\":2},\"mode\":\"lines\",\"x\":[-0.2590082503788941,-0.14858186469163698,null],\"y\":[-0.554361776460813,-0.7037913023776443,null],\"type\":\"scatter\"},{\"hoverinfo\":\"none\",\"line\":{\"color\":\"#888\",\"width\":2},\"mode\":\"lines\",\"x\":[-0.2590082503788941,-0.24813582040557597,null],\"y\":[-0.554361776460813,-0.027684807213380992,null],\"type\":\"scatter\"},{\"hoverinfo\":\"none\",\"line\":{\"color\":\"#888\",\"width\":2},\"mode\":\"lines\",\"x\":[0.13535534904928712,-0.36305421254688675,null],\"y\":[-0.40464069833633287,-0.20177855741627992,null],\"type\":\"scatter\"},{\"hoverinfo\":\"none\",\"line\":{\"color\":\"#888\",\"width\":2},\"mode\":\"lines\",\"x\":[0.13535534904928712,-0.14858186469163698,null],\"y\":[-0.40464069833633287,-0.7037913023776443,null],\"type\":\"scatter\"},{\"hoverinfo\":\"none\",\"line\":{\"color\":\"#888\",\"width\":2},\"mode\":\"lines\",\"x\":[0.13535534904928712,0.25981367419235923,null],\"y\":[-0.40464069833633287,0.44179898537270834,null],\"type\":\"scatter\"},{\"hoverinfo\":\"none\",\"line\":{\"color\":\"#888\",\"width\":2},\"mode\":\"lines\",\"x\":[0.13535534904928712,-0.16200467070209576,null],\"y\":[-0.40464069833633287,-0.334067522266607,null],\"type\":\"scatter\"},{\"hoverinfo\":\"none\",\"line\":{\"color\":\"#888\",\"width\":2},\"mode\":\"lines\",\"x\":[-0.6875502047544992,-0.11567764464898388,null],\"y\":[0.4155163495959592,-0.16095911653946665,null],\"type\":\"scatter\"},{\"hoverinfo\":\"none\",\"line\":{\"color\":\"#888\",\"width\":2},\"mode\":\"lines\",\"x\":[-0.24813582040557597,-0.36305421254688675,null],\"y\":[-0.027684807213380992,-0.20177855741627992,null],\"type\":\"scatter\"},{\"hoverinfo\":\"none\",\"line\":{\"color\":\"#888\",\"width\":2},\"mode\":\"lines\",\"x\":[-0.24813582040557597,-0.6263266874906048,null],\"y\":[-0.027684807213380992,-0.5877336887740254,null],\"type\":\"scatter\"},{\"hoverinfo\":\"none\",\"line\":{\"color\":\"#888\",\"width\":2},\"mode\":\"lines\",\"x\":[-0.24813582040557597,0.25981367419235923,null],\"y\":[-0.027684807213380992,0.44179898537270834,null],\"type\":\"scatter\"},{\"hoverinfo\":\"none\",\"line\":{\"color\":\"#888\",\"width\":2},\"mode\":\"lines\",\"x\":[-0.3750546815683805,-0.11567764464898388,null],\"y\":[0.16233917125408356,-0.16095911653946665,null],\"type\":\"scatter\"},{\"hoverinfo\":\"none\",\"line\":{\"color\":\"#888\",\"width\":2},\"mode\":\"lines\",\"x\":[-0.3750546815683805,-0.42261697927544667,null],\"y\":[0.16233917125408356,-0.7531129790898593,null],\"type\":\"scatter\"},{\"hoverinfo\":\"none\",\"line\":{\"color\":\"#888\",\"width\":2},\"mode\":\"lines\",\"x\":[-0.3750546815683805,0.057315897081171144,null],\"y\":[0.16233917125408356,0.5771478257025457,null],\"type\":\"scatter\"},{\"hoverinfo\":\"none\",\"line\":{\"color\":\"#888\",\"width\":2},\"mode\":\"lines\",\"x\":[-0.11567764464898388,-0.36305421254688675,null],\"y\":[-0.16095911653946665,-0.20177855741627992,null],\"type\":\"scatter\"},{\"hoverinfo\":\"none\",\"line\":{\"color\":\"#888\",\"width\":2},\"mode\":\"lines\",\"x\":[-0.11567764464898388,-0.6263266874906048,null],\"y\":[-0.16095911653946665,-0.5877336887740254,null],\"type\":\"scatter\"},{\"hoverinfo\":\"none\",\"line\":{\"color\":\"#888\",\"width\":2},\"mode\":\"lines\",\"x\":[-0.11567764464898388,-0.14858186469163698,null],\"y\":[-0.16095911653946665,-0.7037913023776443,null],\"type\":\"scatter\"},{\"hoverinfo\":\"none\",\"line\":{\"color\":\"#888\",\"width\":2},\"mode\":\"lines\",\"x\":[-0.11567764464898388,-0.16200467070209576,null],\"y\":[-0.16095911653946665,-0.334067522266607,null],\"type\":\"scatter\"},{\"hoverinfo\":\"none\",\"line\":{\"color\":\"#888\",\"width\":2},\"mode\":\"lines\",\"x\":[-0.36305421254688675,-0.6263266874906048,null],\"y\":[-0.20177855741627992,-0.5877336887740254,null],\"type\":\"scatter\"},{\"hoverinfo\":\"none\",\"line\":{\"color\":\"#888\",\"width\":2},\"mode\":\"lines\",\"x\":[-0.36305421254688675,-0.14858186469163698,null],\"y\":[-0.20177855741627992,-0.7037913023776443,null],\"type\":\"scatter\"},{\"hoverinfo\":\"none\",\"line\":{\"color\":\"#888\",\"width\":2},\"mode\":\"lines\",\"x\":[-0.6263266874906048,-0.42261697927544667,null],\"y\":[-0.5877336887740254,-0.7531129790898593,null],\"type\":\"scatter\"},{\"hoverinfo\":\"none\",\"line\":{\"color\":\"#888\",\"width\":2},\"mode\":\"lines\",\"x\":[-0.6263266874906048,-0.5124719055916189,null],\"y\":[-0.5877336887740254,-0.29831800531790625,null],\"type\":\"scatter\"},{\"hoverinfo\":\"none\",\"line\":{\"color\":\"#888\",\"width\":2},\"mode\":\"lines\",\"x\":[-0.6263266874906048,-0.14858186469163698,null],\"y\":[-0.5877336887740254,-0.7037913023776443,null],\"type\":\"scatter\"},{\"hoverinfo\":\"none\",\"line\":{\"color\":\"#888\",\"width\":2},\"mode\":\"lines\",\"x\":[-0.6263266874906048,0.25981367419235923,null],\"y\":[-0.5877336887740254,0.44179898537270834,null],\"type\":\"scatter\"},{\"hoverinfo\":\"none\",\"line\":{\"color\":\"#888\",\"width\":2},\"mode\":\"lines\",\"x\":[-0.14858186469163698,-0.42261697927544667,null],\"y\":[-0.7037913023776443,-0.7531129790898593,null],\"type\":\"scatter\"},{\"hoverinfo\":\"none\",\"line\":{\"color\":\"#888\",\"width\":2},\"mode\":\"lines\",\"x\":[-0.14858186469163698,-0.5124719055916189,null],\"y\":[-0.7037913023776443,-0.29831800531790625,null],\"type\":\"scatter\"},{\"hoverinfo\":\"none\",\"line\":{\"color\":\"#888\",\"width\":2},\"mode\":\"lines\",\"x\":[-0.16200467070209576,0.057315897081171144,null],\"y\":[-0.334067522266607,0.5771478257025457,null],\"type\":\"scatter\"},{\"hoverinfo\":\"none\",\"line\":{\"color\":\"#888\",\"width\":2},\"mode\":\"lines\",\"x\":[-0.42261697927544667,-0.5124719055916189,null],\"y\":[-0.7531129790898593,-0.29831800531790625,null],\"type\":\"scatter\"},{\"hoverinfo\":\"none\",\"line\":{\"color\":\"#888\",\"width\":2},\"mode\":\"lines\",\"x\":[-0.5124719055916189,0.057315897081171144,null],\"y\":[-0.29831800531790625,0.5771478257025457,null],\"type\":\"scatter\"},{\"hoverinfo\":\"text\",\"marker\":{\"colorbar\":{\"thickness\":15,\"title\":{\"side\":\"right\",\"text\":\"Node Connections\"},\"xanchor\":\"left\"},\"colorscale\":[[0.0,\"rgb(255,255,217)\"],[0.125,\"rgb(237,248,177)\"],[0.25,\"rgb(199,233,180)\"],[0.375,\"rgb(127,205,187)\"],[0.5,\"rgb(65,182,196)\"],[0.625,\"rgb(29,145,192)\"],[0.75,\"rgb(34,94,168)\"],[0.875,\"rgb(37,52,148)\"],[1.0,\"rgb(8,29,88)\"]],\"showscale\":true,\"size\":10},\"mode\":\"markers+text\",\"text\":[\"0\",\"3\",\"5\",\"8\",\"10\",\"42\",\"43\",\"45\",\"49\",\"1\",\"13\",\"15\",\"16\",\"20\",\"22\",\"24\",\"25\",\"27\",\"31\",\"35\",\"39\",\"46\",\"47\",\"2\",\"9\",\"12\",\"21\",\"28\",\"36\",\"48\",\"7\",\"11\",\"30\",\"33\",\"40\",\"4\",\"26\",\"44\",\"18\",\"32\",\"37\",\"6\",\"17\",\"23\",\"29\",\"41\",\"14\",\"34\",\"19\",\"38\"],\"textposition\":\"top center\",\"x\":[-0.6322815429706384,0.22803540913505493,-0.04820350684316548,-0.16924612301918487,-0.5356705281652924,-0.47993569670143393,-0.4491929074852744,0.13559764861571055,-0.6175825019745628,0.5358652409370825,0.05677327529841889,0.2999514981426229,0.3821023896995385,0.26445791221340403,0.017094203480625594,0.764873553425225,0.8826853304385002,0.18572118500273385,0.2477290325527497,-0.05170838622786239,-0.8451529582190194,0.5884819783781304,0.33140291339451944,0.4328493801987771,-0.012023071840863094,0.0551996226154287,0.868650949264276,-0.3003383113451329,-0.26022196376434464,0.6337110635916902,0.1546617066266627,0.051086209880543645,-0.3410151930485177,-0.19331327332060397,0.8345557310971147,0.4523977326688961,-0.2590082503788941,0.13535534904928712,-0.6875502047544992,-0.24813582040557597,-0.3750546815683805,-0.11567764464898388,-0.36305421254688675,-0.6263266874906048,-0.14858186469163698,-0.16200467070209576,-0.42261697927544667,0.25981367419235923,-0.5124719055916189,0.057315897081171144],\"y\":[0.8963698265993094,0.7428195373598349,0.7098694932146151,0.4290146825550163,0.4654912652098567,0.2741254479581376,0.016777651467562243,0.1487690260573683,0.02082924849558535,-0.15887005322720396,-1.0,-0.3796568383765987,-0.11641047261347395,-0.11924353859101533,-0.48695407013698794,-0.5254510463358661,0.3629184598043928,-0.6380760364383304,0.26681275750771183,0.19591957026207413,-0.19462670090631123,0.4067043576839656,0.11951282082881991,0.5538946361907251,0.04776551965145535,-0.26678928704315813,-0.10444132998223317,0.5975243321559691,0.7337976474168793,-0.3535363588110571,-0.02762495726359837,0.429616119670276,-0.38147315044409735,0.22614374347289604,0.1634537308095975,-0.6253299123351034,-0.554361776460813,-0.40464069833633287,0.4155163495959592,-0.027684807213380992,0.16233917125408356,-0.16095911653946665,-0.20177855741627992,-0.5877336887740254,-0.7037913023776443,-0.334067522266607,-0.7531129790898593,0.44179898537270834,-0.29831800531790625,0.5771478257025457],\"type\":\"scatter\"}],                        {\"hovermode\":\"closest\",\"margin\":{\"b\":0,\"l\":0,\"r\":0,\"t\":0},\"showlegend\":false,\"template\":{\"data\":{\"barpolar\":[{\"marker\":{\"line\":{\"color\":\"#E5ECF6\",\"width\":0.5},\"pattern\":{\"fillmode\":\"overlay\",\"size\":10,\"solidity\":0.2}},\"type\":\"barpolar\"}],\"bar\":[{\"error_x\":{\"color\":\"#2a3f5f\"},\"error_y\":{\"color\":\"#2a3f5f\"},\"marker\":{\"line\":{\"color\":\"#E5ECF6\",\"width\":0.5},\"pattern\":{\"fillmode\":\"overlay\",\"size\":10,\"solidity\":0.2}},\"type\":\"bar\"}],\"carpet\":[{\"aaxis\":{\"endlinecolor\":\"#2a3f5f\",\"gridcolor\":\"white\",\"linecolor\":\"white\",\"minorgridcolor\":\"white\",\"startlinecolor\":\"#2a3f5f\"},\"baxis\":{\"endlinecolor\":\"#2a3f5f\",\"gridcolor\":\"white\",\"linecolor\":\"white\",\"minorgridcolor\":\"white\",\"startlinecolor\":\"#2a3f5f\"},\"type\":\"carpet\"}],\"choropleth\":[{\"colorbar\":{\"outlinewidth\":0,\"ticks\":\"\"},\"type\":\"choropleth\"}],\"contourcarpet\":[{\"colorbar\":{\"outlinewidth\":0,\"ticks\":\"\"},\"type\":\"contourcarpet\"}],\"contour\":[{\"colorbar\":{\"outlinewidth\":0,\"ticks\":\"\"},\"colorscale\":[[0.0,\"#0d0887\"],[0.1111111111111111,\"#46039f\"],[0.2222222222222222,\"#7201a8\"],[0.3333333333333333,\"#9c179e\"],[0.4444444444444444,\"#bd3786\"],[0.5555555555555556,\"#d8576b\"],[0.6666666666666666,\"#ed7953\"],[0.7777777777777778,\"#fb9f3a\"],[0.8888888888888888,\"#fdca26\"],[1.0,\"#f0f921\"]],\"type\":\"contour\"}],\"heatmapgl\":[{\"colorbar\":{\"outlinewidth\":0,\"ticks\":\"\"},\"colorscale\":[[0.0,\"#0d0887\"],[0.1111111111111111,\"#46039f\"],[0.2222222222222222,\"#7201a8\"],[0.3333333333333333,\"#9c179e\"],[0.4444444444444444,\"#bd3786\"],[0.5555555555555556,\"#d8576b\"],[0.6666666666666666,\"#ed7953\"],[0.7777777777777778,\"#fb9f3a\"],[0.8888888888888888,\"#fdca26\"],[1.0,\"#f0f921\"]],\"type\":\"heatmapgl\"}],\"heatmap\":[{\"colorbar\":{\"outlinewidth\":0,\"ticks\":\"\"},\"colorscale\":[[0.0,\"#0d0887\"],[0.1111111111111111,\"#46039f\"],[0.2222222222222222,\"#7201a8\"],[0.3333333333333333,\"#9c179e\"],[0.4444444444444444,\"#bd3786\"],[0.5555555555555556,\"#d8576b\"],[0.6666666666666666,\"#ed7953\"],[0.7777777777777778,\"#fb9f3a\"],[0.8888888888888888,\"#fdca26\"],[1.0,\"#f0f921\"]],\"type\":\"heatmap\"}],\"histogram2dcontour\":[{\"colorbar\":{\"outlinewidth\":0,\"ticks\":\"\"},\"colorscale\":[[0.0,\"#0d0887\"],[0.1111111111111111,\"#46039f\"],[0.2222222222222222,\"#7201a8\"],[0.3333333333333333,\"#9c179e\"],[0.4444444444444444,\"#bd3786\"],[0.5555555555555556,\"#d8576b\"],[0.6666666666666666,\"#ed7953\"],[0.7777777777777778,\"#fb9f3a\"],[0.8888888888888888,\"#fdca26\"],[1.0,\"#f0f921\"]],\"type\":\"histogram2dcontour\"}],\"histogram2d\":[{\"colorbar\":{\"outlinewidth\":0,\"ticks\":\"\"},\"colorscale\":[[0.0,\"#0d0887\"],[0.1111111111111111,\"#46039f\"],[0.2222222222222222,\"#7201a8\"],[0.3333333333333333,\"#9c179e\"],[0.4444444444444444,\"#bd3786\"],[0.5555555555555556,\"#d8576b\"],[0.6666666666666666,\"#ed7953\"],[0.7777777777777778,\"#fb9f3a\"],[0.8888888888888888,\"#fdca26\"],[1.0,\"#f0f921\"]],\"type\":\"histogram2d\"}],\"histogram\":[{\"marker\":{\"pattern\":{\"fillmode\":\"overlay\",\"size\":10,\"solidity\":0.2}},\"type\":\"histogram\"}],\"mesh3d\":[{\"colorbar\":{\"outlinewidth\":0,\"ticks\":\"\"},\"type\":\"mesh3d\"}],\"parcoords\":[{\"line\":{\"colorbar\":{\"outlinewidth\":0,\"ticks\":\"\"}},\"type\":\"parcoords\"}],\"pie\":[{\"automargin\":true,\"type\":\"pie\"}],\"scatter3d\":[{\"line\":{\"colorbar\":{\"outlinewidth\":0,\"ticks\":\"\"}},\"marker\":{\"colorbar\":{\"outlinewidth\":0,\"ticks\":\"\"}},\"type\":\"scatter3d\"}],\"scattercarpet\":[{\"marker\":{\"colorbar\":{\"outlinewidth\":0,\"ticks\":\"\"}},\"type\":\"scattercarpet\"}],\"scattergeo\":[{\"marker\":{\"colorbar\":{\"outlinewidth\":0,\"ticks\":\"\"}},\"type\":\"scattergeo\"}],\"scattergl\":[{\"marker\":{\"colorbar\":{\"outlinewidth\":0,\"ticks\":\"\"}},\"type\":\"scattergl\"}],\"scattermapbox\":[{\"marker\":{\"colorbar\":{\"outlinewidth\":0,\"ticks\":\"\"}},\"type\":\"scattermapbox\"}],\"scatterpolargl\":[{\"marker\":{\"colorbar\":{\"outlinewidth\":0,\"ticks\":\"\"}},\"type\":\"scatterpolargl\"}],\"scatterpolar\":[{\"marker\":{\"colorbar\":{\"outlinewidth\":0,\"ticks\":\"\"}},\"type\":\"scatterpolar\"}],\"scatter\":[{\"fillpattern\":{\"fillmode\":\"overlay\",\"size\":10,\"solidity\":0.2},\"type\":\"scatter\"}],\"scatterternary\":[{\"marker\":{\"colorbar\":{\"outlinewidth\":0,\"ticks\":\"\"}},\"type\":\"scatterternary\"}],\"surface\":[{\"colorbar\":{\"outlinewidth\":0,\"ticks\":\"\"},\"colorscale\":[[0.0,\"#0d0887\"],[0.1111111111111111,\"#46039f\"],[0.2222222222222222,\"#7201a8\"],[0.3333333333333333,\"#9c179e\"],[0.4444444444444444,\"#bd3786\"],[0.5555555555555556,\"#d8576b\"],[0.6666666666666666,\"#ed7953\"],[0.7777777777777778,\"#fb9f3a\"],[0.8888888888888888,\"#fdca26\"],[1.0,\"#f0f921\"]],\"type\":\"surface\"}],\"table\":[{\"cells\":{\"fill\":{\"color\":\"#EBF0F8\"},\"line\":{\"color\":\"white\"}},\"header\":{\"fill\":{\"color\":\"#C8D4E3\"},\"line\":{\"color\":\"white\"}},\"type\":\"table\"}]},\"layout\":{\"annotationdefaults\":{\"arrowcolor\":\"#2a3f5f\",\"arrowhead\":0,\"arrowwidth\":1},\"autotypenumbers\":\"strict\",\"coloraxis\":{\"colorbar\":{\"outlinewidth\":0,\"ticks\":\"\"}},\"colorscale\":{\"diverging\":[[0,\"#8e0152\"],[0.1,\"#c51b7d\"],[0.2,\"#de77ae\"],[0.3,\"#f1b6da\"],[0.4,\"#fde0ef\"],[0.5,\"#f7f7f7\"],[0.6,\"#e6f5d0\"],[0.7,\"#b8e186\"],[0.8,\"#7fbc41\"],[0.9,\"#4d9221\"],[1,\"#276419\"]],\"sequential\":[[0.0,\"#0d0887\"],[0.1111111111111111,\"#46039f\"],[0.2222222222222222,\"#7201a8\"],[0.3333333333333333,\"#9c179e\"],[0.4444444444444444,\"#bd3786\"],[0.5555555555555556,\"#d8576b\"],[0.6666666666666666,\"#ed7953\"],[0.7777777777777778,\"#fb9f3a\"],[0.8888888888888888,\"#fdca26\"],[1.0,\"#f0f921\"]],\"sequentialminus\":[[0.0,\"#0d0887\"],[0.1111111111111111,\"#46039f\"],[0.2222222222222222,\"#7201a8\"],[0.3333333333333333,\"#9c179e\"],[0.4444444444444444,\"#bd3786\"],[0.5555555555555556,\"#d8576b\"],[0.6666666666666666,\"#ed7953\"],[0.7777777777777778,\"#fb9f3a\"],[0.8888888888888888,\"#fdca26\"],[1.0,\"#f0f921\"]]},\"colorway\":[\"#636efa\",\"#EF553B\",\"#00cc96\",\"#ab63fa\",\"#FFA15A\",\"#19d3f3\",\"#FF6692\",\"#B6E880\",\"#FF97FF\",\"#FECB52\"],\"font\":{\"color\":\"#2a3f5f\"},\"geo\":{\"bgcolor\":\"white\",\"lakecolor\":\"white\",\"landcolor\":\"#E5ECF6\",\"showlakes\":true,\"showland\":true,\"subunitcolor\":\"white\"},\"hoverlabel\":{\"align\":\"left\"},\"hovermode\":\"closest\",\"mapbox\":{\"style\":\"light\"},\"paper_bgcolor\":\"white\",\"plot_bgcolor\":\"#E5ECF6\",\"polar\":{\"angularaxis\":{\"gridcolor\":\"white\",\"linecolor\":\"white\",\"ticks\":\"\"},\"bgcolor\":\"#E5ECF6\",\"radialaxis\":{\"gridcolor\":\"white\",\"linecolor\":\"white\",\"ticks\":\"\"}},\"scene\":{\"xaxis\":{\"backgroundcolor\":\"#E5ECF6\",\"gridcolor\":\"white\",\"gridwidth\":2,\"linecolor\":\"white\",\"showbackground\":true,\"ticks\":\"\",\"zerolinecolor\":\"white\"},\"yaxis\":{\"backgroundcolor\":\"#E5ECF6\",\"gridcolor\":\"white\",\"gridwidth\":2,\"linecolor\":\"white\",\"showbackground\":true,\"ticks\":\"\",\"zerolinecolor\":\"white\"},\"zaxis\":{\"backgroundcolor\":\"#E5ECF6\",\"gridcolor\":\"white\",\"gridwidth\":2,\"linecolor\":\"white\",\"showbackground\":true,\"ticks\":\"\",\"zerolinecolor\":\"white\"}},\"shapedefaults\":{\"line\":{\"color\":\"#2a3f5f\"}},\"ternary\":{\"aaxis\":{\"gridcolor\":\"white\",\"linecolor\":\"white\",\"ticks\":\"\"},\"baxis\":{\"gridcolor\":\"white\",\"linecolor\":\"white\",\"ticks\":\"\"},\"bgcolor\":\"#E5ECF6\",\"caxis\":{\"gridcolor\":\"white\",\"linecolor\":\"white\",\"ticks\":\"\"}},\"title\":{\"x\":0.05},\"xaxis\":{\"automargin\":true,\"gridcolor\":\"white\",\"linecolor\":\"white\",\"ticks\":\"\",\"title\":{\"standoff\":15},\"zerolinecolor\":\"white\",\"zerolinewidth\":2},\"yaxis\":{\"automargin\":true,\"gridcolor\":\"white\",\"linecolor\":\"white\",\"ticks\":\"\",\"title\":{\"standoff\":15},\"zerolinecolor\":\"white\",\"zerolinewidth\":2}}},\"xaxis\":{\"showgrid\":false,\"zeroline\":false},\"yaxis\":{\"showgrid\":false,\"zeroline\":false}},                        {\"responsive\": true}                    ).then(function(){\n",
       "                            \n",
       "var gd = document.getElementById('a3ab9340-f1ad-44a9-9b73-8dc8e9aef409');\n",
       "var x = new MutationObserver(function (mutations, observer) {{\n",
       "        var display = window.getComputedStyle(gd).display;\n",
       "        if (!display || display === 'none') {{\n",
       "            console.log([gd, 'removed!']);\n",
       "            Plotly.purge(gd);\n",
       "            observer.disconnect();\n",
       "        }}\n",
       "}});\n",
       "\n",
       "// Listen for the removal of the full notebook cells\n",
       "var notebookContainer = gd.closest('#notebook-container');\n",
       "if (notebookContainer) {{\n",
       "    x.observe(notebookContainer, {childList: true});\n",
       "}}\n",
       "\n",
       "// Listen for the clearing of the current output cell\n",
       "var outputEl = gd.closest('.output');\n",
       "if (outputEl) {{\n",
       "    x.observe(outputEl, {childList: true});\n",
       "}}\n",
       "\n",
       "                        })                };                });            </script>        </div>"
      ]
     },
     "metadata": {},
     "output_type": "display_data"
    }
   ],
   "source": [
    "import plotly.graph_objs as go\n",
    "import networkx as nx\n",
    "from plotly.offline import init_notebook_mode, iplot\n",
    "\n",
    "init_notebook_mode(connected=True)\n",
    "\n",
    "# List of edges (this can change)\n",
    "edges = edge_list\n",
    "colours = [0,0,1,0,0,0,1,1,1,0,0,2,1,1,1,0,2,3,0,0]\n",
    "\n",
    "# Create a graph using NetworkX\n",
    "G = nx.Graph()\n",
    "G.add_edges_from(edges)\n",
    "\n",
    "# Use NetworkX to automatically determine positions of nodes\n",
    "pos = nx.spring_layout(G)\n",
    "\n",
    "# Extract the nodes and edges for Plotly\n",
    "edge_trace = []\n",
    "for edge in G.edges():\n",
    "    x0, y0 = pos[edge[0]]\n",
    "    x1, y1 = pos[edge[1]]\n",
    "    edge_trace.append(go.Scatter(\n",
    "        x=[x0, x1, None],\n",
    "        y=[y0, y1, None],\n",
    "        line=dict(width=2, color='#888'),\n",
    "        hoverinfo='none',\n",
    "        mode='lines'\n",
    "    ))\n",
    "\n",
    "node_trace = go.Scatter(\n",
    "    x=[pos[node][0] for node in G.nodes()],\n",
    "    y=[pos[node][1] for node in G.nodes()],\n",
    "    text=[str(node) for node in G.nodes()],\n",
    "    mode='markers+text',\n",
    "    textposition='top center',\n",
    "    hoverinfo='text',\n",
    "    marker=dict(\n",
    "        showscale=True,\n",
    "        colorscale='YlGnBu',\n",
    "        size=10,\n",
    "        colorbar=dict(\n",
    "            thickness=15,\n",
    "            title='Node Connections',\n",
    "            xanchor='left',\n",
    "            titleside='right'\n",
    "        ),\n",
    "    )\n",
    ")\n",
    "\n",
    "layout = go.Layout(\n",
    "    showlegend=False,\n",
    "    hovermode='closest',\n",
    "    margin=dict(b=0, l=0, r=0, t=0),\n",
    "    xaxis=dict(showgrid=False, zeroline=False),\n",
    "    yaxis=dict(showgrid=False, zeroline=False),\n",
    ")\n",
    "\n",
    "fig = go.Figure(data=edge_trace + [node_trace], layout=layout)\n",
    "iplot(fig)\n"
   ]
  },
  {
   "cell_type": "code",
   "execution_count": 18,
   "id": "58b2a346-70b7-4eb7-af21-4aab0816aaf8",
   "metadata": {},
   "outputs": [
    {
     "data": {
      "text/html": [
       "        <script type=\"text/javascript\">\n",
       "        window.PlotlyConfig = {MathJaxConfig: 'local'};\n",
       "        if (window.MathJax && window.MathJax.Hub && window.MathJax.Hub.Config) {window.MathJax.Hub.Config({SVG: {font: \"STIX-Web\"}});}\n",
       "        if (typeof require !== 'undefined') {\n",
       "        require.undef(\"plotly\");\n",
       "        requirejs.config({\n",
       "            paths: {\n",
       "                'plotly': ['https://cdn.plot.ly/plotly-2.34.0.min']\n",
       "            }\n",
       "        });\n",
       "        require(['plotly'], function(Plotly) {\n",
       "            window._Plotly = Plotly;\n",
       "        });\n",
       "        }\n",
       "        </script>\n",
       "        "
      ]
     },
     "metadata": {},
     "output_type": "display_data"
    },
    {
     "data": {
      "application/vnd.plotly.v1+json": {
       "config": {
        "linkText": "Export to plot.ly",
        "plotlyServerURL": "https://plot.ly",
        "showLink": false
       },
       "data": [
        {
         "hoverinfo": "none",
         "line": {
          "color": "#888",
          "width": 2
         },
         "mode": "lines",
         "type": "scatter",
         "x": [
          -0.053131426527614496,
          0.1394648820020816,
          null
         ],
         "y": [
          0.5298371946409197,
          0.5287471581466434,
          null
         ]
        },
        {
         "hoverinfo": "none",
         "line": {
          "color": "#888",
          "width": 2
         },
         "mode": "lines",
         "type": "scatter",
         "x": [
          -0.053131426527614496,
          -0.5418577345207573,
          null
         ],
         "y": [
          0.5298371946409197,
          0.32877830869448726,
          null
         ]
        },
        {
         "hoverinfo": "none",
         "line": {
          "color": "#888",
          "width": 2
         },
         "mode": "lines",
         "type": "scatter",
         "x": [
          -0.053131426527614496,
          0.30390029114185013,
          null
         ],
         "y": [
          0.5298371946409197,
          0.07124289928205332,
          null
         ]
        },
        {
         "hoverinfo": "none",
         "line": {
          "color": "#888",
          "width": 2
         },
         "mode": "lines",
         "type": "scatter",
         "x": [
          -0.053131426527614496,
          0.23552896557428527,
          null
         ],
         "y": [
          0.5298371946409197,
          0.6610277664435577,
          null
         ]
        },
        {
         "hoverinfo": "none",
         "line": {
          "color": "#888",
          "width": 2
         },
         "mode": "lines",
         "type": "scatter",
         "x": [
          -0.053131426527614496,
          0.12995360760533836,
          null
         ],
         "y": [
          0.5298371946409197,
          0.10090296323742941,
          null
         ]
        },
        {
         "hoverinfo": "none",
         "line": {
          "color": "#888",
          "width": 2
         },
         "mode": "lines",
         "type": "scatter",
         "x": [
          0.1394648820020816,
          0.0006680304826794274,
          null
         ],
         "y": [
          0.5287471581466434,
          -0.13963752586452066,
          null
         ]
        },
        {
         "hoverinfo": "none",
         "line": {
          "color": "#888",
          "width": 2
         },
         "mode": "lines",
         "type": "scatter",
         "x": [
          0.1394648820020816,
          0.27597592334466503,
          null
         ],
         "y": [
          0.5287471581466434,
          0.4161129221951386,
          null
         ]
        },
        {
         "hoverinfo": "none",
         "line": {
          "color": "#888",
          "width": 2
         },
         "mode": "lines",
         "type": "scatter",
         "x": [
          0.1394648820020816,
          0.3470110809383407,
          null
         ],
         "y": [
          0.5287471581466434,
          0.26880704356775875,
          null
         ]
        },
        {
         "hoverinfo": "none",
         "line": {
          "color": "#888",
          "width": 2
         },
         "mode": "lines",
         "type": "scatter",
         "x": [
          0.1394648820020816,
          0.23552896557428527,
          null
         ],
         "y": [
          0.5287471581466434,
          0.6610277664435577,
          null
         ]
        },
        {
         "hoverinfo": "none",
         "line": {
          "color": "#888",
          "width": 2
         },
         "mode": "lines",
         "type": "scatter",
         "x": [
          -0.5418577345207573,
          -0.331312348971435,
          null
         ],
         "y": [
          0.32877830869448726,
          -0.049953483556387485,
          null
         ]
        },
        {
         "hoverinfo": "none",
         "line": {
          "color": "#888",
          "width": 2
         },
         "mode": "lines",
         "type": "scatter",
         "x": [
          -0.5418577345207573,
          -0.27116753522992415,
          null
         ],
         "y": [
          0.32877830869448726,
          -0.17238597499064995,
          null
         ]
        },
        {
         "hoverinfo": "none",
         "line": {
          "color": "#888",
          "width": 2
         },
         "mode": "lines",
         "type": "scatter",
         "x": [
          -0.5418577345207573,
          -0.6108334298384237,
          null
         ],
         "y": [
          0.32877830869448726,
          0.7120429431953572,
          null
         ]
        },
        {
         "hoverinfo": "none",
         "line": {
          "color": "#888",
          "width": 2
         },
         "mode": "lines",
         "type": "scatter",
         "x": [
          -0.5418577345207573,
          -0.481709040831722,
          null
         ],
         "y": [
          0.32877830869448726,
          -0.05625226992435028,
          null
         ]
        },
        {
         "hoverinfo": "none",
         "line": {
          "color": "#888",
          "width": 2
         },
         "mode": "lines",
         "type": "scatter",
         "x": [
          0.30390029114185013,
          0.479888541113626,
          null
         ],
         "y": [
          0.07124289928205332,
          -0.15004809344577041,
          null
         ]
        },
        {
         "hoverinfo": "none",
         "line": {
          "color": "#888",
          "width": 2
         },
         "mode": "lines",
         "type": "scatter",
         "x": [
          0.30390029114185013,
          -0.0018266125249094276,
          null
         ],
         "y": [
          0.07124289928205332,
          0.14433796091436316,
          null
         ]
        },
        {
         "hoverinfo": "none",
         "line": {
          "color": "#888",
          "width": 2
         },
         "mode": "lines",
         "type": "scatter",
         "x": [
          0.30390029114185013,
          0.7253498966404996,
          null
         ],
         "y": [
          0.07124289928205332,
          -0.4920640651906623,
          null
         ]
        },
        {
         "hoverinfo": "none",
         "line": {
          "color": "#888",
          "width": 2
         },
         "mode": "lines",
         "type": "scatter",
         "x": [
          0.30390029114185013,
          0.4858362448617959,
          null
         ],
         "y": [
          0.07124289928205332,
          -0.4037029505355012,
          null
         ]
        },
        {
         "hoverinfo": "none",
         "line": {
          "color": "#888",
          "width": 2
         },
         "mode": "lines",
         "type": "scatter",
         "x": [
          0.30390029114185013,
          0.23552896557428527,
          null
         ],
         "y": [
          0.07124289928205332,
          0.6610277664435577,
          null
         ]
        },
        {
         "hoverinfo": "none",
         "line": {
          "color": "#888",
          "width": 2
         },
         "mode": "lines",
         "type": "scatter",
         "x": [
          0.30390029114185013,
          -0.481709040831722,
          null
         ],
         "y": [
          0.07124289928205332,
          -0.05625226992435028,
          null
         ]
        },
        {
         "hoverinfo": "none",
         "line": {
          "color": "#888",
          "width": 2
         },
         "mode": "lines",
         "type": "scatter",
         "x": [
          0.23552896557428527,
          0.372655529346321,
          null
         ],
         "y": [
          0.6610277664435577,
          0.5011827680269411,
          null
         ]
        },
        {
         "hoverinfo": "none",
         "line": {
          "color": "#888",
          "width": 2
         },
         "mode": "lines",
         "type": "scatter",
         "x": [
          0.23552896557428527,
          0.6285503895842987,
          null
         ],
         "y": [
          0.6610277664435577,
          0.9624222771803866,
          null
         ]
        },
        {
         "hoverinfo": "none",
         "line": {
          "color": "#888",
          "width": 2
         },
         "mode": "lines",
         "type": "scatter",
         "x": [
          0.23552896557428527,
          -0.2842475668528605,
          null
         ],
         "y": [
          0.6610277664435577,
          0.5183781989516156,
          null
         ]
        },
        {
         "hoverinfo": "none",
         "line": {
          "color": "#888",
          "width": 2
         },
         "mode": "lines",
         "type": "scatter",
         "x": [
          0.23552896557428527,
          0.12995360760533836,
          null
         ],
         "y": [
          0.6610277664435577,
          0.10090296323742941,
          null
         ]
        },
        {
         "hoverinfo": "none",
         "line": {
          "color": "#888",
          "width": 2
         },
         "mode": "lines",
         "type": "scatter",
         "x": [
          0.12995360760533836,
          -0.557606571592437,
          null
         ],
         "y": [
          0.10090296323742941,
          -0.24155847081469212,
          null
         ]
        },
        {
         "hoverinfo": "none",
         "line": {
          "color": "#888",
          "width": 2
         },
         "mode": "lines",
         "type": "scatter",
         "x": [
          0.12995360760533836,
          0.04906686791680648,
          null
         ],
         "y": [
          0.10090296323742941,
          -0.20590238250905057,
          null
         ]
        },
        {
         "hoverinfo": "none",
         "line": {
          "color": "#888",
          "width": 2
         },
         "mode": "lines",
         "type": "scatter",
         "x": [
          0.12995360760533836,
          0.22150157348088848,
          null
         ],
         "y": [
          0.10090296323742941,
          0.02451693265415974,
          null
         ]
        },
        {
         "hoverinfo": "none",
         "line": {
          "color": "#888",
          "width": 2
         },
         "mode": "lines",
         "type": "scatter",
         "x": [
          0.12995360760533836,
          0.479888541113626,
          null
         ],
         "y": [
          0.10090296323742941,
          -0.15004809344577041,
          null
         ]
        },
        {
         "hoverinfo": "none",
         "line": {
          "color": "#888",
          "width": 2
         },
         "mode": "lines",
         "type": "scatter",
         "x": [
          0.12995360760533836,
          -0.0018266125249094276,
          null
         ],
         "y": [
          0.10090296323742941,
          0.14433796091436316,
          null
         ]
        },
        {
         "hoverinfo": "none",
         "line": {
          "color": "#888",
          "width": 2
         },
         "mode": "lines",
         "type": "scatter",
         "x": [
          0.12995360760533836,
          0.5994800588647945,
          null
         ],
         "y": [
          0.10090296323742941,
          0.14001657363185183,
          null
         ]
        },
        {
         "hoverinfo": "none",
         "line": {
          "color": "#888",
          "width": 2
         },
         "mode": "lines",
         "type": "scatter",
         "x": [
          0.12995360760533836,
          0.39793577940964425,
          null
         ],
         "y": [
          0.10090296323742941,
          -0.14156759173603287,
          null
         ]
        },
        {
         "hoverinfo": "none",
         "line": {
          "color": "#888",
          "width": 2
         },
         "mode": "lines",
         "type": "scatter",
         "x": [
          0.12995360760533836,
          -0.14475058265254978,
          null
         ],
         "y": [
          0.10090296323742941,
          0.1332103571680762,
          null
         ]
        },
        {
         "hoverinfo": "none",
         "line": {
          "color": "#888",
          "width": 2
         },
         "mode": "lines",
         "type": "scatter",
         "x": [
          0.12995360760533836,
          0.29214762163656494,
          null
         ],
         "y": [
          0.10090296323742941,
          -0.3306828154080524,
          null
         ]
        },
        {
         "hoverinfo": "none",
         "line": {
          "color": "#888",
          "width": 2
         },
         "mode": "lines",
         "type": "scatter",
         "x": [
          0.12995360760533836,
          0.04901539565122908,
          null
         ],
         "y": [
          0.10090296323742941,
          0.013244577818401762,
          null
         ]
        },
        {
         "hoverinfo": "none",
         "line": {
          "color": "#888",
          "width": 2
         },
         "mode": "lines",
         "type": "scatter",
         "x": [
          -0.557606571592437,
          -0.7775683241620899,
          null
         ],
         "y": [
          -0.24155847081469212,
          0.07380291143763992,
          null
         ]
        },
        {
         "hoverinfo": "none",
         "line": {
          "color": "#888",
          "width": 2
         },
         "mode": "lines",
         "type": "scatter",
         "x": [
          -0.557606571592437,
          -0.30444158395217363,
          null
         ],
         "y": [
          -0.24155847081469212,
          -0.6582118570489118,
          null
         ]
        },
        {
         "hoverinfo": "none",
         "line": {
          "color": "#888",
          "width": 2
         },
         "mode": "lines",
         "type": "scatter",
         "x": [
          -0.7775683241620899,
          -0.7423470542066498,
          null
         ],
         "y": [
          0.07380291143763992,
          -0.43480179914375433,
          null
         ]
        },
        {
         "hoverinfo": "none",
         "line": {
          "color": "#888",
          "width": 2
         },
         "mode": "lines",
         "type": "scatter",
         "x": [
          -0.7775683241620899,
          -0.4277039345601092,
          null
         ],
         "y": [
          0.07380291143763992,
          0.19180926463001421,
          null
         ]
        },
        {
         "hoverinfo": "none",
         "line": {
          "color": "#888",
          "width": 2
         },
         "mode": "lines",
         "type": "scatter",
         "x": [
          -0.7775683241620899,
          -0.2842475668528605,
          null
         ],
         "y": [
          0.07380291143763992,
          0.5183781989516156,
          null
         ]
        },
        {
         "hoverinfo": "none",
         "line": {
          "color": "#888",
          "width": 2
         },
         "mode": "lines",
         "type": "scatter",
         "x": [
          -0.30444158395217363,
          0.0006680304826794274,
          null
         ],
         "y": [
          -0.6582118570489118,
          -0.13963752586452066,
          null
         ]
        },
        {
         "hoverinfo": "none",
         "line": {
          "color": "#888",
          "width": 2
         },
         "mode": "lines",
         "type": "scatter",
         "x": [
          -0.30444158395217363,
          -0.17395053086812,
          null
         ],
         "y": [
          -0.6582118570489118,
          -0.2997381326444802,
          null
         ]
        },
        {
         "hoverinfo": "none",
         "line": {
          "color": "#888",
          "width": 2
         },
         "mode": "lines",
         "type": "scatter",
         "x": [
          -0.30444158395217363,
          -0.5842905109843601,
          null
         ],
         "y": [
          -0.6582118570489118,
          -1,
          null
         ]
        },
        {
         "hoverinfo": "none",
         "line": {
          "color": "#888",
          "width": 2
         },
         "mode": "lines",
         "type": "scatter",
         "x": [
          -0.30444158395217363,
          0.2265848297001393,
          null
         ],
         "y": [
          -0.6582118570489118,
          -0.57436010309201,
          null
         ]
        },
        {
         "hoverinfo": "none",
         "line": {
          "color": "#888",
          "width": 2
         },
         "mode": "lines",
         "type": "scatter",
         "x": [
          -0.30444158395217363,
          -0.5745052964956261,
          null
         ],
         "y": [
          -0.6582118570489118,
          -0.5158674376516768,
          null
         ]
        },
        {
         "hoverinfo": "none",
         "line": {
          "color": "#888",
          "width": 2
         },
         "mode": "lines",
         "type": "scatter",
         "x": [
          0.0006680304826794274,
          0.22150157348088848,
          null
         ],
         "y": [
          -0.13963752586452066,
          0.02451693265415974,
          null
         ]
        },
        {
         "hoverinfo": "none",
         "line": {
          "color": "#888",
          "width": 2
         },
         "mode": "lines",
         "type": "scatter",
         "x": [
          0.0006680304826794274,
          0.27597592334466503,
          null
         ],
         "y": [
          -0.13963752586452066,
          0.4161129221951386,
          null
         ]
        },
        {
         "hoverinfo": "none",
         "line": {
          "color": "#888",
          "width": 2
         },
         "mode": "lines",
         "type": "scatter",
         "x": [
          0.0006680304826794274,
          -0.14475058265254978,
          null
         ],
         "y": [
          -0.13963752586452066,
          0.1332103571680762,
          null
         ]
        },
        {
         "hoverinfo": "none",
         "line": {
          "color": "#888",
          "width": 2
         },
         "mode": "lines",
         "type": "scatter",
         "x": [
          0.0006680304826794274,
          -0.3873294715002786,
          null
         ],
         "y": [
          -0.13963752586452066,
          -0.4723404777582211,
          null
         ]
        },
        {
         "hoverinfo": "none",
         "line": {
          "color": "#888",
          "width": 2
         },
         "mode": "lines",
         "type": "scatter",
         "x": [
          0.0006680304826794274,
          0.45878203341952606,
          null
         ],
         "y": [
          -0.13963752586452066,
          -0.633131370264251,
          null
         ]
        },
        {
         "hoverinfo": "none",
         "line": {
          "color": "#888",
          "width": 2
         },
         "mode": "lines",
         "type": "scatter",
         "x": [
          0.22150157348088848,
          0.04906686791680648,
          null
         ],
         "y": [
          0.02451693265415974,
          -0.20590238250905057,
          null
         ]
        },
        {
         "hoverinfo": "none",
         "line": {
          "color": "#888",
          "width": 2
         },
         "mode": "lines",
         "type": "scatter",
         "x": [
          0.22150157348088848,
          0.479888541113626,
          null
         ],
         "y": [
          0.02451693265415974,
          -0.15004809344577041,
          null
         ]
        },
        {
         "hoverinfo": "none",
         "line": {
          "color": "#888",
          "width": 2
         },
         "mode": "lines",
         "type": "scatter",
         "x": [
          0.22150157348088848,
          -0.17395053086812,
          null
         ],
         "y": [
          0.02451693265415974,
          -0.2997381326444802,
          null
         ]
        },
        {
         "hoverinfo": "none",
         "line": {
          "color": "#888",
          "width": 2
         },
         "mode": "lines",
         "type": "scatter",
         "x": [
          0.22150157348088848,
          -0.14475058265254978,
          null
         ],
         "y": [
          0.02451693265415974,
          0.1332103571680762,
          null
         ]
        },
        {
         "hoverinfo": "none",
         "line": {
          "color": "#888",
          "width": 2
         },
         "mode": "lines",
         "type": "scatter",
         "x": [
          0.22150157348088848,
          0.3470110809383407,
          null
         ],
         "y": [
          0.02451693265415974,
          0.26880704356775875,
          null
         ]
        },
        {
         "hoverinfo": "none",
         "line": {
          "color": "#888",
          "width": 2
         },
         "mode": "lines",
         "type": "scatter",
         "x": [
          0.22150157348088848,
          0.4842948364310607,
          null
         ],
         "y": [
          0.02451693265415974,
          0.42792990307921075,
          null
         ]
        },
        {
         "hoverinfo": "none",
         "line": {
          "color": "#888",
          "width": 2
         },
         "mode": "lines",
         "type": "scatter",
         "x": [
          0.27597592334466503,
          0.6886970375364584,
          null
         ],
         "y": [
          0.4161129221951386,
          0.33975575200896285,
          null
         ]
        },
        {
         "hoverinfo": "none",
         "line": {
          "color": "#888",
          "width": 2
         },
         "mode": "lines",
         "type": "scatter",
         "x": [
          0.27597592334466503,
          0.5994800588647945,
          null
         ],
         "y": [
          0.4161129221951386,
          0.14001657363185183,
          null
         ]
        },
        {
         "hoverinfo": "none",
         "line": {
          "color": "#888",
          "width": 2
         },
         "mode": "lines",
         "type": "scatter",
         "x": [
          0.27597592334466503,
          -0.2842475668528605,
          null
         ],
         "y": [
          0.4161129221951386,
          0.5183781989516156,
          null
         ]
        },
        {
         "hoverinfo": "none",
         "line": {
          "color": "#888",
          "width": 2
         },
         "mode": "lines",
         "type": "scatter",
         "x": [
          -0.14475058265254978,
          0.14013732330845383,
          null
         ],
         "y": [
          0.1332103571680762,
          -0.1575386560632183,
          null
         ]
        },
        {
         "hoverinfo": "none",
         "line": {
          "color": "#888",
          "width": 2
         },
         "mode": "lines",
         "type": "scatter",
         "x": [
          -0.14475058265254978,
          -0.17395053086812,
          null
         ],
         "y": [
          0.1332103571680762,
          -0.2997381326444802,
          null
         ]
        },
        {
         "hoverinfo": "none",
         "line": {
          "color": "#888",
          "width": 2
         },
         "mode": "lines",
         "type": "scatter",
         "x": [
          -0.14475058265254978,
          -0.0777481575850455,
          null
         ],
         "y": [
          0.1332103571680762,
          0.7320541164010997,
          null
         ]
        },
        {
         "hoverinfo": "none",
         "line": {
          "color": "#888",
          "width": 2
         },
         "mode": "lines",
         "type": "scatter",
         "x": [
          -0.14475058265254978,
          -0.3232389933802771,
          null
         ],
         "y": [
          0.1332103571680762,
          -0.26088631951331637,
          null
         ]
        },
        {
         "hoverinfo": "none",
         "line": {
          "color": "#888",
          "width": 2
         },
         "mode": "lines",
         "type": "scatter",
         "x": [
          -0.14475058265254978,
          -0.2313849327751874,
          null
         ],
         "y": [
          0.1332103571680762,
          0.3197589486109848,
          null
         ]
        },
        {
         "hoverinfo": "none",
         "line": {
          "color": "#888",
          "width": 2
         },
         "mode": "lines",
         "type": "scatter",
         "x": [
          -0.3873294715002786,
          0.07575629788814173,
          null
         ],
         "y": [
          -0.4723404777582211,
          -0.5664824224878956,
          null
         ]
        },
        {
         "hoverinfo": "none",
         "line": {
          "color": "#888",
          "width": 2
         },
         "mode": "lines",
         "type": "scatter",
         "x": [
          -0.3873294715002786,
          -0.7423470542066498,
          null
         ],
         "y": [
          -0.4723404777582211,
          -0.43480179914375433,
          null
         ]
        },
        {
         "hoverinfo": "none",
         "line": {
          "color": "#888",
          "width": 2
         },
         "mode": "lines",
         "type": "scatter",
         "x": [
          -0.3873294715002786,
          -0.5842905109843601,
          null
         ],
         "y": [
          -0.4723404777582211,
          -1,
          null
         ]
        },
        {
         "hoverinfo": "none",
         "line": {
          "color": "#888",
          "width": 2
         },
         "mode": "lines",
         "type": "scatter",
         "x": [
          -0.3873294715002786,
          -0.2313849327751874,
          null
         ],
         "y": [
          -0.4723404777582211,
          0.3197589486109848,
          null
         ]
        },
        {
         "hoverinfo": "none",
         "line": {
          "color": "#888",
          "width": 2
         },
         "mode": "lines",
         "type": "scatter",
         "x": [
          0.45878203341952606,
          0.39793577940964425,
          null
         ],
         "y": [
          -0.633131370264251,
          -0.14156759173603287,
          null
         ]
        },
        {
         "hoverinfo": "none",
         "line": {
          "color": "#888",
          "width": 2
         },
         "mode": "lines",
         "type": "scatter",
         "x": [
          0.04906686791680648,
          -0.05350251231190385,
          null
         ],
         "y": [
          -0.20590238250905057,
          -0.37593674454638937,
          null
         ]
        },
        {
         "hoverinfo": "none",
         "line": {
          "color": "#888",
          "width": 2
         },
         "mode": "lines",
         "type": "scatter",
         "x": [
          0.04906686791680648,
          0.13384118438679654,
          null
         ],
         "y": [
          -0.20590238250905057,
          0.3197473912034058,
          null
         ]
        },
        {
         "hoverinfo": "none",
         "line": {
          "color": "#888",
          "width": 2
         },
         "mode": "lines",
         "type": "scatter",
         "x": [
          0.04906686791680648,
          -0.27116753522992415,
          null
         ],
         "y": [
          -0.20590238250905057,
          -0.17238597499064995,
          null
         ]
        },
        {
         "hoverinfo": "none",
         "line": {
          "color": "#888",
          "width": 2
         },
         "mode": "lines",
         "type": "scatter",
         "x": [
          0.04906686791680648,
          0.04901539565122908,
          null
         ],
         "y": [
          -0.20590238250905057,
          0.013244577818401762,
          null
         ]
        },
        {
         "hoverinfo": "none",
         "line": {
          "color": "#888",
          "width": 2
         },
         "mode": "lines",
         "type": "scatter",
         "x": [
          -0.05350251231190385,
          -0.7423470542066498,
          null
         ],
         "y": [
          -0.37593674454638937,
          -0.43480179914375433,
          null
         ]
        },
        {
         "hoverinfo": "none",
         "line": {
          "color": "#888",
          "width": 2
         },
         "mode": "lines",
         "type": "scatter",
         "x": [
          -0.05350251231190385,
          0.2961315422963575,
          null
         ],
         "y": [
          -0.37593674454638937,
          -0.09261371462044526,
          null
         ]
        },
        {
         "hoverinfo": "none",
         "line": {
          "color": "#888",
          "width": 2
         },
         "mode": "lines",
         "type": "scatter",
         "x": [
          -0.05350251231190385,
          0.39793577940964425,
          null
         ],
         "y": [
          -0.37593674454638937,
          -0.14156759173603287,
          null
         ]
        },
        {
         "hoverinfo": "none",
         "line": {
          "color": "#888",
          "width": 2
         },
         "mode": "lines",
         "type": "scatter",
         "x": [
          -0.05350251231190385,
          0.4858362448617959,
          null
         ],
         "y": [
          -0.37593674454638937,
          -0.4037029505355012,
          null
         ]
        },
        {
         "hoverinfo": "none",
         "line": {
          "color": "#888",
          "width": 2
         },
         "mode": "lines",
         "type": "scatter",
         "x": [
          -0.05350251231190385,
          -0.481709040831722,
          null
         ],
         "y": [
          -0.37593674454638937,
          -0.05625226992435028,
          null
         ]
        },
        {
         "hoverinfo": "none",
         "line": {
          "color": "#888",
          "width": 2
         },
         "mode": "lines",
         "type": "scatter",
         "x": [
          -0.05350251231190385,
          0.04901539565122908,
          null
         ],
         "y": [
          -0.37593674454638937,
          0.013244577818401762,
          null
         ]
        },
        {
         "hoverinfo": "none",
         "line": {
          "color": "#888",
          "width": 2
         },
         "mode": "lines",
         "type": "scatter",
         "x": [
          0.13384118438679654,
          0.6886970375364584,
          null
         ],
         "y": [
          0.3197473912034058,
          0.33975575200896285,
          null
         ]
        },
        {
         "hoverinfo": "none",
         "line": {
          "color": "#888",
          "width": 2
         },
         "mode": "lines",
         "type": "scatter",
         "x": [
          0.13384118438679654,
          -0.4277039345601092,
          null
         ],
         "y": [
          0.3197473912034058,
          0.19180926463001421,
          null
         ]
        },
        {
         "hoverinfo": "none",
         "line": {
          "color": "#888",
          "width": 2
         },
         "mode": "lines",
         "type": "scatter",
         "x": [
          0.13384118438679654,
          0.3470110809383407,
          null
         ],
         "y": [
          0.3197473912034058,
          0.26880704356775875,
          null
         ]
        },
        {
         "hoverinfo": "none",
         "line": {
          "color": "#888",
          "width": 2
         },
         "mode": "lines",
         "type": "scatter",
         "x": [
          -0.27116753522992415,
          -0.5745052964956261,
          null
         ],
         "y": [
          -0.17238597499064995,
          -0.5158674376516768,
          null
         ]
        },
        {
         "hoverinfo": "none",
         "line": {
          "color": "#888",
          "width": 2
         },
         "mode": "lines",
         "type": "scatter",
         "x": [
          -0.27116753522992415,
          -0.3232389933802771,
          null
         ],
         "y": [
          -0.17238597499064995,
          -0.26088631951331637,
          null
         ]
        },
        {
         "hoverinfo": "none",
         "line": {
          "color": "#888",
          "width": 2
         },
         "mode": "lines",
         "type": "scatter",
         "x": [
          -0.27116753522992415,
          0.29214762163656494,
          null
         ],
         "y": [
          -0.17238597499064995,
          -0.3306828154080524,
          null
         ]
        },
        {
         "hoverinfo": "none",
         "line": {
          "color": "#888",
          "width": 2
         },
         "mode": "lines",
         "type": "scatter",
         "x": [
          -0.27116753522992415,
          0.04901539565122908,
          null
         ],
         "y": [
          -0.17238597499064995,
          0.013244577818401762,
          null
         ]
        },
        {
         "hoverinfo": "none",
         "line": {
          "color": "#888",
          "width": 2
         },
         "mode": "lines",
         "type": "scatter",
         "x": [
          0.04901539565122908,
          0.07575629788814173,
          null
         ],
         "y": [
          0.013244577818401762,
          -0.5664824224878956,
          null
         ]
        },
        {
         "hoverinfo": "none",
         "line": {
          "color": "#888",
          "width": 2
         },
         "mode": "lines",
         "type": "scatter",
         "x": [
          0.04901539565122908,
          0.372655529346321,
          null
         ],
         "y": [
          0.013244577818401762,
          0.5011827680269411,
          null
         ]
        },
        {
         "hoverinfo": "none",
         "line": {
          "color": "#888",
          "width": 2
         },
         "mode": "lines",
         "type": "scatter",
         "x": [
          0.04901539565122908,
          0.39793577940964425,
          null
         ],
         "y": [
          0.013244577818401762,
          -0.14156759173603287,
          null
         ]
        },
        {
         "hoverinfo": "none",
         "line": {
          "color": "#888",
          "width": 2
         },
         "mode": "lines",
         "type": "scatter",
         "x": [
          0.04901539565122908,
          0.3470110809383407,
          null
         ],
         "y": [
          0.013244577818401762,
          0.26880704356775875,
          null
         ]
        },
        {
         "hoverinfo": "none",
         "line": {
          "color": "#888",
          "width": 2
         },
         "mode": "lines",
         "type": "scatter",
         "x": [
          0.04901539565122908,
          -0.2842475668528605,
          null
         ],
         "y": [
          0.013244577818401762,
          0.5183781989516156,
          null
         ]
        },
        {
         "hoverinfo": "none",
         "line": {
          "color": "#888",
          "width": 2
         },
         "mode": "lines",
         "type": "scatter",
         "x": [
          -0.4277039345601092,
          -0.9634221066836134,
          null
         ],
         "y": [
          0.19180926463001421,
          0.20164940428667358,
          null
         ]
        },
        {
         "hoverinfo": "none",
         "line": {
          "color": "#888",
          "width": 2
         },
         "mode": "lines",
         "type": "scatter",
         "x": [
          -0.4277039345601092,
          -0.0018266125249094276,
          null
         ],
         "y": [
          0.19180926463001421,
          0.14433796091436316,
          null
         ]
        },
        {
         "hoverinfo": "none",
         "line": {
          "color": "#888",
          "width": 2
         },
         "mode": "lines",
         "type": "scatter",
         "x": [
          -0.4277039345601092,
          0.14013732330845383,
          null
         ],
         "y": [
          0.19180926463001421,
          -0.1575386560632183,
          null
         ]
        },
        {
         "hoverinfo": "none",
         "line": {
          "color": "#888",
          "width": 2
         },
         "mode": "lines",
         "type": "scatter",
         "x": [
          -0.2842475668528605,
          -0.6108334298384237,
          null
         ],
         "y": [
          0.5183781989516156,
          0.7120429431953572,
          null
         ]
        },
        {
         "hoverinfo": "none",
         "line": {
          "color": "#888",
          "width": 2
         },
         "mode": "lines",
         "type": "scatter",
         "x": [
          0.3470110809383407,
          -0.0018266125249094276,
          null
         ],
         "y": [
          0.26880704356775875,
          0.14433796091436316,
          null
         ]
        },
        {
         "hoverinfo": "none",
         "line": {
          "color": "#888",
          "width": 2
         },
         "mode": "lines",
         "type": "scatter",
         "x": [
          0.3470110809383407,
          0.2961315422963575,
          null
         ],
         "y": [
          0.26880704356775875,
          -0.09261371462044526,
          null
         ]
        },
        {
         "hoverinfo": "none",
         "line": {
          "color": "#888",
          "width": 2
         },
         "mode": "lines",
         "type": "scatter",
         "x": [
          0.07575629788814173,
          0.479888541113626,
          null
         ],
         "y": [
          -0.5664824224878956,
          -0.15004809344577041,
          null
         ]
        },
        {
         "hoverinfo": "none",
         "line": {
          "color": "#888",
          "width": 2
         },
         "mode": "lines",
         "type": "scatter",
         "x": [
          0.479888541113626,
          -0.0018266125249094276,
          null
         ],
         "y": [
          -0.15004809344577041,
          0.14433796091436316,
          null
         ]
        },
        {
         "hoverinfo": "none",
         "line": {
          "color": "#888",
          "width": 2
         },
         "mode": "lines",
         "type": "scatter",
         "x": [
          0.479888541113626,
          0.5994800588647945,
          null
         ],
         "y": [
          -0.15004809344577041,
          0.14001657363185183,
          null
         ]
        },
        {
         "hoverinfo": "none",
         "line": {
          "color": "#888",
          "width": 2
         },
         "mode": "lines",
         "type": "scatter",
         "x": [
          0.479888541113626,
          0.4858362448617959,
          null
         ],
         "y": [
          -0.15004809344577041,
          -0.4037029505355012,
          null
         ]
        },
        {
         "hoverinfo": "none",
         "line": {
          "color": "#888",
          "width": 2
         },
         "mode": "lines",
         "type": "scatter",
         "x": [
          0.479888541113626,
          0.6617204944454265,
          null
         ],
         "y": [
          -0.15004809344577041,
          -0.23565187859690384,
          null
         ]
        },
        {
         "hoverinfo": "none",
         "line": {
          "color": "#888",
          "width": 2
         },
         "mode": "lines",
         "type": "scatter",
         "x": [
          -0.17395053086812,
          -0.0018266125249094276,
          null
         ],
         "y": [
          -0.2997381326444802,
          0.14433796091436316,
          null
         ]
        },
        {
         "hoverinfo": "none",
         "line": {
          "color": "#888",
          "width": 2
         },
         "mode": "lines",
         "type": "scatter",
         "x": [
          -0.17395053086812,
          0.14013732330845383,
          null
         ],
         "y": [
          -0.2997381326444802,
          -0.1575386560632183,
          null
         ]
        },
        {
         "hoverinfo": "none",
         "line": {
          "color": "#888",
          "width": 2
         },
         "mode": "lines",
         "type": "scatter",
         "x": [
          -0.17395053086812,
          -0.5745052964956261,
          null
         ],
         "y": [
          -0.2997381326444802,
          -0.5158674376516768,
          null
         ]
        },
        {
         "hoverinfo": "none",
         "line": {
          "color": "#888",
          "width": 2
         },
         "mode": "lines",
         "type": "scatter",
         "x": [
          0.4842948364310607,
          0.5994800588647945,
          null
         ],
         "y": [
          0.42792990307921075,
          0.14001657363185183,
          null
         ]
        },
        {
         "hoverinfo": "none",
         "line": {
          "color": "#888",
          "width": 2
         },
         "mode": "lines",
         "type": "scatter",
         "x": [
          0.4842948364310607,
          0.39793577940964425,
          null
         ],
         "y": [
          0.42792990307921075,
          -0.14156759173603287,
          null
         ]
        },
        {
         "hoverinfo": "none",
         "line": {
          "color": "#888",
          "width": 2
         },
         "mode": "lines",
         "type": "scatter",
         "x": [
          0.4842948364310607,
          0.6285503895842987,
          null
         ],
         "y": [
          0.42792990307921075,
          0.9624222771803866,
          null
         ]
        },
        {
         "hoverinfo": "none",
         "line": {
          "color": "#888",
          "width": 2
         },
         "mode": "lines",
         "type": "scatter",
         "x": [
          0.4842948364310607,
          -0.2313849327751874,
          null
         ],
         "y": [
          0.42792990307921075,
          0.3197589486109848,
          null
         ]
        },
        {
         "hoverinfo": "none",
         "line": {
          "color": "#888",
          "width": 2
         },
         "mode": "lines",
         "type": "scatter",
         "x": [
          -0.0018266125249094276,
          -0.2313849327751874,
          null
         ],
         "y": [
          0.14433796091436316,
          0.3197589486109848,
          null
         ]
        },
        {
         "hoverinfo": "none",
         "line": {
          "color": "#888",
          "width": 2
         },
         "mode": "lines",
         "type": "scatter",
         "x": [
          0.5994800588647945,
          0.2961315422963575,
          null
         ],
         "y": [
          0.14001657363185183,
          -0.09261371462044526,
          null
         ]
        },
        {
         "hoverinfo": "none",
         "line": {
          "color": "#888",
          "width": 2
         },
         "mode": "lines",
         "type": "scatter",
         "x": [
          0.5994800588647945,
          0.39793577940964425,
          null
         ],
         "y": [
          0.14001657363185183,
          -0.14156759173603287,
          null
         ]
        },
        {
         "hoverinfo": "none",
         "line": {
          "color": "#888",
          "width": 2
         },
         "mode": "lines",
         "type": "scatter",
         "x": [
          0.4858362448617959,
          0.2961315422963575,
          null
         ],
         "y": [
          -0.4037029505355012,
          -0.09261371462044526,
          null
         ]
        },
        {
         "hoverinfo": "none",
         "line": {
          "color": "#888",
          "width": 2
         },
         "mode": "lines",
         "type": "scatter",
         "x": [
          0.6617204944454265,
          0.14013732330845383,
          null
         ],
         "y": [
          -0.23565187859690384,
          -0.1575386560632183,
          null
         ]
        },
        {
         "hoverinfo": "none",
         "line": {
          "color": "#888",
          "width": 2
         },
         "mode": "lines",
         "type": "scatter",
         "x": [
          0.6617204944454265,
          0.6886970375364584,
          null
         ],
         "y": [
          -0.23565187859690384,
          0.33975575200896285,
          null
         ]
        },
        {
         "hoverinfo": "none",
         "line": {
          "color": "#888",
          "width": 2
         },
         "mode": "lines",
         "type": "scatter",
         "x": [
          0.6617204944454265,
          0.2265848297001393,
          null
         ],
         "y": [
          -0.23565187859690384,
          -0.57436010309201,
          null
         ]
        },
        {
         "hoverinfo": "none",
         "line": {
          "color": "#888",
          "width": 2
         },
         "mode": "lines",
         "type": "scatter",
         "x": [
          0.6617204944454265,
          0.29214762163656494,
          null
         ],
         "y": [
          -0.23565187859690384,
          -0.3306828154080524,
          null
         ]
        },
        {
         "hoverinfo": "none",
         "line": {
          "color": "#888",
          "width": 2
         },
         "mode": "lines",
         "type": "scatter",
         "x": [
          -0.9634221066836134,
          -0.481709040831722,
          null
         ],
         "y": [
          0.20164940428667358,
          -0.05625226992435028,
          null
         ]
        },
        {
         "hoverinfo": "none",
         "line": {
          "color": "#888",
          "width": 2
         },
         "mode": "lines",
         "type": "scatter",
         "x": [
          -0.481709040831722,
          -0.331312348971435,
          null
         ],
         "y": [
          -0.05625226992435028,
          -0.049953483556387485,
          null
         ]
        },
        {
         "hoverinfo": "none",
         "line": {
          "color": "#888",
          "width": 2
         },
         "mode": "lines",
         "type": "scatter",
         "x": [
          -0.481709040831722,
          -0.5745052964956261,
          null
         ],
         "y": [
          -0.05625226992435028,
          -0.5158674376516768,
          null
         ]
        },
        {
         "hoverinfo": "none",
         "line": {
          "color": "#888",
          "width": 2
         },
         "mode": "lines",
         "type": "scatter",
         "x": [
          -0.481709040831722,
          -0.3232389933802771,
          null
         ],
         "y": [
          -0.05625226992435028,
          -0.26088631951331637,
          null
         ]
        },
        {
         "hoverinfo": "none",
         "line": {
          "color": "#888",
          "width": 2
         },
         "mode": "lines",
         "type": "scatter",
         "x": [
          -0.2313849327751874,
          -0.0777481575850455,
          null
         ],
         "y": [
          0.3197589486109848,
          0.7320541164010997,
          null
         ]
        },
        {
         "hoverinfo": "none",
         "line": {
          "color": "#888",
          "width": 2
         },
         "mode": "lines",
         "type": "scatter",
         "x": [
          -0.2313849327751874,
          -0.331312348971435,
          null
         ],
         "y": [
          0.3197589486109848,
          -0.049953483556387485,
          null
         ]
        },
        {
         "hoverinfo": "none",
         "line": {
          "color": "#888",
          "width": 2
         },
         "mode": "lines",
         "type": "scatter",
         "x": [
          -0.2313849327751874,
          -0.6108334298384237,
          null
         ],
         "y": [
          0.3197589486109848,
          0.7120429431953572,
          null
         ]
        },
        {
         "hoverinfo": "none",
         "line": {
          "color": "#888",
          "width": 2
         },
         "mode": "lines",
         "type": "scatter",
         "x": [
          0.2961315422963575,
          0.14013732330845383,
          null
         ],
         "y": [
          -0.09261371462044526,
          -0.1575386560632183,
          null
         ]
        },
        {
         "hoverinfo": "none",
         "line": {
          "color": "#888",
          "width": 2
         },
         "mode": "lines",
         "type": "scatter",
         "x": [
          0.2961315422963575,
          0.372655529346321,
          null
         ],
         "y": [
          -0.09261371462044526,
          0.5011827680269411,
          null
         ]
        },
        {
         "hoverinfo": "none",
         "line": {
          "color": "#888",
          "width": 2
         },
         "mode": "lines",
         "type": "scatter",
         "x": [
          0.2961315422963575,
          -0.3232389933802771,
          null
         ],
         "y": [
          -0.09261371462044526,
          -0.26088631951331637,
          null
         ]
        },
        {
         "hoverinfo": "none",
         "line": {
          "color": "#888",
          "width": 2
         },
         "mode": "lines",
         "type": "scatter",
         "x": [
          0.2961315422963575,
          0.29214762163656494,
          null
         ],
         "y": [
          -0.09261371462044526,
          -0.3306828154080524,
          null
         ]
        },
        {
         "hoverinfo": "none",
         "line": {
          "color": "#888",
          "width": 2
         },
         "mode": "lines",
         "type": "scatter",
         "x": [
          0.39793577940964425,
          0.14013732330845383,
          null
         ],
         "y": [
          -0.14156759173603287,
          -0.1575386560632183,
          null
         ]
        },
        {
         "hoverinfo": "none",
         "line": {
          "color": "#888",
          "width": 2
         },
         "mode": "lines",
         "type": "scatter",
         "x": [
          0.39793577940964425,
          0.29214762163656494,
          null
         ],
         "y": [
          -0.14156759173603287,
          -0.3306828154080524,
          null
         ]
        },
        {
         "hoverinfo": "none",
         "line": {
          "color": "#888",
          "width": 2
         },
         "mode": "lines",
         "type": "scatter",
         "x": [
          0.6886970375364584,
          0.372655529346321,
          null
         ],
         "y": [
          0.33975575200896285,
          0.5011827680269411,
          null
         ]
        },
        {
         "hoverinfo": "none",
         "line": {
          "color": "#888",
          "width": 2
         },
         "mode": "lines",
         "type": "scatter",
         "x": [
          -0.331312348971435,
          0.2265848297001393,
          null
         ],
         "y": [
          -0.049953483556387485,
          -0.57436010309201,
          null
         ]
        },
        {
         "hoverinfo": "none",
         "line": {
          "color": "#888",
          "width": 2
         },
         "mode": "lines",
         "type": "scatter",
         "x": [
          0.14013732330845383,
          0.29214762163656494,
          null
         ],
         "y": [
          -0.1575386560632183,
          -0.3306828154080524,
          null
         ]
        },
        {
         "hoverinfo": "none",
         "line": {
          "color": "#888",
          "width": 2
         },
         "mode": "lines",
         "type": "scatter",
         "x": [
          0.372655529346321,
          -0.0777481575850455,
          null
         ],
         "y": [
          0.5011827680269411,
          0.7320541164010997,
          null
         ]
        },
        {
         "hoverinfo": "none",
         "line": {
          "color": "#888",
          "width": 2
         },
         "mode": "lines",
         "type": "scatter",
         "x": [
          0.2265848297001393,
          0.7253498966404996,
          null
         ],
         "y": [
          -0.57436010309201,
          -0.4920640651906623,
          null
         ]
        },
        {
         "hoverinfo": "text",
         "marker": {
          "colorbar": {
           "thickness": 15,
           "title": {
            "side": "right",
            "text": "Node Connections"
           },
           "xanchor": "left"
          },
          "colorscale": [
           [
            0,
            "rgb(255,255,217)"
           ],
           [
            0.125,
            "rgb(237,248,177)"
           ],
           [
            0.25,
            "rgb(199,233,180)"
           ],
           [
            0.375,
            "rgb(127,205,187)"
           ],
           [
            0.5,
            "rgb(65,182,196)"
           ],
           [
            0.625,
            "rgb(29,145,192)"
           ],
           [
            0.75,
            "rgb(34,94,168)"
           ],
           [
            0.875,
            "rgb(37,52,148)"
           ],
           [
            1,
            "rgb(8,29,88)"
           ]
          ],
          "showscale": true,
          "size": 10
         },
         "mode": "markers+text",
         "text": [
          "0",
          "5",
          "15",
          "32",
          "44",
          "47",
          "1",
          "4",
          "22",
          "2",
          "7",
          "14",
          "30",
          "33",
          "42",
          "3",
          "11",
          "12",
          "25",
          "49",
          "13",
          "24",
          "45",
          "41",
          "6",
          "8",
          "18",
          "43",
          "10",
          "26",
          "36",
          "39",
          "9",
          "48",
          "40",
          "19",
          "27",
          "23",
          "21",
          "29",
          "16",
          "46",
          "17",
          "20",
          "37",
          "38",
          "35",
          "34",
          "28",
          "31"
         ],
         "textposition": "top center",
         "type": "scatter",
         "x": [
          -0.053131426527614496,
          0.1394648820020816,
          -0.5418577345207573,
          0.30390029114185013,
          0.23552896557428527,
          0.12995360760533836,
          -0.557606571592437,
          -0.7775683241620899,
          -0.30444158395217363,
          0.0006680304826794274,
          0.22150157348088848,
          0.27597592334466503,
          -0.14475058265254978,
          -0.3873294715002786,
          0.45878203341952606,
          0.04906686791680648,
          -0.05350251231190385,
          0.13384118438679654,
          -0.27116753522992415,
          0.04901539565122908,
          -0.7423470542066498,
          -0.4277039345601092,
          -0.2842475668528605,
          0.3470110809383407,
          0.07575629788814173,
          0.479888541113626,
          -0.17395053086812,
          0.4842948364310607,
          -0.0018266125249094276,
          0.5994800588647945,
          0.4858362448617959,
          0.6617204944454265,
          -0.9634221066836134,
          -0.481709040831722,
          -0.2313849327751874,
          0.2961315422963575,
          0.39793577940964425,
          0.6886970375364584,
          -0.331312348971435,
          -0.6108334298384237,
          0.14013732330845383,
          0.29214762163656494,
          0.372655529346321,
          -0.0777481575850455,
          -0.5745052964956261,
          -0.3232389933802771,
          0.2265848297001393,
          -0.5842905109843601,
          0.6285503895842987,
          0.7253498966404996
         ],
         "y": [
          0.5298371946409197,
          0.5287471581466434,
          0.32877830869448726,
          0.07124289928205332,
          0.6610277664435577,
          0.10090296323742941,
          -0.24155847081469212,
          0.07380291143763992,
          -0.6582118570489118,
          -0.13963752586452066,
          0.02451693265415974,
          0.4161129221951386,
          0.1332103571680762,
          -0.4723404777582211,
          -0.633131370264251,
          -0.20590238250905057,
          -0.37593674454638937,
          0.3197473912034058,
          -0.17238597499064995,
          0.013244577818401762,
          -0.43480179914375433,
          0.19180926463001421,
          0.5183781989516156,
          0.26880704356775875,
          -0.5664824224878956,
          -0.15004809344577041,
          -0.2997381326444802,
          0.42792990307921075,
          0.14433796091436316,
          0.14001657363185183,
          -0.4037029505355012,
          -0.23565187859690384,
          0.20164940428667358,
          -0.05625226992435028,
          0.3197589486109848,
          -0.09261371462044526,
          -0.14156759173603287,
          0.33975575200896285,
          -0.049953483556387485,
          0.7120429431953572,
          -0.1575386560632183,
          -0.3306828154080524,
          0.5011827680269411,
          0.7320541164010997,
          -0.5158674376516768,
          -0.26088631951331637,
          -0.57436010309201,
          -1,
          0.9624222771803866,
          -0.4920640651906623
         ]
        }
       ],
       "layout": {
        "autosize": true,
        "hovermode": "closest",
        "margin": {
         "b": 0,
         "l": 0,
         "r": 0,
         "t": 0
        },
        "showlegend": false,
        "template": {
         "data": {
          "bar": [
           {
            "error_x": {
             "color": "#2a3f5f"
            },
            "error_y": {
             "color": "#2a3f5f"
            },
            "marker": {
             "line": {
              "color": "#E5ECF6",
              "width": 0.5
             },
             "pattern": {
              "fillmode": "overlay",
              "size": 10,
              "solidity": 0.2
             }
            },
            "type": "bar"
           }
          ],
          "barpolar": [
           {
            "marker": {
             "line": {
              "color": "#E5ECF6",
              "width": 0.5
             },
             "pattern": {
              "fillmode": "overlay",
              "size": 10,
              "solidity": 0.2
             }
            },
            "type": "barpolar"
           }
          ],
          "carpet": [
           {
            "aaxis": {
             "endlinecolor": "#2a3f5f",
             "gridcolor": "white",
             "linecolor": "white",
             "minorgridcolor": "white",
             "startlinecolor": "#2a3f5f"
            },
            "baxis": {
             "endlinecolor": "#2a3f5f",
             "gridcolor": "white",
             "linecolor": "white",
             "minorgridcolor": "white",
             "startlinecolor": "#2a3f5f"
            },
            "type": "carpet"
           }
          ],
          "choropleth": [
           {
            "colorbar": {
             "outlinewidth": 0,
             "ticks": ""
            },
            "type": "choropleth"
           }
          ],
          "contour": [
           {
            "colorbar": {
             "outlinewidth": 0,
             "ticks": ""
            },
            "colorscale": [
             [
              0,
              "#0d0887"
             ],
             [
              0.1111111111111111,
              "#46039f"
             ],
             [
              0.2222222222222222,
              "#7201a8"
             ],
             [
              0.3333333333333333,
              "#9c179e"
             ],
             [
              0.4444444444444444,
              "#bd3786"
             ],
             [
              0.5555555555555556,
              "#d8576b"
             ],
             [
              0.6666666666666666,
              "#ed7953"
             ],
             [
              0.7777777777777778,
              "#fb9f3a"
             ],
             [
              0.8888888888888888,
              "#fdca26"
             ],
             [
              1,
              "#f0f921"
             ]
            ],
            "type": "contour"
           }
          ],
          "contourcarpet": [
           {
            "colorbar": {
             "outlinewidth": 0,
             "ticks": ""
            },
            "type": "contourcarpet"
           }
          ],
          "heatmap": [
           {
            "colorbar": {
             "outlinewidth": 0,
             "ticks": ""
            },
            "colorscale": [
             [
              0,
              "#0d0887"
             ],
             [
              0.1111111111111111,
              "#46039f"
             ],
             [
              0.2222222222222222,
              "#7201a8"
             ],
             [
              0.3333333333333333,
              "#9c179e"
             ],
             [
              0.4444444444444444,
              "#bd3786"
             ],
             [
              0.5555555555555556,
              "#d8576b"
             ],
             [
              0.6666666666666666,
              "#ed7953"
             ],
             [
              0.7777777777777778,
              "#fb9f3a"
             ],
             [
              0.8888888888888888,
              "#fdca26"
             ],
             [
              1,
              "#f0f921"
             ]
            ],
            "type": "heatmap"
           }
          ],
          "heatmapgl": [
           {
            "colorbar": {
             "outlinewidth": 0,
             "ticks": ""
            },
            "colorscale": [
             [
              0,
              "#0d0887"
             ],
             [
              0.1111111111111111,
              "#46039f"
             ],
             [
              0.2222222222222222,
              "#7201a8"
             ],
             [
              0.3333333333333333,
              "#9c179e"
             ],
             [
              0.4444444444444444,
              "#bd3786"
             ],
             [
              0.5555555555555556,
              "#d8576b"
             ],
             [
              0.6666666666666666,
              "#ed7953"
             ],
             [
              0.7777777777777778,
              "#fb9f3a"
             ],
             [
              0.8888888888888888,
              "#fdca26"
             ],
             [
              1,
              "#f0f921"
             ]
            ],
            "type": "heatmapgl"
           }
          ],
          "histogram": [
           {
            "marker": {
             "pattern": {
              "fillmode": "overlay",
              "size": 10,
              "solidity": 0.2
             }
            },
            "type": "histogram"
           }
          ],
          "histogram2d": [
           {
            "colorbar": {
             "outlinewidth": 0,
             "ticks": ""
            },
            "colorscale": [
             [
              0,
              "#0d0887"
             ],
             [
              0.1111111111111111,
              "#46039f"
             ],
             [
              0.2222222222222222,
              "#7201a8"
             ],
             [
              0.3333333333333333,
              "#9c179e"
             ],
             [
              0.4444444444444444,
              "#bd3786"
             ],
             [
              0.5555555555555556,
              "#d8576b"
             ],
             [
              0.6666666666666666,
              "#ed7953"
             ],
             [
              0.7777777777777778,
              "#fb9f3a"
             ],
             [
              0.8888888888888888,
              "#fdca26"
             ],
             [
              1,
              "#f0f921"
             ]
            ],
            "type": "histogram2d"
           }
          ],
          "histogram2dcontour": [
           {
            "colorbar": {
             "outlinewidth": 0,
             "ticks": ""
            },
            "colorscale": [
             [
              0,
              "#0d0887"
             ],
             [
              0.1111111111111111,
              "#46039f"
             ],
             [
              0.2222222222222222,
              "#7201a8"
             ],
             [
              0.3333333333333333,
              "#9c179e"
             ],
             [
              0.4444444444444444,
              "#bd3786"
             ],
             [
              0.5555555555555556,
              "#d8576b"
             ],
             [
              0.6666666666666666,
              "#ed7953"
             ],
             [
              0.7777777777777778,
              "#fb9f3a"
             ],
             [
              0.8888888888888888,
              "#fdca26"
             ],
             [
              1,
              "#f0f921"
             ]
            ],
            "type": "histogram2dcontour"
           }
          ],
          "mesh3d": [
           {
            "colorbar": {
             "outlinewidth": 0,
             "ticks": ""
            },
            "type": "mesh3d"
           }
          ],
          "parcoords": [
           {
            "line": {
             "colorbar": {
              "outlinewidth": 0,
              "ticks": ""
             }
            },
            "type": "parcoords"
           }
          ],
          "pie": [
           {
            "automargin": true,
            "type": "pie"
           }
          ],
          "scatter": [
           {
            "fillpattern": {
             "fillmode": "overlay",
             "size": 10,
             "solidity": 0.2
            },
            "type": "scatter"
           }
          ],
          "scatter3d": [
           {
            "line": {
             "colorbar": {
              "outlinewidth": 0,
              "ticks": ""
             }
            },
            "marker": {
             "colorbar": {
              "outlinewidth": 0,
              "ticks": ""
             }
            },
            "type": "scatter3d"
           }
          ],
          "scattercarpet": [
           {
            "marker": {
             "colorbar": {
              "outlinewidth": 0,
              "ticks": ""
             }
            },
            "type": "scattercarpet"
           }
          ],
          "scattergeo": [
           {
            "marker": {
             "colorbar": {
              "outlinewidth": 0,
              "ticks": ""
             }
            },
            "type": "scattergeo"
           }
          ],
          "scattergl": [
           {
            "marker": {
             "colorbar": {
              "outlinewidth": 0,
              "ticks": ""
             }
            },
            "type": "scattergl"
           }
          ],
          "scattermapbox": [
           {
            "marker": {
             "colorbar": {
              "outlinewidth": 0,
              "ticks": ""
             }
            },
            "type": "scattermapbox"
           }
          ],
          "scatterpolar": [
           {
            "marker": {
             "colorbar": {
              "outlinewidth": 0,
              "ticks": ""
             }
            },
            "type": "scatterpolar"
           }
          ],
          "scatterpolargl": [
           {
            "marker": {
             "colorbar": {
              "outlinewidth": 0,
              "ticks": ""
             }
            },
            "type": "scatterpolargl"
           }
          ],
          "scatterternary": [
           {
            "marker": {
             "colorbar": {
              "outlinewidth": 0,
              "ticks": ""
             }
            },
            "type": "scatterternary"
           }
          ],
          "surface": [
           {
            "colorbar": {
             "outlinewidth": 0,
             "ticks": ""
            },
            "colorscale": [
             [
              0,
              "#0d0887"
             ],
             [
              0.1111111111111111,
              "#46039f"
             ],
             [
              0.2222222222222222,
              "#7201a8"
             ],
             [
              0.3333333333333333,
              "#9c179e"
             ],
             [
              0.4444444444444444,
              "#bd3786"
             ],
             [
              0.5555555555555556,
              "#d8576b"
             ],
             [
              0.6666666666666666,
              "#ed7953"
             ],
             [
              0.7777777777777778,
              "#fb9f3a"
             ],
             [
              0.8888888888888888,
              "#fdca26"
             ],
             [
              1,
              "#f0f921"
             ]
            ],
            "type": "surface"
           }
          ],
          "table": [
           {
            "cells": {
             "fill": {
              "color": "#EBF0F8"
             },
             "line": {
              "color": "white"
             }
            },
            "header": {
             "fill": {
              "color": "#C8D4E3"
             },
             "line": {
              "color": "white"
             }
            },
            "type": "table"
           }
          ]
         },
         "layout": {
          "annotationdefaults": {
           "arrowcolor": "#2a3f5f",
           "arrowhead": 0,
           "arrowwidth": 1
          },
          "autotypenumbers": "strict",
          "coloraxis": {
           "colorbar": {
            "outlinewidth": 0,
            "ticks": ""
           }
          },
          "colorscale": {
           "diverging": [
            [
             0,
             "#8e0152"
            ],
            [
             0.1,
             "#c51b7d"
            ],
            [
             0.2,
             "#de77ae"
            ],
            [
             0.3,
             "#f1b6da"
            ],
            [
             0.4,
             "#fde0ef"
            ],
            [
             0.5,
             "#f7f7f7"
            ],
            [
             0.6,
             "#e6f5d0"
            ],
            [
             0.7,
             "#b8e186"
            ],
            [
             0.8,
             "#7fbc41"
            ],
            [
             0.9,
             "#4d9221"
            ],
            [
             1,
             "#276419"
            ]
           ],
           "sequential": [
            [
             0,
             "#0d0887"
            ],
            [
             0.1111111111111111,
             "#46039f"
            ],
            [
             0.2222222222222222,
             "#7201a8"
            ],
            [
             0.3333333333333333,
             "#9c179e"
            ],
            [
             0.4444444444444444,
             "#bd3786"
            ],
            [
             0.5555555555555556,
             "#d8576b"
            ],
            [
             0.6666666666666666,
             "#ed7953"
            ],
            [
             0.7777777777777778,
             "#fb9f3a"
            ],
            [
             0.8888888888888888,
             "#fdca26"
            ],
            [
             1,
             "#f0f921"
            ]
           ],
           "sequentialminus": [
            [
             0,
             "#0d0887"
            ],
            [
             0.1111111111111111,
             "#46039f"
            ],
            [
             0.2222222222222222,
             "#7201a8"
            ],
            [
             0.3333333333333333,
             "#9c179e"
            ],
            [
             0.4444444444444444,
             "#bd3786"
            ],
            [
             0.5555555555555556,
             "#d8576b"
            ],
            [
             0.6666666666666666,
             "#ed7953"
            ],
            [
             0.7777777777777778,
             "#fb9f3a"
            ],
            [
             0.8888888888888888,
             "#fdca26"
            ],
            [
             1,
             "#f0f921"
            ]
           ]
          },
          "colorway": [
           "#636efa",
           "#EF553B",
           "#00cc96",
           "#ab63fa",
           "#FFA15A",
           "#19d3f3",
           "#FF6692",
           "#B6E880",
           "#FF97FF",
           "#FECB52"
          ],
          "font": {
           "color": "#2a3f5f"
          },
          "geo": {
           "bgcolor": "white",
           "lakecolor": "white",
           "landcolor": "#E5ECF6",
           "showlakes": true,
           "showland": true,
           "subunitcolor": "white"
          },
          "hoverlabel": {
           "align": "left"
          },
          "hovermode": "closest",
          "mapbox": {
           "style": "light"
          },
          "paper_bgcolor": "white",
          "plot_bgcolor": "#E5ECF6",
          "polar": {
           "angularaxis": {
            "gridcolor": "white",
            "linecolor": "white",
            "ticks": ""
           },
           "bgcolor": "#E5ECF6",
           "radialaxis": {
            "gridcolor": "white",
            "linecolor": "white",
            "ticks": ""
           }
          },
          "scene": {
           "xaxis": {
            "backgroundcolor": "#E5ECF6",
            "gridcolor": "white",
            "gridwidth": 2,
            "linecolor": "white",
            "showbackground": true,
            "ticks": "",
            "zerolinecolor": "white"
           },
           "yaxis": {
            "backgroundcolor": "#E5ECF6",
            "gridcolor": "white",
            "gridwidth": 2,
            "linecolor": "white",
            "showbackground": true,
            "ticks": "",
            "zerolinecolor": "white"
           },
           "zaxis": {
            "backgroundcolor": "#E5ECF6",
            "gridcolor": "white",
            "gridwidth": 2,
            "linecolor": "white",
            "showbackground": true,
            "ticks": "",
            "zerolinecolor": "white"
           }
          },
          "shapedefaults": {
           "line": {
            "color": "#2a3f5f"
           }
          },
          "ternary": {
           "aaxis": {
            "gridcolor": "white",
            "linecolor": "white",
            "ticks": ""
           },
           "baxis": {
            "gridcolor": "white",
            "linecolor": "white",
            "ticks": ""
           },
           "bgcolor": "#E5ECF6",
           "caxis": {
            "gridcolor": "white",
            "linecolor": "white",
            "ticks": ""
           }
          },
          "title": {
           "x": 0.05
          },
          "xaxis": {
           "automargin": true,
           "gridcolor": "white",
           "linecolor": "white",
           "ticks": "",
           "title": {
            "standoff": 15
           },
           "zerolinecolor": "white",
           "zerolinewidth": 2
          },
          "yaxis": {
           "automargin": true,
           "gridcolor": "white",
           "linecolor": "white",
           "ticks": "",
           "title": {
            "standoff": 15
           },
           "zerolinecolor": "white",
           "zerolinewidth": 2
          }
         }
        },
        "xaxis": {
         "autorange": true,
         "range": [
          -1.070814794546893,
          0.8327425845037794
         ],
         "showgrid": false,
         "type": "linear",
         "zeroline": false
        },
        "yaxis": {
         "autorange": true,
         "range": [
          -1.1548933099962304,
          1.1173155871766172
         ],
         "showgrid": false,
         "type": "linear",
         "zeroline": false
        }
       }
      },
      "image/png": "[encoded data removed]",
      "text/html": [
       "<div>                            <div id=\"fed8ce01-7a88-4770-8eb8-92ce174e3d6d\" class=\"plotly-graph-div\" style=\"height:525px; width:100%;\"></div>            <script type=\"text/javascript\">                require([\"plotly\"], function(Plotly) {                    window.PLOTLYENV=window.PLOTLYENV || {};                                    if (document.getElementById(\"fed8ce01-7a88-4770-8eb8-92ce174e3d6d\")) {                    Plotly.newPlot(                        \"fed8ce01-7a88-4770-8eb8-92ce174e3d6d\",                        [{\"hoverinfo\":\"none\",\"line\":{\"color\":\"#888\",\"width\":2},\"mode\":\"lines\",\"x\":[-0.053131426527614496,0.1394648820020816,null],\"y\":[0.5298371946409197,0.5287471581466434,null],\"type\":\"scatter\"},{\"hoverinfo\":\"none\",\"line\":{\"color\":\"#888\",\"width\":2},\"mode\":\"lines\",\"x\":[-0.053131426527614496,-0.5418577345207573,null],\"y\":[0.5298371946409197,0.32877830869448726,null],\"type\":\"scatter\"},{\"hoverinfo\":\"none\",\"line\":{\"color\":\"#888\",\"width\":2},\"mode\":\"lines\",\"x\":[-0.053131426527614496,0.30390029114185013,null],\"y\":[0.5298371946409197,0.07124289928205332,null],\"type\":\"scatter\"},{\"hoverinfo\":\"none\",\"line\":{\"color\":\"#888\",\"width\":2},\"mode\":\"lines\",\"x\":[-0.053131426527614496,0.23552896557428527,null],\"y\":[0.5298371946409197,0.6610277664435577,null],\"type\":\"scatter\"},{\"hoverinfo\":\"none\",\"line\":{\"color\":\"#888\",\"width\":2},\"mode\":\"lines\",\"x\":[-0.053131426527614496,0.12995360760533836,null],\"y\":[0.5298371946409197,0.10090296323742941,null],\"type\":\"scatter\"},{\"hoverinfo\":\"none\",\"line\":{\"color\":\"#888\",\"width\":2},\"mode\":\"lines\",\"x\":[0.1394648820020816,0.0006680304826794274,null],\"y\":[0.5287471581466434,-0.13963752586452066,null],\"type\":\"scatter\"},{\"hoverinfo\":\"none\",\"line\":{\"color\":\"#888\",\"width\":2},\"mode\":\"lines\",\"x\":[0.1394648820020816,0.27597592334466503,null],\"y\":[0.5287471581466434,0.4161129221951386,null],\"type\":\"scatter\"},{\"hoverinfo\":\"none\",\"line\":{\"color\":\"#888\",\"width\":2},\"mode\":\"lines\",\"x\":[0.1394648820020816,0.3470110809383407,null],\"y\":[0.5287471581466434,0.26880704356775875,null],\"type\":\"scatter\"},{\"hoverinfo\":\"none\",\"line\":{\"color\":\"#888\",\"width\":2},\"mode\":\"lines\",\"x\":[0.1394648820020816,0.23552896557428527,null],\"y\":[0.5287471581466434,0.6610277664435577,null],\"type\":\"scatter\"},{\"hoverinfo\":\"none\",\"line\":{\"color\":\"#888\",\"width\":2},\"mode\":\"lines\",\"x\":[-0.5418577345207573,-0.331312348971435,null],\"y\":[0.32877830869448726,-0.049953483556387485,null],\"type\":\"scatter\"},{\"hoverinfo\":\"none\",\"line\":{\"color\":\"#888\",\"width\":2},\"mode\":\"lines\",\"x\":[-0.5418577345207573,-0.27116753522992415,null],\"y\":[0.32877830869448726,-0.17238597499064995,null],\"type\":\"scatter\"},{\"hoverinfo\":\"none\",\"line\":{\"color\":\"#888\",\"width\":2},\"mode\":\"lines\",\"x\":[-0.5418577345207573,-0.6108334298384237,null],\"y\":[0.32877830869448726,0.7120429431953572,null],\"type\":\"scatter\"},{\"hoverinfo\":\"none\",\"line\":{\"color\":\"#888\",\"width\":2},\"mode\":\"lines\",\"x\":[-0.5418577345207573,-0.481709040831722,null],\"y\":[0.32877830869448726,-0.05625226992435028,null],\"type\":\"scatter\"},{\"hoverinfo\":\"none\",\"line\":{\"color\":\"#888\",\"width\":2},\"mode\":\"lines\",\"x\":[0.30390029114185013,0.479888541113626,null],\"y\":[0.07124289928205332,-0.15004809344577041,null],\"type\":\"scatter\"},{\"hoverinfo\":\"none\",\"line\":{\"color\":\"#888\",\"width\":2},\"mode\":\"lines\",\"x\":[0.30390029114185013,-0.0018266125249094276,null],\"y\":[0.07124289928205332,0.14433796091436316,null],\"type\":\"scatter\"},{\"hoverinfo\":\"none\",\"line\":{\"color\":\"#888\",\"width\":2},\"mode\":\"lines\",\"x\":[0.30390029114185013,0.7253498966404996,null],\"y\":[0.07124289928205332,-0.4920640651906623,null],\"type\":\"scatter\"},{\"hoverinfo\":\"none\",\"line\":{\"color\":\"#888\",\"width\":2},\"mode\":\"lines\",\"x\":[0.30390029114185013,0.4858362448617959,null],\"y\":[0.07124289928205332,-0.4037029505355012,null],\"type\":\"scatter\"},{\"hoverinfo\":\"none\",\"line\":{\"color\":\"#888\",\"width\":2},\"mode\":\"lines\",\"x\":[0.30390029114185013,0.23552896557428527,null],\"y\":[0.07124289928205332,0.6610277664435577,null],\"type\":\"scatter\"},{\"hoverinfo\":\"none\",\"line\":{\"color\":\"#888\",\"width\":2},\"mode\":\"lines\",\"x\":[0.30390029114185013,-0.481709040831722,null],\"y\":[0.07124289928205332,-0.05625226992435028,null],\"type\":\"scatter\"},{\"hoverinfo\":\"none\",\"line\":{\"color\":\"#888\",\"width\":2},\"mode\":\"lines\",\"x\":[0.23552896557428527,0.372655529346321,null],\"y\":[0.6610277664435577,0.5011827680269411,null],\"type\":\"scatter\"},{\"hoverinfo\":\"none\",\"line\":{\"color\":\"#888\",\"width\":2},\"mode\":\"lines\",\"x\":[0.23552896557428527,0.6285503895842987,null],\"y\":[0.6610277664435577,0.9624222771803866,null],\"type\":\"scatter\"},{\"hoverinfo\":\"none\",\"line\":{\"color\":\"#888\",\"width\":2},\"mode\":\"lines\",\"x\":[0.23552896557428527,-0.2842475668528605,null],\"y\":[0.6610277664435577,0.5183781989516156,null],\"type\":\"scatter\"},{\"hoverinfo\":\"none\",\"line\":{\"color\":\"#888\",\"width\":2},\"mode\":\"lines\",\"x\":[0.23552896557428527,0.12995360760533836,null],\"y\":[0.6610277664435577,0.10090296323742941,null],\"type\":\"scatter\"},{\"hoverinfo\":\"none\",\"line\":{\"color\":\"#888\",\"width\":2},\"mode\":\"lines\",\"x\":[0.12995360760533836,-0.557606571592437,null],\"y\":[0.10090296323742941,-0.24155847081469212,null],\"type\":\"scatter\"},{\"hoverinfo\":\"none\",\"line\":{\"color\":\"#888\",\"width\":2},\"mode\":\"lines\",\"x\":[0.12995360760533836,0.04906686791680648,null],\"y\":[0.10090296323742941,-0.20590238250905057,null],\"type\":\"scatter\"},{\"hoverinfo\":\"none\",\"line\":{\"color\":\"#888\",\"width\":2},\"mode\":\"lines\",\"x\":[0.12995360760533836,0.22150157348088848,null],\"y\":[0.10090296323742941,0.02451693265415974,null],\"type\":\"scatter\"},{\"hoverinfo\":\"none\",\"line\":{\"color\":\"#888\",\"width\":2},\"mode\":\"lines\",\"x\":[0.12995360760533836,0.479888541113626,null],\"y\":[0.10090296323742941,-0.15004809344577041,null],\"type\":\"scatter\"},{\"hoverinfo\":\"none\",\"line\":{\"color\":\"#888\",\"width\":2},\"mode\":\"lines\",\"x\":[0.12995360760533836,-0.0018266125249094276,null],\"y\":[0.10090296323742941,0.14433796091436316,null],\"type\":\"scatter\"},{\"hoverinfo\":\"none\",\"line\":{\"color\":\"#888\",\"width\":2},\"mode\":\"lines\",\"x\":[0.12995360760533836,0.5994800588647945,null],\"y\":[0.10090296323742941,0.14001657363185183,null],\"type\":\"scatter\"},{\"hoverinfo\":\"none\",\"line\":{\"color\":\"#888\",\"width\":2},\"mode\":\"lines\",\"x\":[0.12995360760533836,0.39793577940964425,null],\"y\":[0.10090296323742941,-0.14156759173603287,null],\"type\":\"scatter\"},{\"hoverinfo\":\"none\",\"line\":{\"color\":\"#888\",\"width\":2},\"mode\":\"lines\",\"x\":[0.12995360760533836,-0.14475058265254978,null],\"y\":[0.10090296323742941,0.1332103571680762,null],\"type\":\"scatter\"},{\"hoverinfo\":\"none\",\"line\":{\"color\":\"#888\",\"width\":2},\"mode\":\"lines\",\"x\":[0.12995360760533836,0.29214762163656494,null],\"y\":[0.10090296323742941,-0.3306828154080524,null],\"type\":\"scatter\"},{\"hoverinfo\":\"none\",\"line\":{\"color\":\"#888\",\"width\":2},\"mode\":\"lines\",\"x\":[0.12995360760533836,0.04901539565122908,null],\"y\":[0.10090296323742941,0.013244577818401762,null],\"type\":\"scatter\"},{\"hoverinfo\":\"none\",\"line\":{\"color\":\"#888\",\"width\":2},\"mode\":\"lines\",\"x\":[-0.557606571592437,-0.7775683241620899,null],\"y\":[-0.24155847081469212,0.07380291143763992,null],\"type\":\"scatter\"},{\"hoverinfo\":\"none\",\"line\":{\"color\":\"#888\",\"width\":2},\"mode\":\"lines\",\"x\":[-0.557606571592437,-0.30444158395217363,null],\"y\":[-0.24155847081469212,-0.6582118570489118,null],\"type\":\"scatter\"},{\"hoverinfo\":\"none\",\"line\":{\"color\":\"#888\",\"width\":2},\"mode\":\"lines\",\"x\":[-0.7775683241620899,-0.7423470542066498,null],\"y\":[0.07380291143763992,-0.43480179914375433,null],\"type\":\"scatter\"},{\"hoverinfo\":\"none\",\"line\":{\"color\":\"#888\",\"width\":2},\"mode\":\"lines\",\"x\":[-0.7775683241620899,-0.4277039345601092,null],\"y\":[0.07380291143763992,0.19180926463001421,null],\"type\":\"scatter\"},{\"hoverinfo\":\"none\",\"line\":{\"color\":\"#888\",\"width\":2},\"mode\":\"lines\",\"x\":[-0.7775683241620899,-0.2842475668528605,null],\"y\":[0.07380291143763992,0.5183781989516156,null],\"type\":\"scatter\"},{\"hoverinfo\":\"none\",\"line\":{\"color\":\"#888\",\"width\":2},\"mode\":\"lines\",\"x\":[-0.30444158395217363,0.0006680304826794274,null],\"y\":[-0.6582118570489118,-0.13963752586452066,null],\"type\":\"scatter\"},{\"hoverinfo\":\"none\",\"line\":{\"color\":\"#888\",\"width\":2},\"mode\":\"lines\",\"x\":[-0.30444158395217363,-0.17395053086812,null],\"y\":[-0.6582118570489118,-0.2997381326444802,null],\"type\":\"scatter\"},{\"hoverinfo\":\"none\",\"line\":{\"color\":\"#888\",\"width\":2},\"mode\":\"lines\",\"x\":[-0.30444158395217363,-0.5842905109843601,null],\"y\":[-0.6582118570489118,-1.0,null],\"type\":\"scatter\"},{\"hoverinfo\":\"none\",\"line\":{\"color\":\"#888\",\"width\":2},\"mode\":\"lines\",\"x\":[-0.30444158395217363,0.2265848297001393,null],\"y\":[-0.6582118570489118,-0.57436010309201,null],\"type\":\"scatter\"},{\"hoverinfo\":\"none\",\"line\":{\"color\":\"#888\",\"width\":2},\"mode\":\"lines\",\"x\":[-0.30444158395217363,-0.5745052964956261,null],\"y\":[-0.6582118570489118,-0.5158674376516768,null],\"type\":\"scatter\"},{\"hoverinfo\":\"none\",\"line\":{\"color\":\"#888\",\"width\":2},\"mode\":\"lines\",\"x\":[0.0006680304826794274,0.22150157348088848,null],\"y\":[-0.13963752586452066,0.02451693265415974,null],\"type\":\"scatter\"},{\"hoverinfo\":\"none\",\"line\":{\"color\":\"#888\",\"width\":2},\"mode\":\"lines\",\"x\":[0.0006680304826794274,0.27597592334466503,null],\"y\":[-0.13963752586452066,0.4161129221951386,null],\"type\":\"scatter\"},{\"hoverinfo\":\"none\",\"line\":{\"color\":\"#888\",\"width\":2},\"mode\":\"lines\",\"x\":[0.0006680304826794274,-0.14475058265254978,null],\"y\":[-0.13963752586452066,0.1332103571680762,null],\"type\":\"scatter\"},{\"hoverinfo\":\"none\",\"line\":{\"color\":\"#888\",\"width\":2},\"mode\":\"lines\",\"x\":[0.0006680304826794274,-0.3873294715002786,null],\"y\":[-0.13963752586452066,-0.4723404777582211,null],\"type\":\"scatter\"},{\"hoverinfo\":\"none\",\"line\":{\"color\":\"#888\",\"width\":2},\"mode\":\"lines\",\"x\":[0.0006680304826794274,0.45878203341952606,null],\"y\":[-0.13963752586452066,-0.633131370264251,null],\"type\":\"scatter\"},{\"hoverinfo\":\"none\",\"line\":{\"color\":\"#888\",\"width\":2},\"mode\":\"lines\",\"x\":[0.22150157348088848,0.04906686791680648,null],\"y\":[0.02451693265415974,-0.20590238250905057,null],\"type\":\"scatter\"},{\"hoverinfo\":\"none\",\"line\":{\"color\":\"#888\",\"width\":2},\"mode\":\"lines\",\"x\":[0.22150157348088848,0.479888541113626,null],\"y\":[0.02451693265415974,-0.15004809344577041,null],\"type\":\"scatter\"},{\"hoverinfo\":\"none\",\"line\":{\"color\":\"#888\",\"width\":2},\"mode\":\"lines\",\"x\":[0.22150157348088848,-0.17395053086812,null],\"y\":[0.02451693265415974,-0.2997381326444802,null],\"type\":\"scatter\"},{\"hoverinfo\":\"none\",\"line\":{\"color\":\"#888\",\"width\":2},\"mode\":\"lines\",\"x\":[0.22150157348088848,-0.14475058265254978,null],\"y\":[0.02451693265415974,0.1332103571680762,null],\"type\":\"scatter\"},{\"hoverinfo\":\"none\",\"line\":{\"color\":\"#888\",\"width\":2},\"mode\":\"lines\",\"x\":[0.22150157348088848,0.3470110809383407,null],\"y\":[0.02451693265415974,0.26880704356775875,null],\"type\":\"scatter\"},{\"hoverinfo\":\"none\",\"line\":{\"color\":\"#888\",\"width\":2},\"mode\":\"lines\",\"x\":[0.22150157348088848,0.4842948364310607,null],\"y\":[0.02451693265415974,0.42792990307921075,null],\"type\":\"scatter\"},{\"hoverinfo\":\"none\",\"line\":{\"color\":\"#888\",\"width\":2},\"mode\":\"lines\",\"x\":[0.27597592334466503,0.6886970375364584,null],\"y\":[0.4161129221951386,0.33975575200896285,null],\"type\":\"scatter\"},{\"hoverinfo\":\"none\",\"line\":{\"color\":\"#888\",\"width\":2},\"mode\":\"lines\",\"x\":[0.27597592334466503,0.5994800588647945,null],\"y\":[0.4161129221951386,0.14001657363185183,null],\"type\":\"scatter\"},{\"hoverinfo\":\"none\",\"line\":{\"color\":\"#888\",\"width\":2},\"mode\":\"lines\",\"x\":[0.27597592334466503,-0.2842475668528605,null],\"y\":[0.4161129221951386,0.5183781989516156,null],\"type\":\"scatter\"},{\"hoverinfo\":\"none\",\"line\":{\"color\":\"#888\",\"width\":2},\"mode\":\"lines\",\"x\":[-0.14475058265254978,0.14013732330845383,null],\"y\":[0.1332103571680762,-0.1575386560632183,null],\"type\":\"scatter\"},{\"hoverinfo\":\"none\",\"line\":{\"color\":\"#888\",\"width\":2},\"mode\":\"lines\",\"x\":[-0.14475058265254978,-0.17395053086812,null],\"y\":[0.1332103571680762,-0.2997381326444802,null],\"type\":\"scatter\"},{\"hoverinfo\":\"none\",\"line\":{\"color\":\"#888\",\"width\":2},\"mode\":\"lines\",\"x\":[-0.14475058265254978,-0.0777481575850455,null],\"y\":[0.1332103571680762,0.7320541164010997,null],\"type\":\"scatter\"},{\"hoverinfo\":\"none\",\"line\":{\"color\":\"#888\",\"width\":2},\"mode\":\"lines\",\"x\":[-0.14475058265254978,-0.3232389933802771,null],\"y\":[0.1332103571680762,-0.26088631951331637,null],\"type\":\"scatter\"},{\"hoverinfo\":\"none\",\"line\":{\"color\":\"#888\",\"width\":2},\"mode\":\"lines\",\"x\":[-0.14475058265254978,-0.2313849327751874,null],\"y\":[0.1332103571680762,0.3197589486109848,null],\"type\":\"scatter\"},{\"hoverinfo\":\"none\",\"line\":{\"color\":\"#888\",\"width\":2},\"mode\":\"lines\",\"x\":[-0.3873294715002786,0.07575629788814173,null],\"y\":[-0.4723404777582211,-0.5664824224878956,null],\"type\":\"scatter\"},{\"hoverinfo\":\"none\",\"line\":{\"color\":\"#888\",\"width\":2},\"mode\":\"lines\",\"x\":[-0.3873294715002786,-0.7423470542066498,null],\"y\":[-0.4723404777582211,-0.43480179914375433,null],\"type\":\"scatter\"},{\"hoverinfo\":\"none\",\"line\":{\"color\":\"#888\",\"width\":2},\"mode\":\"lines\",\"x\":[-0.3873294715002786,-0.5842905109843601,null],\"y\":[-0.4723404777582211,-1.0,null],\"type\":\"scatter\"},{\"hoverinfo\":\"none\",\"line\":{\"color\":\"#888\",\"width\":2},\"mode\":\"lines\",\"x\":[-0.3873294715002786,-0.2313849327751874,null],\"y\":[-0.4723404777582211,0.3197589486109848,null],\"type\":\"scatter\"},{\"hoverinfo\":\"none\",\"line\":{\"color\":\"#888\",\"width\":2},\"mode\":\"lines\",\"x\":[0.45878203341952606,0.39793577940964425,null],\"y\":[-0.633131370264251,-0.14156759173603287,null],\"type\":\"scatter\"},{\"hoverinfo\":\"none\",\"line\":{\"color\":\"#888\",\"width\":2},\"mode\":\"lines\",\"x\":[0.04906686791680648,-0.05350251231190385,null],\"y\":[-0.20590238250905057,-0.37593674454638937,null],\"type\":\"scatter\"},{\"hoverinfo\":\"none\",\"line\":{\"color\":\"#888\",\"width\":2},\"mode\":\"lines\",\"x\":[0.04906686791680648,0.13384118438679654,null],\"y\":[-0.20590238250905057,0.3197473912034058,null],\"type\":\"scatter\"},{\"hoverinfo\":\"none\",\"line\":{\"color\":\"#888\",\"width\":2},\"mode\":\"lines\",\"x\":[0.04906686791680648,-0.27116753522992415,null],\"y\":[-0.20590238250905057,-0.17238597499064995,null],\"type\":\"scatter\"},{\"hoverinfo\":\"none\",\"line\":{\"color\":\"#888\",\"width\":2},\"mode\":\"lines\",\"x\":[0.04906686791680648,0.04901539565122908,null],\"y\":[-0.20590238250905057,0.013244577818401762,null],\"type\":\"scatter\"},{\"hoverinfo\":\"none\",\"line\":{\"color\":\"#888\",\"width\":2},\"mode\":\"lines\",\"x\":[-0.05350251231190385,-0.7423470542066498,null],\"y\":[-0.37593674454638937,-0.43480179914375433,null],\"type\":\"scatter\"},{\"hoverinfo\":\"none\",\"line\":{\"color\":\"#888\",\"width\":2},\"mode\":\"lines\",\"x\":[-0.05350251231190385,0.2961315422963575,null],\"y\":[-0.37593674454638937,-0.09261371462044526,null],\"type\":\"scatter\"},{\"hoverinfo\":\"none\",\"line\":{\"color\":\"#888\",\"width\":2},\"mode\":\"lines\",\"x\":[-0.05350251231190385,0.39793577940964425,null],\"y\":[-0.37593674454638937,-0.14156759173603287,null],\"type\":\"scatter\"},{\"hoverinfo\":\"none\",\"line\":{\"color\":\"#888\",\"width\":2},\"mode\":\"lines\",\"x\":[-0.05350251231190385,0.4858362448617959,null],\"y\":[-0.37593674454638937,-0.4037029505355012,null],\"type\":\"scatter\"},{\"hoverinfo\":\"none\",\"line\":{\"color\":\"#888\",\"width\":2},\"mode\":\"lines\",\"x\":[-0.05350251231190385,-0.481709040831722,null],\"y\":[-0.37593674454638937,-0.05625226992435028,null],\"type\":\"scatter\"},{\"hoverinfo\":\"none\",\"line\":{\"color\":\"#888\",\"width\":2},\"mode\":\"lines\",\"x\":[-0.05350251231190385,0.04901539565122908,null],\"y\":[-0.37593674454638937,0.013244577818401762,null],\"type\":\"scatter\"},{\"hoverinfo\":\"none\",\"line\":{\"color\":\"#888\",\"width\":2},\"mode\":\"lines\",\"x\":[0.13384118438679654,0.6886970375364584,null],\"y\":[0.3197473912034058,0.33975575200896285,null],\"type\":\"scatter\"},{\"hoverinfo\":\"none\",\"line\":{\"color\":\"#888\",\"width\":2},\"mode\":\"lines\",\"x\":[0.13384118438679654,-0.4277039345601092,null],\"y\":[0.3197473912034058,0.19180926463001421,null],\"type\":\"scatter\"},{\"hoverinfo\":\"none\",\"line\":{\"color\":\"#888\",\"width\":2},\"mode\":\"lines\",\"x\":[0.13384118438679654,0.3470110809383407,null],\"y\":[0.3197473912034058,0.26880704356775875,null],\"type\":\"scatter\"},{\"hoverinfo\":\"none\",\"line\":{\"color\":\"#888\",\"width\":2},\"mode\":\"lines\",\"x\":[-0.27116753522992415,-0.5745052964956261,null],\"y\":[-0.17238597499064995,-0.5158674376516768,null],\"type\":\"scatter\"},{\"hoverinfo\":\"none\",\"line\":{\"color\":\"#888\",\"width\":2},\"mode\":\"lines\",\"x\":[-0.27116753522992415,-0.3232389933802771,null],\"y\":[-0.17238597499064995,-0.26088631951331637,null],\"type\":\"scatter\"},{\"hoverinfo\":\"none\",\"line\":{\"color\":\"#888\",\"width\":2},\"mode\":\"lines\",\"x\":[-0.27116753522992415,0.29214762163656494,null],\"y\":[-0.17238597499064995,-0.3306828154080524,null],\"type\":\"scatter\"},{\"hoverinfo\":\"none\",\"line\":{\"color\":\"#888\",\"width\":2},\"mode\":\"lines\",\"x\":[-0.27116753522992415,0.04901539565122908,null],\"y\":[-0.17238597499064995,0.013244577818401762,null],\"type\":\"scatter\"},{\"hoverinfo\":\"none\",\"line\":{\"color\":\"#888\",\"width\":2},\"mode\":\"lines\",\"x\":[0.04901539565122908,0.07575629788814173,null],\"y\":[0.013244577818401762,-0.5664824224878956,null],\"type\":\"scatter\"},{\"hoverinfo\":\"none\",\"line\":{\"color\":\"#888\",\"width\":2},\"mode\":\"lines\",\"x\":[0.04901539565122908,0.372655529346321,null],\"y\":[0.013244577818401762,0.5011827680269411,null],\"type\":\"scatter\"},{\"hoverinfo\":\"none\",\"line\":{\"color\":\"#888\",\"width\":2},\"mode\":\"lines\",\"x\":[0.04901539565122908,0.39793577940964425,null],\"y\":[0.013244577818401762,-0.14156759173603287,null],\"type\":\"scatter\"},{\"hoverinfo\":\"none\",\"line\":{\"color\":\"#888\",\"width\":2},\"mode\":\"lines\",\"x\":[0.04901539565122908,0.3470110809383407,null],\"y\":[0.013244577818401762,0.26880704356775875,null],\"type\":\"scatter\"},{\"hoverinfo\":\"none\",\"line\":{\"color\":\"#888\",\"width\":2},\"mode\":\"lines\",\"x\":[0.04901539565122908,-0.2842475668528605,null],\"y\":[0.013244577818401762,0.5183781989516156,null],\"type\":\"scatter\"},{\"hoverinfo\":\"none\",\"line\":{\"color\":\"#888\",\"width\":2},\"mode\":\"lines\",\"x\":[-0.4277039345601092,-0.9634221066836134,null],\"y\":[0.19180926463001421,0.20164940428667358,null],\"type\":\"scatter\"},{\"hoverinfo\":\"none\",\"line\":{\"color\":\"#888\",\"width\":2},\"mode\":\"lines\",\"x\":[-0.4277039345601092,-0.0018266125249094276,null],\"y\":[0.19180926463001421,0.14433796091436316,null],\"type\":\"scatter\"},{\"hoverinfo\":\"none\",\"line\":{\"color\":\"#888\",\"width\":2},\"mode\":\"lines\",\"x\":[-0.4277039345601092,0.14013732330845383,null],\"y\":[0.19180926463001421,-0.1575386560632183,null],\"type\":\"scatter\"},{\"hoverinfo\":\"none\",\"line\":{\"color\":\"#888\",\"width\":2},\"mode\":\"lines\",\"x\":[-0.2842475668528605,-0.6108334298384237,null],\"y\":[0.5183781989516156,0.7120429431953572,null],\"type\":\"scatter\"},{\"hoverinfo\":\"none\",\"line\":{\"color\":\"#888\",\"width\":2},\"mode\":\"lines\",\"x\":[0.3470110809383407,-0.0018266125249094276,null],\"y\":[0.26880704356775875,0.14433796091436316,null],\"type\":\"scatter\"},{\"hoverinfo\":\"none\",\"line\":{\"color\":\"#888\",\"width\":2},\"mode\":\"lines\",\"x\":[0.3470110809383407,0.2961315422963575,null],\"y\":[0.26880704356775875,-0.09261371462044526,null],\"type\":\"scatter\"},{\"hoverinfo\":\"none\",\"line\":{\"color\":\"#888\",\"width\":2},\"mode\":\"lines\",\"x\":[0.07575629788814173,0.479888541113626,null],\"y\":[-0.5664824224878956,-0.15004809344577041,null],\"type\":\"scatter\"},{\"hoverinfo\":\"none\",\"line\":{\"color\":\"#888\",\"width\":2},\"mode\":\"lines\",\"x\":[0.479888541113626,-0.0018266125249094276,null],\"y\":[-0.15004809344577041,0.14433796091436316,null],\"type\":\"scatter\"},{\"hoverinfo\":\"none\",\"line\":{\"color\":\"#888\",\"width\":2},\"mode\":\"lines\",\"x\":[0.479888541113626,0.5994800588647945,null],\"y\":[-0.15004809344577041,0.14001657363185183,null],\"type\":\"scatter\"},{\"hoverinfo\":\"none\",\"line\":{\"color\":\"#888\",\"width\":2},\"mode\":\"lines\",\"x\":[0.479888541113626,0.4858362448617959,null],\"y\":[-0.15004809344577041,-0.4037029505355012,null],\"type\":\"scatter\"},{\"hoverinfo\":\"none\",\"line\":{\"color\":\"#888\",\"width\":2},\"mode\":\"lines\",\"x\":[0.479888541113626,0.6617204944454265,null],\"y\":[-0.15004809344577041,-0.23565187859690384,null],\"type\":\"scatter\"},{\"hoverinfo\":\"none\",\"line\":{\"color\":\"#888\",\"width\":2},\"mode\":\"lines\",\"x\":[-0.17395053086812,-0.0018266125249094276,null],\"y\":[-0.2997381326444802,0.14433796091436316,null],\"type\":\"scatter\"},{\"hoverinfo\":\"none\",\"line\":{\"color\":\"#888\",\"width\":2},\"mode\":\"lines\",\"x\":[-0.17395053086812,0.14013732330845383,null],\"y\":[-0.2997381326444802,-0.1575386560632183,null],\"type\":\"scatter\"},{\"hoverinfo\":\"none\",\"line\":{\"color\":\"#888\",\"width\":2},\"mode\":\"lines\",\"x\":[-0.17395053086812,-0.5745052964956261,null],\"y\":[-0.2997381326444802,-0.5158674376516768,null],\"type\":\"scatter\"},{\"hoverinfo\":\"none\",\"line\":{\"color\":\"#888\",\"width\":2},\"mode\":\"lines\",\"x\":[0.4842948364310607,0.5994800588647945,null],\"y\":[0.42792990307921075,0.14001657363185183,null],\"type\":\"scatter\"},{\"hoverinfo\":\"none\",\"line\":{\"color\":\"#888\",\"width\":2},\"mode\":\"lines\",\"x\":[0.4842948364310607,0.39793577940964425,null],\"y\":[0.42792990307921075,-0.14156759173603287,null],\"type\":\"scatter\"},{\"hoverinfo\":\"none\",\"line\":{\"color\":\"#888\",\"width\":2},\"mode\":\"lines\",\"x\":[0.4842948364310607,0.6285503895842987,null],\"y\":[0.42792990307921075,0.9624222771803866,null],\"type\":\"scatter\"},{\"hoverinfo\":\"none\",\"line\":{\"color\":\"#888\",\"width\":2},\"mode\":\"lines\",\"x\":[0.4842948364310607,-0.2313849327751874,null],\"y\":[0.42792990307921075,0.3197589486109848,null],\"type\":\"scatter\"},{\"hoverinfo\":\"none\",\"line\":{\"color\":\"#888\",\"width\":2},\"mode\":\"lines\",\"x\":[-0.0018266125249094276,-0.2313849327751874,null],\"y\":[0.14433796091436316,0.3197589486109848,null],\"type\":\"scatter\"},{\"hoverinfo\":\"none\",\"line\":{\"color\":\"#888\",\"width\":2},\"mode\":\"lines\",\"x\":[0.5994800588647945,0.2961315422963575,null],\"y\":[0.14001657363185183,-0.09261371462044526,null],\"type\":\"scatter\"},{\"hoverinfo\":\"none\",\"line\":{\"color\":\"#888\",\"width\":2},\"mode\":\"lines\",\"x\":[0.5994800588647945,0.39793577940964425,null],\"y\":[0.14001657363185183,-0.14156759173603287,null],\"type\":\"scatter\"},{\"hoverinfo\":\"none\",\"line\":{\"color\":\"#888\",\"width\":2},\"mode\":\"lines\",\"x\":[0.4858362448617959,0.2961315422963575,null],\"y\":[-0.4037029505355012,-0.09261371462044526,null],\"type\":\"scatter\"},{\"hoverinfo\":\"none\",\"line\":{\"color\":\"#888\",\"width\":2},\"mode\":\"lines\",\"x\":[0.6617204944454265,0.14013732330845383,null],\"y\":[-0.23565187859690384,-0.1575386560632183,null],\"type\":\"scatter\"},{\"hoverinfo\":\"none\",\"line\":{\"color\":\"#888\",\"width\":2},\"mode\":\"lines\",\"x\":[0.6617204944454265,0.6886970375364584,null],\"y\":[-0.23565187859690384,0.33975575200896285,null],\"type\":\"scatter\"},{\"hoverinfo\":\"none\",\"line\":{\"color\":\"#888\",\"width\":2},\"mode\":\"lines\",\"x\":[0.6617204944454265,0.2265848297001393,null],\"y\":[-0.23565187859690384,-0.57436010309201,null],\"type\":\"scatter\"},{\"hoverinfo\":\"none\",\"line\":{\"color\":\"#888\",\"width\":2},\"mode\":\"lines\",\"x\":[0.6617204944454265,0.29214762163656494,null],\"y\":[-0.23565187859690384,-0.3306828154080524,null],\"type\":\"scatter\"},{\"hoverinfo\":\"none\",\"line\":{\"color\":\"#888\",\"width\":2},\"mode\":\"lines\",\"x\":[-0.9634221066836134,-0.481709040831722,null],\"y\":[0.20164940428667358,-0.05625226992435028,null],\"type\":\"scatter\"},{\"hoverinfo\":\"none\",\"line\":{\"color\":\"#888\",\"width\":2},\"mode\":\"lines\",\"x\":[-0.481709040831722,-0.331312348971435,null],\"y\":[-0.05625226992435028,-0.049953483556387485,null],\"type\":\"scatter\"},{\"hoverinfo\":\"none\",\"line\":{\"color\":\"#888\",\"width\":2},\"mode\":\"lines\",\"x\":[-0.481709040831722,-0.5745052964956261,null],\"y\":[-0.05625226992435028,-0.5158674376516768,null],\"type\":\"scatter\"},{\"hoverinfo\":\"none\",\"line\":{\"color\":\"#888\",\"width\":2},\"mode\":\"lines\",\"x\":[-0.481709040831722,-0.3232389933802771,null],\"y\":[-0.05625226992435028,-0.26088631951331637,null],\"type\":\"scatter\"},{\"hoverinfo\":\"none\",\"line\":{\"color\":\"#888\",\"width\":2},\"mode\":\"lines\",\"x\":[-0.2313849327751874,-0.0777481575850455,null],\"y\":[0.3197589486109848,0.7320541164010997,null],\"type\":\"scatter\"},{\"hoverinfo\":\"none\",\"line\":{\"color\":\"#888\",\"width\":2},\"mode\":\"lines\",\"x\":[-0.2313849327751874,-0.331312348971435,null],\"y\":[0.3197589486109848,-0.049953483556387485,null],\"type\":\"scatter\"},{\"hoverinfo\":\"none\",\"line\":{\"color\":\"#888\",\"width\":2},\"mode\":\"lines\",\"x\":[-0.2313849327751874,-0.6108334298384237,null],\"y\":[0.3197589486109848,0.7120429431953572,null],\"type\":\"scatter\"},{\"hoverinfo\":\"none\",\"line\":{\"color\":\"#888\",\"width\":2},\"mode\":\"lines\",\"x\":[0.2961315422963575,0.14013732330845383,null],\"y\":[-0.09261371462044526,-0.1575386560632183,null],\"type\":\"scatter\"},{\"hoverinfo\":\"none\",\"line\":{\"color\":\"#888\",\"width\":2},\"mode\":\"lines\",\"x\":[0.2961315422963575,0.372655529346321,null],\"y\":[-0.09261371462044526,0.5011827680269411,null],\"type\":\"scatter\"},{\"hoverinfo\":\"none\",\"line\":{\"color\":\"#888\",\"width\":2},\"mode\":\"lines\",\"x\":[0.2961315422963575,-0.3232389933802771,null],\"y\":[-0.09261371462044526,-0.26088631951331637,null],\"type\":\"scatter\"},{\"hoverinfo\":\"none\",\"line\":{\"color\":\"#888\",\"width\":2},\"mode\":\"lines\",\"x\":[0.2961315422963575,0.29214762163656494,null],\"y\":[-0.09261371462044526,-0.3306828154080524,null],\"type\":\"scatter\"},{\"hoverinfo\":\"none\",\"line\":{\"color\":\"#888\",\"width\":2},\"mode\":\"lines\",\"x\":[0.39793577940964425,0.14013732330845383,null],\"y\":[-0.14156759173603287,-0.1575386560632183,null],\"type\":\"scatter\"},{\"hoverinfo\":\"none\",\"line\":{\"color\":\"#888\",\"width\":2},\"mode\":\"lines\",\"x\":[0.39793577940964425,0.29214762163656494,null],\"y\":[-0.14156759173603287,-0.3306828154080524,null],\"type\":\"scatter\"},{\"hoverinfo\":\"none\",\"line\":{\"color\":\"#888\",\"width\":2},\"mode\":\"lines\",\"x\":[0.6886970375364584,0.372655529346321,null],\"y\":[0.33975575200896285,0.5011827680269411,null],\"type\":\"scatter\"},{\"hoverinfo\":\"none\",\"line\":{\"color\":\"#888\",\"width\":2},\"mode\":\"lines\",\"x\":[-0.331312348971435,0.2265848297001393,null],\"y\":[-0.049953483556387485,-0.57436010309201,null],\"type\":\"scatter\"},{\"hoverinfo\":\"none\",\"line\":{\"color\":\"#888\",\"width\":2},\"mode\":\"lines\",\"x\":[0.14013732330845383,0.29214762163656494,null],\"y\":[-0.1575386560632183,-0.3306828154080524,null],\"type\":\"scatter\"},{\"hoverinfo\":\"none\",\"line\":{\"color\":\"#888\",\"width\":2},\"mode\":\"lines\",\"x\":[0.372655529346321,-0.0777481575850455,null],\"y\":[0.5011827680269411,0.7320541164010997,null],\"type\":\"scatter\"},{\"hoverinfo\":\"none\",\"line\":{\"color\":\"#888\",\"width\":2},\"mode\":\"lines\",\"x\":[0.2265848297001393,0.7253498966404996,null],\"y\":[-0.57436010309201,-0.4920640651906623,null],\"type\":\"scatter\"},{\"hoverinfo\":\"text\",\"marker\":{\"colorbar\":{\"thickness\":15,\"title\":{\"side\":\"right\",\"text\":\"Node Connections\"},\"xanchor\":\"left\"},\"colorscale\":[[0.0,\"rgb(255,255,217)\"],[0.125,\"rgb(237,248,177)\"],[0.25,\"rgb(199,233,180)\"],[0.375,\"rgb(127,205,187)\"],[0.5,\"rgb(65,182,196)\"],[0.625,\"rgb(29,145,192)\"],[0.75,\"rgb(34,94,168)\"],[0.875,\"rgb(37,52,148)\"],[1.0,\"rgb(8,29,88)\"]],\"showscale\":true,\"size\":10},\"mode\":\"markers+text\",\"text\":[\"0\",\"5\",\"15\",\"32\",\"44\",\"47\",\"1\",\"4\",\"22\",\"2\",\"7\",\"14\",\"30\",\"33\",\"42\",\"3\",\"11\",\"12\",\"25\",\"49\",\"13\",\"24\",\"45\",\"41\",\"6\",\"8\",\"18\",\"43\",\"10\",\"26\",\"36\",\"39\",\"9\",\"48\",\"40\",\"19\",\"27\",\"23\",\"21\",\"29\",\"16\",\"46\",\"17\",\"20\",\"37\",\"38\",\"35\",\"34\",\"28\",\"31\"],\"textposition\":\"top center\",\"x\":[-0.053131426527614496,0.1394648820020816,-0.5418577345207573,0.30390029114185013,0.23552896557428527,0.12995360760533836,-0.557606571592437,-0.7775683241620899,-0.30444158395217363,0.0006680304826794274,0.22150157348088848,0.27597592334466503,-0.14475058265254978,-0.3873294715002786,0.45878203341952606,0.04906686791680648,-0.05350251231190385,0.13384118438679654,-0.27116753522992415,0.04901539565122908,-0.7423470542066498,-0.4277039345601092,-0.2842475668528605,0.3470110809383407,0.07575629788814173,0.479888541113626,-0.17395053086812,0.4842948364310607,-0.0018266125249094276,0.5994800588647945,0.4858362448617959,0.6617204944454265,-0.9634221066836134,-0.481709040831722,-0.2313849327751874,0.2961315422963575,0.39793577940964425,0.6886970375364584,-0.331312348971435,-0.6108334298384237,0.14013732330845383,0.29214762163656494,0.372655529346321,-0.0777481575850455,-0.5745052964956261,-0.3232389933802771,0.2265848297001393,-0.5842905109843601,0.6285503895842987,0.7253498966404996],\"y\":[0.5298371946409197,0.5287471581466434,0.32877830869448726,0.07124289928205332,0.6610277664435577,0.10090296323742941,-0.24155847081469212,0.07380291143763992,-0.6582118570489118,-0.13963752586452066,0.02451693265415974,0.4161129221951386,0.1332103571680762,-0.4723404777582211,-0.633131370264251,-0.20590238250905057,-0.37593674454638937,0.3197473912034058,-0.17238597499064995,0.013244577818401762,-0.43480179914375433,0.19180926463001421,0.5183781989516156,0.26880704356775875,-0.5664824224878956,-0.15004809344577041,-0.2997381326444802,0.42792990307921075,0.14433796091436316,0.14001657363185183,-0.4037029505355012,-0.23565187859690384,0.20164940428667358,-0.05625226992435028,0.3197589486109848,-0.09261371462044526,-0.14156759173603287,0.33975575200896285,-0.049953483556387485,0.7120429431953572,-0.1575386560632183,-0.3306828154080524,0.5011827680269411,0.7320541164010997,-0.5158674376516768,-0.26088631951331637,-0.57436010309201,-1.0,0.9624222771803866,-0.4920640651906623],\"type\":\"scatter\"}],                        {\"hovermode\":\"closest\",\"margin\":{\"b\":0,\"l\":0,\"r\":0,\"t\":0},\"showlegend\":false,\"template\":{\"data\":{\"barpolar\":[{\"marker\":{\"line\":{\"color\":\"#E5ECF6\",\"width\":0.5},\"pattern\":{\"fillmode\":\"overlay\",\"size\":10,\"solidity\":0.2}},\"type\":\"barpolar\"}],\"bar\":[{\"error_x\":{\"color\":\"#2a3f5f\"},\"error_y\":{\"color\":\"#2a3f5f\"},\"marker\":{\"line\":{\"color\":\"#E5ECF6\",\"width\":0.5},\"pattern\":{\"fillmode\":\"overlay\",\"size\":10,\"solidity\":0.2}},\"type\":\"bar\"}],\"carpet\":[{\"aaxis\":{\"endlinecolor\":\"#2a3f5f\",\"gridcolor\":\"white\",\"linecolor\":\"white\",\"minorgridcolor\":\"white\",\"startlinecolor\":\"#2a3f5f\"},\"baxis\":{\"endlinecolor\":\"#2a3f5f\",\"gridcolor\":\"white\",\"linecolor\":\"white\",\"minorgridcolor\":\"white\",\"startlinecolor\":\"#2a3f5f\"},\"type\":\"carpet\"}],\"choropleth\":[{\"colorbar\":{\"outlinewidth\":0,\"ticks\":\"\"},\"type\":\"choropleth\"}],\"contourcarpet\":[{\"colorbar\":{\"outlinewidth\":0,\"ticks\":\"\"},\"type\":\"contourcarpet\"}],\"contour\":[{\"colorbar\":{\"outlinewidth\":0,\"ticks\":\"\"},\"colorscale\":[[0.0,\"#0d0887\"],[0.1111111111111111,\"#46039f\"],[0.2222222222222222,\"#7201a8\"],[0.3333333333333333,\"#9c179e\"],[0.4444444444444444,\"#bd3786\"],[0.5555555555555556,\"#d8576b\"],[0.6666666666666666,\"#ed7953\"],[0.7777777777777778,\"#fb9f3a\"],[0.8888888888888888,\"#fdca26\"],[1.0,\"#f0f921\"]],\"type\":\"contour\"}],\"heatmapgl\":[{\"colorbar\":{\"outlinewidth\":0,\"ticks\":\"\"},\"colorscale\":[[0.0,\"#0d0887\"],[0.1111111111111111,\"#46039f\"],[0.2222222222222222,\"#7201a8\"],[0.3333333333333333,\"#9c179e\"],[0.4444444444444444,\"#bd3786\"],[0.5555555555555556,\"#d8576b\"],[0.6666666666666666,\"#ed7953\"],[0.7777777777777778,\"#fb9f3a\"],[0.8888888888888888,\"#fdca26\"],[1.0,\"#f0f921\"]],\"type\":\"heatmapgl\"}],\"heatmap\":[{\"colorbar\":{\"outlinewidth\":0,\"ticks\":\"\"},\"colorscale\":[[0.0,\"#0d0887\"],[0.1111111111111111,\"#46039f\"],[0.2222222222222222,\"#7201a8\"],[0.3333333333333333,\"#9c179e\"],[0.4444444444444444,\"#bd3786\"],[0.5555555555555556,\"#d8576b\"],[0.6666666666666666,\"#ed7953\"],[0.7777777777777778,\"#fb9f3a\"],[0.8888888888888888,\"#fdca26\"],[1.0,\"#f0f921\"]],\"type\":\"heatmap\"}],\"histogram2dcontour\":[{\"colorbar\":{\"outlinewidth\":0,\"ticks\":\"\"},\"colorscale\":[[0.0,\"#0d0887\"],[0.1111111111111111,\"#46039f\"],[0.2222222222222222,\"#7201a8\"],[0.3333333333333333,\"#9c179e\"],[0.4444444444444444,\"#bd3786\"],[0.5555555555555556,\"#d8576b\"],[0.6666666666666666,\"#ed7953\"],[0.7777777777777778,\"#fb9f3a\"],[0.8888888888888888,\"#fdca26\"],[1.0,\"#f0f921\"]],\"type\":\"histogram2dcontour\"}],\"histogram2d\":[{\"colorbar\":{\"outlinewidth\":0,\"ticks\":\"\"},\"colorscale\":[[0.0,\"#0d0887\"],[0.1111111111111111,\"#46039f\"],[0.2222222222222222,\"#7201a8\"],[0.3333333333333333,\"#9c179e\"],[0.4444444444444444,\"#bd3786\"],[0.5555555555555556,\"#d8576b\"],[0.6666666666666666,\"#ed7953\"],[0.7777777777777778,\"#fb9f3a\"],[0.8888888888888888,\"#fdca26\"],[1.0,\"#f0f921\"]],\"type\":\"histogram2d\"}],\"histogram\":[{\"marker\":{\"pattern\":{\"fillmode\":\"overlay\",\"size\":10,\"solidity\":0.2}},\"type\":\"histogram\"}],\"mesh3d\":[{\"colorbar\":{\"outlinewidth\":0,\"ticks\":\"\"},\"type\":\"mesh3d\"}],\"parcoords\":[{\"line\":{\"colorbar\":{\"outlinewidth\":0,\"ticks\":\"\"}},\"type\":\"parcoords\"}],\"pie\":[{\"automargin\":true,\"type\":\"pie\"}],\"scatter3d\":[{\"line\":{\"colorbar\":{\"outlinewidth\":0,\"ticks\":\"\"}},\"marker\":{\"colorbar\":{\"outlinewidth\":0,\"ticks\":\"\"}},\"type\":\"scatter3d\"}],\"scattercarpet\":[{\"marker\":{\"colorbar\":{\"outlinewidth\":0,\"ticks\":\"\"}},\"type\":\"scattercarpet\"}],\"scattergeo\":[{\"marker\":{\"colorbar\":{\"outlinewidth\":0,\"ticks\":\"\"}},\"type\":\"scattergeo\"}],\"scattergl\":[{\"marker\":{\"colorbar\":{\"outlinewidth\":0,\"ticks\":\"\"}},\"type\":\"scattergl\"}],\"scattermapbox\":[{\"marker\":{\"colorbar\":{\"outlinewidth\":0,\"ticks\":\"\"}},\"type\":\"scattermapbox\"}],\"scatterpolargl\":[{\"marker\":{\"colorbar\":{\"outlinewidth\":0,\"ticks\":\"\"}},\"type\":\"scatterpolargl\"}],\"scatterpolar\":[{\"marker\":{\"colorbar\":{\"outlinewidth\":0,\"ticks\":\"\"}},\"type\":\"scatterpolar\"}],\"scatter\":[{\"fillpattern\":{\"fillmode\":\"overlay\",\"size\":10,\"solidity\":0.2},\"type\":\"scatter\"}],\"scatterternary\":[{\"marker\":{\"colorbar\":{\"outlinewidth\":0,\"ticks\":\"\"}},\"type\":\"scatterternary\"}],\"surface\":[{\"colorbar\":{\"outlinewidth\":0,\"ticks\":\"\"},\"colorscale\":[[0.0,\"#0d0887\"],[0.1111111111111111,\"#46039f\"],[0.2222222222222222,\"#7201a8\"],[0.3333333333333333,\"#9c179e\"],[0.4444444444444444,\"#bd3786\"],[0.5555555555555556,\"#d8576b\"],[0.6666666666666666,\"#ed7953\"],[0.7777777777777778,\"#fb9f3a\"],[0.8888888888888888,\"#fdca26\"],[1.0,\"#f0f921\"]],\"type\":\"surface\"}],\"table\":[{\"cells\":{\"fill\":{\"color\":\"#EBF0F8\"},\"line\":{\"color\":\"white\"}},\"header\":{\"fill\":{\"color\":\"#C8D4E3\"},\"line\":{\"color\":\"white\"}},\"type\":\"table\"}]},\"layout\":{\"annotationdefaults\":{\"arrowcolor\":\"#2a3f5f\",\"arrowhead\":0,\"arrowwidth\":1},\"autotypenumbers\":\"strict\",\"coloraxis\":{\"colorbar\":{\"outlinewidth\":0,\"ticks\":\"\"}},\"colorscale\":{\"diverging\":[[0,\"#8e0152\"],[0.1,\"#c51b7d\"],[0.2,\"#de77ae\"],[0.3,\"#f1b6da\"],[0.4,\"#fde0ef\"],[0.5,\"#f7f7f7\"],[0.6,\"#e6f5d0\"],[0.7,\"#b8e186\"],[0.8,\"#7fbc41\"],[0.9,\"#4d9221\"],[1,\"#276419\"]],\"sequential\":[[0.0,\"#0d0887\"],[0.1111111111111111,\"#46039f\"],[0.2222222222222222,\"#7201a8\"],[0.3333333333333333,\"#9c179e\"],[0.4444444444444444,\"#bd3786\"],[0.5555555555555556,\"#d8576b\"],[0.6666666666666666,\"#ed7953\"],[0.7777777777777778,\"#fb9f3a\"],[0.8888888888888888,\"#fdca26\"],[1.0,\"#f0f921\"]],\"sequentialminus\":[[0.0,\"#0d0887\"],[0.1111111111111111,\"#46039f\"],[0.2222222222222222,\"#7201a8\"],[0.3333333333333333,\"#9c179e\"],[0.4444444444444444,\"#bd3786\"],[0.5555555555555556,\"#d8576b\"],[0.6666666666666666,\"#ed7953\"],[0.7777777777777778,\"#fb9f3a\"],[0.8888888888888888,\"#fdca26\"],[1.0,\"#f0f921\"]]},\"colorway\":[\"#636efa\",\"#EF553B\",\"#00cc96\",\"#ab63fa\",\"#FFA15A\",\"#19d3f3\",\"#FF6692\",\"#B6E880\",\"#FF97FF\",\"#FECB52\"],\"font\":{\"color\":\"#2a3f5f\"},\"geo\":{\"bgcolor\":\"white\",\"lakecolor\":\"white\",\"landcolor\":\"#E5ECF6\",\"showlakes\":true,\"showland\":true,\"subunitcolor\":\"white\"},\"hoverlabel\":{\"align\":\"left\"},\"hovermode\":\"closest\",\"mapbox\":{\"style\":\"light\"},\"paper_bgcolor\":\"white\",\"plot_bgcolor\":\"#E5ECF6\",\"polar\":{\"angularaxis\":{\"gridcolor\":\"white\",\"linecolor\":\"white\",\"ticks\":\"\"},\"bgcolor\":\"#E5ECF6\",\"radialaxis\":{\"gridcolor\":\"white\",\"linecolor\":\"white\",\"ticks\":\"\"}},\"scene\":{\"xaxis\":{\"backgroundcolor\":\"#E5ECF6\",\"gridcolor\":\"white\",\"gridwidth\":2,\"linecolor\":\"white\",\"showbackground\":true,\"ticks\":\"\",\"zerolinecolor\":\"white\"},\"yaxis\":{\"backgroundcolor\":\"#E5ECF6\",\"gridcolor\":\"white\",\"gridwidth\":2,\"linecolor\":\"white\",\"showbackground\":true,\"ticks\":\"\",\"zerolinecolor\":\"white\"},\"zaxis\":{\"backgroundcolor\":\"#E5ECF6\",\"gridcolor\":\"white\",\"gridwidth\":2,\"linecolor\":\"white\",\"showbackground\":true,\"ticks\":\"\",\"zerolinecolor\":\"white\"}},\"shapedefaults\":{\"line\":{\"color\":\"#2a3f5f\"}},\"ternary\":{\"aaxis\":{\"gridcolor\":\"white\",\"linecolor\":\"white\",\"ticks\":\"\"},\"baxis\":{\"gridcolor\":\"white\",\"linecolor\":\"white\",\"ticks\":\"\"},\"bgcolor\":\"#E5ECF6\",\"caxis\":{\"gridcolor\":\"white\",\"linecolor\":\"white\",\"ticks\":\"\"}},\"title\":{\"x\":0.05},\"xaxis\":{\"automargin\":true,\"gridcolor\":\"white\",\"linecolor\":\"white\",\"ticks\":\"\",\"title\":{\"standoff\":15},\"zerolinecolor\":\"white\",\"zerolinewidth\":2},\"yaxis\":{\"automargin\":true,\"gridcolor\":\"white\",\"linecolor\":\"white\",\"ticks\":\"\",\"title\":{\"standoff\":15},\"zerolinecolor\":\"white\",\"zerolinewidth\":2}}},\"xaxis\":{\"showgrid\":false,\"zeroline\":false},\"yaxis\":{\"showgrid\":false,\"zeroline\":false}},                        {\"responsive\": true}                    ).then(function(){\n",
       "                            \n",
       "var gd = document.getElementById('fed8ce01-7a88-4770-8eb8-92ce174e3d6d');\n",
       "var x = new MutationObserver(function (mutations, observer) {{\n",
       "        var display = window.getComputedStyle(gd).display;\n",
       "        if (!display || display === 'none') {{\n",
       "            console.log([gd, 'removed!']);\n",
       "            Plotly.purge(gd);\n",
       "            observer.disconnect();\n",
       "        }}\n",
       "}});\n",
       "\n",
       "// Listen for the removal of the full notebook cells\n",
       "var notebookContainer = gd.closest('#notebook-container');\n",
       "if (notebookContainer) {{\n",
       "    x.observe(notebookContainer, {childList: true});\n",
       "}}\n",
       "\n",
       "// Listen for the clearing of the current output cell\n",
       "var outputEl = gd.closest('.output');\n",
       "if (outputEl) {{\n",
       "    x.observe(outputEl, {childList: true});\n",
       "}}\n",
       "\n",
       "                        })                };                });            </script>        </div>"
      ]
     },
     "metadata": {},
     "output_type": "display_data"
    }
   ],
   "source": [
    "import plotly.graph_objs as go\n",
    "import networkx as nx\n",
    "from plotly.offline import init_notebook_mode, iplot\n",
    "\n",
    "init_notebook_mode(connected=True)\n",
    "\n",
    "# List of edges (this can change)\n",
    "edges = edge_list\n",
    "colours = [0,0,1,0,0,0,1,1,1,0,0,2,1,1,1,0,2,3,0,0]\n",
    "\n",
    "# Create a graph using NetworkX\n",
    "G = nx.Graph()\n",
    "G.add_edges_from(edges)\n",
    "\n",
    "# Use NetworkX to automatically determine positions of nodes\n",
    "pos = nx.spring_layout(G)\n",
    "\n",
    "# Extract the nodes and edges for Plotly\n",
    "edge_trace = []\n",
    "for edge in G.edges():\n",
    "    x0, y0 = pos[edge[0]]\n",
    "    x1, y1 = pos[edge[1]]\n",
    "    edge_trace.append(go.Scatter(\n",
    "        x=[x0, x1, None],\n",
    "        y=[y0, y1, None],\n",
    "        line=dict(width=2, color='#888'),\n",
    "        hoverinfo='none',\n",
    "        mode='lines'\n",
    "    ))\n",
    "\n",
    "node_trace = go.Scatter(\n",
    "    x=[pos[node][0] for node in G.nodes()],\n",
    "    y=[pos[node][1] for node in G.nodes()],\n",
    "    text=[str(node) for node in G.nodes()],\n",
    "    mode='markers+text',\n",
    "    textposition='top center',\n",
    "    hoverinfo='text',\n",
    "    marker=dict(\n",
    "        showscale=True,\n",
    "        colorscale='YlGnBu',\n",
    "        size=10,\n",
    "        colorbar=dict(\n",
    "            thickness=15,\n",
    "            title='Node Connections',\n",
    "            xanchor='left',\n",
    "            titleside='right'\n",
    "        ),\n",
    "    )\n",
    ")\n",
    "\n",
    "layout = go.Layout(\n",
    "    showlegend=False,\n",
    "    hovermode='closest',\n",
    "    margin=dict(b=0, l=0, r=0, t=0),\n",
    "    xaxis=dict(showgrid=False, zeroline=False),\n",
    "    yaxis=dict(showgrid=False, zeroline=False),\n",
    ")\n",
    "\n",
    "fig = go.Figure(data=edge_trace + [node_trace], layout=layout)\n",
    "iplot(fig)\n"
   ]
  },
  {
   "cell_type": "code",
   "execution_count": null,
   "id": "ae9b3653-6ddd-4767-a307-4ace219edb39",
   "metadata": {},
   "outputs": [],
   "source": []
  }
 ],
 "metadata": {
  "kernelspec": {
   "display_name": "Python 3 (ipykernel)",
   "language": "python",
   "name": "python3"
  },
  "language_info": {
   "codemirror_mode": {
    "name": "ipython",
    "version": 3
   },
   "file_extension": ".py",
   "mimetype": "text/x-python",
   "name": "python",
   "nbconvert_exporter": "python",
   "pygments_lexer": "ipython3",
   "version": "3.12.4"
  }
 },
 "nbformat": 4,
 "nbformat_minor": 5
}
