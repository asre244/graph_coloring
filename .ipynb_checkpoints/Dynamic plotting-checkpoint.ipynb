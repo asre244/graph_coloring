{
 "cells": [
  {
   "cell_type": "code",
   "execution_count": 1,
   "id": "eaf778a4-bd9a-4524-8a57-225e1b41ec16",
   "metadata": {},
   "outputs": [],
   "source": [
    "from collections import Counter\n",
    "import matplotlib.pyplot as plt\n",
    "\n",
    "with open(\n",
    "        r'C:\\Users\\AjithSreenivasan\\OneDrive - Robinson Bowmaker Paul\\Coursera\\Discrete Optimization\\graph_coloring_2\\Graph coloring\\coloring\\data\\gc_20_5',\n",
    "        'r') as input_data_file:\n",
    "    input_data = input_data_file.read()\n",
    "data_list = input_data.split()\n",
    "data_list = list(map(int, data_list))\n",
    "n_nodes = data_list[0]\n",
    "n_edges = data_list[1]\n",
    "edge_data = data_list[2:]\n",
    "edge_list = [edge_data[i:i + 2] for i in range(0, int(len(edge_data)), 2)]\n",
    "node_list = [i for i in range(0, n_nodes)]\n",
    "\n",
    "# number of edges from node\n",
    "count_edges = sorted(Counter(edge_data).items())"
   ]
  },
  {
   "cell_type": "code",
   "execution_count": 2,
   "id": "a1ee5bbf-766c-49c4-8df0-5affc0fd4706",
   "metadata": {},
   "outputs": [
    {
     "data": {
      "text/html": [
       "        <script type=\"text/javascript\">\n",
       "        window.PlotlyConfig = {MathJaxConfig: 'local'};\n",
       "        if (window.MathJax && window.MathJax.Hub && window.MathJax.Hub.Config) {window.MathJax.Hub.Config({SVG: {font: \"STIX-Web\"}});}\n",
       "        if (typeof require !== 'undefined') {\n",
       "        require.undef(\"plotly\");\n",
       "        requirejs.config({\n",
       "            paths: {\n",
       "                'plotly': ['https://cdn.plot.ly/plotly-2.34.0.min']\n",
       "            }\n",
       "        });\n",
       "        require(['plotly'], function(Plotly) {\n",
       "            window._Plotly = Plotly;\n",
       "        });\n",
       "        }\n",
       "        </script>\n",
       "        "
      ]
     },
     "metadata": {},
     "output_type": "display_data"
    },
    {
     "data": {
      "application/vnd.plotly.v1+json": {
       "config": {
        "linkText": "Export to plot.ly",
        "plotlyServerURL": "https://plot.ly",
        "showLink": false
       },
       "data": [
        {
         "hoverinfo": "none",
         "line": {
          "color": "#888",
          "width": 2
         },
         "mode": "lines",
         "type": "scatter",
         "x": [
          0.07380994039807272,
          -0.44367421833404797,
          null
         ],
         "y": [
          -0.7643436684148268,
          -0.30530745929905934,
          null
         ]
        },
        {
         "hoverinfo": "none",
         "line": {
          "color": "#888",
          "width": 2
         },
         "mode": "lines",
         "type": "scatter",
         "x": [
          0.07380994039807272,
          0.19048971508210819,
          null
         ],
         "y": [
          -0.7643436684148268,
          -0.023473239880264445,
          null
         ]
        },
        {
         "hoverinfo": "none",
         "line": {
          "color": "#888",
          "width": 2
         },
         "mode": "lines",
         "type": "scatter",
         "x": [
          0.07380994039807272,
          -0.8916683866967886,
          null
         ],
         "y": [
          -0.7643436684148268,
          -0.24112922264403974,
          null
         ]
        },
        {
         "hoverinfo": "none",
         "line": {
          "color": "#888",
          "width": 2
         },
         "mode": "lines",
         "type": "scatter",
         "x": [
          0.07380994039807272,
          0.47536174780173535,
          null
         ],
         "y": [
          -0.7643436684148268,
          0.17384201826717366,
          null
         ]
        },
        {
         "hoverinfo": "none",
         "line": {
          "color": "#888",
          "width": 2
         },
         "mode": "lines",
         "type": "scatter",
         "x": [
          0.07380994039807272,
          0.49558355970031304,
          null
         ],
         "y": [
          -0.7643436684148268,
          -0.5556351234767709,
          null
         ]
        },
        {
         "hoverinfo": "none",
         "line": {
          "color": "#888",
          "width": 2
         },
         "mode": "lines",
         "type": "scatter",
         "x": [
          0.07380994039807272,
          -0.5370477231467041,
          null
         ],
         "y": [
          -0.7643436684148268,
          -0.5847943483113252,
          null
         ]
        },
        {
         "hoverinfo": "none",
         "line": {
          "color": "#888",
          "width": 2
         },
         "mode": "lines",
         "type": "scatter",
         "x": [
          0.07380994039807272,
          -0.05880442059057152,
          null
         ],
         "y": [
          -0.7643436684148268,
          0.07641271493525108,
          null
         ]
        },
        {
         "hoverinfo": "none",
         "line": {
          "color": "#888",
          "width": 2
         },
         "mode": "lines",
         "type": "scatter",
         "x": [
          0.07380994039807272,
          0.822613772043669,
          null
         ],
         "y": [
          -0.7643436684148268,
          -0.31623675819108193,
          null
         ]
        },
        {
         "hoverinfo": "none",
         "line": {
          "color": "#888",
          "width": 2
         },
         "mode": "lines",
         "type": "scatter",
         "x": [
          0.07380994039807272,
          -0.0941824277881769,
          null
         ],
         "y": [
          -0.7643436684148268,
          -0.22411308552821146,
          null
         ]
        },
        {
         "hoverinfo": "none",
         "line": {
          "color": "#888",
          "width": 2
         },
         "mode": "lines",
         "type": "scatter",
         "x": [
          -0.44367421833404797,
          0.47536174780173535,
          null
         ],
         "y": [
          -0.30530745929905934,
          0.17384201826717366,
          null
         ]
        },
        {
         "hoverinfo": "none",
         "line": {
          "color": "#888",
          "width": 2
         },
         "mode": "lines",
         "type": "scatter",
         "x": [
          -0.44367421833404797,
          -0.4685346086283285,
          null
         ],
         "y": [
          -0.30530745929905934,
          0.5477183357693076,
          null
         ]
        },
        {
         "hoverinfo": "none",
         "line": {
          "color": "#888",
          "width": 2
         },
         "mode": "lines",
         "type": "scatter",
         "x": [
          -0.44367421833404797,
          0.49558355970031304,
          null
         ],
         "y": [
          -0.30530745929905934,
          -0.5556351234767709,
          null
         ]
        },
        {
         "hoverinfo": "none",
         "line": {
          "color": "#888",
          "width": 2
         },
         "mode": "lines",
         "type": "scatter",
         "x": [
          -0.44367421833404797,
          -0.5370477231467041,
          null
         ],
         "y": [
          -0.30530745929905934,
          -0.5847943483113252,
          null
         ]
        },
        {
         "hoverinfo": "none",
         "line": {
          "color": "#888",
          "width": 2
         },
         "mode": "lines",
         "type": "scatter",
         "x": [
          -0.44367421833404797,
          -0.05880442059057152,
          null
         ],
         "y": [
          -0.30530745929905934,
          0.07641271493525108,
          null
         ]
        },
        {
         "hoverinfo": "none",
         "line": {
          "color": "#888",
          "width": 2
         },
         "mode": "lines",
         "type": "scatter",
         "x": [
          -0.44367421833404797,
          -0.2786507507185324,
          null
         ],
         "y": [
          -0.30530745929905934,
          0.3893324471159803,
          null
         ]
        },
        {
         "hoverinfo": "none",
         "line": {
          "color": "#888",
          "width": 2
         },
         "mode": "lines",
         "type": "scatter",
         "x": [
          -0.44367421833404797,
          -0.6737230049102517,
          null
         ],
         "y": [
          -0.30530745929905934,
          0.08353458761556384,
          null
         ]
        },
        {
         "hoverinfo": "none",
         "line": {
          "color": "#888",
          "width": 2
         },
         "mode": "lines",
         "type": "scatter",
         "x": [
          -0.44367421833404797,
          -0.0941824277881769,
          null
         ],
         "y": [
          -0.30530745929905934,
          -0.22411308552821146,
          null
         ]
        },
        {
         "hoverinfo": "none",
         "line": {
          "color": "#888",
          "width": 2
         },
         "mode": "lines",
         "type": "scatter",
         "x": [
          0.19048971508210819,
          0.1223600404657923,
          null
         ],
         "y": [
          -0.023473239880264445,
          0.8453467423101785,
          null
         ]
        },
        {
         "hoverinfo": "none",
         "line": {
          "color": "#888",
          "width": 2
         },
         "mode": "lines",
         "type": "scatter",
         "x": [
          0.19048971508210819,
          0.4227450472628082,
          null
         ],
         "y": [
          -0.023473239880264445,
          0.5075711985727804,
          null
         ]
        },
        {
         "hoverinfo": "none",
         "line": {
          "color": "#888",
          "width": 2
         },
         "mode": "lines",
         "type": "scatter",
         "x": [
          0.19048971508210819,
          -0.2035157985555126,
          null
         ],
         "y": [
          -0.023473239880264445,
          -0.49541789951145637,
          null
         ]
        },
        {
         "hoverinfo": "none",
         "line": {
          "color": "#888",
          "width": 2
         },
         "mode": "lines",
         "type": "scatter",
         "x": [
          0.19048971508210819,
          -0.372180449855639,
          null
         ],
         "y": [
          -0.023473239880264445,
          0.11740039075280125,
          null
         ]
        },
        {
         "hoverinfo": "none",
         "line": {
          "color": "#888",
          "width": 2
         },
         "mode": "lines",
         "type": "scatter",
         "x": [
          0.19048971508210819,
          0.47536174780173535,
          null
         ],
         "y": [
          -0.023473239880264445,
          0.17384201826717366,
          null
         ]
        },
        {
         "hoverinfo": "none",
         "line": {
          "color": "#888",
          "width": 2
         },
         "mode": "lines",
         "type": "scatter",
         "x": [
          0.19048971508210819,
          -0.4685346086283285,
          null
         ],
         "y": [
          -0.023473239880264445,
          0.5477183357693076,
          null
         ]
        },
        {
         "hoverinfo": "none",
         "line": {
          "color": "#888",
          "width": 2
         },
         "mode": "lines",
         "type": "scatter",
         "x": [
          0.19048971508210819,
          0.49558355970031304,
          null
         ],
         "y": [
          -0.023473239880264445,
          -0.5556351234767709,
          null
         ]
        },
        {
         "hoverinfo": "none",
         "line": {
          "color": "#888",
          "width": 2
         },
         "mode": "lines",
         "type": "scatter",
         "x": [
          0.19048971508210819,
          -0.5370477231467041,
          null
         ],
         "y": [
          -0.023473239880264445,
          -0.5847943483113252,
          null
         ]
        },
        {
         "hoverinfo": "none",
         "line": {
          "color": "#888",
          "width": 2
         },
         "mode": "lines",
         "type": "scatter",
         "x": [
          0.19048971508210819,
          -0.05880442059057152,
          null
         ],
         "y": [
          -0.023473239880264445,
          0.07641271493525108,
          null
         ]
        },
        {
         "hoverinfo": "none",
         "line": {
          "color": "#888",
          "width": 2
         },
         "mode": "lines",
         "type": "scatter",
         "x": [
          0.19048971508210819,
          0.822613772043669,
          null
         ],
         "y": [
          -0.023473239880264445,
          -0.31623675819108193,
          null
         ]
        },
        {
         "hoverinfo": "none",
         "line": {
          "color": "#888",
          "width": 2
         },
         "mode": "lines",
         "type": "scatter",
         "x": [
          0.19048971508210819,
          -0.2786507507185324,
          null
         ],
         "y": [
          -0.023473239880264445,
          0.3893324471159803,
          null
         ]
        },
        {
         "hoverinfo": "none",
         "line": {
          "color": "#888",
          "width": 2
         },
         "mode": "lines",
         "type": "scatter",
         "x": [
          0.19048971508210819,
          0.42093251740551585,
          null
         ],
         "y": [
          -0.023473239880264445,
          -0.14848596426199995,
          null
         ]
        },
        {
         "hoverinfo": "none",
         "line": {
          "color": "#888",
          "width": 2
         },
         "mode": "lines",
         "type": "scatter",
         "x": [
          -0.8916683866967886,
          -0.2035157985555126,
          null
         ],
         "y": [
          -0.24112922264403974,
          -0.49541789951145637,
          null
         ]
        },
        {
         "hoverinfo": "none",
         "line": {
          "color": "#888",
          "width": 2
         },
         "mode": "lines",
         "type": "scatter",
         "x": [
          -0.8916683866967886,
          -0.372180449855639,
          null
         ],
         "y": [
          -0.24112922264403974,
          0.11740039075280125,
          null
         ]
        },
        {
         "hoverinfo": "none",
         "line": {
          "color": "#888",
          "width": 2
         },
         "mode": "lines",
         "type": "scatter",
         "x": [
          -0.8916683866967886,
          -0.4685346086283285,
          null
         ],
         "y": [
          -0.24112922264403974,
          0.5477183357693076,
          null
         ]
        },
        {
         "hoverinfo": "none",
         "line": {
          "color": "#888",
          "width": 2
         },
         "mode": "lines",
         "type": "scatter",
         "x": [
          -0.8916683866967886,
          -0.5370477231467041,
          null
         ],
         "y": [
          -0.24112922264403974,
          -0.5847943483113252,
          null
         ]
        },
        {
         "hoverinfo": "none",
         "line": {
          "color": "#888",
          "width": 2
         },
         "mode": "lines",
         "type": "scatter",
         "x": [
          -0.8916683866967886,
          -0.0019145509354600938,
          null
         ],
         "y": [
          -0.24112922264403974,
          0.5182863599933571,
          null
         ]
        },
        {
         "hoverinfo": "none",
         "line": {
          "color": "#888",
          "width": 2
         },
         "mode": "lines",
         "type": "scatter",
         "x": [
          -0.8916683866967886,
          -0.6737230049102517,
          null
         ],
         "y": [
          -0.24112922264403974,
          0.08353458761556384,
          null
         ]
        },
        {
         "hoverinfo": "none",
         "line": {
          "color": "#888",
          "width": 2
         },
         "mode": "lines",
         "type": "scatter",
         "x": [
          -0.8916683866967886,
          -0.0941824277881769,
          null
         ],
         "y": [
          -0.24112922264403974,
          -0.22411308552821146,
          null
         ]
        },
        {
         "hoverinfo": "none",
         "line": {
          "color": "#888",
          "width": 2
         },
         "mode": "lines",
         "type": "scatter",
         "x": [
          0.47536174780173535,
          0.4227450472628082,
          null
         ],
         "y": [
          0.17384201826717366,
          0.5075711985727804,
          null
         ]
        },
        {
         "hoverinfo": "none",
         "line": {
          "color": "#888",
          "width": 2
         },
         "mode": "lines",
         "type": "scatter",
         "x": [
          0.47536174780173535,
          -0.4685346086283285,
          null
         ],
         "y": [
          0.17384201826717366,
          0.5477183357693076,
          null
         ]
        },
        {
         "hoverinfo": "none",
         "line": {
          "color": "#888",
          "width": 2
         },
         "mode": "lines",
         "type": "scatter",
         "x": [
          0.47536174780173535,
          0.822613772043669,
          null
         ],
         "y": [
          0.17384201826717366,
          -0.31623675819108193,
          null
         ]
        },
        {
         "hoverinfo": "none",
         "line": {
          "color": "#888",
          "width": 2
         },
         "mode": "lines",
         "type": "scatter",
         "x": [
          0.47536174780173535,
          -0.2786507507185324,
          null
         ],
         "y": [
          0.17384201826717366,
          0.3893324471159803,
          null
         ]
        },
        {
         "hoverinfo": "none",
         "line": {
          "color": "#888",
          "width": 2
         },
         "mode": "lines",
         "type": "scatter",
         "x": [
          0.47536174780173535,
          -0.0019145509354600938,
          null
         ],
         "y": [
          0.17384201826717366,
          0.5182863599933571,
          null
         ]
        },
        {
         "hoverinfo": "none",
         "line": {
          "color": "#888",
          "width": 2
         },
         "mode": "lines",
         "type": "scatter",
         "x": [
          0.47536174780173535,
          0.42093251740551585,
          null
         ],
         "y": [
          0.17384201826717366,
          -0.14848596426199995,
          null
         ]
        },
        {
         "hoverinfo": "none",
         "line": {
          "color": "#888",
          "width": 2
         },
         "mode": "lines",
         "type": "scatter",
         "x": [
          0.49558355970031304,
          -0.372180449855639,
          null
         ],
         "y": [
          -0.5556351234767709,
          0.11740039075280125,
          null
         ]
        },
        {
         "hoverinfo": "none",
         "line": {
          "color": "#888",
          "width": 2
         },
         "mode": "lines",
         "type": "scatter",
         "x": [
          0.49558355970031304,
          0.9999999999999999,
          null
         ],
         "y": [
          -0.5556351234767709,
          0.39949197418664456,
          null
         ]
        },
        {
         "hoverinfo": "none",
         "line": {
          "color": "#888",
          "width": 2
         },
         "mode": "lines",
         "type": "scatter",
         "x": [
          0.49558355970031304,
          -0.05880442059057152,
          null
         ],
         "y": [
          -0.5556351234767709,
          0.07641271493525108,
          null
         ]
        },
        {
         "hoverinfo": "none",
         "line": {
          "color": "#888",
          "width": 2
         },
         "mode": "lines",
         "type": "scatter",
         "x": [
          0.49558355970031304,
          0.42093251740551585,
          null
         ],
         "y": [
          -0.5556351234767709,
          -0.14848596426199995,
          null
         ]
        },
        {
         "hoverinfo": "none",
         "line": {
          "color": "#888",
          "width": 2
         },
         "mode": "lines",
         "type": "scatter",
         "x": [
          -0.5370477231467041,
          -0.2035157985555126,
          null
         ],
         "y": [
          -0.5847943483113252,
          -0.49541789951145637,
          null
         ]
        },
        {
         "hoverinfo": "none",
         "line": {
          "color": "#888",
          "width": 2
         },
         "mode": "lines",
         "type": "scatter",
         "x": [
          -0.5370477231467041,
          -0.372180449855639,
          null
         ],
         "y": [
          -0.5847943483113252,
          0.11740039075280125,
          null
         ]
        },
        {
         "hoverinfo": "none",
         "line": {
          "color": "#888",
          "width": 2
         },
         "mode": "lines",
         "type": "scatter",
         "x": [
          -0.5370477231467041,
          -0.05880442059057152,
          null
         ],
         "y": [
          -0.5847943483113252,
          0.07641271493525108,
          null
         ]
        },
        {
         "hoverinfo": "none",
         "line": {
          "color": "#888",
          "width": 2
         },
         "mode": "lines",
         "type": "scatter",
         "x": [
          -0.5370477231467041,
          -0.2786507507185324,
          null
         ],
         "y": [
          -0.5847943483113252,
          0.3893324471159803,
          null
         ]
        },
        {
         "hoverinfo": "none",
         "line": {
          "color": "#888",
          "width": 2
         },
         "mode": "lines",
         "type": "scatter",
         "x": [
          -0.5370477231467041,
          -0.6737230049102517,
          null
         ],
         "y": [
          -0.5847943483113252,
          0.08353458761556384,
          null
         ]
        },
        {
         "hoverinfo": "none",
         "line": {
          "color": "#888",
          "width": 2
         },
         "mode": "lines",
         "type": "scatter",
         "x": [
          -0.5370477231467041,
          0.42093251740551585,
          null
         ],
         "y": [
          -0.5847943483113252,
          -0.14848596426199995,
          null
         ]
        },
        {
         "hoverinfo": "none",
         "line": {
          "color": "#888",
          "width": 2
         },
         "mode": "lines",
         "type": "scatter",
         "x": [
          -0.05880442059057152,
          0.1223600404657923,
          null
         ],
         "y": [
          0.07641271493525108,
          0.8453467423101785,
          null
         ]
        },
        {
         "hoverinfo": "none",
         "line": {
          "color": "#888",
          "width": 2
         },
         "mode": "lines",
         "type": "scatter",
         "x": [
          -0.05880442059057152,
          0.4227450472628082,
          null
         ],
         "y": [
          0.07641271493525108,
          0.5075711985727804,
          null
         ]
        },
        {
         "hoverinfo": "none",
         "line": {
          "color": "#888",
          "width": 2
         },
         "mode": "lines",
         "type": "scatter",
         "x": [
          -0.05880442059057152,
          -0.4685346086283285,
          null
         ],
         "y": [
          0.07641271493525108,
          0.5477183357693076,
          null
         ]
        },
        {
         "hoverinfo": "none",
         "line": {
          "color": "#888",
          "width": 2
         },
         "mode": "lines",
         "type": "scatter",
         "x": [
          -0.05880442059057152,
          -0.2786507507185324,
          null
         ],
         "y": [
          0.07641271493525108,
          0.3893324471159803,
          null
         ]
        },
        {
         "hoverinfo": "none",
         "line": {
          "color": "#888",
          "width": 2
         },
         "mode": "lines",
         "type": "scatter",
         "x": [
          -0.05880442059057152,
          -0.0019145509354600938,
          null
         ],
         "y": [
          0.07641271493525108,
          0.5182863599933571,
          null
         ]
        },
        {
         "hoverinfo": "none",
         "line": {
          "color": "#888",
          "width": 2
         },
         "mode": "lines",
         "type": "scatter",
         "x": [
          -0.05880442059057152,
          -0.6737230049102517,
          null
         ],
         "y": [
          0.07641271493525108,
          0.08353458761556384,
          null
         ]
        },
        {
         "hoverinfo": "none",
         "line": {
          "color": "#888",
          "width": 2
         },
         "mode": "lines",
         "type": "scatter",
         "x": [
          -0.05880442059057152,
          0.42093251740551585,
          null
         ],
         "y": [
          0.07641271493525108,
          -0.14848596426199995,
          null
         ]
        },
        {
         "hoverinfo": "none",
         "line": {
          "color": "#888",
          "width": 2
         },
         "mode": "lines",
         "type": "scatter",
         "x": [
          -0.05880442059057152,
          -0.0941824277881769,
          null
         ],
         "y": [
          0.07641271493525108,
          -0.22411308552821146,
          null
         ]
        },
        {
         "hoverinfo": "none",
         "line": {
          "color": "#888",
          "width": 2
         },
         "mode": "lines",
         "type": "scatter",
         "x": [
          0.822613772043669,
          0.4227450472628082,
          null
         ],
         "y": [
          -0.31623675819108193,
          0.5075711985727804,
          null
         ]
        },
        {
         "hoverinfo": "none",
         "line": {
          "color": "#888",
          "width": 2
         },
         "mode": "lines",
         "type": "scatter",
         "x": [
          0.822613772043669,
          -0.2035157985555126,
          null
         ],
         "y": [
          -0.31623675819108193,
          -0.49541789951145637,
          null
         ]
        },
        {
         "hoverinfo": "none",
         "line": {
          "color": "#888",
          "width": 2
         },
         "mode": "lines",
         "type": "scatter",
         "x": [
          0.822613772043669,
          0.9999999999999999,
          null
         ],
         "y": [
          -0.31623675819108193,
          0.39949197418664456,
          null
         ]
        },
        {
         "hoverinfo": "none",
         "line": {
          "color": "#888",
          "width": 2
         },
         "mode": "lines",
         "type": "scatter",
         "x": [
          0.822613772043669,
          0.42093251740551585,
          null
         ],
         "y": [
          -0.31623675819108193,
          -0.14848596426199995,
          null
         ]
        },
        {
         "hoverinfo": "none",
         "line": {
          "color": "#888",
          "width": 2
         },
         "mode": "lines",
         "type": "scatter",
         "x": [
          0.822613772043669,
          -0.0941824277881769,
          null
         ],
         "y": [
          -0.31623675819108193,
          -0.22411308552821146,
          null
         ]
        },
        {
         "hoverinfo": "none",
         "line": {
          "color": "#888",
          "width": 2
         },
         "mode": "lines",
         "type": "scatter",
         "x": [
          -0.0941824277881769,
          0.1223600404657923,
          null
         ],
         "y": [
          -0.22411308552821146,
          0.8453467423101785,
          null
         ]
        },
        {
         "hoverinfo": "none",
         "line": {
          "color": "#888",
          "width": 2
         },
         "mode": "lines",
         "type": "scatter",
         "x": [
          -0.0941824277881769,
          -0.2035157985555126,
          null
         ],
         "y": [
          -0.22411308552821146,
          -0.49541789951145637,
          null
         ]
        },
        {
         "hoverinfo": "none",
         "line": {
          "color": "#888",
          "width": 2
         },
         "mode": "lines",
         "type": "scatter",
         "x": [
          -0.0941824277881769,
          -0.372180449855639,
          null
         ],
         "y": [
          -0.22411308552821146,
          0.11740039075280125,
          null
         ]
        },
        {
         "hoverinfo": "none",
         "line": {
          "color": "#888",
          "width": 2
         },
         "mode": "lines",
         "type": "scatter",
         "x": [
          -0.0941824277881769,
          -0.0019145509354600938,
          null
         ],
         "y": [
          -0.22411308552821146,
          0.5182863599933571,
          null
         ]
        },
        {
         "hoverinfo": "none",
         "line": {
          "color": "#888",
          "width": 2
         },
         "mode": "lines",
         "type": "scatter",
         "x": [
          -0.0941824277881769,
          -0.6737230049102517,
          null
         ],
         "y": [
          -0.22411308552821146,
          0.08353458761556384,
          null
         ]
        },
        {
         "hoverinfo": "none",
         "line": {
          "color": "#888",
          "width": 2
         },
         "mode": "lines",
         "type": "scatter",
         "x": [
          0.1223600404657923,
          -0.372180449855639,
          null
         ],
         "y": [
          0.8453467423101785,
          0.11740039075280125,
          null
         ]
        },
        {
         "hoverinfo": "none",
         "line": {
          "color": "#888",
          "width": 2
         },
         "mode": "lines",
         "type": "scatter",
         "x": [
          0.1223600404657923,
          -0.4685346086283285,
          null
         ],
         "y": [
          0.8453467423101785,
          0.5477183357693076,
          null
         ]
        },
        {
         "hoverinfo": "none",
         "line": {
          "color": "#888",
          "width": 2
         },
         "mode": "lines",
         "type": "scatter",
         "x": [
          0.1223600404657923,
          0.9999999999999999,
          null
         ],
         "y": [
          0.8453467423101785,
          0.39949197418664456,
          null
         ]
        },
        {
         "hoverinfo": "none",
         "line": {
          "color": "#888",
          "width": 2
         },
         "mode": "lines",
         "type": "scatter",
         "x": [
          0.1223600404657923,
          -0.2786507507185324,
          null
         ],
         "y": [
          0.8453467423101785,
          0.3893324471159803,
          null
         ]
        },
        {
         "hoverinfo": "none",
         "line": {
          "color": "#888",
          "width": 2
         },
         "mode": "lines",
         "type": "scatter",
         "x": [
          0.1223600404657923,
          -0.0019145509354600938,
          null
         ],
         "y": [
          0.8453467423101785,
          0.5182863599933571,
          null
         ]
        },
        {
         "hoverinfo": "none",
         "line": {
          "color": "#888",
          "width": 2
         },
         "mode": "lines",
         "type": "scatter",
         "x": [
          -0.372180449855639,
          0.4227450472628082,
          null
         ],
         "y": [
          0.11740039075280125,
          0.5075711985727804,
          null
         ]
        },
        {
         "hoverinfo": "none",
         "line": {
          "color": "#888",
          "width": 2
         },
         "mode": "lines",
         "type": "scatter",
         "x": [
          -0.372180449855639,
          -0.2035157985555126,
          null
         ],
         "y": [
          0.11740039075280125,
          -0.49541789951145637,
          null
         ]
        },
        {
         "hoverinfo": "none",
         "line": {
          "color": "#888",
          "width": 2
         },
         "mode": "lines",
         "type": "scatter",
         "x": [
          -0.372180449855639,
          -0.4685346086283285,
          null
         ],
         "y": [
          0.11740039075280125,
          0.5477183357693076,
          null
         ]
        },
        {
         "hoverinfo": "none",
         "line": {
          "color": "#888",
          "width": 2
         },
         "mode": "lines",
         "type": "scatter",
         "x": [
          -0.372180449855639,
          -0.0019145509354600938,
          null
         ],
         "y": [
          0.11740039075280125,
          0.5182863599933571,
          null
         ]
        },
        {
         "hoverinfo": "none",
         "line": {
          "color": "#888",
          "width": 2
         },
         "mode": "lines",
         "type": "scatter",
         "x": [
          -0.4685346086283285,
          -0.0019145509354600938,
          null
         ],
         "y": [
          0.5477183357693076,
          0.5182863599933571,
          null
         ]
        },
        {
         "hoverinfo": "none",
         "line": {
          "color": "#888",
          "width": 2
         },
         "mode": "lines",
         "type": "scatter",
         "x": [
          -0.4685346086283285,
          -0.6737230049102517,
          null
         ],
         "y": [
          0.5477183357693076,
          0.08353458761556384,
          null
         ]
        },
        {
         "hoverinfo": "none",
         "line": {
          "color": "#888",
          "width": 2
         },
         "mode": "lines",
         "type": "scatter",
         "x": [
          -0.4685346086283285,
          0.42093251740551585,
          null
         ],
         "y": [
          0.5477183357693076,
          -0.14848596426199995,
          null
         ]
        },
        {
         "hoverinfo": "none",
         "line": {
          "color": "#888",
          "width": 2
         },
         "mode": "lines",
         "type": "scatter",
         "x": [
          0.9999999999999999,
          0.4227450472628082,
          null
         ],
         "y": [
          0.39949197418664456,
          0.5075711985727804,
          null
         ]
        },
        {
         "hoverinfo": "none",
         "line": {
          "color": "#888",
          "width": 2
         },
         "mode": "lines",
         "type": "scatter",
         "x": [
          0.9999999999999999,
          -0.0019145509354600938,
          null
         ],
         "y": [
          0.39949197418664456,
          0.5182863599933571,
          null
         ]
        },
        {
         "hoverinfo": "none",
         "line": {
          "color": "#888",
          "width": 2
         },
         "mode": "lines",
         "type": "scatter",
         "x": [
          0.9999999999999999,
          0.42093251740551585,
          null
         ],
         "y": [
          0.39949197418664456,
          -0.14848596426199995,
          null
         ]
        },
        {
         "hoverinfo": "none",
         "line": {
          "color": "#888",
          "width": 2
         },
         "mode": "lines",
         "type": "scatter",
         "x": [
          -0.2786507507185324,
          0.4227450472628082,
          null
         ],
         "y": [
          0.3893324471159803,
          0.5075711985727804,
          null
         ]
        },
        {
         "hoverinfo": "none",
         "line": {
          "color": "#888",
          "width": 2
         },
         "mode": "lines",
         "type": "scatter",
         "x": [
          -0.2786507507185324,
          -0.2035157985555126,
          null
         ],
         "y": [
          0.3893324471159803,
          -0.49541789951145637,
          null
         ]
        },
        {
         "hoverinfo": "none",
         "line": {
          "color": "#888",
          "width": 2
         },
         "mode": "lines",
         "type": "scatter",
         "x": [
          -0.2786507507185324,
          -0.0019145509354600938,
          null
         ],
         "y": [
          0.3893324471159803,
          0.5182863599933571,
          null
         ]
        },
        {
         "hoverinfo": "none",
         "line": {
          "color": "#888",
          "width": 2
         },
         "mode": "lines",
         "type": "scatter",
         "x": [
          -0.2786507507185324,
          -0.6737230049102517,
          null
         ],
         "y": [
          0.3893324471159803,
          0.08353458761556384,
          null
         ]
        },
        {
         "hoverinfo": "none",
         "line": {
          "color": "#888",
          "width": 2
         },
         "mode": "lines",
         "type": "scatter",
         "x": [
          -0.0019145509354600938,
          0.4227450472628082,
          null
         ],
         "y": [
          0.5182863599933571,
          0.5075711985727804,
          null
         ]
        },
        {
         "hoverinfo": "none",
         "line": {
          "color": "#888",
          "width": 2
         },
         "mode": "lines",
         "type": "scatter",
         "x": [
          -0.0019145509354600938,
          -0.2035157985555126,
          null
         ],
         "y": [
          0.5182863599933571,
          -0.49541789951145637,
          null
         ]
        },
        {
         "hoverinfo": "none",
         "line": {
          "color": "#888",
          "width": 2
         },
         "mode": "lines",
         "type": "scatter",
         "x": [
          0.4227450472628082,
          -0.6737230049102517,
          null
         ],
         "y": [
          0.5075711985727804,
          0.08353458761556384,
          null
         ]
        },
        {
         "hoverinfo": "none",
         "line": {
          "color": "#888",
          "width": 2
         },
         "mode": "lines",
         "type": "scatter",
         "x": [
          0.4227450472628082,
          0.42093251740551585,
          null
         ],
         "y": [
          0.5075711985727804,
          -0.14848596426199995,
          null
         ]
        },
        {
         "hoverinfo": "none",
         "line": {
          "color": "#888",
          "width": 2
         },
         "mode": "lines",
         "type": "scatter",
         "x": [
          -0.6737230049102517,
          -0.2035157985555126,
          null
         ],
         "y": [
          0.08353458761556384,
          -0.49541789951145637,
          null
         ]
        },
        {
         "hoverinfo": "none",
         "line": {
          "color": "#888",
          "width": 2
         },
         "mode": "lines",
         "type": "scatter",
         "x": [
          -0.6737230049102517,
          0.42093251740551585,
          null
         ],
         "y": [
          0.08353458761556384,
          -0.14848596426199995,
          null
         ]
        },
        {
         "hoverinfo": "text",
         "marker": {
          "colorbar": {
           "thickness": 15,
           "title": {
            "side": "right",
            "text": "Node Connections"
           },
           "xanchor": "left"
          },
          "colorscale": [
           [
            0,
            "rgb(255,255,217)"
           ],
           [
            0.125,
            "rgb(237,248,177)"
           ],
           [
            0.25,
            "rgb(199,233,180)"
           ],
           [
            0.375,
            "rgb(127,205,187)"
           ],
           [
            0.5,
            "rgb(65,182,196)"
           ],
           [
            0.625,
            "rgb(29,145,192)"
           ],
           [
            0.75,
            "rgb(34,94,168)"
           ],
           [
            0.875,
            "rgb(37,52,148)"
           ],
           [
            1,
            "rgb(8,29,88)"
           ]
          ],
          "showscale": true,
          "size": 10
         },
         "mode": "markers+text",
         "text": [
          "0",
          "3",
          "6",
          "7",
          "8",
          "11",
          "12",
          "13",
          "14",
          "19",
          "1",
          "5",
          "9",
          "10",
          "15",
          "16",
          "2",
          "17",
          "18",
          "4"
         ],
         "textposition": "top center",
         "type": "scatter",
         "x": [
          0.07380994039807272,
          -0.44367421833404797,
          0.19048971508210819,
          -0.8916683866967886,
          0.47536174780173535,
          0.49558355970031304,
          -0.5370477231467041,
          -0.05880442059057152,
          0.822613772043669,
          -0.0941824277881769,
          0.1223600404657923,
          -0.372180449855639,
          -0.4685346086283285,
          0.9999999999999999,
          -0.2786507507185324,
          -0.0019145509354600938,
          0.4227450472628082,
          -0.6737230049102517,
          0.42093251740551585,
          -0.2035157985555126
         ],
         "y": [
          -0.7643436684148268,
          -0.30530745929905934,
          -0.023473239880264445,
          -0.24112922264403974,
          0.17384201826717366,
          -0.5556351234767709,
          -0.5847943483113252,
          0.07641271493525108,
          -0.31623675819108193,
          -0.22411308552821146,
          0.8453467423101785,
          0.11740039075280125,
          0.5477183357693076,
          0.39949197418664456,
          0.3893324471159803,
          0.5182863599933571,
          0.5075711985727804,
          0.08353458761556384,
          -0.14848596426199995,
          -0.49541789951145637
         ]
        }
       ],
       "layout": {
        "autosize": true,
        "hovermode": "closest",
        "margin": {
         "b": 0,
         "l": 0,
         "r": 0,
         "t": 0
        },
        "showlegend": false,
        "template": {
         "data": {
          "bar": [
           {
            "error_x": {
             "color": "#2a3f5f"
            },
            "error_y": {
             "color": "#2a3f5f"
            },
            "marker": {
             "line": {
              "color": "#E5ECF6",
              "width": 0.5
             },
             "pattern": {
              "fillmode": "overlay",
              "size": 10,
              "solidity": 0.2
             }
            },
            "type": "bar"
           }
          ],
          "barpolar": [
           {
            "marker": {
             "line": {
              "color": "#E5ECF6",
              "width": 0.5
             },
             "pattern": {
              "fillmode": "overlay",
              "size": 10,
              "solidity": 0.2
             }
            },
            "type": "barpolar"
           }
          ],
          "carpet": [
           {
            "aaxis": {
             "endlinecolor": "#2a3f5f",
             "gridcolor": "white",
             "linecolor": "white",
             "minorgridcolor": "white",
             "startlinecolor": "#2a3f5f"
            },
            "baxis": {
             "endlinecolor": "#2a3f5f",
             "gridcolor": "white",
             "linecolor": "white",
             "minorgridcolor": "white",
             "startlinecolor": "#2a3f5f"
            },
            "type": "carpet"
           }
          ],
          "choropleth": [
           {
            "colorbar": {
             "outlinewidth": 0,
             "ticks": ""
            },
            "type": "choropleth"
           }
          ],
          "contour": [
           {
            "colorbar": {
             "outlinewidth": 0,
             "ticks": ""
            },
            "colorscale": [
             [
              0,
              "#0d0887"
             ],
             [
              0.1111111111111111,
              "#46039f"
             ],
             [
              0.2222222222222222,
              "#7201a8"
             ],
             [
              0.3333333333333333,
              "#9c179e"
             ],
             [
              0.4444444444444444,
              "#bd3786"
             ],
             [
              0.5555555555555556,
              "#d8576b"
             ],
             [
              0.6666666666666666,
              "#ed7953"
             ],
             [
              0.7777777777777778,
              "#fb9f3a"
             ],
             [
              0.8888888888888888,
              "#fdca26"
             ],
             [
              1,
              "#f0f921"
             ]
            ],
            "type": "contour"
           }
          ],
          "contourcarpet": [
           {
            "colorbar": {
             "outlinewidth": 0,
             "ticks": ""
            },
            "type": "contourcarpet"
           }
          ],
          "heatmap": [
           {
            "colorbar": {
             "outlinewidth": 0,
             "ticks": ""
            },
            "colorscale": [
             [
              0,
              "#0d0887"
             ],
             [
              0.1111111111111111,
              "#46039f"
             ],
             [
              0.2222222222222222,
              "#7201a8"
             ],
             [
              0.3333333333333333,
              "#9c179e"
             ],
             [
              0.4444444444444444,
              "#bd3786"
             ],
             [
              0.5555555555555556,
              "#d8576b"
             ],
             [
              0.6666666666666666,
              "#ed7953"
             ],
             [
              0.7777777777777778,
              "#fb9f3a"
             ],
             [
              0.8888888888888888,
              "#fdca26"
             ],
             [
              1,
              "#f0f921"
             ]
            ],
            "type": "heatmap"
           }
          ],
          "heatmapgl": [
           {
            "colorbar": {
             "outlinewidth": 0,
             "ticks": ""
            },
            "colorscale": [
             [
              0,
              "#0d0887"
             ],
             [
              0.1111111111111111,
              "#46039f"
             ],
             [
              0.2222222222222222,
              "#7201a8"
             ],
             [
              0.3333333333333333,
              "#9c179e"
             ],
             [
              0.4444444444444444,
              "#bd3786"
             ],
             [
              0.5555555555555556,
              "#d8576b"
             ],
             [
              0.6666666666666666,
              "#ed7953"
             ],
             [
              0.7777777777777778,
              "#fb9f3a"
             ],
             [
              0.8888888888888888,
              "#fdca26"
             ],
             [
              1,
              "#f0f921"
             ]
            ],
            "type": "heatmapgl"
           }
          ],
          "histogram": [
           {
            "marker": {
             "pattern": {
              "fillmode": "overlay",
              "size": 10,
              "solidity": 0.2
             }
            },
            "type": "histogram"
           }
          ],
          "histogram2d": [
           {
            "colorbar": {
             "outlinewidth": 0,
             "ticks": ""
            },
            "colorscale": [
             [
              0,
              "#0d0887"
             ],
             [
              0.1111111111111111,
              "#46039f"
             ],
             [
              0.2222222222222222,
              "#7201a8"
             ],
             [
              0.3333333333333333,
              "#9c179e"
             ],
             [
              0.4444444444444444,
              "#bd3786"
             ],
             [
              0.5555555555555556,
              "#d8576b"
             ],
             [
              0.6666666666666666,
              "#ed7953"
             ],
             [
              0.7777777777777778,
              "#fb9f3a"
             ],
             [
              0.8888888888888888,
              "#fdca26"
             ],
             [
              1,
              "#f0f921"
             ]
            ],
            "type": "histogram2d"
           }
          ],
          "histogram2dcontour": [
           {
            "colorbar": {
             "outlinewidth": 0,
             "ticks": ""
            },
            "colorscale": [
             [
              0,
              "#0d0887"
             ],
             [
              0.1111111111111111,
              "#46039f"
             ],
             [
              0.2222222222222222,
              "#7201a8"
             ],
             [
              0.3333333333333333,
              "#9c179e"
             ],
             [
              0.4444444444444444,
              "#bd3786"
             ],
             [
              0.5555555555555556,
              "#d8576b"
             ],
             [
              0.6666666666666666,
              "#ed7953"
             ],
             [
              0.7777777777777778,
              "#fb9f3a"
             ],
             [
              0.8888888888888888,
              "#fdca26"
             ],
             [
              1,
              "#f0f921"
             ]
            ],
            "type": "histogram2dcontour"
           }
          ],
          "mesh3d": [
           {
            "colorbar": {
             "outlinewidth": 0,
             "ticks": ""
            },
            "type": "mesh3d"
           }
          ],
          "parcoords": [
           {
            "line": {
             "colorbar": {
              "outlinewidth": 0,
              "ticks": ""
             }
            },
            "type": "parcoords"
           }
          ],
          "pie": [
           {
            "automargin": true,
            "type": "pie"
           }
          ],
          "scatter": [
           {
            "fillpattern": {
             "fillmode": "overlay",
             "size": 10,
             "solidity": 0.2
            },
            "type": "scatter"
           }
          ],
          "scatter3d": [
           {
            "line": {
             "colorbar": {
              "outlinewidth": 0,
              "ticks": ""
             }
            },
            "marker": {
             "colorbar": {
              "outlinewidth": 0,
              "ticks": ""
             }
            },
            "type": "scatter3d"
           }
          ],
          "scattercarpet": [
           {
            "marker": {
             "colorbar": {
              "outlinewidth": 0,
              "ticks": ""
             }
            },
            "type": "scattercarpet"
           }
          ],
          "scattergeo": [
           {
            "marker": {
             "colorbar": {
              "outlinewidth": 0,
              "ticks": ""
             }
            },
            "type": "scattergeo"
           }
          ],
          "scattergl": [
           {
            "marker": {
             "colorbar": {
              "outlinewidth": 0,
              "ticks": ""
             }
            },
            "type": "scattergl"
           }
          ],
          "scattermapbox": [
           {
            "marker": {
             "colorbar": {
              "outlinewidth": 0,
              "ticks": ""
             }
            },
            "type": "scattermapbox"
           }
          ],
          "scatterpolar": [
           {
            "marker": {
             "colorbar": {
              "outlinewidth": 0,
              "ticks": ""
             }
            },
            "type": "scatterpolar"
           }
          ],
          "scatterpolargl": [
           {
            "marker": {
             "colorbar": {
              "outlinewidth": 0,
              "ticks": ""
             }
            },
            "type": "scatterpolargl"
           }
          ],
          "scatterternary": [
           {
            "marker": {
             "colorbar": {
              "outlinewidth": 0,
              "ticks": ""
             }
            },
            "type": "scatterternary"
           }
          ],
          "surface": [
           {
            "colorbar": {
             "outlinewidth": 0,
             "ticks": ""
            },
            "colorscale": [
             [
              0,
              "#0d0887"
             ],
             [
              0.1111111111111111,
              "#46039f"
             ],
             [
              0.2222222222222222,
              "#7201a8"
             ],
             [
              0.3333333333333333,
              "#9c179e"
             ],
             [
              0.4444444444444444,
              "#bd3786"
             ],
             [
              0.5555555555555556,
              "#d8576b"
             ],
             [
              0.6666666666666666,
              "#ed7953"
             ],
             [
              0.7777777777777778,
              "#fb9f3a"
             ],
             [
              0.8888888888888888,
              "#fdca26"
             ],
             [
              1,
              "#f0f921"
             ]
            ],
            "type": "surface"
           }
          ],
          "table": [
           {
            "cells": {
             "fill": {
              "color": "#EBF0F8"
             },
             "line": {
              "color": "white"
             }
            },
            "header": {
             "fill": {
              "color": "#C8D4E3"
             },
             "line": {
              "color": "white"
             }
            },
            "type": "table"
           }
          ]
         },
         "layout": {
          "annotationdefaults": {
           "arrowcolor": "#2a3f5f",
           "arrowhead": 0,
           "arrowwidth": 1
          },
          "autotypenumbers": "strict",
          "coloraxis": {
           "colorbar": {
            "outlinewidth": 0,
            "ticks": ""
           }
          },
          "colorscale": {
           "diverging": [
            [
             0,
             "#8e0152"
            ],
            [
             0.1,
             "#c51b7d"
            ],
            [
             0.2,
             "#de77ae"
            ],
            [
             0.3,
             "#f1b6da"
            ],
            [
             0.4,
             "#fde0ef"
            ],
            [
             0.5,
             "#f7f7f7"
            ],
            [
             0.6,
             "#e6f5d0"
            ],
            [
             0.7,
             "#b8e186"
            ],
            [
             0.8,
             "#7fbc41"
            ],
            [
             0.9,
             "#4d9221"
            ],
            [
             1,
             "#276419"
            ]
           ],
           "sequential": [
            [
             0,
             "#0d0887"
            ],
            [
             0.1111111111111111,
             "#46039f"
            ],
            [
             0.2222222222222222,
             "#7201a8"
            ],
            [
             0.3333333333333333,
             "#9c179e"
            ],
            [
             0.4444444444444444,
             "#bd3786"
            ],
            [
             0.5555555555555556,
             "#d8576b"
            ],
            [
             0.6666666666666666,
             "#ed7953"
            ],
            [
             0.7777777777777778,
             "#fb9f3a"
            ],
            [
             0.8888888888888888,
             "#fdca26"
            ],
            [
             1,
             "#f0f921"
            ]
           ],
           "sequentialminus": [
            [
             0,
             "#0d0887"
            ],
            [
             0.1111111111111111,
             "#46039f"
            ],
            [
             0.2222222222222222,
             "#7201a8"
            ],
            [
             0.3333333333333333,
             "#9c179e"
            ],
            [
             0.4444444444444444,
             "#bd3786"
            ],
            [
             0.5555555555555556,
             "#d8576b"
            ],
            [
             0.6666666666666666,
             "#ed7953"
            ],
            [
             0.7777777777777778,
             "#fb9f3a"
            ],
            [
             0.8888888888888888,
             "#fdca26"
            ],
            [
             1,
             "#f0f921"
            ]
           ]
          },
          "colorway": [
           "#636efa",
           "#EF553B",
           "#00cc96",
           "#ab63fa",
           "#FFA15A",
           "#19d3f3",
           "#FF6692",
           "#B6E880",
           "#FF97FF",
           "#FECB52"
          ],
          "font": {
           "color": "#2a3f5f"
          },
          "geo": {
           "bgcolor": "white",
           "lakecolor": "white",
           "landcolor": "#E5ECF6",
           "showlakes": true,
           "showland": true,
           "subunitcolor": "white"
          },
          "hoverlabel": {
           "align": "left"
          },
          "hovermode": "closest",
          "mapbox": {
           "style": "light"
          },
          "paper_bgcolor": "white",
          "plot_bgcolor": "#E5ECF6",
          "polar": {
           "angularaxis": {
            "gridcolor": "white",
            "linecolor": "white",
            "ticks": ""
           },
           "bgcolor": "#E5ECF6",
           "radialaxis": {
            "gridcolor": "white",
            "linecolor": "white",
            "ticks": ""
           }
          },
          "scene": {
           "xaxis": {
            "backgroundcolor": "#E5ECF6",
            "gridcolor": "white",
            "gridwidth": 2,
            "linecolor": "white",
            "showbackground": true,
            "ticks": "",
            "zerolinecolor": "white"
           },
           "yaxis": {
            "backgroundcolor": "#E5ECF6",
            "gridcolor": "white",
            "gridwidth": 2,
            "linecolor": "white",
            "showbackground": true,
            "ticks": "",
            "zerolinecolor": "white"
           },
           "zaxis": {
            "backgroundcolor": "#E5ECF6",
            "gridcolor": "white",
            "gridwidth": 2,
            "linecolor": "white",
            "showbackground": true,
            "ticks": "",
            "zerolinecolor": "white"
           }
          },
          "shapedefaults": {
           "line": {
            "color": "#2a3f5f"
           }
          },
          "ternary": {
           "aaxis": {
            "gridcolor": "white",
            "linecolor": "white",
            "ticks": ""
           },
           "baxis": {
            "gridcolor": "white",
            "linecolor": "white",
            "ticks": ""
           },
           "bgcolor": "#E5ECF6",
           "caxis": {
            "gridcolor": "white",
            "linecolor": "white",
            "ticks": ""
           }
          },
          "title": {
           "x": 0.05
          },
          "xaxis": {
           "automargin": true,
           "gridcolor": "white",
           "linecolor": "white",
           "ticks": "",
           "title": {
            "standoff": 15
           },
           "zerolinecolor": "white",
           "zerolinewidth": 2
          },
          "yaxis": {
           "automargin": true,
           "gridcolor": "white",
           "linecolor": "white",
           "ticks": "",
           "title": {
            "standoff": 15
           },
           "zerolinecolor": "white",
           "zerolinewidth": 2
          }
         }
        },
        "xaxis": {
         "autorange": true,
         "range": [
          -1.0117914936323398,
          1.120123106935551
         ],
         "showgrid": false,
         "type": "linear",
         "zeroline": false
        },
        "yaxis": {
         "autorange": true,
         "range": [
          -0.8913959744784463,
          0.972399048373798
         ],
         "showgrid": false,
         "type": "linear",
         "zeroline": false
        }
       }
      },
      "image/png": "[encoded data removed]",
      "text/html": [
       "<div>                            <div id=\"8a6e5d70-44b1-4625-944b-b429f409462d\" class=\"plotly-graph-div\" style=\"height:525px; width:100%;\"></div>            <script type=\"text/javascript\">                require([\"plotly\"], function(Plotly) {                    window.PLOTLYENV=window.PLOTLYENV || {};                                    if (document.getElementById(\"8a6e5d70-44b1-4625-944b-b429f409462d\")) {                    Plotly.newPlot(                        \"8a6e5d70-44b1-4625-944b-b429f409462d\",                        [{\"hoverinfo\":\"none\",\"line\":{\"color\":\"#888\",\"width\":2},\"mode\":\"lines\",\"x\":[0.07380994039807272,-0.44367421833404797,null],\"y\":[-0.7643436684148268,-0.30530745929905934,null],\"type\":\"scatter\"},{\"hoverinfo\":\"none\",\"line\":{\"color\":\"#888\",\"width\":2},\"mode\":\"lines\",\"x\":[0.07380994039807272,0.19048971508210819,null],\"y\":[-0.7643436684148268,-0.023473239880264445,null],\"type\":\"scatter\"},{\"hoverinfo\":\"none\",\"line\":{\"color\":\"#888\",\"width\":2},\"mode\":\"lines\",\"x\":[0.07380994039807272,-0.8916683866967886,null],\"y\":[-0.7643436684148268,-0.24112922264403974,null],\"type\":\"scatter\"},{\"hoverinfo\":\"none\",\"line\":{\"color\":\"#888\",\"width\":2},\"mode\":\"lines\",\"x\":[0.07380994039807272,0.47536174780173535,null],\"y\":[-0.7643436684148268,0.17384201826717366,null],\"type\":\"scatter\"},{\"hoverinfo\":\"none\",\"line\":{\"color\":\"#888\",\"width\":2},\"mode\":\"lines\",\"x\":[0.07380994039807272,0.49558355970031304,null],\"y\":[-0.7643436684148268,-0.5556351234767709,null],\"type\":\"scatter\"},{\"hoverinfo\":\"none\",\"line\":{\"color\":\"#888\",\"width\":2},\"mode\":\"lines\",\"x\":[0.07380994039807272,-0.5370477231467041,null],\"y\":[-0.7643436684148268,-0.5847943483113252,null],\"type\":\"scatter\"},{\"hoverinfo\":\"none\",\"line\":{\"color\":\"#888\",\"width\":2},\"mode\":\"lines\",\"x\":[0.07380994039807272,-0.05880442059057152,null],\"y\":[-0.7643436684148268,0.07641271493525108,null],\"type\":\"scatter\"},{\"hoverinfo\":\"none\",\"line\":{\"color\":\"#888\",\"width\":2},\"mode\":\"lines\",\"x\":[0.07380994039807272,0.822613772043669,null],\"y\":[-0.7643436684148268,-0.31623675819108193,null],\"type\":\"scatter\"},{\"hoverinfo\":\"none\",\"line\":{\"color\":\"#888\",\"width\":2},\"mode\":\"lines\",\"x\":[0.07380994039807272,-0.0941824277881769,null],\"y\":[-0.7643436684148268,-0.22411308552821146,null],\"type\":\"scatter\"},{\"hoverinfo\":\"none\",\"line\":{\"color\":\"#888\",\"width\":2},\"mode\":\"lines\",\"x\":[-0.44367421833404797,0.47536174780173535,null],\"y\":[-0.30530745929905934,0.17384201826717366,null],\"type\":\"scatter\"},{\"hoverinfo\":\"none\",\"line\":{\"color\":\"#888\",\"width\":2},\"mode\":\"lines\",\"x\":[-0.44367421833404797,-0.4685346086283285,null],\"y\":[-0.30530745929905934,0.5477183357693076,null],\"type\":\"scatter\"},{\"hoverinfo\":\"none\",\"line\":{\"color\":\"#888\",\"width\":2},\"mode\":\"lines\",\"x\":[-0.44367421833404797,0.49558355970031304,null],\"y\":[-0.30530745929905934,-0.5556351234767709,null],\"type\":\"scatter\"},{\"hoverinfo\":\"none\",\"line\":{\"color\":\"#888\",\"width\":2},\"mode\":\"lines\",\"x\":[-0.44367421833404797,-0.5370477231467041,null],\"y\":[-0.30530745929905934,-0.5847943483113252,null],\"type\":\"scatter\"},{\"hoverinfo\":\"none\",\"line\":{\"color\":\"#888\",\"width\":2},\"mode\":\"lines\",\"x\":[-0.44367421833404797,-0.05880442059057152,null],\"y\":[-0.30530745929905934,0.07641271493525108,null],\"type\":\"scatter\"},{\"hoverinfo\":\"none\",\"line\":{\"color\":\"#888\",\"width\":2},\"mode\":\"lines\",\"x\":[-0.44367421833404797,-0.2786507507185324,null],\"y\":[-0.30530745929905934,0.3893324471159803,null],\"type\":\"scatter\"},{\"hoverinfo\":\"none\",\"line\":{\"color\":\"#888\",\"width\":2},\"mode\":\"lines\",\"x\":[-0.44367421833404797,-0.6737230049102517,null],\"y\":[-0.30530745929905934,0.08353458761556384,null],\"type\":\"scatter\"},{\"hoverinfo\":\"none\",\"line\":{\"color\":\"#888\",\"width\":2},\"mode\":\"lines\",\"x\":[-0.44367421833404797,-0.0941824277881769,null],\"y\":[-0.30530745929905934,-0.22411308552821146,null],\"type\":\"scatter\"},{\"hoverinfo\":\"none\",\"line\":{\"color\":\"#888\",\"width\":2},\"mode\":\"lines\",\"x\":[0.19048971508210819,0.1223600404657923,null],\"y\":[-0.023473239880264445,0.8453467423101785,null],\"type\":\"scatter\"},{\"hoverinfo\":\"none\",\"line\":{\"color\":\"#888\",\"width\":2},\"mode\":\"lines\",\"x\":[0.19048971508210819,0.4227450472628082,null],\"y\":[-0.023473239880264445,0.5075711985727804,null],\"type\":\"scatter\"},{\"hoverinfo\":\"none\",\"line\":{\"color\":\"#888\",\"width\":2},\"mode\":\"lines\",\"x\":[0.19048971508210819,-0.2035157985555126,null],\"y\":[-0.023473239880264445,-0.49541789951145637,null],\"type\":\"scatter\"},{\"hoverinfo\":\"none\",\"line\":{\"color\":\"#888\",\"width\":2},\"mode\":\"lines\",\"x\":[0.19048971508210819,-0.372180449855639,null],\"y\":[-0.023473239880264445,0.11740039075280125,null],\"type\":\"scatter\"},{\"hoverinfo\":\"none\",\"line\":{\"color\":\"#888\",\"width\":2},\"mode\":\"lines\",\"x\":[0.19048971508210819,0.47536174780173535,null],\"y\":[-0.023473239880264445,0.17384201826717366,null],\"type\":\"scatter\"},{\"hoverinfo\":\"none\",\"line\":{\"color\":\"#888\",\"width\":2},\"mode\":\"lines\",\"x\":[0.19048971508210819,-0.4685346086283285,null],\"y\":[-0.023473239880264445,0.5477183357693076,null],\"type\":\"scatter\"},{\"hoverinfo\":\"none\",\"line\":{\"color\":\"#888\",\"width\":2},\"mode\":\"lines\",\"x\":[0.19048971508210819,0.49558355970031304,null],\"y\":[-0.023473239880264445,-0.5556351234767709,null],\"type\":\"scatter\"},{\"hoverinfo\":\"none\",\"line\":{\"color\":\"#888\",\"width\":2},\"mode\":\"lines\",\"x\":[0.19048971508210819,-0.5370477231467041,null],\"y\":[-0.023473239880264445,-0.5847943483113252,null],\"type\":\"scatter\"},{\"hoverinfo\":\"none\",\"line\":{\"color\":\"#888\",\"width\":2},\"mode\":\"lines\",\"x\":[0.19048971508210819,-0.05880442059057152,null],\"y\":[-0.023473239880264445,0.07641271493525108,null],\"type\":\"scatter\"},{\"hoverinfo\":\"none\",\"line\":{\"color\":\"#888\",\"width\":2},\"mode\":\"lines\",\"x\":[0.19048971508210819,0.822613772043669,null],\"y\":[-0.023473239880264445,-0.31623675819108193,null],\"type\":\"scatter\"},{\"hoverinfo\":\"none\",\"line\":{\"color\":\"#888\",\"width\":2},\"mode\":\"lines\",\"x\":[0.19048971508210819,-0.2786507507185324,null],\"y\":[-0.023473239880264445,0.3893324471159803,null],\"type\":\"scatter\"},{\"hoverinfo\":\"none\",\"line\":{\"color\":\"#888\",\"width\":2},\"mode\":\"lines\",\"x\":[0.19048971508210819,0.42093251740551585,null],\"y\":[-0.023473239880264445,-0.14848596426199995,null],\"type\":\"scatter\"},{\"hoverinfo\":\"none\",\"line\":{\"color\":\"#888\",\"width\":2},\"mode\":\"lines\",\"x\":[-0.8916683866967886,-0.2035157985555126,null],\"y\":[-0.24112922264403974,-0.49541789951145637,null],\"type\":\"scatter\"},{\"hoverinfo\":\"none\",\"line\":{\"color\":\"#888\",\"width\":2},\"mode\":\"lines\",\"x\":[-0.8916683866967886,-0.372180449855639,null],\"y\":[-0.24112922264403974,0.11740039075280125,null],\"type\":\"scatter\"},{\"hoverinfo\":\"none\",\"line\":{\"color\":\"#888\",\"width\":2},\"mode\":\"lines\",\"x\":[-0.8916683866967886,-0.4685346086283285,null],\"y\":[-0.24112922264403974,0.5477183357693076,null],\"type\":\"scatter\"},{\"hoverinfo\":\"none\",\"line\":{\"color\":\"#888\",\"width\":2},\"mode\":\"lines\",\"x\":[-0.8916683866967886,-0.5370477231467041,null],\"y\":[-0.24112922264403974,-0.5847943483113252,null],\"type\":\"scatter\"},{\"hoverinfo\":\"none\",\"line\":{\"color\":\"#888\",\"width\":2},\"mode\":\"lines\",\"x\":[-0.8916683866967886,-0.0019145509354600938,null],\"y\":[-0.24112922264403974,0.5182863599933571,null],\"type\":\"scatter\"},{\"hoverinfo\":\"none\",\"line\":{\"color\":\"#888\",\"width\":2},\"mode\":\"lines\",\"x\":[-0.8916683866967886,-0.6737230049102517,null],\"y\":[-0.24112922264403974,0.08353458761556384,null],\"type\":\"scatter\"},{\"hoverinfo\":\"none\",\"line\":{\"color\":\"#888\",\"width\":2},\"mode\":\"lines\",\"x\":[-0.8916683866967886,-0.0941824277881769,null],\"y\":[-0.24112922264403974,-0.22411308552821146,null],\"type\":\"scatter\"},{\"hoverinfo\":\"none\",\"line\":{\"color\":\"#888\",\"width\":2},\"mode\":\"lines\",\"x\":[0.47536174780173535,0.4227450472628082,null],\"y\":[0.17384201826717366,0.5075711985727804,null],\"type\":\"scatter\"},{\"hoverinfo\":\"none\",\"line\":{\"color\":\"#888\",\"width\":2},\"mode\":\"lines\",\"x\":[0.47536174780173535,-0.4685346086283285,null],\"y\":[0.17384201826717366,0.5477183357693076,null],\"type\":\"scatter\"},{\"hoverinfo\":\"none\",\"line\":{\"color\":\"#888\",\"width\":2},\"mode\":\"lines\",\"x\":[0.47536174780173535,0.822613772043669,null],\"y\":[0.17384201826717366,-0.31623675819108193,null],\"type\":\"scatter\"},{\"hoverinfo\":\"none\",\"line\":{\"color\":\"#888\",\"width\":2},\"mode\":\"lines\",\"x\":[0.47536174780173535,-0.2786507507185324,null],\"y\":[0.17384201826717366,0.3893324471159803,null],\"type\":\"scatter\"},{\"hoverinfo\":\"none\",\"line\":{\"color\":\"#888\",\"width\":2},\"mode\":\"lines\",\"x\":[0.47536174780173535,-0.0019145509354600938,null],\"y\":[0.17384201826717366,0.5182863599933571,null],\"type\":\"scatter\"},{\"hoverinfo\":\"none\",\"line\":{\"color\":\"#888\",\"width\":2},\"mode\":\"lines\",\"x\":[0.47536174780173535,0.42093251740551585,null],\"y\":[0.17384201826717366,-0.14848596426199995,null],\"type\":\"scatter\"},{\"hoverinfo\":\"none\",\"line\":{\"color\":\"#888\",\"width\":2},\"mode\":\"lines\",\"x\":[0.49558355970031304,-0.372180449855639,null],\"y\":[-0.5556351234767709,0.11740039075280125,null],\"type\":\"scatter\"},{\"hoverinfo\":\"none\",\"line\":{\"color\":\"#888\",\"width\":2},\"mode\":\"lines\",\"x\":[0.49558355970031304,0.9999999999999999,null],\"y\":[-0.5556351234767709,0.39949197418664456,null],\"type\":\"scatter\"},{\"hoverinfo\":\"none\",\"line\":{\"color\":\"#888\",\"width\":2},\"mode\":\"lines\",\"x\":[0.49558355970031304,-0.05880442059057152,null],\"y\":[-0.5556351234767709,0.07641271493525108,null],\"type\":\"scatter\"},{\"hoverinfo\":\"none\",\"line\":{\"color\":\"#888\",\"width\":2},\"mode\":\"lines\",\"x\":[0.49558355970031304,0.42093251740551585,null],\"y\":[-0.5556351234767709,-0.14848596426199995,null],\"type\":\"scatter\"},{\"hoverinfo\":\"none\",\"line\":{\"color\":\"#888\",\"width\":2},\"mode\":\"lines\",\"x\":[-0.5370477231467041,-0.2035157985555126,null],\"y\":[-0.5847943483113252,-0.49541789951145637,null],\"type\":\"scatter\"},{\"hoverinfo\":\"none\",\"line\":{\"color\":\"#888\",\"width\":2},\"mode\":\"lines\",\"x\":[-0.5370477231467041,-0.372180449855639,null],\"y\":[-0.5847943483113252,0.11740039075280125,null],\"type\":\"scatter\"},{\"hoverinfo\":\"none\",\"line\":{\"color\":\"#888\",\"width\":2},\"mode\":\"lines\",\"x\":[-0.5370477231467041,-0.05880442059057152,null],\"y\":[-0.5847943483113252,0.07641271493525108,null],\"type\":\"scatter\"},{\"hoverinfo\":\"none\",\"line\":{\"color\":\"#888\",\"width\":2},\"mode\":\"lines\",\"x\":[-0.5370477231467041,-0.2786507507185324,null],\"y\":[-0.5847943483113252,0.3893324471159803,null],\"type\":\"scatter\"},{\"hoverinfo\":\"none\",\"line\":{\"color\":\"#888\",\"width\":2},\"mode\":\"lines\",\"x\":[-0.5370477231467041,-0.6737230049102517,null],\"y\":[-0.5847943483113252,0.08353458761556384,null],\"type\":\"scatter\"},{\"hoverinfo\":\"none\",\"line\":{\"color\":\"#888\",\"width\":2},\"mode\":\"lines\",\"x\":[-0.5370477231467041,0.42093251740551585,null],\"y\":[-0.5847943483113252,-0.14848596426199995,null],\"type\":\"scatter\"},{\"hoverinfo\":\"none\",\"line\":{\"color\":\"#888\",\"width\":2},\"mode\":\"lines\",\"x\":[-0.05880442059057152,0.1223600404657923,null],\"y\":[0.07641271493525108,0.8453467423101785,null],\"type\":\"scatter\"},{\"hoverinfo\":\"none\",\"line\":{\"color\":\"#888\",\"width\":2},\"mode\":\"lines\",\"x\":[-0.05880442059057152,0.4227450472628082,null],\"y\":[0.07641271493525108,0.5075711985727804,null],\"type\":\"scatter\"},{\"hoverinfo\":\"none\",\"line\":{\"color\":\"#888\",\"width\":2},\"mode\":\"lines\",\"x\":[-0.05880442059057152,-0.4685346086283285,null],\"y\":[0.07641271493525108,0.5477183357693076,null],\"type\":\"scatter\"},{\"hoverinfo\":\"none\",\"line\":{\"color\":\"#888\",\"width\":2},\"mode\":\"lines\",\"x\":[-0.05880442059057152,-0.2786507507185324,null],\"y\":[0.07641271493525108,0.3893324471159803,null],\"type\":\"scatter\"},{\"hoverinfo\":\"none\",\"line\":{\"color\":\"#888\",\"width\":2},\"mode\":\"lines\",\"x\":[-0.05880442059057152,-0.0019145509354600938,null],\"y\":[0.07641271493525108,0.5182863599933571,null],\"type\":\"scatter\"},{\"hoverinfo\":\"none\",\"line\":{\"color\":\"#888\",\"width\":2},\"mode\":\"lines\",\"x\":[-0.05880442059057152,-0.6737230049102517,null],\"y\":[0.07641271493525108,0.08353458761556384,null],\"type\":\"scatter\"},{\"hoverinfo\":\"none\",\"line\":{\"color\":\"#888\",\"width\":2},\"mode\":\"lines\",\"x\":[-0.05880442059057152,0.42093251740551585,null],\"y\":[0.07641271493525108,-0.14848596426199995,null],\"type\":\"scatter\"},{\"hoverinfo\":\"none\",\"line\":{\"color\":\"#888\",\"width\":2},\"mode\":\"lines\",\"x\":[-0.05880442059057152,-0.0941824277881769,null],\"y\":[0.07641271493525108,-0.22411308552821146,null],\"type\":\"scatter\"},{\"hoverinfo\":\"none\",\"line\":{\"color\":\"#888\",\"width\":2},\"mode\":\"lines\",\"x\":[0.822613772043669,0.4227450472628082,null],\"y\":[-0.31623675819108193,0.5075711985727804,null],\"type\":\"scatter\"},{\"hoverinfo\":\"none\",\"line\":{\"color\":\"#888\",\"width\":2},\"mode\":\"lines\",\"x\":[0.822613772043669,-0.2035157985555126,null],\"y\":[-0.31623675819108193,-0.49541789951145637,null],\"type\":\"scatter\"},{\"hoverinfo\":\"none\",\"line\":{\"color\":\"#888\",\"width\":2},\"mode\":\"lines\",\"x\":[0.822613772043669,0.9999999999999999,null],\"y\":[-0.31623675819108193,0.39949197418664456,null],\"type\":\"scatter\"},{\"hoverinfo\":\"none\",\"line\":{\"color\":\"#888\",\"width\":2},\"mode\":\"lines\",\"x\":[0.822613772043669,0.42093251740551585,null],\"y\":[-0.31623675819108193,-0.14848596426199995,null],\"type\":\"scatter\"},{\"hoverinfo\":\"none\",\"line\":{\"color\":\"#888\",\"width\":2},\"mode\":\"lines\",\"x\":[0.822613772043669,-0.0941824277881769,null],\"y\":[-0.31623675819108193,-0.22411308552821146,null],\"type\":\"scatter\"},{\"hoverinfo\":\"none\",\"line\":{\"color\":\"#888\",\"width\":2},\"mode\":\"lines\",\"x\":[-0.0941824277881769,0.1223600404657923,null],\"y\":[-0.22411308552821146,0.8453467423101785,null],\"type\":\"scatter\"},{\"hoverinfo\":\"none\",\"line\":{\"color\":\"#888\",\"width\":2},\"mode\":\"lines\",\"x\":[-0.0941824277881769,-0.2035157985555126,null],\"y\":[-0.22411308552821146,-0.49541789951145637,null],\"type\":\"scatter\"},{\"hoverinfo\":\"none\",\"line\":{\"color\":\"#888\",\"width\":2},\"mode\":\"lines\",\"x\":[-0.0941824277881769,-0.372180449855639,null],\"y\":[-0.22411308552821146,0.11740039075280125,null],\"type\":\"scatter\"},{\"hoverinfo\":\"none\",\"line\":{\"color\":\"#888\",\"width\":2},\"mode\":\"lines\",\"x\":[-0.0941824277881769,-0.0019145509354600938,null],\"y\":[-0.22411308552821146,0.5182863599933571,null],\"type\":\"scatter\"},{\"hoverinfo\":\"none\",\"line\":{\"color\":\"#888\",\"width\":2},\"mode\":\"lines\",\"x\":[-0.0941824277881769,-0.6737230049102517,null],\"y\":[-0.22411308552821146,0.08353458761556384,null],\"type\":\"scatter\"},{\"hoverinfo\":\"none\",\"line\":{\"color\":\"#888\",\"width\":2},\"mode\":\"lines\",\"x\":[0.1223600404657923,-0.372180449855639,null],\"y\":[0.8453467423101785,0.11740039075280125,null],\"type\":\"scatter\"},{\"hoverinfo\":\"none\",\"line\":{\"color\":\"#888\",\"width\":2},\"mode\":\"lines\",\"x\":[0.1223600404657923,-0.4685346086283285,null],\"y\":[0.8453467423101785,0.5477183357693076,null],\"type\":\"scatter\"},{\"hoverinfo\":\"none\",\"line\":{\"color\":\"#888\",\"width\":2},\"mode\":\"lines\",\"x\":[0.1223600404657923,0.9999999999999999,null],\"y\":[0.8453467423101785,0.39949197418664456,null],\"type\":\"scatter\"},{\"hoverinfo\":\"none\",\"line\":{\"color\":\"#888\",\"width\":2},\"mode\":\"lines\",\"x\":[0.1223600404657923,-0.2786507507185324,null],\"y\":[0.8453467423101785,0.3893324471159803,null],\"type\":\"scatter\"},{\"hoverinfo\":\"none\",\"line\":{\"color\":\"#888\",\"width\":2},\"mode\":\"lines\",\"x\":[0.1223600404657923,-0.0019145509354600938,null],\"y\":[0.8453467423101785,0.5182863599933571,null],\"type\":\"scatter\"},{\"hoverinfo\":\"none\",\"line\":{\"color\":\"#888\",\"width\":2},\"mode\":\"lines\",\"x\":[-0.372180449855639,0.4227450472628082,null],\"y\":[0.11740039075280125,0.5075711985727804,null],\"type\":\"scatter\"},{\"hoverinfo\":\"none\",\"line\":{\"color\":\"#888\",\"width\":2},\"mode\":\"lines\",\"x\":[-0.372180449855639,-0.2035157985555126,null],\"y\":[0.11740039075280125,-0.49541789951145637,null],\"type\":\"scatter\"},{\"hoverinfo\":\"none\",\"line\":{\"color\":\"#888\",\"width\":2},\"mode\":\"lines\",\"x\":[-0.372180449855639,-0.4685346086283285,null],\"y\":[0.11740039075280125,0.5477183357693076,null],\"type\":\"scatter\"},{\"hoverinfo\":\"none\",\"line\":{\"color\":\"#888\",\"width\":2},\"mode\":\"lines\",\"x\":[-0.372180449855639,-0.0019145509354600938,null],\"y\":[0.11740039075280125,0.5182863599933571,null],\"type\":\"scatter\"},{\"hoverinfo\":\"none\",\"line\":{\"color\":\"#888\",\"width\":2},\"mode\":\"lines\",\"x\":[-0.4685346086283285,-0.0019145509354600938,null],\"y\":[0.5477183357693076,0.5182863599933571,null],\"type\":\"scatter\"},{\"hoverinfo\":\"none\",\"line\":{\"color\":\"#888\",\"width\":2},\"mode\":\"lines\",\"x\":[-0.4685346086283285,-0.6737230049102517,null],\"y\":[0.5477183357693076,0.08353458761556384,null],\"type\":\"scatter\"},{\"hoverinfo\":\"none\",\"line\":{\"color\":\"#888\",\"width\":2},\"mode\":\"lines\",\"x\":[-0.4685346086283285,0.42093251740551585,null],\"y\":[0.5477183357693076,-0.14848596426199995,null],\"type\":\"scatter\"},{\"hoverinfo\":\"none\",\"line\":{\"color\":\"#888\",\"width\":2},\"mode\":\"lines\",\"x\":[0.9999999999999999,0.4227450472628082,null],\"y\":[0.39949197418664456,0.5075711985727804,null],\"type\":\"scatter\"},{\"hoverinfo\":\"none\",\"line\":{\"color\":\"#888\",\"width\":2},\"mode\":\"lines\",\"x\":[0.9999999999999999,-0.0019145509354600938,null],\"y\":[0.39949197418664456,0.5182863599933571,null],\"type\":\"scatter\"},{\"hoverinfo\":\"none\",\"line\":{\"color\":\"#888\",\"width\":2},\"mode\":\"lines\",\"x\":[0.9999999999999999,0.42093251740551585,null],\"y\":[0.39949197418664456,-0.14848596426199995,null],\"type\":\"scatter\"},{\"hoverinfo\":\"none\",\"line\":{\"color\":\"#888\",\"width\":2},\"mode\":\"lines\",\"x\":[-0.2786507507185324,0.4227450472628082,null],\"y\":[0.3893324471159803,0.5075711985727804,null],\"type\":\"scatter\"},{\"hoverinfo\":\"none\",\"line\":{\"color\":\"#888\",\"width\":2},\"mode\":\"lines\",\"x\":[-0.2786507507185324,-0.2035157985555126,null],\"y\":[0.3893324471159803,-0.49541789951145637,null],\"type\":\"scatter\"},{\"hoverinfo\":\"none\",\"line\":{\"color\":\"#888\",\"width\":2},\"mode\":\"lines\",\"x\":[-0.2786507507185324,-0.0019145509354600938,null],\"y\":[0.3893324471159803,0.5182863599933571,null],\"type\":\"scatter\"},{\"hoverinfo\":\"none\",\"line\":{\"color\":\"#888\",\"width\":2},\"mode\":\"lines\",\"x\":[-0.2786507507185324,-0.6737230049102517,null],\"y\":[0.3893324471159803,0.08353458761556384,null],\"type\":\"scatter\"},{\"hoverinfo\":\"none\",\"line\":{\"color\":\"#888\",\"width\":2},\"mode\":\"lines\",\"x\":[-0.0019145509354600938,0.4227450472628082,null],\"y\":[0.5182863599933571,0.5075711985727804,null],\"type\":\"scatter\"},{\"hoverinfo\":\"none\",\"line\":{\"color\":\"#888\",\"width\":2},\"mode\":\"lines\",\"x\":[-0.0019145509354600938,-0.2035157985555126,null],\"y\":[0.5182863599933571,-0.49541789951145637,null],\"type\":\"scatter\"},{\"hoverinfo\":\"none\",\"line\":{\"color\":\"#888\",\"width\":2},\"mode\":\"lines\",\"x\":[0.4227450472628082,-0.6737230049102517,null],\"y\":[0.5075711985727804,0.08353458761556384,null],\"type\":\"scatter\"},{\"hoverinfo\":\"none\",\"line\":{\"color\":\"#888\",\"width\":2},\"mode\":\"lines\",\"x\":[0.4227450472628082,0.42093251740551585,null],\"y\":[0.5075711985727804,-0.14848596426199995,null],\"type\":\"scatter\"},{\"hoverinfo\":\"none\",\"line\":{\"color\":\"#888\",\"width\":2},\"mode\":\"lines\",\"x\":[-0.6737230049102517,-0.2035157985555126,null],\"y\":[0.08353458761556384,-0.49541789951145637,null],\"type\":\"scatter\"},{\"hoverinfo\":\"none\",\"line\":{\"color\":\"#888\",\"width\":2},\"mode\":\"lines\",\"x\":[-0.6737230049102517,0.42093251740551585,null],\"y\":[0.08353458761556384,-0.14848596426199995,null],\"type\":\"scatter\"},{\"hoverinfo\":\"text\",\"marker\":{\"colorbar\":{\"thickness\":15,\"title\":{\"side\":\"right\",\"text\":\"Node Connections\"},\"xanchor\":\"left\"},\"colorscale\":[[0.0,\"rgb(255,255,217)\"],[0.125,\"rgb(237,248,177)\"],[0.25,\"rgb(199,233,180)\"],[0.375,\"rgb(127,205,187)\"],[0.5,\"rgb(65,182,196)\"],[0.625,\"rgb(29,145,192)\"],[0.75,\"rgb(34,94,168)\"],[0.875,\"rgb(37,52,148)\"],[1.0,\"rgb(8,29,88)\"]],\"showscale\":true,\"size\":10},\"mode\":\"markers+text\",\"text\":[\"0\",\"3\",\"6\",\"7\",\"8\",\"11\",\"12\",\"13\",\"14\",\"19\",\"1\",\"5\",\"9\",\"10\",\"15\",\"16\",\"2\",\"17\",\"18\",\"4\"],\"textposition\":\"top center\",\"x\":[0.07380994039807272,-0.44367421833404797,0.19048971508210819,-0.8916683866967886,0.47536174780173535,0.49558355970031304,-0.5370477231467041,-0.05880442059057152,0.822613772043669,-0.0941824277881769,0.1223600404657923,-0.372180449855639,-0.4685346086283285,0.9999999999999999,-0.2786507507185324,-0.0019145509354600938,0.4227450472628082,-0.6737230049102517,0.42093251740551585,-0.2035157985555126],\"y\":[-0.7643436684148268,-0.30530745929905934,-0.023473239880264445,-0.24112922264403974,0.17384201826717366,-0.5556351234767709,-0.5847943483113252,0.07641271493525108,-0.31623675819108193,-0.22411308552821146,0.8453467423101785,0.11740039075280125,0.5477183357693076,0.39949197418664456,0.3893324471159803,0.5182863599933571,0.5075711985727804,0.08353458761556384,-0.14848596426199995,-0.49541789951145637],\"type\":\"scatter\"}],                        {\"hovermode\":\"closest\",\"margin\":{\"b\":0,\"l\":0,\"r\":0,\"t\":0},\"showlegend\":false,\"template\":{\"data\":{\"barpolar\":[{\"marker\":{\"line\":{\"color\":\"#E5ECF6\",\"width\":0.5},\"pattern\":{\"fillmode\":\"overlay\",\"size\":10,\"solidity\":0.2}},\"type\":\"barpolar\"}],\"bar\":[{\"error_x\":{\"color\":\"#2a3f5f\"},\"error_y\":{\"color\":\"#2a3f5f\"},\"marker\":{\"line\":{\"color\":\"#E5ECF6\",\"width\":0.5},\"pattern\":{\"fillmode\":\"overlay\",\"size\":10,\"solidity\":0.2}},\"type\":\"bar\"}],\"carpet\":[{\"aaxis\":{\"endlinecolor\":\"#2a3f5f\",\"gridcolor\":\"white\",\"linecolor\":\"white\",\"minorgridcolor\":\"white\",\"startlinecolor\":\"#2a3f5f\"},\"baxis\":{\"endlinecolor\":\"#2a3f5f\",\"gridcolor\":\"white\",\"linecolor\":\"white\",\"minorgridcolor\":\"white\",\"startlinecolor\":\"#2a3f5f\"},\"type\":\"carpet\"}],\"choropleth\":[{\"colorbar\":{\"outlinewidth\":0,\"ticks\":\"\"},\"type\":\"choropleth\"}],\"contourcarpet\":[{\"colorbar\":{\"outlinewidth\":0,\"ticks\":\"\"},\"type\":\"contourcarpet\"}],\"contour\":[{\"colorbar\":{\"outlinewidth\":0,\"ticks\":\"\"},\"colorscale\":[[0.0,\"#0d0887\"],[0.1111111111111111,\"#46039f\"],[0.2222222222222222,\"#7201a8\"],[0.3333333333333333,\"#9c179e\"],[0.4444444444444444,\"#bd3786\"],[0.5555555555555556,\"#d8576b\"],[0.6666666666666666,\"#ed7953\"],[0.7777777777777778,\"#fb9f3a\"],[0.8888888888888888,\"#fdca26\"],[1.0,\"#f0f921\"]],\"type\":\"contour\"}],\"heatmapgl\":[{\"colorbar\":{\"outlinewidth\":0,\"ticks\":\"\"},\"colorscale\":[[0.0,\"#0d0887\"],[0.1111111111111111,\"#46039f\"],[0.2222222222222222,\"#7201a8\"],[0.3333333333333333,\"#9c179e\"],[0.4444444444444444,\"#bd3786\"],[0.5555555555555556,\"#d8576b\"],[0.6666666666666666,\"#ed7953\"],[0.7777777777777778,\"#fb9f3a\"],[0.8888888888888888,\"#fdca26\"],[1.0,\"#f0f921\"]],\"type\":\"heatmapgl\"}],\"heatmap\":[{\"colorbar\":{\"outlinewidth\":0,\"ticks\":\"\"},\"colorscale\":[[0.0,\"#0d0887\"],[0.1111111111111111,\"#46039f\"],[0.2222222222222222,\"#7201a8\"],[0.3333333333333333,\"#9c179e\"],[0.4444444444444444,\"#bd3786\"],[0.5555555555555556,\"#d8576b\"],[0.6666666666666666,\"#ed7953\"],[0.7777777777777778,\"#fb9f3a\"],[0.8888888888888888,\"#fdca26\"],[1.0,\"#f0f921\"]],\"type\":\"heatmap\"}],\"histogram2dcontour\":[{\"colorbar\":{\"outlinewidth\":0,\"ticks\":\"\"},\"colorscale\":[[0.0,\"#0d0887\"],[0.1111111111111111,\"#46039f\"],[0.2222222222222222,\"#7201a8\"],[0.3333333333333333,\"#9c179e\"],[0.4444444444444444,\"#bd3786\"],[0.5555555555555556,\"#d8576b\"],[0.6666666666666666,\"#ed7953\"],[0.7777777777777778,\"#fb9f3a\"],[0.8888888888888888,\"#fdca26\"],[1.0,\"#f0f921\"]],\"type\":\"histogram2dcontour\"}],\"histogram2d\":[{\"colorbar\":{\"outlinewidth\":0,\"ticks\":\"\"},\"colorscale\":[[0.0,\"#0d0887\"],[0.1111111111111111,\"#46039f\"],[0.2222222222222222,\"#7201a8\"],[0.3333333333333333,\"#9c179e\"],[0.4444444444444444,\"#bd3786\"],[0.5555555555555556,\"#d8576b\"],[0.6666666666666666,\"#ed7953\"],[0.7777777777777778,\"#fb9f3a\"],[0.8888888888888888,\"#fdca26\"],[1.0,\"#f0f921\"]],\"type\":\"histogram2d\"}],\"histogram\":[{\"marker\":{\"pattern\":{\"fillmode\":\"overlay\",\"size\":10,\"solidity\":0.2}},\"type\":\"histogram\"}],\"mesh3d\":[{\"colorbar\":{\"outlinewidth\":0,\"ticks\":\"\"},\"type\":\"mesh3d\"}],\"parcoords\":[{\"line\":{\"colorbar\":{\"outlinewidth\":0,\"ticks\":\"\"}},\"type\":\"parcoords\"}],\"pie\":[{\"automargin\":true,\"type\":\"pie\"}],\"scatter3d\":[{\"line\":{\"colorbar\":{\"outlinewidth\":0,\"ticks\":\"\"}},\"marker\":{\"colorbar\":{\"outlinewidth\":0,\"ticks\":\"\"}},\"type\":\"scatter3d\"}],\"scattercarpet\":[{\"marker\":{\"colorbar\":{\"outlinewidth\":0,\"ticks\":\"\"}},\"type\":\"scattercarpet\"}],\"scattergeo\":[{\"marker\":{\"colorbar\":{\"outlinewidth\":0,\"ticks\":\"\"}},\"type\":\"scattergeo\"}],\"scattergl\":[{\"marker\":{\"colorbar\":{\"outlinewidth\":0,\"ticks\":\"\"}},\"type\":\"scattergl\"}],\"scattermapbox\":[{\"marker\":{\"colorbar\":{\"outlinewidth\":0,\"ticks\":\"\"}},\"type\":\"scattermapbox\"}],\"scatterpolargl\":[{\"marker\":{\"colorbar\":{\"outlinewidth\":0,\"ticks\":\"\"}},\"type\":\"scatterpolargl\"}],\"scatterpolar\":[{\"marker\":{\"colorbar\":{\"outlinewidth\":0,\"ticks\":\"\"}},\"type\":\"scatterpolar\"}],\"scatter\":[{\"fillpattern\":{\"fillmode\":\"overlay\",\"size\":10,\"solidity\":0.2},\"type\":\"scatter\"}],\"scatterternary\":[{\"marker\":{\"colorbar\":{\"outlinewidth\":0,\"ticks\":\"\"}},\"type\":\"scatterternary\"}],\"surface\":[{\"colorbar\":{\"outlinewidth\":0,\"ticks\":\"\"},\"colorscale\":[[0.0,\"#0d0887\"],[0.1111111111111111,\"#46039f\"],[0.2222222222222222,\"#7201a8\"],[0.3333333333333333,\"#9c179e\"],[0.4444444444444444,\"#bd3786\"],[0.5555555555555556,\"#d8576b\"],[0.6666666666666666,\"#ed7953\"],[0.7777777777777778,\"#fb9f3a\"],[0.8888888888888888,\"#fdca26\"],[1.0,\"#f0f921\"]],\"type\":\"surface\"}],\"table\":[{\"cells\":{\"fill\":{\"color\":\"#EBF0F8\"},\"line\":{\"color\":\"white\"}},\"header\":{\"fill\":{\"color\":\"#C8D4E3\"},\"line\":{\"color\":\"white\"}},\"type\":\"table\"}]},\"layout\":{\"annotationdefaults\":{\"arrowcolor\":\"#2a3f5f\",\"arrowhead\":0,\"arrowwidth\":1},\"autotypenumbers\":\"strict\",\"coloraxis\":{\"colorbar\":{\"outlinewidth\":0,\"ticks\":\"\"}},\"colorscale\":{\"diverging\":[[0,\"#8e0152\"],[0.1,\"#c51b7d\"],[0.2,\"#de77ae\"],[0.3,\"#f1b6da\"],[0.4,\"#fde0ef\"],[0.5,\"#f7f7f7\"],[0.6,\"#e6f5d0\"],[0.7,\"#b8e186\"],[0.8,\"#7fbc41\"],[0.9,\"#4d9221\"],[1,\"#276419\"]],\"sequential\":[[0.0,\"#0d0887\"],[0.1111111111111111,\"#46039f\"],[0.2222222222222222,\"#7201a8\"],[0.3333333333333333,\"#9c179e\"],[0.4444444444444444,\"#bd3786\"],[0.5555555555555556,\"#d8576b\"],[0.6666666666666666,\"#ed7953\"],[0.7777777777777778,\"#fb9f3a\"],[0.8888888888888888,\"#fdca26\"],[1.0,\"#f0f921\"]],\"sequentialminus\":[[0.0,\"#0d0887\"],[0.1111111111111111,\"#46039f\"],[0.2222222222222222,\"#7201a8\"],[0.3333333333333333,\"#9c179e\"],[0.4444444444444444,\"#bd3786\"],[0.5555555555555556,\"#d8576b\"],[0.6666666666666666,\"#ed7953\"],[0.7777777777777778,\"#fb9f3a\"],[0.8888888888888888,\"#fdca26\"],[1.0,\"#f0f921\"]]},\"colorway\":[\"#636efa\",\"#EF553B\",\"#00cc96\",\"#ab63fa\",\"#FFA15A\",\"#19d3f3\",\"#FF6692\",\"#B6E880\",\"#FF97FF\",\"#FECB52\"],\"font\":{\"color\":\"#2a3f5f\"},\"geo\":{\"bgcolor\":\"white\",\"lakecolor\":\"white\",\"landcolor\":\"#E5ECF6\",\"showlakes\":true,\"showland\":true,\"subunitcolor\":\"white\"},\"hoverlabel\":{\"align\":\"left\"},\"hovermode\":\"closest\",\"mapbox\":{\"style\":\"light\"},\"paper_bgcolor\":\"white\",\"plot_bgcolor\":\"#E5ECF6\",\"polar\":{\"angularaxis\":{\"gridcolor\":\"white\",\"linecolor\":\"white\",\"ticks\":\"\"},\"bgcolor\":\"#E5ECF6\",\"radialaxis\":{\"gridcolor\":\"white\",\"linecolor\":\"white\",\"ticks\":\"\"}},\"scene\":{\"xaxis\":{\"backgroundcolor\":\"#E5ECF6\",\"gridcolor\":\"white\",\"gridwidth\":2,\"linecolor\":\"white\",\"showbackground\":true,\"ticks\":\"\",\"zerolinecolor\":\"white\"},\"yaxis\":{\"backgroundcolor\":\"#E5ECF6\",\"gridcolor\":\"white\",\"gridwidth\":2,\"linecolor\":\"white\",\"showbackground\":true,\"ticks\":\"\",\"zerolinecolor\":\"white\"},\"zaxis\":{\"backgroundcolor\":\"#E5ECF6\",\"gridcolor\":\"white\",\"gridwidth\":2,\"linecolor\":\"white\",\"showbackground\":true,\"ticks\":\"\",\"zerolinecolor\":\"white\"}},\"shapedefaults\":{\"line\":{\"color\":\"#2a3f5f\"}},\"ternary\":{\"aaxis\":{\"gridcolor\":\"white\",\"linecolor\":\"white\",\"ticks\":\"\"},\"baxis\":{\"gridcolor\":\"white\",\"linecolor\":\"white\",\"ticks\":\"\"},\"bgcolor\":\"#E5ECF6\",\"caxis\":{\"gridcolor\":\"white\",\"linecolor\":\"white\",\"ticks\":\"\"}},\"title\":{\"x\":0.05},\"xaxis\":{\"automargin\":true,\"gridcolor\":\"white\",\"linecolor\":\"white\",\"ticks\":\"\",\"title\":{\"standoff\":15},\"zerolinecolor\":\"white\",\"zerolinewidth\":2},\"yaxis\":{\"automargin\":true,\"gridcolor\":\"white\",\"linecolor\":\"white\",\"ticks\":\"\",\"title\":{\"standoff\":15},\"zerolinecolor\":\"white\",\"zerolinewidth\":2}}},\"xaxis\":{\"showgrid\":false,\"zeroline\":false},\"yaxis\":{\"showgrid\":false,\"zeroline\":false}},                        {\"responsive\": true}                    ).then(function(){\n",
       "                            \n",
       "var gd = document.getElementById('8a6e5d70-44b1-4625-944b-b429f409462d');\n",
       "var x = new MutationObserver(function (mutations, observer) {{\n",
       "        var display = window.getComputedStyle(gd).display;\n",
       "        if (!display || display === 'none') {{\n",
       "            console.log([gd, 'removed!']);\n",
       "            Plotly.purge(gd);\n",
       "            observer.disconnect();\n",
       "        }}\n",
       "}});\n",
       "\n",
       "// Listen for the removal of the full notebook cells\n",
       "var notebookContainer = gd.closest('#notebook-container');\n",
       "if (notebookContainer) {{\n",
       "    x.observe(notebookContainer, {childList: true});\n",
       "}}\n",
       "\n",
       "// Listen for the clearing of the current output cell\n",
       "var outputEl = gd.closest('.output');\n",
       "if (outputEl) {{\n",
       "    x.observe(outputEl, {childList: true});\n",
       "}}\n",
       "\n",
       "                        })                };                });            </script>        </div>"
      ]
     },
     "metadata": {},
     "output_type": "display_data"
    }
   ],
   "source": [
    "import plotly.graph_objs as go\n",
    "import networkx as nx\n",
    "from plotly.offline import init_notebook_mode, iplot\n",
    "\n",
    "init_notebook_mode(connected=True)\n",
    "\n",
    "# List of edges (this can change)\n",
    "edges = edge_list\n",
    "\n",
    "# Create a graph using NetworkX\n",
    "G = nx.Graph()\n",
    "G.add_edges_from(edges)\n",
    "\n",
    "# Use NetworkX to automatically determine positions of nodes\n",
    "pos = nx.spring_layout(G)\n",
    "\n",
    "# Extract the nodes and edges for Plotly\n",
    "edge_trace = []\n",
    "for edge in G.edges():\n",
    "    x0, y0 = pos[edge[0]]\n",
    "    x1, y1 = pos[edge[1]]\n",
    "    edge_trace.append(go.Scatter(\n",
    "        x=[x0, x1, None],\n",
    "        y=[y0, y1, None],\n",
    "        line=dict(width=2, color='#888'),\n",
    "        hoverinfo='none',\n",
    "        mode='lines'\n",
    "    ))\n",
    "\n",
    "node_trace = go.Scatter(\n",
    "    x=[pos[node][0] for node in G.nodes()],\n",
    "    y=[pos[node][1] for node in G.nodes()],\n",
    "    text=[str(node) for node in G.nodes()],\n",
    "    mode='markers+text',\n",
    "    textposition='top center',\n",
    "    hoverinfo='text',\n",
    "    marker=dict(\n",
    "        showscale=True,\n",
    "        colorscale='YlGnBu',\n",
    "        size=10,\n",
    "        colorbar=dict(\n",
    "            thickness=15,\n",
    "            title='Node Connections',\n",
    "            xanchor='left',\n",
    "            titleside='right'\n",
    "        ),\n",
    "    )\n",
    ")\n",
    "\n",
    "layout = go.Layout(\n",
    "    showlegend=False,\n",
    "    hovermode='closest',\n",
    "    margin=dict(b=0, l=0, r=0, t=0),\n",
    "    xaxis=dict(showgrid=False, zeroline=False),\n",
    "    yaxis=dict(showgrid=False, zeroline=False),\n",
    ")\n",
    "\n",
    "fig = go.Figure(data=edge_trace + [node_trace], layout=layout)\n",
    "iplot(fig)\n"
   ]
  },
  {
   "cell_type": "code",
   "execution_count": null,
   "id": "0fe9b2f4-d863-423c-bef4-69dee1f7320b",
   "metadata": {},
   "outputs": [],
   "source": []
  }
 ],
 "metadata": {
  "kernelspec": {
   "display_name": "Python 3 (ipykernel)",
   "language": "python",
   "name": "python3"
  },
  "language_info": {
   "codemirror_mode": {
    "name": "ipython",
    "version": 3
   },
   "file_extension": ".py",
   "mimetype": "text/x-python",
   "name": "python",
   "nbconvert_exporter": "python",
   "pygments_lexer": "ipython3",
   "version": "3.12.4"
  }
 },
 "nbformat": 4,
 "nbformat_minor": 5
}
